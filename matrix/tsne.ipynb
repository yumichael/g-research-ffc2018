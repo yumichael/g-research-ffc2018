{
 "cells": [
  {
   "cell_type": "code",
   "execution_count": 1,
   "metadata": {},
   "outputs": [
    {
     "name": "stderr",
     "output_type": "stream",
     "text": [
      "/home/ec2-user/anaconda3/lib/python3.6/site-packages/pandas/core/common.py:701: RuntimeWarning: divide by zero encountered in log\n",
      "  return func(obj, *args, **kwargs)\n"
     ]
    }
   ],
   "source": [
    "from common import *\n",
    "from matrix import *"
   ]
  },
  {
   "cell_type": "code",
   "execution_count": 2,
   "metadata": {
    "collapsed": true
   },
   "outputs": [],
   "source": [
    "%matplotlib notebook\n",
    "canvas(9, 6)"
   ]
  },
  {
   "cell_type": "markdown",
   "metadata": {
    "collapsed": true
   },
   "source": [
    "# Matrix Factorization"
   ]
  },
  {
   "cell_type": "code",
   "execution_count": 4,
   "metadata": {
    "collapsed": true
   },
   "outputs": [],
   "source": [
    "from scipy.stats import norm"
   ]
  },
  {
   "cell_type": "code",
   "execution_count": 5,
   "metadata": {
    "collapsed": true
   },
   "outputs": [],
   "source": [
    "def_matrices(globals(), df) #day_filter(df, 246))"
   ]
  },
  {
   "cell_type": "code",
   "execution_count": 14,
   "metadata": {
    "collapsed": true
   },
   "outputs": [],
   "source": [
    "sfilt = ~stock_nvdf(dh, 246)"
   ]
  },
  {
   "cell_type": "code",
   "execution_count": 15,
   "metadata": {
    "collapsed": true
   },
   "outputs": [],
   "source": [
    "# T-SNE\n",
    "# unnormalized y.T: perplexity=2 (n_iter=10000)\n",
    "# normalized y.T: perplexity=10 (n_iter=1000)"
   ]
  },
  {
   "cell_type": "code",
   "execution_count": 16,
   "metadata": {
    "collapsed": true
   },
   "outputs": [],
   "source": [
    "_zero = -15.\n",
    "Wlogstd = np.log(W).pipe(lambda X: (X - X.mean()) / X.var() ** .5)\n",
    "Wlogstda = Wlogstd.fillna(_zero)\n",
    "Wlogmstd = np.log(W).pipe(lambda X: (X - X.median()) / X.var() ** .5)\n",
    "Wlogmstda = Wlogmstd.fillna(_zero)\n",
    "Wlogmscl = np.log(W).pipe(lambda X: (X - X.median()) / ((X - X.median()) ** 2).mean() ** .5)\n",
    "Wlogmscla = Wlogmscl.fillna(_zero)\n",
    "#Waqtl = W.fillna(0).qtl()\n",
    "#Wanrm = Wapct.pipe(norm.ppf) + Wapct * 0\n",
    "Wsqrtstd = (W ** .5).pipe(lambda X: (X - X.mean()) / X.var() ** .5)\n",
    "Wsqrtstda = Wsqrtstd.fillna(_zero)\n",
    "Wsqrtmstd = (W ** .5).pipe(lambda X: (X - X.median()) / X.var() ** .5)\n",
    "Wsqrtmstda = Wsqrtmstd.fillna(_zero)\n",
    "Wsqrtmscl = (W ** .5).pipe(lambda X: (X - X.median()) / ((X - X.median()) ** 2).mean() ** .5)\n",
    "Wsqrtmscla = Wsqrtmscl.fillna(_zero)"
   ]
  },
  {
   "cell_type": "code",
   "execution_count": 122,
   "metadata": {
    "collapsed": true
   },
   "outputs": [],
   "source": [
    "mat = Wanrm"
   ]
  },
  {
   "cell_type": "code",
   "execution_count": 123,
   "metadata": {
    "collapsed": true
   },
   "outputs": [],
   "source": [
    "pearson = mat.corr(method='pearson')"
   ]
  },
  {
   "cell_type": "code",
   "execution_count": 54,
   "metadata": {
    "collapsed": true
   },
   "outputs": [],
   "source": [
    "spearman = mat.corr(method='spearman')"
   ]
  },
  {
   "cell_type": "code",
   "execution_count": 70,
   "metadata": {
    "collapsed": true
   },
   "outputs": [],
   "source": [
    "kendall = pd.DataFrame(np.load(top_dir + 'data/progress/kendalltau.npy'), index=range(N_STOCK), columns=range(N_STOCK))\n",
    "kendall.columns.name = kendall.index.name = 'Stock'"
   ]
  },
  {
   "cell_type": "code",
   "execution_count": 124,
   "metadata": {
    "collapsed": true
   },
   "outputs": [],
   "source": [
    "dist = pearson ** -2 - 1 #kendall[sfilt].T[sfilt].T ** -2 - 1\n",
    "#dist = dist.replace(np.inf, dist.replace(np.inf, 0).max().max() ** 2)\n",
    "dist = dist.fillna(0)"
   ]
  },
  {
   "cell_type": "code",
   "execution_count": 7,
   "metadata": {
    "collapsed": true
   },
   "outputs": [],
   "source": [
    "G = pd.read_hdf(top_dir + 'data/analysis/G1.hdf5')\n",
    "group = pd.read_hdf(top_dir + 'data/analysis/group1.hdf5')"
   ]
  },
  {
   "cell_type": "code",
   "execution_count": 14,
   "metadata": {},
   "outputs": [
    {
     "ename": "NameError",
     "evalue": "name 'def_WY' is not defined",
     "output_type": "error",
     "traceback": [
      "\u001b[0;31m---------------------------------------------------------------------------\u001b[0m",
      "\u001b[0;31mNameError\u001b[0m                                 Traceback (most recent call last)",
      "\u001b[0;32m<ipython-input-14-c5992fbb286f>\u001b[0m in \u001b[0;36m<module>\u001b[0;34m()\u001b[0m\n\u001b[0;32m----> 1\u001b[0;31m \u001b[0mdef_WY\u001b[0m\u001b[0;34m(\u001b[0m\u001b[0mglobals\u001b[0m\u001b[0;34m(\u001b[0m\u001b[0;34m)\u001b[0m\u001b[0;34m,\u001b[0m \u001b[0mdf\u001b[0m\u001b[0;34m)\u001b[0m\u001b[0;34m;\u001b[0m \u001b[0mdef_analysis\u001b[0m\u001b[0;34m(\u001b[0m\u001b[0mglobals\u001b[0m\u001b[0;34m(\u001b[0m\u001b[0;34m)\u001b[0m\u001b[0;34m)\u001b[0m\u001b[0;34m\u001b[0m\u001b[0m\n\u001b[0m",
      "\u001b[0;31mNameError\u001b[0m: name 'def_WY' is not defined"
     ]
    }
   ],
   "source": [
    "def_WY(globals(), df); def_analysis(globals())"
   ]
  },
  {
   "cell_type": "code",
   "execution_count": 10,
   "metadata": {
    "collapsed": true
   },
   "outputs": [
    {
     "name": "stdout",
     "output_type": "stream",
     "text": [
      "      9933334.447703 big1\n",
      "      5780693.811794 big2\n",
      "     17721437.293402 big3\n",
      "      1286262.848940 sml2\n",
      "      1675893.588941 sml3\n",
      "      1618001.079101 sml3x\n",
      "      3073242.439507 tny1\n",
      "       209659.315252 tny2\n",
      "      1813372.824045 twa4\n",
      "      1333444.493551 twb4\n",
      "      8713726.962270 ltl\n",
      "     26028182.823557 lrg\n"
     ]
    }
   ],
   "source": [
    "for i in range(12):\n",
    "    print('{:20f}'.format(stock_importance__wmean[group == i].sum()), G.columns[i])"
   ]
  },
  {
   "cell_type": "code",
   "execution_count": 30,
   "metadata": {
    "collapsed": true
   },
   "outputs": [
    {
     "name": "stdout",
     "output_type": "stream",
     "text": [
      "      6948038.527055 lrg\n",
      "     11768187.729252 lrg\n",
      "     11037394.789533 lrg\n",
      "      4988288.739986 lrg\n"
     ]
    }
   ],
   "source": [
    "_cond = (group == 10) | (group == 11)\n",
    "for m in range(1, 5):\n",
    "    print('{:20f}'.format(stock_importance__wmean[_cond & (market == m)].sum()), G.columns[i])"
   ]
  },
  {
   "cell_type": "code",
   "execution_count": 9,
   "metadata": {},
   "outputs": [
    {
     "name": "stderr",
     "output_type": "stream",
     "text": [
      "/home/ec2-user/anaconda3/lib/python3.6/site-packages/pandas/core/common.py:701: RuntimeWarning: divide by zero encountered in log\n",
      "  return func(obj, *args, **kwargs)\n"
     ]
    }
   ],
   "source": [
    "o = O()\n",
    "def_W(o, dh)\n",
    "def_X(o, dh, include='logs z1 z3 z4', feats=xfeats)"
   ]
  },
  {
   "cell_type": "code",
   "execution_count": 97,
   "metadata": {
    "collapsed": true
   },
   "outputs": [],
   "source": [
    "dude = o.Xlogz1msa.fillna(0)\n",
    "#dude.columns = dude.columns.droplevel(0)"
   ]
  },
  {
   "cell_type": "code",
   "execution_count": 60,
   "metadata": {},
   "outputs": [
    {
     "ename": "NameError",
     "evalue": "name 'Wlogmscla' is not defined",
     "output_type": "error",
     "traceback": [
      "\u001b[0;31m---------------------------------------------------------------------------\u001b[0m",
      "\u001b[0;31mNameError\u001b[0m                                 Traceback (most recent call last)",
      "\u001b[0;32m<ipython-input-60-cb21b8b364d2>\u001b[0m in \u001b[0;36m<module>\u001b[0;34m()\u001b[0m\n\u001b[1;32m      2\u001b[0m \u001b[0mcond\u001b[0m \u001b[0;34m=\u001b[0m \u001b[0;34m(\u001b[0m\u001b[0mmarket\u001b[0m \u001b[0;34m==\u001b[0m \u001b[0;36m4\u001b[0m\u001b[0;34m)\u001b[0m\u001b[0;34m\u001b[0m\u001b[0m\n\u001b[1;32m      3\u001b[0m \u001b[0;31m#theX = dude.T.swaplevel(axis=0).unstack()[cond]\u001b[0m\u001b[0;34m\u001b[0m\u001b[0;34m\u001b[0m\u001b[0m\n\u001b[0;32m----> 4\u001b[0;31m \u001b[0mtheX\u001b[0m \u001b[0;34m=\u001b[0m \u001b[0mWlogmscla\u001b[0m\u001b[0;34m.\u001b[0m\u001b[0mT\u001b[0m\u001b[0;34m[\u001b[0m\u001b[0mcond\u001b[0m\u001b[0;34m]\u001b[0m \u001b[0;31m#np.log(W.fillna(W.min().min() ** 2)).T\u001b[0m\u001b[0;34m\u001b[0m\u001b[0m\n\u001b[0m\u001b[1;32m      5\u001b[0m \u001b[0;31m#theX = center(theX)\u001b[0m\u001b[0;34m\u001b[0m\u001b[0;34m\u001b[0m\u001b[0m\n\u001b[1;32m      6\u001b[0m \u001b[0mvis\u001b[0m \u001b[0;34m=\u001b[0m \u001b[0mTSNE\u001b[0m\u001b[0;34m(\u001b[0m\u001b[0mn_components\u001b[0m\u001b[0;34m=\u001b[0m\u001b[0;36m2\u001b[0m\u001b[0;34m,\u001b[0m \u001b[0mperplexity\u001b[0m\u001b[0;34m=\u001b[0m\u001b[0;36m30\u001b[0m\u001b[0;34m,\u001b[0m \u001b[0mn_iter\u001b[0m\u001b[0;34m=\u001b[0m\u001b[0;36m5000\u001b[0m\u001b[0;34m)\u001b[0m\u001b[0;34m.\u001b[0m\u001b[0mfit_transform\u001b[0m\u001b[0;34m(\u001b[0m\u001b[0mtheX\u001b[0m\u001b[0;34m)\u001b[0m\u001b[0;34m\u001b[0m\u001b[0m\n",
      "\u001b[0;31mNameError\u001b[0m: name 'Wlogmscla' is not defined"
     ]
    }
   ],
   "source": [
    "from sklearn.manifold import TSNE\n",
    "cond = (market == 4)\n",
    "#theX = dude.T.swaplevel(axis=0).unstack()[cond]\n",
    "theX = Wlogmscla.T[cond] #np.log(W.fillna(W.min().min() ** 2)).T\n",
    "#theX = center(theX)\n",
    "vis = TSNE(n_components=2, perplexity=30, n_iter=5000).fit_transform(theX)"
   ]
  },
  {
   "cell_type": "code",
   "execution_count": 65,
   "metadata": {},
   "outputs": [
    {
     "data": {
      "application/javascript": [
       "/* Put everything inside the global mpl namespace */\n",
       "window.mpl = {};\n",
       "\n",
       "\n",
       "mpl.get_websocket_type = function() {\n",
       "    if (typeof(WebSocket) !== 'undefined') {\n",
       "        return WebSocket;\n",
       "    } else if (typeof(MozWebSocket) !== 'undefined') {\n",
       "        return MozWebSocket;\n",
       "    } else {\n",
       "        alert('Your browser does not have WebSocket support.' +\n",
       "              'Please try Chrome, Safari or Firefox ≥ 6. ' +\n",
       "              'Firefox 4 and 5 are also supported but you ' +\n",
       "              'have to enable WebSockets in about:config.');\n",
       "    };\n",
       "}\n",
       "\n",
       "mpl.figure = function(figure_id, websocket, ondownload, parent_element) {\n",
       "    this.id = figure_id;\n",
       "\n",
       "    this.ws = websocket;\n",
       "\n",
       "    this.supports_binary = (this.ws.binaryType != undefined);\n",
       "\n",
       "    if (!this.supports_binary) {\n",
       "        var warnings = document.getElementById(\"mpl-warnings\");\n",
       "        if (warnings) {\n",
       "            warnings.style.display = 'block';\n",
       "            warnings.textContent = (\n",
       "                \"This browser does not support binary websocket messages. \" +\n",
       "                    \"Performance may be slow.\");\n",
       "        }\n",
       "    }\n",
       "\n",
       "    this.imageObj = new Image();\n",
       "\n",
       "    this.context = undefined;\n",
       "    this.message = undefined;\n",
       "    this.canvas = undefined;\n",
       "    this.rubberband_canvas = undefined;\n",
       "    this.rubberband_context = undefined;\n",
       "    this.format_dropdown = undefined;\n",
       "\n",
       "    this.image_mode = 'full';\n",
       "\n",
       "    this.root = $('<div/>');\n",
       "    this._root_extra_style(this.root)\n",
       "    this.root.attr('style', 'display: inline-block');\n",
       "\n",
       "    $(parent_element).append(this.root);\n",
       "\n",
       "    this._init_header(this);\n",
       "    this._init_canvas(this);\n",
       "    this._init_toolbar(this);\n",
       "\n",
       "    var fig = this;\n",
       "\n",
       "    this.waiting = false;\n",
       "\n",
       "    this.ws.onopen =  function () {\n",
       "            fig.send_message(\"supports_binary\", {value: fig.supports_binary});\n",
       "            fig.send_message(\"send_image_mode\", {});\n",
       "            if (mpl.ratio != 1) {\n",
       "                fig.send_message(\"set_dpi_ratio\", {'dpi_ratio': mpl.ratio});\n",
       "            }\n",
       "            fig.send_message(\"refresh\", {});\n",
       "        }\n",
       "\n",
       "    this.imageObj.onload = function() {\n",
       "            if (fig.image_mode == 'full') {\n",
       "                // Full images could contain transparency (where diff images\n",
       "                // almost always do), so we need to clear the canvas so that\n",
       "                // there is no ghosting.\n",
       "                fig.context.clearRect(0, 0, fig.canvas.width, fig.canvas.height);\n",
       "            }\n",
       "            fig.context.drawImage(fig.imageObj, 0, 0);\n",
       "        };\n",
       "\n",
       "    this.imageObj.onunload = function() {\n",
       "        this.ws.close();\n",
       "    }\n",
       "\n",
       "    this.ws.onmessage = this._make_on_message_function(this);\n",
       "\n",
       "    this.ondownload = ondownload;\n",
       "}\n",
       "\n",
       "mpl.figure.prototype._init_header = function() {\n",
       "    var titlebar = $(\n",
       "        '<div class=\"ui-dialog-titlebar ui-widget-header ui-corner-all ' +\n",
       "        'ui-helper-clearfix\"/>');\n",
       "    var titletext = $(\n",
       "        '<div class=\"ui-dialog-title\" style=\"width: 100%; ' +\n",
       "        'text-align: center; padding: 3px;\"/>');\n",
       "    titlebar.append(titletext)\n",
       "    this.root.append(titlebar);\n",
       "    this.header = titletext[0];\n",
       "}\n",
       "\n",
       "\n",
       "\n",
       "mpl.figure.prototype._canvas_extra_style = function(canvas_div) {\n",
       "\n",
       "}\n",
       "\n",
       "\n",
       "mpl.figure.prototype._root_extra_style = function(canvas_div) {\n",
       "\n",
       "}\n",
       "\n",
       "mpl.figure.prototype._init_canvas = function() {\n",
       "    var fig = this;\n",
       "\n",
       "    var canvas_div = $('<div/>');\n",
       "\n",
       "    canvas_div.attr('style', 'position: relative; clear: both; outline: 0');\n",
       "\n",
       "    function canvas_keyboard_event(event) {\n",
       "        return fig.key_event(event, event['data']);\n",
       "    }\n",
       "\n",
       "    canvas_div.keydown('key_press', canvas_keyboard_event);\n",
       "    canvas_div.keyup('key_release', canvas_keyboard_event);\n",
       "    this.canvas_div = canvas_div\n",
       "    this._canvas_extra_style(canvas_div)\n",
       "    this.root.append(canvas_div);\n",
       "\n",
       "    var canvas = $('<canvas/>');\n",
       "    canvas.addClass('mpl-canvas');\n",
       "    canvas.attr('style', \"left: 0; top: 0; z-index: 0; outline: 0\")\n",
       "\n",
       "    this.canvas = canvas[0];\n",
       "    this.context = canvas[0].getContext(\"2d\");\n",
       "\n",
       "    var backingStore = this.context.backingStorePixelRatio ||\n",
       "\tthis.context.webkitBackingStorePixelRatio ||\n",
       "\tthis.context.mozBackingStorePixelRatio ||\n",
       "\tthis.context.msBackingStorePixelRatio ||\n",
       "\tthis.context.oBackingStorePixelRatio ||\n",
       "\tthis.context.backingStorePixelRatio || 1;\n",
       "\n",
       "    mpl.ratio = (window.devicePixelRatio || 1) / backingStore;\n",
       "\n",
       "    var rubberband = $('<canvas/>');\n",
       "    rubberband.attr('style', \"position: absolute; left: 0; top: 0; z-index: 1;\")\n",
       "\n",
       "    var pass_mouse_events = true;\n",
       "\n",
       "    canvas_div.resizable({\n",
       "        start: function(event, ui) {\n",
       "            pass_mouse_events = false;\n",
       "        },\n",
       "        resize: function(event, ui) {\n",
       "            fig.request_resize(ui.size.width, ui.size.height);\n",
       "        },\n",
       "        stop: function(event, ui) {\n",
       "            pass_mouse_events = true;\n",
       "            fig.request_resize(ui.size.width, ui.size.height);\n",
       "        },\n",
       "    });\n",
       "\n",
       "    function mouse_event_fn(event) {\n",
       "        if (pass_mouse_events)\n",
       "            return fig.mouse_event(event, event['data']);\n",
       "    }\n",
       "\n",
       "    rubberband.mousedown('button_press', mouse_event_fn);\n",
       "    rubberband.mouseup('button_release', mouse_event_fn);\n",
       "    // Throttle sequential mouse events to 1 every 20ms.\n",
       "    rubberband.mousemove('motion_notify', mouse_event_fn);\n",
       "\n",
       "    rubberband.mouseenter('figure_enter', mouse_event_fn);\n",
       "    rubberband.mouseleave('figure_leave', mouse_event_fn);\n",
       "\n",
       "    canvas_div.on(\"wheel\", function (event) {\n",
       "        event = event.originalEvent;\n",
       "        event['data'] = 'scroll'\n",
       "        if (event.deltaY < 0) {\n",
       "            event.step = 1;\n",
       "        } else {\n",
       "            event.step = -1;\n",
       "        }\n",
       "        mouse_event_fn(event);\n",
       "    });\n",
       "\n",
       "    canvas_div.append(canvas);\n",
       "    canvas_div.append(rubberband);\n",
       "\n",
       "    this.rubberband = rubberband;\n",
       "    this.rubberband_canvas = rubberband[0];\n",
       "    this.rubberband_context = rubberband[0].getContext(\"2d\");\n",
       "    this.rubberband_context.strokeStyle = \"#000000\";\n",
       "\n",
       "    this._resize_canvas = function(width, height) {\n",
       "        // Keep the size of the canvas, canvas container, and rubber band\n",
       "        // canvas in synch.\n",
       "        canvas_div.css('width', width)\n",
       "        canvas_div.css('height', height)\n",
       "\n",
       "        canvas.attr('width', width * mpl.ratio);\n",
       "        canvas.attr('height', height * mpl.ratio);\n",
       "        canvas.attr('style', 'width: ' + width + 'px; height: ' + height + 'px;');\n",
       "\n",
       "        rubberband.attr('width', width);\n",
       "        rubberband.attr('height', height);\n",
       "    }\n",
       "\n",
       "    // Set the figure to an initial 600x600px, this will subsequently be updated\n",
       "    // upon first draw.\n",
       "    this._resize_canvas(600, 600);\n",
       "\n",
       "    // Disable right mouse context menu.\n",
       "    $(this.rubberband_canvas).bind(\"contextmenu\",function(e){\n",
       "        return false;\n",
       "    });\n",
       "\n",
       "    function set_focus () {\n",
       "        canvas.focus();\n",
       "        canvas_div.focus();\n",
       "    }\n",
       "\n",
       "    window.setTimeout(set_focus, 100);\n",
       "}\n",
       "\n",
       "mpl.figure.prototype._init_toolbar = function() {\n",
       "    var fig = this;\n",
       "\n",
       "    var nav_element = $('<div/>')\n",
       "    nav_element.attr('style', 'width: 100%');\n",
       "    this.root.append(nav_element);\n",
       "\n",
       "    // Define a callback function for later on.\n",
       "    function toolbar_event(event) {\n",
       "        return fig.toolbar_button_onclick(event['data']);\n",
       "    }\n",
       "    function toolbar_mouse_event(event) {\n",
       "        return fig.toolbar_button_onmouseover(event['data']);\n",
       "    }\n",
       "\n",
       "    for(var toolbar_ind in mpl.toolbar_items) {\n",
       "        var name = mpl.toolbar_items[toolbar_ind][0];\n",
       "        var tooltip = mpl.toolbar_items[toolbar_ind][1];\n",
       "        var image = mpl.toolbar_items[toolbar_ind][2];\n",
       "        var method_name = mpl.toolbar_items[toolbar_ind][3];\n",
       "\n",
       "        if (!name) {\n",
       "            // put a spacer in here.\n",
       "            continue;\n",
       "        }\n",
       "        var button = $('<button/>');\n",
       "        button.addClass('ui-button ui-widget ui-state-default ui-corner-all ' +\n",
       "                        'ui-button-icon-only');\n",
       "        button.attr('role', 'button');\n",
       "        button.attr('aria-disabled', 'false');\n",
       "        button.click(method_name, toolbar_event);\n",
       "        button.mouseover(tooltip, toolbar_mouse_event);\n",
       "\n",
       "        var icon_img = $('<span/>');\n",
       "        icon_img.addClass('ui-button-icon-primary ui-icon');\n",
       "        icon_img.addClass(image);\n",
       "        icon_img.addClass('ui-corner-all');\n",
       "\n",
       "        var tooltip_span = $('<span/>');\n",
       "        tooltip_span.addClass('ui-button-text');\n",
       "        tooltip_span.html(tooltip);\n",
       "\n",
       "        button.append(icon_img);\n",
       "        button.append(tooltip_span);\n",
       "\n",
       "        nav_element.append(button);\n",
       "    }\n",
       "\n",
       "    var fmt_picker_span = $('<span/>');\n",
       "\n",
       "    var fmt_picker = $('<select/>');\n",
       "    fmt_picker.addClass('mpl-toolbar-option ui-widget ui-widget-content');\n",
       "    fmt_picker_span.append(fmt_picker);\n",
       "    nav_element.append(fmt_picker_span);\n",
       "    this.format_dropdown = fmt_picker[0];\n",
       "\n",
       "    for (var ind in mpl.extensions) {\n",
       "        var fmt = mpl.extensions[ind];\n",
       "        var option = $(\n",
       "            '<option/>', {selected: fmt === mpl.default_extension}).html(fmt);\n",
       "        fmt_picker.append(option)\n",
       "    }\n",
       "\n",
       "    // Add hover states to the ui-buttons\n",
       "    $( \".ui-button\" ).hover(\n",
       "        function() { $(this).addClass(\"ui-state-hover\");},\n",
       "        function() { $(this).removeClass(\"ui-state-hover\");}\n",
       "    );\n",
       "\n",
       "    var status_bar = $('<span class=\"mpl-message\"/>');\n",
       "    nav_element.append(status_bar);\n",
       "    this.message = status_bar[0];\n",
       "}\n",
       "\n",
       "mpl.figure.prototype.request_resize = function(x_pixels, y_pixels) {\n",
       "    // Request matplotlib to resize the figure. Matplotlib will then trigger a resize in the client,\n",
       "    // which will in turn request a refresh of the image.\n",
       "    this.send_message('resize', {'width': x_pixels, 'height': y_pixels});\n",
       "}\n",
       "\n",
       "mpl.figure.prototype.send_message = function(type, properties) {\n",
       "    properties['type'] = type;\n",
       "    properties['figure_id'] = this.id;\n",
       "    this.ws.send(JSON.stringify(properties));\n",
       "}\n",
       "\n",
       "mpl.figure.prototype.send_draw_message = function() {\n",
       "    if (!this.waiting) {\n",
       "        this.waiting = true;\n",
       "        this.ws.send(JSON.stringify({type: \"draw\", figure_id: this.id}));\n",
       "    }\n",
       "}\n",
       "\n",
       "\n",
       "mpl.figure.prototype.handle_save = function(fig, msg) {\n",
       "    var format_dropdown = fig.format_dropdown;\n",
       "    var format = format_dropdown.options[format_dropdown.selectedIndex].value;\n",
       "    fig.ondownload(fig, format);\n",
       "}\n",
       "\n",
       "\n",
       "mpl.figure.prototype.handle_resize = function(fig, msg) {\n",
       "    var size = msg['size'];\n",
       "    if (size[0] != fig.canvas.width || size[1] != fig.canvas.height) {\n",
       "        fig._resize_canvas(size[0], size[1]);\n",
       "        fig.send_message(\"refresh\", {});\n",
       "    };\n",
       "}\n",
       "\n",
       "mpl.figure.prototype.handle_rubberband = function(fig, msg) {\n",
       "    var x0 = msg['x0'] / mpl.ratio;\n",
       "    var y0 = (fig.canvas.height - msg['y0']) / mpl.ratio;\n",
       "    var x1 = msg['x1'] / mpl.ratio;\n",
       "    var y1 = (fig.canvas.height - msg['y1']) / mpl.ratio;\n",
       "    x0 = Math.floor(x0) + 0.5;\n",
       "    y0 = Math.floor(y0) + 0.5;\n",
       "    x1 = Math.floor(x1) + 0.5;\n",
       "    y1 = Math.floor(y1) + 0.5;\n",
       "    var min_x = Math.min(x0, x1);\n",
       "    var min_y = Math.min(y0, y1);\n",
       "    var width = Math.abs(x1 - x0);\n",
       "    var height = Math.abs(y1 - y0);\n",
       "\n",
       "    fig.rubberband_context.clearRect(\n",
       "        0, 0, fig.canvas.width, fig.canvas.height);\n",
       "\n",
       "    fig.rubberband_context.strokeRect(min_x, min_y, width, height);\n",
       "}\n",
       "\n",
       "mpl.figure.prototype.handle_figure_label = function(fig, msg) {\n",
       "    // Updates the figure title.\n",
       "    fig.header.textContent = msg['label'];\n",
       "}\n",
       "\n",
       "mpl.figure.prototype.handle_cursor = function(fig, msg) {\n",
       "    var cursor = msg['cursor'];\n",
       "    switch(cursor)\n",
       "    {\n",
       "    case 0:\n",
       "        cursor = 'pointer';\n",
       "        break;\n",
       "    case 1:\n",
       "        cursor = 'default';\n",
       "        break;\n",
       "    case 2:\n",
       "        cursor = 'crosshair';\n",
       "        break;\n",
       "    case 3:\n",
       "        cursor = 'move';\n",
       "        break;\n",
       "    }\n",
       "    fig.rubberband_canvas.style.cursor = cursor;\n",
       "}\n",
       "\n",
       "mpl.figure.prototype.handle_message = function(fig, msg) {\n",
       "    fig.message.textContent = msg['message'];\n",
       "}\n",
       "\n",
       "mpl.figure.prototype.handle_draw = function(fig, msg) {\n",
       "    // Request the server to send over a new figure.\n",
       "    fig.send_draw_message();\n",
       "}\n",
       "\n",
       "mpl.figure.prototype.handle_image_mode = function(fig, msg) {\n",
       "    fig.image_mode = msg['mode'];\n",
       "}\n",
       "\n",
       "mpl.figure.prototype.updated_canvas_event = function() {\n",
       "    // Called whenever the canvas gets updated.\n",
       "    this.send_message(\"ack\", {});\n",
       "}\n",
       "\n",
       "// A function to construct a web socket function for onmessage handling.\n",
       "// Called in the figure constructor.\n",
       "mpl.figure.prototype._make_on_message_function = function(fig) {\n",
       "    return function socket_on_message(evt) {\n",
       "        if (evt.data instanceof Blob) {\n",
       "            /* FIXME: We get \"Resource interpreted as Image but\n",
       "             * transferred with MIME type text/plain:\" errors on\n",
       "             * Chrome.  But how to set the MIME type?  It doesn't seem\n",
       "             * to be part of the websocket stream */\n",
       "            evt.data.type = \"image/png\";\n",
       "\n",
       "            /* Free the memory for the previous frames */\n",
       "            if (fig.imageObj.src) {\n",
       "                (window.URL || window.webkitURL).revokeObjectURL(\n",
       "                    fig.imageObj.src);\n",
       "            }\n",
       "\n",
       "            fig.imageObj.src = (window.URL || window.webkitURL).createObjectURL(\n",
       "                evt.data);\n",
       "            fig.updated_canvas_event();\n",
       "            fig.waiting = false;\n",
       "            return;\n",
       "        }\n",
       "        else if (typeof evt.data === 'string' && evt.data.slice(0, 21) == \"data:image/png;base64\") {\n",
       "            fig.imageObj.src = evt.data;\n",
       "            fig.updated_canvas_event();\n",
       "            fig.waiting = false;\n",
       "            return;\n",
       "        }\n",
       "\n",
       "        var msg = JSON.parse(evt.data);\n",
       "        var msg_type = msg['type'];\n",
       "\n",
       "        // Call the  \"handle_{type}\" callback, which takes\n",
       "        // the figure and JSON message as its only arguments.\n",
       "        try {\n",
       "            var callback = fig[\"handle_\" + msg_type];\n",
       "        } catch (e) {\n",
       "            console.log(\"No handler for the '\" + msg_type + \"' message type: \", msg);\n",
       "            return;\n",
       "        }\n",
       "\n",
       "        if (callback) {\n",
       "            try {\n",
       "                // console.log(\"Handling '\" + msg_type + \"' message: \", msg);\n",
       "                callback(fig, msg);\n",
       "            } catch (e) {\n",
       "                console.log(\"Exception inside the 'handler_\" + msg_type + \"' callback:\", e, e.stack, msg);\n",
       "            }\n",
       "        }\n",
       "    };\n",
       "}\n",
       "\n",
       "// from http://stackoverflow.com/questions/1114465/getting-mouse-location-in-canvas\n",
       "mpl.findpos = function(e) {\n",
       "    //this section is from http://www.quirksmode.org/js/events_properties.html\n",
       "    var targ;\n",
       "    if (!e)\n",
       "        e = window.event;\n",
       "    if (e.target)\n",
       "        targ = e.target;\n",
       "    else if (e.srcElement)\n",
       "        targ = e.srcElement;\n",
       "    if (targ.nodeType == 3) // defeat Safari bug\n",
       "        targ = targ.parentNode;\n",
       "\n",
       "    // jQuery normalizes the pageX and pageY\n",
       "    // pageX,Y are the mouse positions relative to the document\n",
       "    // offset() returns the position of the element relative to the document\n",
       "    var x = e.pageX - $(targ).offset().left;\n",
       "    var y = e.pageY - $(targ).offset().top;\n",
       "\n",
       "    return {\"x\": x, \"y\": y};\n",
       "};\n",
       "\n",
       "/*\n",
       " * return a copy of an object with only non-object keys\n",
       " * we need this to avoid circular references\n",
       " * http://stackoverflow.com/a/24161582/3208463\n",
       " */\n",
       "function simpleKeys (original) {\n",
       "  return Object.keys(original).reduce(function (obj, key) {\n",
       "    if (typeof original[key] !== 'object')\n",
       "        obj[key] = original[key]\n",
       "    return obj;\n",
       "  }, {});\n",
       "}\n",
       "\n",
       "mpl.figure.prototype.mouse_event = function(event, name) {\n",
       "    var canvas_pos = mpl.findpos(event)\n",
       "\n",
       "    if (name === 'button_press')\n",
       "    {\n",
       "        this.canvas.focus();\n",
       "        this.canvas_div.focus();\n",
       "    }\n",
       "\n",
       "    var x = canvas_pos.x * mpl.ratio;\n",
       "    var y = canvas_pos.y * mpl.ratio;\n",
       "\n",
       "    this.send_message(name, {x: x, y: y, button: event.button,\n",
       "                             step: event.step,\n",
       "                             guiEvent: simpleKeys(event)});\n",
       "\n",
       "    /* This prevents the web browser from automatically changing to\n",
       "     * the text insertion cursor when the button is pressed.  We want\n",
       "     * to control all of the cursor setting manually through the\n",
       "     * 'cursor' event from matplotlib */\n",
       "    event.preventDefault();\n",
       "    return false;\n",
       "}\n",
       "\n",
       "mpl.figure.prototype._key_event_extra = function(event, name) {\n",
       "    // Handle any extra behaviour associated with a key event\n",
       "}\n",
       "\n",
       "mpl.figure.prototype.key_event = function(event, name) {\n",
       "\n",
       "    // Prevent repeat events\n",
       "    if (name == 'key_press')\n",
       "    {\n",
       "        if (event.which === this._key)\n",
       "            return;\n",
       "        else\n",
       "            this._key = event.which;\n",
       "    }\n",
       "    if (name == 'key_release')\n",
       "        this._key = null;\n",
       "\n",
       "    var value = '';\n",
       "    if (event.ctrlKey && event.which != 17)\n",
       "        value += \"ctrl+\";\n",
       "    if (event.altKey && event.which != 18)\n",
       "        value += \"alt+\";\n",
       "    if (event.shiftKey && event.which != 16)\n",
       "        value += \"shift+\";\n",
       "\n",
       "    value += 'k';\n",
       "    value += event.which.toString();\n",
       "\n",
       "    this._key_event_extra(event, name);\n",
       "\n",
       "    this.send_message(name, {key: value,\n",
       "                             guiEvent: simpleKeys(event)});\n",
       "    return false;\n",
       "}\n",
       "\n",
       "mpl.figure.prototype.toolbar_button_onclick = function(name) {\n",
       "    if (name == 'download') {\n",
       "        this.handle_save(this, null);\n",
       "    } else {\n",
       "        this.send_message(\"toolbar_button\", {name: name});\n",
       "    }\n",
       "};\n",
       "\n",
       "mpl.figure.prototype.toolbar_button_onmouseover = function(tooltip) {\n",
       "    this.message.textContent = tooltip;\n",
       "};\n",
       "mpl.toolbar_items = [[\"Home\", \"Reset original view\", \"fa fa-home icon-home\", \"home\"], [\"Back\", \"Back to  previous view\", \"fa fa-arrow-left icon-arrow-left\", \"back\"], [\"Forward\", \"Forward to next view\", \"fa fa-arrow-right icon-arrow-right\", \"forward\"], [\"\", \"\", \"\", \"\"], [\"Pan\", \"Pan axes with left mouse, zoom with right\", \"fa fa-arrows icon-move\", \"pan\"], [\"Zoom\", \"Zoom to rectangle\", \"fa fa-square-o icon-check-empty\", \"zoom\"], [\"\", \"\", \"\", \"\"], [\"Download\", \"Download plot\", \"fa fa-floppy-o icon-save\", \"download\"]];\n",
       "\n",
       "mpl.extensions = [\"eps\", \"jpeg\", \"pdf\", \"png\", \"ps\", \"raw\", \"svg\", \"tif\"];\n",
       "\n",
       "mpl.default_extension = \"png\";var comm_websocket_adapter = function(comm) {\n",
       "    // Create a \"websocket\"-like object which calls the given IPython comm\n",
       "    // object with the appropriate methods. Currently this is a non binary\n",
       "    // socket, so there is still some room for performance tuning.\n",
       "    var ws = {};\n",
       "\n",
       "    ws.close = function() {\n",
       "        comm.close()\n",
       "    };\n",
       "    ws.send = function(m) {\n",
       "        //console.log('sending', m);\n",
       "        comm.send(m);\n",
       "    };\n",
       "    // Register the callback with on_msg.\n",
       "    comm.on_msg(function(msg) {\n",
       "        //console.log('receiving', msg['content']['data'], msg);\n",
       "        // Pass the mpl event to the overriden (by mpl) onmessage function.\n",
       "        ws.onmessage(msg['content']['data'])\n",
       "    });\n",
       "    return ws;\n",
       "}\n",
       "\n",
       "mpl.mpl_figure_comm = function(comm, msg) {\n",
       "    // This is the function which gets called when the mpl process\n",
       "    // starts-up an IPython Comm through the \"matplotlib\" channel.\n",
       "\n",
       "    var id = msg.content.data.id;\n",
       "    // Get hold of the div created by the display call when the Comm\n",
       "    // socket was opened in Python.\n",
       "    var element = $(\"#\" + id);\n",
       "    var ws_proxy = comm_websocket_adapter(comm)\n",
       "\n",
       "    function ondownload(figure, format) {\n",
       "        window.open(figure.imageObj.src);\n",
       "    }\n",
       "\n",
       "    var fig = new mpl.figure(id, ws_proxy,\n",
       "                           ondownload,\n",
       "                           element.get(0));\n",
       "\n",
       "    // Call onopen now - mpl needs it, as it is assuming we've passed it a real\n",
       "    // web socket which is closed, not our websocket->open comm proxy.\n",
       "    ws_proxy.onopen();\n",
       "\n",
       "    fig.parent_element = element.get(0);\n",
       "    fig.cell_info = mpl.find_output_cell(\"<div id='\" + id + \"'></div>\");\n",
       "    if (!fig.cell_info) {\n",
       "        console.error(\"Failed to find cell for figure\", id, fig);\n",
       "        return;\n",
       "    }\n",
       "\n",
       "    var output_index = fig.cell_info[2]\n",
       "    var cell = fig.cell_info[0];\n",
       "\n",
       "};\n",
       "\n",
       "mpl.figure.prototype.handle_close = function(fig, msg) {\n",
       "    var width = fig.canvas.width/mpl.ratio\n",
       "    fig.root.unbind('remove')\n",
       "\n",
       "    // Update the output cell to use the data from the current canvas.\n",
       "    fig.push_to_output();\n",
       "    var dataURL = fig.canvas.toDataURL();\n",
       "    // Re-enable the keyboard manager in IPython - without this line, in FF,\n",
       "    // the notebook keyboard shortcuts fail.\n",
       "    IPython.keyboard_manager.enable()\n",
       "    $(fig.parent_element).html('<img src=\"' + dataURL + '\" width=\"' + width + '\">');\n",
       "    fig.close_ws(fig, msg);\n",
       "}\n",
       "\n",
       "mpl.figure.prototype.close_ws = function(fig, msg){\n",
       "    fig.send_message('closing', msg);\n",
       "    // fig.ws.close()\n",
       "}\n",
       "\n",
       "mpl.figure.prototype.push_to_output = function(remove_interactive) {\n",
       "    // Turn the data on the canvas into data in the output cell.\n",
       "    var width = this.canvas.width/mpl.ratio\n",
       "    var dataURL = this.canvas.toDataURL();\n",
       "    this.cell_info[1]['text/html'] = '<img src=\"' + dataURL + '\" width=\"' + width + '\">';\n",
       "}\n",
       "\n",
       "mpl.figure.prototype.updated_canvas_event = function() {\n",
       "    // Tell IPython that the notebook contents must change.\n",
       "    IPython.notebook.set_dirty(true);\n",
       "    this.send_message(\"ack\", {});\n",
       "    var fig = this;\n",
       "    // Wait a second, then push the new image to the DOM so\n",
       "    // that it is saved nicely (might be nice to debounce this).\n",
       "    setTimeout(function () { fig.push_to_output() }, 1000);\n",
       "}\n",
       "\n",
       "mpl.figure.prototype._init_toolbar = function() {\n",
       "    var fig = this;\n",
       "\n",
       "    var nav_element = $('<div/>')\n",
       "    nav_element.attr('style', 'width: 100%');\n",
       "    this.root.append(nav_element);\n",
       "\n",
       "    // Define a callback function for later on.\n",
       "    function toolbar_event(event) {\n",
       "        return fig.toolbar_button_onclick(event['data']);\n",
       "    }\n",
       "    function toolbar_mouse_event(event) {\n",
       "        return fig.toolbar_button_onmouseover(event['data']);\n",
       "    }\n",
       "\n",
       "    for(var toolbar_ind in mpl.toolbar_items){\n",
       "        var name = mpl.toolbar_items[toolbar_ind][0];\n",
       "        var tooltip = mpl.toolbar_items[toolbar_ind][1];\n",
       "        var image = mpl.toolbar_items[toolbar_ind][2];\n",
       "        var method_name = mpl.toolbar_items[toolbar_ind][3];\n",
       "\n",
       "        if (!name) { continue; };\n",
       "\n",
       "        var button = $('<button class=\"btn btn-default\" href=\"#\" title=\"' + name + '\"><i class=\"fa ' + image + ' fa-lg\"></i></button>');\n",
       "        button.click(method_name, toolbar_event);\n",
       "        button.mouseover(tooltip, toolbar_mouse_event);\n",
       "        nav_element.append(button);\n",
       "    }\n",
       "\n",
       "    // Add the status bar.\n",
       "    var status_bar = $('<span class=\"mpl-message\" style=\"text-align:right; float: right;\"/>');\n",
       "    nav_element.append(status_bar);\n",
       "    this.message = status_bar[0];\n",
       "\n",
       "    // Add the close button to the window.\n",
       "    var buttongrp = $('<div class=\"btn-group inline pull-right\"></div>');\n",
       "    var button = $('<button class=\"btn btn-mini btn-primary\" href=\"#\" title=\"Stop Interaction\"><i class=\"fa fa-power-off icon-remove icon-large\"></i></button>');\n",
       "    button.click(function (evt) { fig.handle_close(fig, {}); } );\n",
       "    button.mouseover('Stop Interaction', toolbar_mouse_event);\n",
       "    buttongrp.append(button);\n",
       "    var titlebar = this.root.find($('.ui-dialog-titlebar'));\n",
       "    titlebar.prepend(buttongrp);\n",
       "}\n",
       "\n",
       "mpl.figure.prototype._root_extra_style = function(el){\n",
       "    var fig = this\n",
       "    el.on(\"remove\", function(){\n",
       "\tfig.close_ws(fig, {});\n",
       "    });\n",
       "}\n",
       "\n",
       "mpl.figure.prototype._canvas_extra_style = function(el){\n",
       "    // this is important to make the div 'focusable\n",
       "    el.attr('tabindex', 0)\n",
       "    // reach out to IPython and tell the keyboard manager to turn it's self\n",
       "    // off when our div gets focus\n",
       "\n",
       "    // location in version 3\n",
       "    if (IPython.notebook.keyboard_manager) {\n",
       "        IPython.notebook.keyboard_manager.register_events(el);\n",
       "    }\n",
       "    else {\n",
       "        // location in version 2\n",
       "        IPython.keyboard_manager.register_events(el);\n",
       "    }\n",
       "\n",
       "}\n",
       "\n",
       "mpl.figure.prototype._key_event_extra = function(event, name) {\n",
       "    var manager = IPython.notebook.keyboard_manager;\n",
       "    if (!manager)\n",
       "        manager = IPython.keyboard_manager;\n",
       "\n",
       "    // Check for shift+enter\n",
       "    if (event.shiftKey && event.which == 13) {\n",
       "        this.canvas_div.blur();\n",
       "        // select the cell after this one\n",
       "        var index = IPython.notebook.find_cell_index(this.cell_info[0]);\n",
       "        IPython.notebook.select(index + 1);\n",
       "    }\n",
       "}\n",
       "\n",
       "mpl.figure.prototype.handle_save = function(fig, msg) {\n",
       "    fig.ondownload(fig, null);\n",
       "}\n",
       "\n",
       "\n",
       "mpl.find_output_cell = function(html_output) {\n",
       "    // Return the cell and output element which can be found *uniquely* in the notebook.\n",
       "    // Note - this is a bit hacky, but it is done because the \"notebook_saving.Notebook\"\n",
       "    // IPython event is triggered only after the cells have been serialised, which for\n",
       "    // our purposes (turning an active figure into a static one), is too late.\n",
       "    var cells = IPython.notebook.get_cells();\n",
       "    var ncells = cells.length;\n",
       "    for (var i=0; i<ncells; i++) {\n",
       "        var cell = cells[i];\n",
       "        if (cell.cell_type === 'code'){\n",
       "            for (var j=0; j<cell.output_area.outputs.length; j++) {\n",
       "                var data = cell.output_area.outputs[j];\n",
       "                if (data.data) {\n",
       "                    // IPython >= 3 moved mimebundle to data attribute of output\n",
       "                    data = data.data;\n",
       "                }\n",
       "                if (data['text/html'] == html_output) {\n",
       "                    return [cell, data, j];\n",
       "                }\n",
       "            }\n",
       "        }\n",
       "    }\n",
       "}\n",
       "\n",
       "// Register the function which deals with the matplotlib target/channel.\n",
       "// The kernel may be null if the page has been refreshed.\n",
       "if (IPython.notebook.kernel != null) {\n",
       "    IPython.notebook.kernel.comm_manager.register_target('matplotlib', mpl.mpl_figure_comm);\n",
       "}\n"
      ],
      "text/plain": [
       "<IPython.core.display.Javascript object>"
      ]
     },
     "metadata": {},
     "output_type": "display_data"
    },
    {
     "data": {
      "text/html": [
       "<img src=\"data:image/png;base64,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\" width=\"900\">"
      ],
      "text/plain": [
       "<IPython.core.display.HTML object>"
      ]
     },
     "metadata": {},
     "output_type": "display_data"
    }
   ],
   "source": [
    "from mpl_toolkits.mplot3d import Axes3D\n",
    "#fig = plt.figure()\n",
    "#ax = Axes3D(fig)\n",
    "#vis = np.load(top_dir + 'data/analysis/tsne_vis/m3_Wmscla-15_tsne_p30_5000.npy')\n",
    "###+0*(4-market*~G.rst)\n",
    "plt.scatter(vis[:, 0], vis[:, 1], s=5, alpha=.9, cmap=plt.get_cmap('jet', 8));\n",
    "#plt.colorbar(ticks=list(range(9)));"
   ]
  },
  {
   "cell_type": "code",
   "execution_count": 6,
   "metadata": {},
   "outputs": [],
   "source": [
    "# m1 --- NOTE: m1 is missing one stock only present in dh\n",
    "vis = np.load(top_dir + 'data/analysis/tsne_vis/m1_Wmscla-15_tsne_p30_5000.npy')\n",
    "x, y = vis[:, 0], vis[:, 1]\n",
    "m1 = pd.DataFrame({'$[m1].__x': x, '$[m1].__major': x - y, '$[m1].__minor': x + y}, index=market[market == 1].index)"
   ]
  },
  {
   "cell_type": "code",
   "execution_count": 7,
   "metadata": {
    "collapsed": true
   },
   "outputs": [],
   "source": [
    "# m2\n",
    "vis = np.load(top_dir + 'data/analysis/tsne_vis/m2_Wmscla-15_tsne_p30_5000.npy')\n",
    "x, y = vis[:, 0], vis[:, 1]\n",
    "m2 = pd.DataFrame({'$[m2].__major': x - y,\n",
    "                   '$[m2].__minor': x + y,\n",
    "                   '$[m2].__norm2': (x - 4) ** 2 + y ** 2,\n",
    "                   '$[m2].__angle': np.arctan2(x - 4 + y, x - 4 - y),\n",
    "                   '$[m2].__ccngl': np.arctan2(x - 4 + y, -(x - 4 - y))}, index=market[market == 2].index)"
   ]
  },
  {
   "cell_type": "code",
   "execution_count": 8,
   "metadata": {
    "collapsed": true
   },
   "outputs": [],
   "source": [
    "# m3\n",
    "vis = np.load(top_dir + 'data/analysis/tsne_vis/m3_Wmscla-15_tsne_p30_5000_go1.npy')\n",
    "x, y = vis[:, 0], vis[:, 1]\n",
    "m3 = pd.DataFrame({'$[m3].__minor': x - (y + 20) * 2,\n",
    "                   '$[m3].__major': x * 2 + (y - 20),\n",
    "                   '$[m3].__norm2': np.sqrt((x - (y + 20) * 2) ** 2 + (x * 2 + (y - 20)) ** 2),\n",
    "                   '$[m3].__angle': np.arctan2(x - (y + 20) * 2, x * 2 + (y - 20) + 30),\n",
    "                   '$[m3].__ccngl': np.arctan2(x - (y + 20) * 2, -(x * 2 + (y - 20) + 30))}, index=market[market == 3].index)"
   ]
  },
  {
   "cell_type": "code",
   "execution_count": 9,
   "metadata": {
    "collapsed": true
   },
   "outputs": [],
   "source": [
    "# m4\n",
    "vis = np.load(top_dir + 'data/analysis/tsne_vis/m4_Wmscla-15_tsne_p30_5000.npy')\n",
    "x, y = vis[:, 0], vis[:, 1]\n",
    "m4 = pd.DataFrame({'$[m4].__norm2': (x - 1) ** 2 + (y + .62) ** 2,\n",
    "                   '$[m4].__angle': np.arctan2(y + .62, x - 1),\n",
    "                   '$[m4].__ccngl': np.arctan2(x, -(y + .62))}, index=market[market == 4].index)"
   ]
  },
  {
   "cell_type": "code",
   "execution_count": 10,
   "metadata": {
    "collapsed": true
   },
   "outputs": [],
   "source": [
    "# m3\n",
    "vis = np.load(top_dir + 'data/analysis/tsne_vis/m3_Wmscla-15_tsne_p30_5000.npy')\n",
    "x, y = vis[:, 0], vis[:, 1]\n",
    "above = lambda x0, y0, x1, y1: y - y0 >= (y1 - y0) / (x1 - x0) * (x - x0)\n",
    "below = lambda x0, y0, x1, y1: y - y0 <= (y1 - y0) / (x1 - x0) * (x - x0)\n",
    "#\n",
    "g = O()\n",
    "g.m3_LargeSiamese = above(-3, 0, 10, 22) & above(-10, -7, -30, 5) & (x > -30) & (y < 50) & (x < 10)\n",
    "g.m3_SmallSiamese = (y > -12) & (x > 9) & below(10, 0, 25, 19) & (y < 20) & (x < 35)\n",
    "g.m3_MiddleSiamese = (above(10, 0, 25, 19) | (x < 10)) & (y > -12) & (below(-3, 0, 10, 22) | (x >= 10)) & below(30, 20, 20, 40)\n",
    "g.m3_BigBrother = below(-10, -7, -30, 5) & (x < -20) & (y > -15) & (x > -40) & (y < 6)\n",
    "g.m3_LittleBrother = (x < 50) & (x > 36) & (y > 8) & (y < 32)\n",
    "g.m3_Collarbone = (y < -20) & (y > -75) & (x < 40) & (x > 17)\n",
    "g.m3_BoneGrowth = (y < -60) & (y > -80) & (x <= 17) & (x > 0)\n",
    "g.m3_SmallSeparate = (y < -70) & (y > -80) & (x < 0) & (x > -15)\n",
    "g.m3_Sidebar = (y < -25) & (y > -70) & (x < -10) & (x > -30)\n",
    "#\n",
    "G = pd.DataFrame(dict(**g), index=W.T[market == 3].index)\n",
    "Gnum = G.astype(int)\n",
    "for i, c in enumerate(Gnum.values.T):\n",
    "    c *= i\n",
    "group = Gnum.T.sum().T\n",
    "#group.to_hdf(top_dir + 'data/analysis/group.m3.hdf5', key='group')\n",
    "#G.to_hdf(top_dir + 'data/analysis/G.m3.hdf5', key='G')\n",
    "m3encode = (\n",
    "    1 * G.m3_BigBrother + 2 * G.m3_LargeSiamese + 3 * G.m3_MiddleSiamese + 4 * G.m3_SmallSiamese + 5 * G.m3_LittleBrother +\n",
    "    6 * G.m3_Collarbone + 7 * G.m3_BoneGrowth + 8 * G.m3_SmallSeparate + 9 * G.m3_Sidebar\n",
    ").rename('$[m3].__hand')"
   ]
  },
  {
   "cell_type": "code",
   "execution_count": 11,
   "metadata": {
    "collapsed": true
   },
   "outputs": [],
   "source": [
    "tsne = pd.concat([mat.makeil_like(dh) for mat in [m1, m2, m3, m4, m3encode]], axis=1).astype(np.float32)"
   ]
  },
  {
   "cell_type": "code",
   "execution_count": 12,
   "metadata": {
    "collapsed": true
   },
   "outputs": [],
   "source": [
    "tsne.to_hdf(top_dir + 'data/features/il32/tsne', mode='w', key='a')"
   ]
  },
  {
   "cell_type": "code",
   "execution_count": 13,
   "metadata": {},
   "outputs": [
    {
     "ename": "AttributeError",
     "evalue": "'DataFrame' object has no attribute 'm1'",
     "output_type": "error",
     "traceback": [
      "\u001b[0;31m---------------------------------------------------------------------------\u001b[0m",
      "\u001b[0;31mAttributeError\u001b[0m                            Traceback (most recent call last)",
      "\u001b[0;32m<ipython-input-13-6e2e18600489>\u001b[0m in \u001b[0;36m<module>\u001b[0;34m()\u001b[0m\n\u001b[0;32m----> 1\u001b[0;31m \u001b[0mtsne\u001b[0m\u001b[0;34m.\u001b[0m\u001b[0mm1\u001b[0m\u001b[0;34m\u001b[0m\u001b[0m\n\u001b[0m",
      "\u001b[0;32m~/anaconda3/lib/python3.6/site-packages/pandas/core/generic.py\u001b[0m in \u001b[0;36m__getattr__\u001b[0;34m(self, name)\u001b[0m\n\u001b[1;32m   3612\u001b[0m             \u001b[0;32mif\u001b[0m \u001b[0mname\u001b[0m \u001b[0;32min\u001b[0m \u001b[0mself\u001b[0m\u001b[0;34m.\u001b[0m\u001b[0m_info_axis\u001b[0m\u001b[0;34m:\u001b[0m\u001b[0;34m\u001b[0m\u001b[0m\n\u001b[1;32m   3613\u001b[0m                 \u001b[0;32mreturn\u001b[0m \u001b[0mself\u001b[0m\u001b[0;34m[\u001b[0m\u001b[0mname\u001b[0m\u001b[0;34m]\u001b[0m\u001b[0;34m\u001b[0m\u001b[0m\n\u001b[0;32m-> 3614\u001b[0;31m             \u001b[0;32mreturn\u001b[0m \u001b[0mobject\u001b[0m\u001b[0;34m.\u001b[0m\u001b[0m__getattribute__\u001b[0m\u001b[0;34m(\u001b[0m\u001b[0mself\u001b[0m\u001b[0;34m,\u001b[0m \u001b[0mname\u001b[0m\u001b[0;34m)\u001b[0m\u001b[0;34m\u001b[0m\u001b[0m\n\u001b[0m\u001b[1;32m   3615\u001b[0m \u001b[0;34m\u001b[0m\u001b[0m\n\u001b[1;32m   3616\u001b[0m     \u001b[0;32mdef\u001b[0m \u001b[0m__setattr__\u001b[0m\u001b[0;34m(\u001b[0m\u001b[0mself\u001b[0m\u001b[0;34m,\u001b[0m \u001b[0mname\u001b[0m\u001b[0;34m,\u001b[0m \u001b[0mvalue\u001b[0m\u001b[0;34m)\u001b[0m\u001b[0;34m:\u001b[0m\u001b[0;34m\u001b[0m\u001b[0m\n",
      "\u001b[0;31mAttributeError\u001b[0m: 'DataFrame' object has no attribute 'm1'"
     ]
    }
   ],
   "source": [
    "tsne.m1"
   ]
  },
  {
   "cell_type": "code",
   "execution_count": null,
   "metadata": {
    "collapsed": true
   },
   "outputs": [],
   "source": []
  },
  {
   "cell_type": "code",
   "execution_count": 45,
   "metadata": {
    "collapsed": true
   },
   "outputs": [],
   "source": [
    "np.save(top_dir + 'data/analysis/tsne_vis/m4_Wmscla-15_tsne_p30_5000', vis)"
   ]
  },
  {
   "cell_type": "code",
   "execution_count": null,
   "metadata": {
    "collapsed": true
   },
   "outputs": [],
   "source": [
    "'''# How to do ZCA using sklearn's PCA\n",
    "# c.f. Michael Eickenberg on Google https://groups.google.com/forum/#!topic/theano-users/_63ggUdWeEI\n",
    "pca = PCA(whiten=True)\n",
    "transformed = pca.fit_transform(data)\n",
    "pca.whiten = False\n",
    "zca = pca.inverse_transform(transformed)\n",
    "'''"
   ]
  },
  {
   "cell_type": "code",
   "execution_count": 116,
   "metadata": {},
   "outputs": [
    {
     "ename": "TypeError",
     "evalue": "__init__() got an unexpected keyword argument 'whiten'",
     "output_type": "error",
     "traceback": [
      "\u001b[0;31m---------------------------------------------------------------------------\u001b[0m",
      "\u001b[0;31mTypeError\u001b[0m                                 Traceback (most recent call last)",
      "\u001b[0;32m<ipython-input-116-9d06a72748b9>\u001b[0m in \u001b[0;36m<module>\u001b[0;34m()\u001b[0m\n\u001b[1;32m      1\u001b[0m \u001b[0mtheY\u001b[0m\u001b[0;34m,\u001b[0m \u001b[0mtheW\u001b[0m \u001b[0;34m=\u001b[0m \u001b[0;34m(\u001b[0m\u001b[0mY\u001b[0m \u001b[0;34m-\u001b[0m \u001b[0mY\u001b[0m\u001b[0;34m.\u001b[0m\u001b[0mmean\u001b[0m\u001b[0;34m(\u001b[0m\u001b[0;34m)\u001b[0m\u001b[0;34m)\u001b[0m\u001b[0;34m.\u001b[0m\u001b[0mfillna\u001b[0m\u001b[0;34m(\u001b[0m\u001b[0;36m0\u001b[0m\u001b[0;34m)\u001b[0m\u001b[0;34m.\u001b[0m\u001b[0mT\u001b[0m\u001b[0;34m,\u001b[0m \u001b[0mW\u001b[0m\u001b[0;34m.\u001b[0m\u001b[0mfillna\u001b[0m\u001b[0;34m(\u001b[0m\u001b[0;36m0\u001b[0m\u001b[0;34m)\u001b[0m\u001b[0;34m.\u001b[0m\u001b[0mT\u001b[0m\u001b[0;34m\u001b[0m\u001b[0m\n\u001b[0;32m----> 2\u001b[0;31m \u001b[0mf\u001b[0m \u001b[0;34m=\u001b[0m \u001b[0mWPCA\u001b[0m\u001b[0;34m(\u001b[0m\u001b[0mtheY\u001b[0m\u001b[0;34m.\u001b[0m\u001b[0mshape\u001b[0m\u001b[0;34m[\u001b[0m\u001b[0;36m0\u001b[0m\u001b[0;34m]\u001b[0m\u001b[0;34m,\u001b[0m \u001b[0mwhiten\u001b[0m\u001b[0;34m=\u001b[0m\u001b[0;32mTrue\u001b[0m\u001b[0;34m)\u001b[0m\u001b[0;34m\u001b[0m\u001b[0m\n\u001b[0m\u001b[1;32m      3\u001b[0m \u001b[0mYf\u001b[0m \u001b[0;34m=\u001b[0m \u001b[0mf\u001b[0m\u001b[0;34m.\u001b[0m\u001b[0mfit_transform\u001b[0m\u001b[0;34m(\u001b[0m\u001b[0mtheY\u001b[0m\u001b[0;34m,\u001b[0m \u001b[0mweights\u001b[0m\u001b[0;34m=\u001b[0m\u001b[0mtheW\u001b[0m\u001b[0;34m)\u001b[0m\u001b[0;34m\u001b[0m\u001b[0m\n\u001b[1;32m      4\u001b[0m \u001b[0mf\u001b[0m\u001b[0;34m.\u001b[0m\u001b[0mwhiten\u001b[0m\u001b[0;34m=\u001b[0m\u001b[0;32mFalse\u001b[0m\u001b[0;34m\u001b[0m\u001b[0m\n\u001b[1;32m      5\u001b[0m \u001b[0mYwhiten\u001b[0m \u001b[0;34m=\u001b[0m \u001b[0mf\u001b[0m\u001b[0;34m.\u001b[0m\u001b[0minverse_transform\u001b[0m\u001b[0;34m(\u001b[0m\u001b[0mYf\u001b[0m\u001b[0;34m)\u001b[0m\u001b[0;34m\u001b[0m\u001b[0m\n",
      "\u001b[0;31mTypeError\u001b[0m: __init__() got an unexpected keyword argument 'whiten'"
     ]
    }
   ],
   "source": [
    "theY, theW = (Y - Y.mean()).fillna(0).T, W.fillna(0).T\n",
    "f = skPCA(theY.shape[0], whiten=True)\n",
    "Yf = f.fit_transform(theY, weights=theW)\n",
    "f.whiten=False\n",
    "Ywhiten = f.inverse_transform(Yf)"
   ]
  },
  {
   "cell_type": "code",
   "execution_count": null,
   "metadata": {
    "collapsed": true
   },
   "outputs": [],
   "source": []
  },
  {
   "cell_type": "code",
   "execution_count": null,
   "metadata": {
    "collapsed": true
   },
   "outputs": [],
   "source": []
  },
  {
   "cell_type": "code",
   "execution_count": null,
   "metadata": {
    "collapsed": true
   },
   "outputs": [],
   "source": []
  },
  {
   "cell_type": "code",
   "execution_count": null,
   "metadata": {
    "collapsed": true
   },
   "outputs": [],
   "source": [
    "# outliers when I didn't remove stocks with not enough valid dates"
   ]
  },
  {
   "cell_type": "code",
   "execution_count": 201,
   "metadata": {
    "collapsed": true
   },
   "outputs": [
    {
     "data": {
      "image/png": "[encoded data removed]",
      "text/plain": [
       "<matplotlib.figure.Figure at 0x7fe4481f0048>"
      ]
     },
     "metadata": {},
     "output_type": "display_data"
    }
   ],
   "source": [
    "h = plt.scatter(Yf[:, 0], Yf[:, 1], s=5)"
   ]
  },
  {
   "cell_type": "code",
   "execution_count": 213,
   "metadata": {},
   "outputs": [
    {
     "data": {
      "text/plain": [
       "(array([257]), array([256]), array([253]), array([127]))"
      ]
     },
     "execution_count": 213,
     "metadata": {},
     "output_type": "execute_result"
    }
   ],
   "source": [
    "(\n",
    "    (Yf[:, 0] > 30).nonzero() +\n",
    "    (Yf[:, 0] < -15).nonzero() +\n",
    "    (Yf[:, 1] < -30).nonzero() +\n",
    "    (Yf[:, 1] > 10).nonzero() +\n",
    "())"
   ]
  }
 ],
 "metadata": {
  "kernelspec": {
   "display_name": "Python 3",
   "language": "python",
   "name": "python3"
  },
  "language_info": {
   "codemirror_mode": {
    "name": "ipython",
    "version": 3
   },
   "file_extension": ".py",
   "mimetype": "text/x-python",
   "name": "python",
   "nbconvert_exporter": "python",
   "pygments_lexer": "ipython3",
   "version": "3.6.2"
  }
 },
 "nbformat": 4,
 "nbformat_minor": 2
}
