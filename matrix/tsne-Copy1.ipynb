{
 "cells": [
  {
   "cell_type": "code",
   "execution_count": 1,
   "metadata": {},
   "outputs": [
    {
     "name": "stderr",
     "output_type": "stream",
     "text": [
      "/home/ec2-user/anaconda3/lib/python3.6/site-packages/pandas/core/common.py:701: RuntimeWarning: divide by zero encountered in log\n",
      "  return func(obj, *args, **kwargs)\n"
     ]
    }
   ],
   "source": [
    "from common import *\n",
    "from matrix import *"
   ]
  },
  {
   "cell_type": "code",
   "execution_count": 2,
   "metadata": {
    "collapsed": true
   },
   "outputs": [],
   "source": [
    "%matplotlib notebook\n",
    "canvas(9, 6)"
   ]
  },
  {
   "cell_type": "markdown",
   "metadata": {
    "collapsed": true
   },
   "source": [
    "# Matrix Factorization"
   ]
  },
  {
   "cell_type": "code",
   "execution_count": 3,
   "metadata": {
    "collapsed": true
   },
   "outputs": [],
   "source": [
    "def_matrices(globals(), df) #day_filter(df, 246))"
   ]
  },
  {
   "cell_type": "code",
   "execution_count": 4,
   "metadata": {
    "collapsed": true
   },
   "outputs": [],
   "source": [
    "sfilt = ~stock_nvdf(dh, 246)"
   ]
  },
  {
   "cell_type": "code",
   "execution_count": 5,
   "metadata": {
    "collapsed": true
   },
   "outputs": [],
   "source": [
    "# T-SNE\n",
    "# unnormalized y.T: perplexity=2 (n_iter=10000)\n",
    "# normalized y.T: perplexity=10 (n_iter=1000)"
   ]
  },
  {
   "cell_type": "code",
   "execution_count": 6,
   "metadata": {},
   "outputs": [],
   "source": [
    "_zero = -21.\n",
    "Wstd = np.log(W).pipe(lambda X: (X - X.mean()) / X.var() ** .5)\n",
    "Wstda = Wstd.fillna(_zero)\n",
    "Wmstd = np.log(W).pipe(lambda X: (X - X.median()) / X.var() ** .5)\n",
    "Wmstda = Wstd.fillna(_zero)"
   ]
  },
  {
   "cell_type": "code",
   "execution_count": 52,
   "metadata": {
    "collapsed": true
   },
   "outputs": [],
   "source": [
    "mat = Wstda"
   ]
  },
  {
   "cell_type": "code",
   "execution_count": 53,
   "metadata": {
    "collapsed": true
   },
   "outputs": [],
   "source": [
    "pearson = mat.corr(method='pearson')"
   ]
  },
  {
   "cell_type": "code",
   "execution_count": 54,
   "metadata": {
    "collapsed": true
   },
   "outputs": [],
   "source": [
    "spearman = mat.corr(method='spearman')"
   ]
  },
  {
   "cell_type": "code",
   "execution_count": 70,
   "metadata": {
    "collapsed": true
   },
   "outputs": [],
   "source": [
    "kendall = pd.DataFrame(np.load(top_dir + 'data/progress/kendalltau.npy'), index=range(N_STOCK), columns=range(N_STOCK))\n",
    "kendall.columns.name = kendall.index.name = 'Stock'"
   ]
  },
  {
   "cell_type": "code",
   "execution_count": 89,
   "metadata": {
    "collapsed": true
   },
   "outputs": [],
   "source": [
    "dist = spearman ** -2 - 1 #kendall[sfilt].T[sfilt].T ** -2 - 1\n",
    "#dist = dist.replace(np.inf, dist.replace(np.inf, 0).max().max() ** 2)\n",
    "dist = dist.fillna(0)"
   ]
  },
  {
   "cell_type": "code",
   "execution_count": 47,
   "metadata": {
    "collapsed": true
   },
   "outputs": [],
   "source": [
    "from sklearn.manifold import TSNE\n",
    "theX = Wmstda.T #np.log(W.fillna(W.min().min() ** 2)).T\n",
    "#theX = center(theX)\n",
    "vis = TSNE(n_components=2, perplexity=17, n_iter=1000).fit_transform(theX)"
   ]
  },
  {
   "cell_type": "code",
   "execution_count": 106,
   "metadata": {
    "collapsed": true
   },
   "outputs": [],
   "source": [
    "# canon\n",
    "#vis = np.load(top_dir + 'data/analysis/tsne_vis/Wmstda-28_tsne_p30.npy')\n",
    "#vis = np.load(top_dir + 'data/analysis/tsne_vis/Wmstda-18_tsne_p30.npy')\n",
    "# 3 big group\n",
    "#vis = np.load(top_dir + 'data/analysis/tsne_vis/Wmstda-22_tsne_p18_try1.npy')\n",
    "# 2\n",
    "#vis = np.load(top_dir + 'data/analysis/tsne_vis/Wmstda-21_tsne_p17.npy')\n",
    "# small 3 and 1\n",
    "#vis = np.load(top_dir + 'data/analysis/tsne_vis/Wmstda-21_tsne_p17_try2.npy')\n",
    "# 4\n",
    "#vis = np.load(top_dir + 'data/analysis/tsne_vis/Wmstda-28_tsne_p30.npy')"
   ]
  },
  {
   "cell_type": "code",
   "execution_count": 123,
   "metadata": {
    "collapsed": true
   },
   "outputs": [],
   "source": [
    "#market1 = market.copy()\n",
    "#market1[g.kda4] = -1"
   ]
  },
  {
   "cell_type": "code",
   "execution_count": 229,
   "metadata": {},
   "outputs": [
    {
     "data": {
      "text/plain": [
       "[(0, {.big1}),\n",
       " (1, {.big2}),\n",
       " (2, {.big3}),\n",
       " (3, {.sml2}),\n",
       " (4, {.sml3}),\n",
       " (5, {.sml3x}),\n",
       " (6, {.tny1}),\n",
       " (7, {.tny2}),\n",
       " (8, {.twa4}),\n",
       " (9, {.twb4}),\n",
       " (10, 'ltl'),\n",
       " (11, 'lrg')]"
      ]
     },
     "execution_count": 229,
     "metadata": {},
     "output_type": "execute_result"
    }
   ],
   "source": [
    "list(enumerate(G))"
   ]
  },
  {
   "cell_type": "code",
   "execution_count": 340,
   "metadata": {},
   "outputs": [
    {
     "data": {
      "application/javascript": [
       "/* Put everything inside the global mpl namespace */\n",
       "window.mpl = {};\n",
       "\n",
       "\n",
       "mpl.get_websocket_type = function() {\n",
       "    if (typeof(WebSocket) !== 'undefined') {\n",
       "        return WebSocket;\n",
       "    } else if (typeof(MozWebSocket) !== 'undefined') {\n",
       "        return MozWebSocket;\n",
       "    } else {\n",
       "        alert('Your browser does not have WebSocket support.' +\n",
       "              'Please try Chrome, Safari or Firefox ≥ 6. ' +\n",
       "              'Firefox 4 and 5 are also supported but you ' +\n",
       "              'have to enable WebSockets in about:config.');\n",
       "    };\n",
       "}\n",
       "\n",
       "mpl.figure = function(figure_id, websocket, ondownload, parent_element) {\n",
       "    this.id = figure_id;\n",
       "\n",
       "    this.ws = websocket;\n",
       "\n",
       "    this.supports_binary = (this.ws.binaryType != undefined);\n",
       "\n",
       "    if (!this.supports_binary) {\n",
       "        var warnings = document.getElementById(\"mpl-warnings\");\n",
       "        if (warnings) {\n",
       "            warnings.style.display = 'block';\n",
       "            warnings.textContent = (\n",
       "                \"This browser does not support binary websocket messages. \" +\n",
       "                    \"Performance may be slow.\");\n",
       "        }\n",
       "    }\n",
       "\n",
       "    this.imageObj = new Image();\n",
       "\n",
       "    this.context = undefined;\n",
       "    this.message = undefined;\n",
       "    this.canvas = undefined;\n",
       "    this.rubberband_canvas = undefined;\n",
       "    this.rubberband_context = undefined;\n",
       "    this.format_dropdown = undefined;\n",
       "\n",
       "    this.image_mode = 'full';\n",
       "\n",
       "    this.root = $('<div/>');\n",
       "    this._root_extra_style(this.root)\n",
       "    this.root.attr('style', 'display: inline-block');\n",
       "\n",
       "    $(parent_element).append(this.root);\n",
       "\n",
       "    this._init_header(this);\n",
       "    this._init_canvas(this);\n",
       "    this._init_toolbar(this);\n",
       "\n",
       "    var fig = this;\n",
       "\n",
       "    this.waiting = false;\n",
       "\n",
       "    this.ws.onopen =  function () {\n",
       "            fig.send_message(\"supports_binary\", {value: fig.supports_binary});\n",
       "            fig.send_message(\"send_image_mode\", {});\n",
       "            if (mpl.ratio != 1) {\n",
       "                fig.send_message(\"set_dpi_ratio\", {'dpi_ratio': mpl.ratio});\n",
       "            }\n",
       "            fig.send_message(\"refresh\", {});\n",
       "        }\n",
       "\n",
       "    this.imageObj.onload = function() {\n",
       "            if (fig.image_mode == 'full') {\n",
       "                // Full images could contain transparency (where diff images\n",
       "                // almost always do), so we need to clear the canvas so that\n",
       "                // there is no ghosting.\n",
       "                fig.context.clearRect(0, 0, fig.canvas.width, fig.canvas.height);\n",
       "            }\n",
       "            fig.context.drawImage(fig.imageObj, 0, 0);\n",
       "        };\n",
       "\n",
       "    this.imageObj.onunload = function() {\n",
       "        this.ws.close();\n",
       "    }\n",
       "\n",
       "    this.ws.onmessage = this._make_on_message_function(this);\n",
       "\n",
       "    this.ondownload = ondownload;\n",
       "}\n",
       "\n",
       "mpl.figure.prototype._init_header = function() {\n",
       "    var titlebar = $(\n",
       "        '<div class=\"ui-dialog-titlebar ui-widget-header ui-corner-all ' +\n",
       "        'ui-helper-clearfix\"/>');\n",
       "    var titletext = $(\n",
       "        '<div class=\"ui-dialog-title\" style=\"width: 100%; ' +\n",
       "        'text-align: center; padding: 3px;\"/>');\n",
       "    titlebar.append(titletext)\n",
       "    this.root.append(titlebar);\n",
       "    this.header = titletext[0];\n",
       "}\n",
       "\n",
       "\n",
       "\n",
       "mpl.figure.prototype._canvas_extra_style = function(canvas_div) {\n",
       "\n",
       "}\n",
       "\n",
       "\n",
       "mpl.figure.prototype._root_extra_style = function(canvas_div) {\n",
       "\n",
       "}\n",
       "\n",
       "mpl.figure.prototype._init_canvas = function() {\n",
       "    var fig = this;\n",
       "\n",
       "    var canvas_div = $('<div/>');\n",
       "\n",
       "    canvas_div.attr('style', 'position: relative; clear: both; outline: 0');\n",
       "\n",
       "    function canvas_keyboard_event(event) {\n",
       "        return fig.key_event(event, event['data']);\n",
       "    }\n",
       "\n",
       "    canvas_div.keydown('key_press', canvas_keyboard_event);\n",
       "    canvas_div.keyup('key_release', canvas_keyboard_event);\n",
       "    this.canvas_div = canvas_div\n",
       "    this._canvas_extra_style(canvas_div)\n",
       "    this.root.append(canvas_div);\n",
       "\n",
       "    var canvas = $('<canvas/>');\n",
       "    canvas.addClass('mpl-canvas');\n",
       "    canvas.attr('style', \"left: 0; top: 0; z-index: 0; outline: 0\")\n",
       "\n",
       "    this.canvas = canvas[0];\n",
       "    this.context = canvas[0].getContext(\"2d\");\n",
       "\n",
       "    var backingStore = this.context.backingStorePixelRatio ||\n",
       "\tthis.context.webkitBackingStorePixelRatio ||\n",
       "\tthis.context.mozBackingStorePixelRatio ||\n",
       "\tthis.context.msBackingStorePixelRatio ||\n",
       "\tthis.context.oBackingStorePixelRatio ||\n",
       "\tthis.context.backingStorePixelRatio || 1;\n",
       "\n",
       "    mpl.ratio = (window.devicePixelRatio || 1) / backingStore;\n",
       "\n",
       "    var rubberband = $('<canvas/>');\n",
       "    rubberband.attr('style', \"position: absolute; left: 0; top: 0; z-index: 1;\")\n",
       "\n",
       "    var pass_mouse_events = true;\n",
       "\n",
       "    canvas_div.resizable({\n",
       "        start: function(event, ui) {\n",
       "            pass_mouse_events = false;\n",
       "        },\n",
       "        resize: function(event, ui) {\n",
       "            fig.request_resize(ui.size.width, ui.size.height);\n",
       "        },\n",
       "        stop: function(event, ui) {\n",
       "            pass_mouse_events = true;\n",
       "            fig.request_resize(ui.size.width, ui.size.height);\n",
       "        },\n",
       "    });\n",
       "\n",
       "    function mouse_event_fn(event) {\n",
       "        if (pass_mouse_events)\n",
       "            return fig.mouse_event(event, event['data']);\n",
       "    }\n",
       "\n",
       "    rubberband.mousedown('button_press', mouse_event_fn);\n",
       "    rubberband.mouseup('button_release', mouse_event_fn);\n",
       "    // Throttle sequential mouse events to 1 every 20ms.\n",
       "    rubberband.mousemove('motion_notify', mouse_event_fn);\n",
       "\n",
       "    rubberband.mouseenter('figure_enter', mouse_event_fn);\n",
       "    rubberband.mouseleave('figure_leave', mouse_event_fn);\n",
       "\n",
       "    canvas_div.on(\"wheel\", function (event) {\n",
       "        event = event.originalEvent;\n",
       "        event['data'] = 'scroll'\n",
       "        if (event.deltaY < 0) {\n",
       "            event.step = 1;\n",
       "        } else {\n",
       "            event.step = -1;\n",
       "        }\n",
       "        mouse_event_fn(event);\n",
       "    });\n",
       "\n",
       "    canvas_div.append(canvas);\n",
       "    canvas_div.append(rubberband);\n",
       "\n",
       "    this.rubberband = rubberband;\n",
       "    this.rubberband_canvas = rubberband[0];\n",
       "    this.rubberband_context = rubberband[0].getContext(\"2d\");\n",
       "    this.rubberband_context.strokeStyle = \"#000000\";\n",
       "\n",
       "    this._resize_canvas = function(width, height) {\n",
       "        // Keep the size of the canvas, canvas container, and rubber band\n",
       "        // canvas in synch.\n",
       "        canvas_div.css('width', width)\n",
       "        canvas_div.css('height', height)\n",
       "\n",
       "        canvas.attr('width', width * mpl.ratio);\n",
       "        canvas.attr('height', height * mpl.ratio);\n",
       "        canvas.attr('style', 'width: ' + width + 'px; height: ' + height + 'px;');\n",
       "\n",
       "        rubberband.attr('width', width);\n",
       "        rubberband.attr('height', height);\n",
       "    }\n",
       "\n",
       "    // Set the figure to an initial 600x600px, this will subsequently be updated\n",
       "    // upon first draw.\n",
       "    this._resize_canvas(600, 600);\n",
       "\n",
       "    // Disable right mouse context menu.\n",
       "    $(this.rubberband_canvas).bind(\"contextmenu\",function(e){\n",
       "        return false;\n",
       "    });\n",
       "\n",
       "    function set_focus () {\n",
       "        canvas.focus();\n",
       "        canvas_div.focus();\n",
       "    }\n",
       "\n",
       "    window.setTimeout(set_focus, 100);\n",
       "}\n",
       "\n",
       "mpl.figure.prototype._init_toolbar = function() {\n",
       "    var fig = this;\n",
       "\n",
       "    var nav_element = $('<div/>')\n",
       "    nav_element.attr('style', 'width: 100%');\n",
       "    this.root.append(nav_element);\n",
       "\n",
       "    // Define a callback function for later on.\n",
       "    function toolbar_event(event) {\n",
       "        return fig.toolbar_button_onclick(event['data']);\n",
       "    }\n",
       "    function toolbar_mouse_event(event) {\n",
       "        return fig.toolbar_button_onmouseover(event['data']);\n",
       "    }\n",
       "\n",
       "    for(var toolbar_ind in mpl.toolbar_items) {\n",
       "        var name = mpl.toolbar_items[toolbar_ind][0];\n",
       "        var tooltip = mpl.toolbar_items[toolbar_ind][1];\n",
       "        var image = mpl.toolbar_items[toolbar_ind][2];\n",
       "        var method_name = mpl.toolbar_items[toolbar_ind][3];\n",
       "\n",
       "        if (!name) {\n",
       "            // put a spacer in here.\n",
       "            continue;\n",
       "        }\n",
       "        var button = $('<button/>');\n",
       "        button.addClass('ui-button ui-widget ui-state-default ui-corner-all ' +\n",
       "                        'ui-button-icon-only');\n",
       "        button.attr('role', 'button');\n",
       "        button.attr('aria-disabled', 'false');\n",
       "        button.click(method_name, toolbar_event);\n",
       "        button.mouseover(tooltip, toolbar_mouse_event);\n",
       "\n",
       "        var icon_img = $('<span/>');\n",
       "        icon_img.addClass('ui-button-icon-primary ui-icon');\n",
       "        icon_img.addClass(image);\n",
       "        icon_img.addClass('ui-corner-all');\n",
       "\n",
       "        var tooltip_span = $('<span/>');\n",
       "        tooltip_span.addClass('ui-button-text');\n",
       "        tooltip_span.html(tooltip);\n",
       "\n",
       "        button.append(icon_img);\n",
       "        button.append(tooltip_span);\n",
       "\n",
       "        nav_element.append(button);\n",
       "    }\n",
       "\n",
       "    var fmt_picker_span = $('<span/>');\n",
       "\n",
       "    var fmt_picker = $('<select/>');\n",
       "    fmt_picker.addClass('mpl-toolbar-option ui-widget ui-widget-content');\n",
       "    fmt_picker_span.append(fmt_picker);\n",
       "    nav_element.append(fmt_picker_span);\n",
       "    this.format_dropdown = fmt_picker[0];\n",
       "\n",
       "    for (var ind in mpl.extensions) {\n",
       "        var fmt = mpl.extensions[ind];\n",
       "        var option = $(\n",
       "            '<option/>', {selected: fmt === mpl.default_extension}).html(fmt);\n",
       "        fmt_picker.append(option)\n",
       "    }\n",
       "\n",
       "    // Add hover states to the ui-buttons\n",
       "    $( \".ui-button\" ).hover(\n",
       "        function() { $(this).addClass(\"ui-state-hover\");},\n",
       "        function() { $(this).removeClass(\"ui-state-hover\");}\n",
       "    );\n",
       "\n",
       "    var status_bar = $('<span class=\"mpl-message\"/>');\n",
       "    nav_element.append(status_bar);\n",
       "    this.message = status_bar[0];\n",
       "}\n",
       "\n",
       "mpl.figure.prototype.request_resize = function(x_pixels, y_pixels) {\n",
       "    // Request matplotlib to resize the figure. Matplotlib will then trigger a resize in the client,\n",
       "    // which will in turn request a refresh of the image.\n",
       "    this.send_message('resize', {'width': x_pixels, 'height': y_pixels});\n",
       "}\n",
       "\n",
       "mpl.figure.prototype.send_message = function(type, properties) {\n",
       "    properties['type'] = type;\n",
       "    properties['figure_id'] = this.id;\n",
       "    this.ws.send(JSON.stringify(properties));\n",
       "}\n",
       "\n",
       "mpl.figure.prototype.send_draw_message = function() {\n",
       "    if (!this.waiting) {\n",
       "        this.waiting = true;\n",
       "        this.ws.send(JSON.stringify({type: \"draw\", figure_id: this.id}));\n",
       "    }\n",
       "}\n",
       "\n",
       "\n",
       "mpl.figure.prototype.handle_save = function(fig, msg) {\n",
       "    var format_dropdown = fig.format_dropdown;\n",
       "    var format = format_dropdown.options[format_dropdown.selectedIndex].value;\n",
       "    fig.ondownload(fig, format);\n",
       "}\n",
       "\n",
       "\n",
       "mpl.figure.prototype.handle_resize = function(fig, msg) {\n",
       "    var size = msg['size'];\n",
       "    if (size[0] != fig.canvas.width || size[1] != fig.canvas.height) {\n",
       "        fig._resize_canvas(size[0], size[1]);\n",
       "        fig.send_message(\"refresh\", {});\n",
       "    };\n",
       "}\n",
       "\n",
       "mpl.figure.prototype.handle_rubberband = function(fig, msg) {\n",
       "    var x0 = msg['x0'] / mpl.ratio;\n",
       "    var y0 = (fig.canvas.height - msg['y0']) / mpl.ratio;\n",
       "    var x1 = msg['x1'] / mpl.ratio;\n",
       "    var y1 = (fig.canvas.height - msg['y1']) / mpl.ratio;\n",
       "    x0 = Math.floor(x0) + 0.5;\n",
       "    y0 = Math.floor(y0) + 0.5;\n",
       "    x1 = Math.floor(x1) + 0.5;\n",
       "    y1 = Math.floor(y1) + 0.5;\n",
       "    var min_x = Math.min(x0, x1);\n",
       "    var min_y = Math.min(y0, y1);\n",
       "    var width = Math.abs(x1 - x0);\n",
       "    var height = Math.abs(y1 - y0);\n",
       "\n",
       "    fig.rubberband_context.clearRect(\n",
       "        0, 0, fig.canvas.width, fig.canvas.height);\n",
       "\n",
       "    fig.rubberband_context.strokeRect(min_x, min_y, width, height);\n",
       "}\n",
       "\n",
       "mpl.figure.prototype.handle_figure_label = function(fig, msg) {\n",
       "    // Updates the figure title.\n",
       "    fig.header.textContent = msg['label'];\n",
       "}\n",
       "\n",
       "mpl.figure.prototype.handle_cursor = function(fig, msg) {\n",
       "    var cursor = msg['cursor'];\n",
       "    switch(cursor)\n",
       "    {\n",
       "    case 0:\n",
       "        cursor = 'pointer';\n",
       "        break;\n",
       "    case 1:\n",
       "        cursor = 'default';\n",
       "        break;\n",
       "    case 2:\n",
       "        cursor = 'crosshair';\n",
       "        break;\n",
       "    case 3:\n",
       "        cursor = 'move';\n",
       "        break;\n",
       "    }\n",
       "    fig.rubberband_canvas.style.cursor = cursor;\n",
       "}\n",
       "\n",
       "mpl.figure.prototype.handle_message = function(fig, msg) {\n",
       "    fig.message.textContent = msg['message'];\n",
       "}\n",
       "\n",
       "mpl.figure.prototype.handle_draw = function(fig, msg) {\n",
       "    // Request the server to send over a new figure.\n",
       "    fig.send_draw_message();\n",
       "}\n",
       "\n",
       "mpl.figure.prototype.handle_image_mode = function(fig, msg) {\n",
       "    fig.image_mode = msg['mode'];\n",
       "}\n",
       "\n",
       "mpl.figure.prototype.updated_canvas_event = function() {\n",
       "    // Called whenever the canvas gets updated.\n",
       "    this.send_message(\"ack\", {});\n",
       "}\n",
       "\n",
       "// A function to construct a web socket function for onmessage handling.\n",
       "// Called in the figure constructor.\n",
       "mpl.figure.prototype._make_on_message_function = function(fig) {\n",
       "    return function socket_on_message(evt) {\n",
       "        if (evt.data instanceof Blob) {\n",
       "            /* FIXME: We get \"Resource interpreted as Image but\n",
       "             * transferred with MIME type text/plain:\" errors on\n",
       "             * Chrome.  But how to set the MIME type?  It doesn't seem\n",
       "             * to be part of the websocket stream */\n",
       "            evt.data.type = \"image/png\";\n",
       "\n",
       "            /* Free the memory for the previous frames */\n",
       "            if (fig.imageObj.src) {\n",
       "                (window.URL || window.webkitURL).revokeObjectURL(\n",
       "                    fig.imageObj.src);\n",
       "            }\n",
       "\n",
       "            fig.imageObj.src = (window.URL || window.webkitURL).createObjectURL(\n",
       "                evt.data);\n",
       "            fig.updated_canvas_event();\n",
       "            fig.waiting = false;\n",
       "            return;\n",
       "        }\n",
       "        else if (typeof evt.data === 'string' && evt.data.slice(0, 21) == \"data:image/png;base64\") {\n",
       "            fig.imageObj.src = evt.data;\n",
       "            fig.updated_canvas_event();\n",
       "            fig.waiting = false;\n",
       "            return;\n",
       "        }\n",
       "\n",
       "        var msg = JSON.parse(evt.data);\n",
       "        var msg_type = msg['type'];\n",
       "\n",
       "        // Call the  \"handle_{type}\" callback, which takes\n",
       "        // the figure and JSON message as its only arguments.\n",
       "        try {\n",
       "            var callback = fig[\"handle_\" + msg_type];\n",
       "        } catch (e) {\n",
       "            console.log(\"No handler for the '\" + msg_type + \"' message type: \", msg);\n",
       "            return;\n",
       "        }\n",
       "\n",
       "        if (callback) {\n",
       "            try {\n",
       "                // console.log(\"Handling '\" + msg_type + \"' message: \", msg);\n",
       "                callback(fig, msg);\n",
       "            } catch (e) {\n",
       "                console.log(\"Exception inside the 'handler_\" + msg_type + \"' callback:\", e, e.stack, msg);\n",
       "            }\n",
       "        }\n",
       "    };\n",
       "}\n",
       "\n",
       "// from http://stackoverflow.com/questions/1114465/getting-mouse-location-in-canvas\n",
       "mpl.findpos = function(e) {\n",
       "    //this section is from http://www.quirksmode.org/js/events_properties.html\n",
       "    var targ;\n",
       "    if (!e)\n",
       "        e = window.event;\n",
       "    if (e.target)\n",
       "        targ = e.target;\n",
       "    else if (e.srcElement)\n",
       "        targ = e.srcElement;\n",
       "    if (targ.nodeType == 3) // defeat Safari bug\n",
       "        targ = targ.parentNode;\n",
       "\n",
       "    // jQuery normalizes the pageX and pageY\n",
       "    // pageX,Y are the mouse positions relative to the document\n",
       "    // offset() returns the position of the element relative to the document\n",
       "    var x = e.pageX - $(targ).offset().left;\n",
       "    var y = e.pageY - $(targ).offset().top;\n",
       "\n",
       "    return {\"x\": x, \"y\": y};\n",
       "};\n",
       "\n",
       "/*\n",
       " * return a copy of an object with only non-object keys\n",
       " * we need this to avoid circular references\n",
       " * http://stackoverflow.com/a/24161582/3208463\n",
       " */\n",
       "function simpleKeys (original) {\n",
       "  return Object.keys(original).reduce(function (obj, key) {\n",
       "    if (typeof original[key] !== 'object')\n",
       "        obj[key] = original[key]\n",
       "    return obj;\n",
       "  }, {});\n",
       "}\n",
       "\n",
       "mpl.figure.prototype.mouse_event = function(event, name) {\n",
       "    var canvas_pos = mpl.findpos(event)\n",
       "\n",
       "    if (name === 'button_press')\n",
       "    {\n",
       "        this.canvas.focus();\n",
       "        this.canvas_div.focus();\n",
       "    }\n",
       "\n",
       "    var x = canvas_pos.x * mpl.ratio;\n",
       "    var y = canvas_pos.y * mpl.ratio;\n",
       "\n",
       "    this.send_message(name, {x: x, y: y, button: event.button,\n",
       "                             step: event.step,\n",
       "                             guiEvent: simpleKeys(event)});\n",
       "\n",
       "    /* This prevents the web browser from automatically changing to\n",
       "     * the text insertion cursor when the button is pressed.  We want\n",
       "     * to control all of the cursor setting manually through the\n",
       "     * 'cursor' event from matplotlib */\n",
       "    event.preventDefault();\n",
       "    return false;\n",
       "}\n",
       "\n",
       "mpl.figure.prototype._key_event_extra = function(event, name) {\n",
       "    // Handle any extra behaviour associated with a key event\n",
       "}\n",
       "\n",
       "mpl.figure.prototype.key_event = function(event, name) {\n",
       "\n",
       "    // Prevent repeat events\n",
       "    if (name == 'key_press')\n",
       "    {\n",
       "        if (event.which === this._key)\n",
       "            return;\n",
       "        else\n",
       "            this._key = event.which;\n",
       "    }\n",
       "    if (name == 'key_release')\n",
       "        this._key = null;\n",
       "\n",
       "    var value = '';\n",
       "    if (event.ctrlKey && event.which != 17)\n",
       "        value += \"ctrl+\";\n",
       "    if (event.altKey && event.which != 18)\n",
       "        value += \"alt+\";\n",
       "    if (event.shiftKey && event.which != 16)\n",
       "        value += \"shift+\";\n",
       "\n",
       "    value += 'k';\n",
       "    value += event.which.toString();\n",
       "\n",
       "    this._key_event_extra(event, name);\n",
       "\n",
       "    this.send_message(name, {key: value,\n",
       "                             guiEvent: simpleKeys(event)});\n",
       "    return false;\n",
       "}\n",
       "\n",
       "mpl.figure.prototype.toolbar_button_onclick = function(name) {\n",
       "    if (name == 'download') {\n",
       "        this.handle_save(this, null);\n",
       "    } else {\n",
       "        this.send_message(\"toolbar_button\", {name: name});\n",
       "    }\n",
       "};\n",
       "\n",
       "mpl.figure.prototype.toolbar_button_onmouseover = function(tooltip) {\n",
       "    this.message.textContent = tooltip;\n",
       "};\n",
       "mpl.toolbar_items = [[\"Home\", \"Reset original view\", \"fa fa-home icon-home\", \"home\"], [\"Back\", \"Back to  previous view\", \"fa fa-arrow-left icon-arrow-left\", \"back\"], [\"Forward\", \"Forward to next view\", \"fa fa-arrow-right icon-arrow-right\", \"forward\"], [\"\", \"\", \"\", \"\"], [\"Pan\", \"Pan axes with left mouse, zoom with right\", \"fa fa-arrows icon-move\", \"pan\"], [\"Zoom\", \"Zoom to rectangle\", \"fa fa-square-o icon-check-empty\", \"zoom\"], [\"\", \"\", \"\", \"\"], [\"Download\", \"Download plot\", \"fa fa-floppy-o icon-save\", \"download\"]];\n",
       "\n",
       "mpl.extensions = [\"eps\", \"jpeg\", \"pdf\", \"png\", \"ps\", \"raw\", \"svg\", \"tif\"];\n",
       "\n",
       "mpl.default_extension = \"png\";var comm_websocket_adapter = function(comm) {\n",
       "    // Create a \"websocket\"-like object which calls the given IPython comm\n",
       "    // object with the appropriate methods. Currently this is a non binary\n",
       "    // socket, so there is still some room for performance tuning.\n",
       "    var ws = {};\n",
       "\n",
       "    ws.close = function() {\n",
       "        comm.close()\n",
       "    };\n",
       "    ws.send = function(m) {\n",
       "        //console.log('sending', m);\n",
       "        comm.send(m);\n",
       "    };\n",
       "    // Register the callback with on_msg.\n",
       "    comm.on_msg(function(msg) {\n",
       "        //console.log('receiving', msg['content']['data'], msg);\n",
       "        // Pass the mpl event to the overriden (by mpl) onmessage function.\n",
       "        ws.onmessage(msg['content']['data'])\n",
       "    });\n",
       "    return ws;\n",
       "}\n",
       "\n",
       "mpl.mpl_figure_comm = function(comm, msg) {\n",
       "    // This is the function which gets called when the mpl process\n",
       "    // starts-up an IPython Comm through the \"matplotlib\" channel.\n",
       "\n",
       "    var id = msg.content.data.id;\n",
       "    // Get hold of the div created by the display call when the Comm\n",
       "    // socket was opened in Python.\n",
       "    var element = $(\"#\" + id);\n",
       "    var ws_proxy = comm_websocket_adapter(comm)\n",
       "\n",
       "    function ondownload(figure, format) {\n",
       "        window.open(figure.imageObj.src);\n",
       "    }\n",
       "\n",
       "    var fig = new mpl.figure(id, ws_proxy,\n",
       "                           ondownload,\n",
       "                           element.get(0));\n",
       "\n",
       "    // Call onopen now - mpl needs it, as it is assuming we've passed it a real\n",
       "    // web socket which is closed, not our websocket->open comm proxy.\n",
       "    ws_proxy.onopen();\n",
       "\n",
       "    fig.parent_element = element.get(0);\n",
       "    fig.cell_info = mpl.find_output_cell(\"<div id='\" + id + \"'></div>\");\n",
       "    if (!fig.cell_info) {\n",
       "        console.error(\"Failed to find cell for figure\", id, fig);\n",
       "        return;\n",
       "    }\n",
       "\n",
       "    var output_index = fig.cell_info[2]\n",
       "    var cell = fig.cell_info[0];\n",
       "\n",
       "};\n",
       "\n",
       "mpl.figure.prototype.handle_close = function(fig, msg) {\n",
       "    var width = fig.canvas.width/mpl.ratio\n",
       "    fig.root.unbind('remove')\n",
       "\n",
       "    // Update the output cell to use the data from the current canvas.\n",
       "    fig.push_to_output();\n",
       "    var dataURL = fig.canvas.toDataURL();\n",
       "    // Re-enable the keyboard manager in IPython - without this line, in FF,\n",
       "    // the notebook keyboard shortcuts fail.\n",
       "    IPython.keyboard_manager.enable()\n",
       "    $(fig.parent_element).html('<img src=\"' + dataURL + '\" width=\"' + width + '\">');\n",
       "    fig.close_ws(fig, msg);\n",
       "}\n",
       "\n",
       "mpl.figure.prototype.close_ws = function(fig, msg){\n",
       "    fig.send_message('closing', msg);\n",
       "    // fig.ws.close()\n",
       "}\n",
       "\n",
       "mpl.figure.prototype.push_to_output = function(remove_interactive) {\n",
       "    // Turn the data on the canvas into data in the output cell.\n",
       "    var width = this.canvas.width/mpl.ratio\n",
       "    var dataURL = this.canvas.toDataURL();\n",
       "    this.cell_info[1]['text/html'] = '<img src=\"' + dataURL + '\" width=\"' + width + '\">';\n",
       "}\n",
       "\n",
       "mpl.figure.prototype.updated_canvas_event = function() {\n",
       "    // Tell IPython that the notebook contents must change.\n",
       "    IPython.notebook.set_dirty(true);\n",
       "    this.send_message(\"ack\", {});\n",
       "    var fig = this;\n",
       "    // Wait a second, then push the new image to the DOM so\n",
       "    // that it is saved nicely (might be nice to debounce this).\n",
       "    setTimeout(function () { fig.push_to_output() }, 1000);\n",
       "}\n",
       "\n",
       "mpl.figure.prototype._init_toolbar = function() {\n",
       "    var fig = this;\n",
       "\n",
       "    var nav_element = $('<div/>')\n",
       "    nav_element.attr('style', 'width: 100%');\n",
       "    this.root.append(nav_element);\n",
       "\n",
       "    // Define a callback function for later on.\n",
       "    function toolbar_event(event) {\n",
       "        return fig.toolbar_button_onclick(event['data']);\n",
       "    }\n",
       "    function toolbar_mouse_event(event) {\n",
       "        return fig.toolbar_button_onmouseover(event['data']);\n",
       "    }\n",
       "\n",
       "    for(var toolbar_ind in mpl.toolbar_items){\n",
       "        var name = mpl.toolbar_items[toolbar_ind][0];\n",
       "        var tooltip = mpl.toolbar_items[toolbar_ind][1];\n",
       "        var image = mpl.toolbar_items[toolbar_ind][2];\n",
       "        var method_name = mpl.toolbar_items[toolbar_ind][3];\n",
       "\n",
       "        if (!name) { continue; };\n",
       "\n",
       "        var button = $('<button class=\"btn btn-default\" href=\"#\" title=\"' + name + '\"><i class=\"fa ' + image + ' fa-lg\"></i></button>');\n",
       "        button.click(method_name, toolbar_event);\n",
       "        button.mouseover(tooltip, toolbar_mouse_event);\n",
       "        nav_element.append(button);\n",
       "    }\n",
       "\n",
       "    // Add the status bar.\n",
       "    var status_bar = $('<span class=\"mpl-message\" style=\"text-align:right; float: right;\"/>');\n",
       "    nav_element.append(status_bar);\n",
       "    this.message = status_bar[0];\n",
       "\n",
       "    // Add the close button to the window.\n",
       "    var buttongrp = $('<div class=\"btn-group inline pull-right\"></div>');\n",
       "    var button = $('<button class=\"btn btn-mini btn-primary\" href=\"#\" title=\"Stop Interaction\"><i class=\"fa fa-power-off icon-remove icon-large\"></i></button>');\n",
       "    button.click(function (evt) { fig.handle_close(fig, {}); } );\n",
       "    button.mouseover('Stop Interaction', toolbar_mouse_event);\n",
       "    buttongrp.append(button);\n",
       "    var titlebar = this.root.find($('.ui-dialog-titlebar'));\n",
       "    titlebar.prepend(buttongrp);\n",
       "}\n",
       "\n",
       "mpl.figure.prototype._root_extra_style = function(el){\n",
       "    var fig = this\n",
       "    el.on(\"remove\", function(){\n",
       "\tfig.close_ws(fig, {});\n",
       "    });\n",
       "}\n",
       "\n",
       "mpl.figure.prototype._canvas_extra_style = function(el){\n",
       "    // this is important to make the div 'focusable\n",
       "    el.attr('tabindex', 0)\n",
       "    // reach out to IPython and tell the keyboard manager to turn it's self\n",
       "    // off when our div gets focus\n",
       "\n",
       "    // location in version 3\n",
       "    if (IPython.notebook.keyboard_manager) {\n",
       "        IPython.notebook.keyboard_manager.register_events(el);\n",
       "    }\n",
       "    else {\n",
       "        // location in version 2\n",
       "        IPython.keyboard_manager.register_events(el);\n",
       "    }\n",
       "\n",
       "}\n",
       "\n",
       "mpl.figure.prototype._key_event_extra = function(event, name) {\n",
       "    var manager = IPython.notebook.keyboard_manager;\n",
       "    if (!manager)\n",
       "        manager = IPython.keyboard_manager;\n",
       "\n",
       "    // Check for shift+enter\n",
       "    if (event.shiftKey && event.which == 13) {\n",
       "        this.canvas_div.blur();\n",
       "        // select the cell after this one\n",
       "        var index = IPython.notebook.find_cell_index(this.cell_info[0]);\n",
       "        IPython.notebook.select(index + 1);\n",
       "    }\n",
       "}\n",
       "\n",
       "mpl.figure.prototype.handle_save = function(fig, msg) {\n",
       "    fig.ondownload(fig, null);\n",
       "}\n",
       "\n",
       "\n",
       "mpl.find_output_cell = function(html_output) {\n",
       "    // Return the cell and output element which can be found *uniquely* in the notebook.\n",
       "    // Note - this is a bit hacky, but it is done because the \"notebook_saving.Notebook\"\n",
       "    // IPython event is triggered only after the cells have been serialised, which for\n",
       "    // our purposes (turning an active figure into a static one), is too late.\n",
       "    var cells = IPython.notebook.get_cells();\n",
       "    var ncells = cells.length;\n",
       "    for (var i=0; i<ncells; i++) {\n",
       "        var cell = cells[i];\n",
       "        if (cell.cell_type === 'code'){\n",
       "            for (var j=0; j<cell.output_area.outputs.length; j++) {\n",
       "                var data = cell.output_area.outputs[j];\n",
       "                if (data.data) {\n",
       "                    // IPython >= 3 moved mimebundle to data attribute of output\n",
       "                    data = data.data;\n",
       "                }\n",
       "                if (data['text/html'] == html_output) {\n",
       "                    return [cell, data, j];\n",
       "                }\n",
       "            }\n",
       "        }\n",
       "    }\n",
       "}\n",
       "\n",
       "// Register the function which deals with the matplotlib target/channel.\n",
       "// The kernel may be null if the page has been refreshed.\n",
       "if (IPython.notebook.kernel != null) {\n",
       "    IPython.notebook.kernel.comm_manager.register_target('matplotlib', mpl.mpl_figure_comm);\n",
       "}\n"
      ],
      "text/plain": [
       "<IPython.core.display.Javascript object>"
      ]
     },
     "metadata": {},
     "output_type": "display_data"
    },
    {
     "data": {
      "text/html": [
       "<img src=\"data:image/png;base64,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\" width=\"900\">"
      ],
      "text/plain": [
       "<IPython.core.display.HTML object>"
      ]
     },
     "metadata": {},
     "output_type": "display_data"
    }
   ],
   "source": [
    "#from mpl_toolkits.mplot3d import Axes3D\n",
    "#fig = plt.figure()\n",
    "#ax = Axes3D(fig)\n",
    "vis = np.load(top_dir + 'data/analysis/tsne_vis/Wstda-30_tsne_p30.npy')\n",
    "plt.scatter(vis[:, 0], vis[:, 1], s=25, alpha=.9, c=group, cmap=plt.get_cmap('nipy_spectral', 12));\n",
    "plt.colorbar(ticks=list(range(0, 12)));"
   ]
  },
  {
   "cell_type": "code",
   "execution_count": 341,
   "metadata": {
    "collapsed": true
   },
   "outputs": [],
   "source": [
    "g = O()"
   ]
  },
  {
   "cell_type": "code",
   "execution_count": 342,
   "metadata": {
    "collapsed": true
   },
   "outputs": [],
   "source": [
    "vis = np.load(top_dir + 'data/analysis/tsne_vis/Wmstda-28_tsne_p30.npy')\n",
    "g.twb4 = (vis[:, 0] > -64) & (vis[:, 0] < -56) & (vis[:, 1] > -6) & (vis[:, 1] < 0)\n",
    "g.twa4 = (vis[:, 0] > -50) & (vis[:, 0] < -35) & (vis[:, 1] > -6) & (vis[:, 1] < 5)"
   ]
  },
  {
   "cell_type": "code",
   "execution_count": 343,
   "metadata": {
    "collapsed": true
   },
   "outputs": [],
   "source": [
    "vis = np.load(top_dir + 'data/analysis/tsne_vis/Wmstda-21_tsne_p17_try2.npy')\n",
    "g.sml3 = (vis[:, 0] > -55) & (vis[:, 0] < -40) & (vis[:, 1] > 40) & (vis[:, 1] < 55)\n",
    "g.sml3x = (vis[:, 0] > -25) & (vis[:, 0] < -10) & (vis[:, 1] > 55) & (vis[:, 1] < 70)\n",
    "g.big1 = (vis[:, 0] > 0) & (vis[:, 0] < 30) & (vis[:, 1] > 50) & (vis[:, 1] < 75)\n",
    "g.tny1 = (vis[:, 0] > 11) & (vis[:, 0] < 16) & (vis[:, 1] > 44) & (vis[:, 1] < 47)"
   ]
  },
  {
   "cell_type": "code",
   "execution_count": 344,
   "metadata": {
    "collapsed": true
   },
   "outputs": [],
   "source": [
    "vis = np.load(top_dir + 'data/analysis/tsne_vis/Wmstda-21_tsne_p17.npy')\n",
    "g.sml2 = (vis[:, 0] > -86) & (vis[:, 0] < -78) & (vis[:, 1] > -4) & (vis[:, 1] < 4)\n",
    "g.tny24 = (vis[:, 0] > -50) & (vis[:, 0] < -48) & (vis[:, 1] > -54) & (vis[:, 1] < -52)\n",
    "g.big2 = (vis[:, 0] > -80) & (vis[:, 0] < -45) & (vis[:, 1] > -50) & (vis[:, 1] < 0)"
   ]
  },
  {
   "cell_type": "code",
   "execution_count": 345,
   "metadata": {
    "collapsed": true
   },
   "outputs": [],
   "source": [
    "vis = np.load(top_dir + 'data/analysis/tsne_vis/Wmstda-22_tsne_p18_try1.npy')\n",
    "g.big3 = (vis[:, 0] > -60) & (vis[:, 0] < -7) & (vis[:, 1] > -50) & (vis[:, 1] < 20)"
   ]
  },
  {
   "cell_type": "code",
   "execution_count": 346,
   "metadata": {
    "collapsed": true
   },
   "outputs": [],
   "source": [
    "try:\n",
    "    g.tny2 = g.tny24\n",
    "    del g.tny24\n",
    "except (KeyError, AttributeError):\n",
    "    pass\n",
    "G = pd.DataFrame(dict(**g), index=W.columns)\n",
    "G.tny2 &= (market == 2)"
   ]
  },
  {
   "cell_type": "code",
   "execution_count": 347,
   "metadata": {
    "collapsed": true
   },
   "outputs": [],
   "source": [
    "try:\n",
    "    del G['rst']\n",
    "except KeyError:\n",
    "    pass\n",
    "rst = ~reduce(lambda x, y: x | y, G.values.T)\n",
    "G['rst'] = rst"
   ]
  },
  {
   "cell_type": "code",
   "execution_count": 348,
   "metadata": {},
   "outputs": [
    {
     "data": {
      "text/plain": [
       "1019"
      ]
     },
     "execution_count": 348,
     "metadata": {},
     "output_type": "execute_result"
    }
   ],
   "source": [
    "G.rst.sum()"
   ]
  },
  {
   "cell_type": "code",
   "execution_count": 349,
   "metadata": {
    "collapsed": true
   },
   "outputs": [],
   "source": [
    "G.to_hdf(top_dir + 'data/analysis/G0.hdf5', key='G')"
   ]
  },
  {
   "cell_type": "code",
   "execution_count": 350,
   "metadata": {
    "collapsed": true
   },
   "outputs": [],
   "source": [
    "vis = np.load(top_dir + 'data/analysis/tsne_vis/Wmstda-28_tsne_p30.npy')\n",
    "# excluded odd one out in big3\n",
    "sel = (vis[:, 0] > 18) & (vis[:, 0] < 22) & (vis[:, 1] > 36) & (vis[:, 1] < 40)\n",
    "G.big3 |= sel\n",
    "# excluded odd one out in big2\n",
    "sel = (vis[:, 0] > 18) & (vis[:, 0] < 22) & (vis[:, 1] > -18) & (vis[:, 1] < -16)\n",
    "G.big2 |= sel\n",
    "# another singled out pair(!) of guys in 1's island\n",
    "sel = (vis[:, 0] > 42) & (vis[:, 0] < 44) & (vis[:, 1] > 0) & (vis[:, 1] < 5)\n",
    "G.tny1 |= sel\n",
    "# the smaller of the two \"other\" parts\n",
    "box0 = (vis[:, 0] > -10) & (vis[:, 0] < 20) & (vis[:, 1] > -50) & (vis[:, 1] < -30)\n",
    "box1 = (vis[:, 0] > -15) & (vis[:, 0] < 15) & (vis[:, 1] > -75) & (vis[:, 1] < -50)\n",
    "try:\n",
    "    del G['rst']\n",
    "except KeyError:\n",
    "    pass\n",
    "G['ltl'] = box0 | box1\n",
    "G['lrg'] = ~reduce(lambda x, y: x | y, G.values.T)"
   ]
  },
  {
   "cell_type": "code",
   "execution_count": 352,
   "metadata": {
    "collapsed": true
   },
   "outputs": [],
   "source": [
    "#G.to_hdf(top_dir + 'data/analysis/G1.hdf5', key='G')\n",
    "G = pd.read_hdf(top_dir + 'data/analysis/G1.hdf5')"
   ]
  },
  {
   "cell_type": "code",
   "execution_count": 319,
   "metadata": {
    "collapsed": true
   },
   "outputs": [],
   "source": [
    "Gnum = G.astype(int)\n",
    "for i, c in enumerate(Gnum.values.T):\n",
    "    c *= i\n",
    "group = Gnum.T.sum().T\n",
    "group.to_hdf(top_dir + 'data/analysis/group1.hdf5', key='group')"
   ]
  },
  {
   "cell_type": "code",
   "execution_count": 353,
   "metadata": {
    "collapsed": true
   },
   "outputs": [],
   "source": [
    "tny2 = G.tny2\n",
    "del G['tny2']\n",
    "G.big2 |= tny2"
   ]
  },
  {
   "cell_type": "code",
   "execution_count": null,
   "metadata": {
    "collapsed": true
   },
   "outputs": [],
   "source": []
  },
  {
   "cell_type": "code",
   "execution_count": null,
   "metadata": {
    "collapsed": true
   },
   "outputs": [],
   "source": []
  },
  {
   "cell_type": "code",
   "execution_count": null,
   "metadata": {
    "collapsed": true
   },
   "outputs": [],
   "source": []
  },
  {
   "cell_type": "code",
   "execution_count": null,
   "metadata": {
    "collapsed": true
   },
   "outputs": [],
   "source": []
  },
  {
   "cell_type": "code",
   "execution_count": null,
   "metadata": {
    "collapsed": true
   },
   "outputs": [],
   "source": []
  },
  {
   "cell_type": "code",
   "execution_count": 49,
   "metadata": {
    "collapsed": true
   },
   "outputs": [],
   "source": [
    "np.save(top_dir + 'data/analysis/tsne_vis/Wmstda-21_tsne_p17_try2', vis)"
   ]
  },
  {
   "cell_type": "code",
   "execution_count": null,
   "metadata": {
    "collapsed": true
   },
   "outputs": [],
   "source": [
    "'''# How to do ZCA using sklearn's PCA\n",
    "# c.f. Michael Eickenberg on Google https://groups.google.com/forum/#!topic/theano-users/_63ggUdWeEI\n",
    "pca = PCA(whiten=True)\n",
    "transformed = pca.fit_transform(data)\n",
    "pca.whiten = False\n",
    "zca = pca.inverse_transform(transformed)\n",
    "'''"
   ]
  },
  {
   "cell_type": "code",
   "execution_count": 116,
   "metadata": {},
   "outputs": [
    {
     "ename": "TypeError",
     "evalue": "__init__() got an unexpected keyword argument 'whiten'",
     "output_type": "error",
     "traceback": [
      "\u001b[0;31m---------------------------------------------------------------------------\u001b[0m",
      "\u001b[0;31mTypeError\u001b[0m                                 Traceback (most recent call last)",
      "\u001b[0;32m<ipython-input-116-9d06a72748b9>\u001b[0m in \u001b[0;36m<module>\u001b[0;34m()\u001b[0m\n\u001b[1;32m      1\u001b[0m \u001b[0mtheY\u001b[0m\u001b[0;34m,\u001b[0m \u001b[0mtheW\u001b[0m \u001b[0;34m=\u001b[0m \u001b[0;34m(\u001b[0m\u001b[0mY\u001b[0m \u001b[0;34m-\u001b[0m \u001b[0mY\u001b[0m\u001b[0;34m.\u001b[0m\u001b[0mmean\u001b[0m\u001b[0;34m(\u001b[0m\u001b[0;34m)\u001b[0m\u001b[0;34m)\u001b[0m\u001b[0;34m.\u001b[0m\u001b[0mfillna\u001b[0m\u001b[0;34m(\u001b[0m\u001b[0;36m0\u001b[0m\u001b[0;34m)\u001b[0m\u001b[0;34m.\u001b[0m\u001b[0mT\u001b[0m\u001b[0;34m,\u001b[0m \u001b[0mW\u001b[0m\u001b[0;34m.\u001b[0m\u001b[0mfillna\u001b[0m\u001b[0;34m(\u001b[0m\u001b[0;36m0\u001b[0m\u001b[0;34m)\u001b[0m\u001b[0;34m.\u001b[0m\u001b[0mT\u001b[0m\u001b[0;34m\u001b[0m\u001b[0m\n\u001b[0;32m----> 2\u001b[0;31m \u001b[0mf\u001b[0m \u001b[0;34m=\u001b[0m \u001b[0mWPCA\u001b[0m\u001b[0;34m(\u001b[0m\u001b[0mtheY\u001b[0m\u001b[0;34m.\u001b[0m\u001b[0mshape\u001b[0m\u001b[0;34m[\u001b[0m\u001b[0;36m0\u001b[0m\u001b[0;34m]\u001b[0m\u001b[0;34m,\u001b[0m \u001b[0mwhiten\u001b[0m\u001b[0;34m=\u001b[0m\u001b[0;32mTrue\u001b[0m\u001b[0;34m)\u001b[0m\u001b[0;34m\u001b[0m\u001b[0m\n\u001b[0m\u001b[1;32m      3\u001b[0m \u001b[0mYf\u001b[0m \u001b[0;34m=\u001b[0m \u001b[0mf\u001b[0m\u001b[0;34m.\u001b[0m\u001b[0mfit_transform\u001b[0m\u001b[0;34m(\u001b[0m\u001b[0mtheY\u001b[0m\u001b[0;34m,\u001b[0m \u001b[0mweights\u001b[0m\u001b[0;34m=\u001b[0m\u001b[0mtheW\u001b[0m\u001b[0;34m)\u001b[0m\u001b[0;34m\u001b[0m\u001b[0m\n\u001b[1;32m      4\u001b[0m \u001b[0mf\u001b[0m\u001b[0;34m.\u001b[0m\u001b[0mwhiten\u001b[0m\u001b[0;34m=\u001b[0m\u001b[0;32mFalse\u001b[0m\u001b[0;34m\u001b[0m\u001b[0m\n\u001b[1;32m      5\u001b[0m \u001b[0mYwhiten\u001b[0m \u001b[0;34m=\u001b[0m \u001b[0mf\u001b[0m\u001b[0;34m.\u001b[0m\u001b[0minverse_transform\u001b[0m\u001b[0;34m(\u001b[0m\u001b[0mYf\u001b[0m\u001b[0;34m)\u001b[0m\u001b[0;34m\u001b[0m\u001b[0m\n",
      "\u001b[0;31mTypeError\u001b[0m: __init__() got an unexpected keyword argument 'whiten'"
     ]
    }
   ],
   "source": [
    "theY, theW = (Y - Y.mean()).fillna(0).T, W.fillna(0).T\n",
    "f = skPCA(theY.shape[0], whiten=True)\n",
    "Yf = f.fit_transform(theY, weights=theW)\n",
    "f.whiten=False\n",
    "Ywhiten = f.inverse_transform(Yf)"
   ]
  },
  {
   "cell_type": "code",
   "execution_count": null,
   "metadata": {
    "collapsed": true
   },
   "outputs": [],
   "source": []
  },
  {
   "cell_type": "code",
   "execution_count": null,
   "metadata": {
    "collapsed": true
   },
   "outputs": [],
   "source": []
  },
  {
   "cell_type": "code",
   "execution_count": null,
   "metadata": {
    "collapsed": true
   },
   "outputs": [],
   "source": []
  },
  {
   "cell_type": "code",
   "execution_count": null,
   "metadata": {
    "collapsed": true
   },
   "outputs": [],
   "source": [
    "# outliers when I didn't remove stocks with not enough valid dates"
   ]
  },
  {
   "cell_type": "code",
   "execution_count": 201,
   "metadata": {
    "collapsed": true
   },
   "outputs": [
    {
     "data": {
      "image/png": "[encoded data removed]",
      "text/plain": [
       "<matplotlib.figure.Figure at 0x7fe4481f0048>"
      ]
     },
     "metadata": {},
     "output_type": "display_data"
    }
   ],
   "source": [
    "h = plt.scatter(Yf[:, 0], Yf[:, 1], s=5)"
   ]
  },
  {
   "cell_type": "code",
   "execution_count": 213,
   "metadata": {},
   "outputs": [
    {
     "data": {
      "text/plain": [
       "(array([257]), array([256]), array([253]), array([127]))"
      ]
     },
     "execution_count": 213,
     "metadata": {},
     "output_type": "execute_result"
    }
   ],
   "source": [
    "(\n",
    "    (Yf[:, 0] > 30).nonzero() +\n",
    "    (Yf[:, 0] < -15).nonzero() +\n",
    "    (Yf[:, 1] < -30).nonzero() +\n",
    "    (Yf[:, 1] > 10).nonzero() +\n",
    "())"
   ]
  }
 ],
 "metadata": {
  "kernelspec": {
   "display_name": "Python 3",
   "language": "python",
   "name": "python3"
  },
  "language_info": {
   "codemirror_mode": {
    "name": "ipython",
    "version": 3
   },
   "file_extension": ".py",
   "mimetype": "text/x-python",
   "name": "python",
   "nbconvert_exporter": "python",
   "pygments_lexer": "ipython3",
   "version": "3.6.2"
  }
 },
 "nbformat": 4,
 "nbformat_minor": 2
}
