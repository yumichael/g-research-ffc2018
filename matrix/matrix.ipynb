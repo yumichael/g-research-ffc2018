{
 "cells": [
  {
   "cell_type": "code",
   "execution_count": 1,
   "metadata": {
    "collapsed": true
   },
   "outputs": [],
   "source": [
    "from common import *"
   ]
  },
  {
   "cell_type": "code",
   "execution_count": null,
   "metadata": {
    "collapsed": true
   },
   "outputs": [],
   "source": [
    "from wpca import PCA as PCA_, WPCA, EMPCA\n",
    "from sklearn.decomposition import (\n",
    "    PCA, FastICA,FactorAnalysis as FA, KernelPCA, SparsePCA, MiniBatchSparsePCA as MBSparsePCA\n",
    ")\n",
    "from sklearn.preprocessing import QuantileTransformer as QT"
   ]
  },
  {
   "cell_type": "code",
   "execution_count": null,
   "metadata": {
    "collapsed": true
   },
   "outputs": [],
   "source": [
    "def the_complete_submatrix(df):\n",
    "    '''Uses (the) `df` to construct `ff`, which is the \"canonical\" complete submatrix of `df` in long form'''\n",
    "    filt = day_filter(df, 246)\n",
    "    valid = filt.pivot('Day', 'Stock', 'Count')\n",
    "    thedays = set(valid.T.sum().pipe(lambda x: x[x >= 1955]).index)\n",
    "    _thestocks = filt[filt.Day.isin(thedays)].groupby('Day').Stock.agg(lambda x: set(x))\n",
    "    thestocks = np.bitwise_and.reduce(_thestocks.values)\n",
    "    return filt[filt.Day.isin(thedays) & filt.Stock.isin(thestocks)]\n",
    "    \n",
    "ff = the_complete_submatrix(df)"
   ]
  },
  {
   "cell_type": "code",
   "execution_count": null,
   "metadata": {
    "collapsed": true
   },
   "outputs": [],
   "source": [
    "def def_matrices(namespace, data, y=1, x=True):\n",
    "    '''Params - namespace: e.g. `globals()`, data: `df` or sub-DataFrame of it\n",
    "    Put convenience matrix variables into `namespace`'''\n",
    "    #global table, market, Y, Ynnorm, W, ywmean, ywvar, Ywnorm\n",
    "    if y:\n",
    "        class var_map(O()):\n",
    "            table = data\n",
    "            market = data.groupby('Stock').Market.nth(0)\n",
    "            Y = data.pivot('Day', 'Stock', 'y') * y\n",
    "            Ya = Y.fillna(0)\n",
    "            Ynnorm = (Y - Y.mean()) / Y.std(ddof=1)\n",
    "            Ynnorma = Ynnorm.fillna(0)\n",
    "            W = data.pivot('Day', 'Stock', 'w')\n",
    "            Wa = W.fillna(0)\n",
    "            ywmean = (Y * W).sum() / W.sum()\n",
    "            ywvar = (W * (Y - ywmean) ** 2).sum() / (W.sum() - W.mean())\n",
    "            Ywnorm = (Y - ywmean) / np.sqrt(ywvar)\n",
    "            Ywnorma = Ywnorm.fillna(0)\n",
    "        dict.update(namespace, **var_map)\n",
    "    if x:\n",
    "        pass"
   ]
  },
  {
   "cell_type": "code",
   "execution_count": null,
   "metadata": {
    "collapsed": true
   },
   "outputs": [],
   "source": [
    "def def_qtnormed(namespace, var_name, dist='uniform normal'):\n",
    "    '''Params - namespace: e.g. `globals()`, var_name: `str` where matrix is stored in `namespace`, dist: 'uniform'|'normal'\n",
    "    Put quantile transformed versions of matrix at `var_name` into `namespace`.\n",
    "    The variable name suffixes are ~cnorm, ~crnorm, ~rnorm, ~'''\n",
    "    Y = namespace[var_name]\n",
    "    if 'uniform' in dist:\n",
    "        suf = 'unif'\n",
    "        trans = QT(output_distribution='uniform')\n",
    "        namespace[var_name + 'c' + suf] = Ycnorm = Y * 0 + trans.fit_transform(Y)\n",
    "        namespace[var_name + 'cr' + suf] = Ycrnorm = (Ycnorm.T * 0 + trans.fit_transform(Ycnorm.T)).T\n",
    "        namespace[var_name + 'r' + suf] = Yrnorm = (Y.T * 0 + trans.fit_transform(Y.T)).T\n",
    "        namespace[var_name + 'rc' + suf] = Yrcnorm = Yrnorm.T * 0 + trans.fit_transform(Yrnorm.T)\n",
    "    if 'normal' in dist:\n",
    "        suf = 'norm'\n",
    "        trans = QT(output_distribution='normal')\n",
    "        namespace[var_name + 'c' + suf] = Ycnorm = Y * 0 + trans.fit_transform(Y)\n",
    "        namespace[var_name + 'cr' + suf] = Ycrnorm = (Ycnorm.T * 0 + trans.fit_transform(Ycnorm.T)).T\n",
    "        namespace[var_name + 'r' + suf] = Yrnorm = (Y.T * 0 + trans.fit_transform(Y.T)).T\n",
    "        namespace[var_name + 'rc' + suf] = Yrcnorm = Yrnorm.T * 0 + trans.fit_transform(Yrnorm.T)"
   ]
  }
 ],
 "metadata": {
  "kernelspec": {
   "display_name": "Python 3",
   "language": "python",
   "name": "python3"
  },
  "language_info": {
   "codemirror_mode": {
    "name": "ipython",
    "version": 3
   },
   "file_extension": ".py",
   "mimetype": "text/x-python",
   "name": "python",
   "nbconvert_exporter": "python",
   "pygments_lexer": "ipython3",
   "version": "3.6.2"
  }
 },
 "nbformat": 4,
 "nbformat_minor": 2
}
