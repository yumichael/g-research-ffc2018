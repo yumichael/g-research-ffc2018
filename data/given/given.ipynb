{
 "cells": [
  {
   "cell_type": "code",
   "execution_count": 1,
   "metadata": {
    "collapsed": true
   },
   "outputs": [],
   "source": [
    "from common import *"
   ]
  },
  {
   "cell_type": "code",
   "execution_count": null,
   "metadata": {
    "collapsed": true
   },
   "outputs": [],
   "source": [
    "import pandas as pd\n",
    "N_TRAIN, N_TEST = 623817, 640430"
   ]
  },
  {
   "cell_type": "code",
   "execution_count": 3,
   "metadata": {
    "collapsed": true
   },
   "outputs": [],
   "source": [
    "# generate hdf5 from original files\n",
    "if __name__ == '__main__':\n",
    "    from decimal import Decimal\n",
    "    df = pd.read_csv('train.csv', index_col=0, dtype={'y': str})\n",
    "    df.index = df.index - N_TRAIN\n",
    "    df.y = (df.y.map(Decimal) * 10000).astype(float)\n",
    "    df.to_hdf(top_dir + '/data/given/train.hdf5', mode='w', key='df')\n",
    "    dg = pd.read_csv('test.csv', index_col=0)\n",
    "    dg.to_hdf(top_dir + '/data/given/test.hdf5', mode='w', key='dg')"
   ]
  },
  {
   "cell_type": "code",
   "execution_count": null,
   "metadata": {
    "collapsed": true
   },
   "outputs": [],
   "source": [
    "try:\n",
    "    df = pd.read_hdf(top_dir + 'data/given/train.hdf5')\n",
    "    dg = pd.read_hdf(top_dir + 'data/given/test.hdf5')\n",
    "except FileNotFoundError:\n",
    "    if __name__ != '__main__':\n",
    "        raise\n",
    "    df = pd.read_csv(top_dir + 'data/given/train.csv', index_col=0)\n",
    "    df.index = df.index - N_TRAIN\n",
    "    df.y *= 10000\n",
    "    dg = pd.read_csv(top_dir + 'data/given/test.csv', index_col=0)\n",
    "dh = pd.concat([df, dg])\n",
    "dh['x3'] = dh['x3A x3B x3C x3D x3E'.split()].mean(axis=1)\n",
    "dh['x3l'] = dh['x3A x3B x3C x3D x3E'.split()].pipe(np.log).mean(axis=1).pipe(np.exp)\n",
    "dh['wy'] = dh.Weight * dh.y\n",
    "dh['Index'] = dh.index\n",
    "dh['Count'] = 1\n",
    "df, dg = dh.loc[:-1], dh.loc[0:]"
   ]
  },
  {
   "cell_type": "code",
   "execution_count": null,
   "metadata": {
    "collapsed": true
   },
   "outputs": [],
   "source": [
    "def make_stock_wide(long):\n",
    "    orig_index, orig_type = long.index, type(long)\n",
    "    ref = dh.loc[long.index]\n",
    "    try:\n",
    "        long.index = pd.MultiIndex.from_arrays([ref.Day, ref.Stock])\n",
    "        wide = long.unstack() # unstacked level is autosorted\n",
    "        # # changed my mind, no swapping levels for columns to save time/space\n",
    "        #if issubclass(orig_type, pd.DataFrame):\n",
    "        #    wide = wide.swaplevel(axis=1)\n",
    "    finally:\n",
    "        long.index = orig_index\n",
    "    return wide\n",
    "makesw = make_stock_wide"
   ]
  },
  {
   "cell_type": "code",
   "execution_count": 13,
   "metadata": {
    "collapsed": true
   },
   "outputs": [],
   "source": [
    "def index_n_valid_days_filter(dh, n_valid):\n",
    "    return dh.groupby('Stock').y.transform(lambda x: x.count() >= n_valid).rename('Valid')\n",
    "index_nvdf = index_n_valid_days_filter\n",
    "\n",
    "def stock_n_valid_days_filter(dh, n_valid):\n",
    "    return dh.groupby('Stock').y.agg(lambda x: x.count() >= n_valid).rename('Valid')\n",
    "stock_nvdf = stock_n_valid_days_filter\n",
    "\n",
    "def day_filter(df, n_valid, stock='Stock'):\n",
    "    '''Params - df: `DataFrame` with a 'Stock' and 'y' column,\n",
    "                n_valid: minimum number of valid entries to keep a stock,\n",
    "                stock: just 'Stock', or the `Series` containing the groupby value\n",
    "    Filters `df` for only stock entries that mean minimum `n_valid` observations in the `y` variable'''\n",
    "    return df.groupby('Stock').filter(lambda x: x.y.count() >= n_valid)\n",
    "\n",
    "dff = day_filter(df, 246)\n",
    "dhh = day_filter(dh, 1)\n",
    "dhf = day_filter(dh, 246)"
   ]
  },
  {
   "cell_type": "code",
   "execution_count": 64,
   "metadata": {},
   "outputs": [
    {
     "name": "stdout",
     "output_type": "stream",
     "text": [
      "-623817\n",
      "{1917}\n",
      "{43289}\n"
     ]
    }
   ],
   "source": [
    "if __name__ == '__main__':\n",
    "    print(dh.index[0])\n",
    "    print(set(df.Stock.unique()) ^ set(range(3023)))\n",
    "    print(set(dh.index) - set(dhh.index))\n",
    "dfh = dh.loc[list(range(dh.index[0], 0)) + [43289]]\n",
    "dfh.index = list(dfh.index[:-1]) + [-623818]\n",
    "dfh.sort_index(inplace=True)\n",
    "dfh.iloc[0, 0] = -1\n",
    "dfh.iloc[0, 1] = 1\n",
    "dfh.iloc[0, 2] = 1917\n",
    "for j in range(4, 15):\n",
    "    dfh.iloc[0, j] = np.nan\n",
    "dfh.iloc[0, 17] = -623818\n",
    "dfh.iloc[0, 18] = 0"
   ]
  },
  {
   "cell_type": "code",
   "execution_count": 5,
   "metadata": {
    "collapsed": true
   },
   "outputs": [],
   "source": [
    "N_TRAIN, N_TEST = len(df), len(dg) # should be 623817, 640430\n",
    "N_STOCK = dh.Stock.nunique() # should be 3023"
   ]
  },
  {
   "cell_type": "code",
   "execution_count": 6,
   "metadata": {
    "collapsed": true
   },
   "outputs": [],
   "source": [
    "xfeats = 'x0 x1 x2 x3A x3B x3C x3D x3E x4 x5 x6'.split()\n",
    "x_feats = 'x0 x1 x2 x3 x4 x5 x6'.split()\n",
    "x3feats = 'x3A x3B x3C x3D x3E'.split()\n",
    "idfeats = 'Market Stock'.split()"
   ]
  },
  {
   "cell_type": "markdown",
   "metadata": {},
   "source": [
    "### Matrix stuff"
   ]
  },
  {
   "cell_type": "code",
   "execution_count": null,
   "metadata": {
    "collapsed": true
   },
   "outputs": [],
   "source": [
    "def def_WY(namespace, dh):\n",
    "    '''Params - namespace: e.g. `globals()`, dh: `dh` or sub-DataFrame of it (`dh` itself is recommended)\n",
    "    Put convenience matrix variables into `namespace`'''\n",
    "    class var_map(O()):\n",
    "        W = dh.Weight.pipe(makesw)\n",
    "        Wnrm = W.pipe(lambda w: w / w.sum())\n",
    "        Wa = W.fillna(0)\n",
    "        Wnrma = Wnrm.fillna(0)\n",
    "        _standardize = lambda X: (X - X.wmean(Wa)) / np.sqrt(X.wvar(Wa))\n",
    "        Y = dh.y.pipe(makesw)\n",
    "        Ystd = Y.pipe(_standardize)\n",
    "        Ya = Y.fillna(0)\n",
    "        Ystda = Ystd.fillna(0)\n",
    "        _demean = lambda x: x - x.wmean(Wa)\n",
    "    dict.update(namespace, **var_map)\n",
    "    "
   ]
  },
  {
   "cell_type": "code",
   "execution_count": null,
   "metadata": {
    "collapsed": true
   },
   "outputs": [],
   "source": [
    "def def_WY(dh):\n",
    "    pass"
   ]
  }
 ],
 "metadata": {
  "kernelspec": {
   "display_name": "Python 3",
   "language": "python",
   "name": "python3"
  },
  "language_info": {
   "codemirror_mode": {
    "name": "ipython",
    "version": 3
   },
   "file_extension": ".py",
   "mimetype": "text/x-python",
   "name": "python",
   "nbconvert_exporter": "python",
   "pygments_lexer": "ipython3",
   "version": "3.6.2"
  }
 },
 "nbformat": 4,
 "nbformat_minor": 2
}
