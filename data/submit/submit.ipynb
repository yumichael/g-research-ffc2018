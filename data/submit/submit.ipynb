{
 "cells": [
  {
   "cell_type": "code",
   "execution_count": 1,
   "metadata": {
    "collapsed": true
   },
   "outputs": [],
   "source": [
    "from common import *"
   ]
  },
  {
   "cell_type": "code",
   "execution_count": 2,
   "metadata": {
    "collapsed": true
   },
   "outputs": [],
   "source": [
    "def submit(y_, name):\n",
    "    from pathlib import Path\n",
    "    from decimal import Decimal\n",
    "    '''Params - y_: 1-D `ndarray` of the final actual values to submit, name: `str` of the file name\n",
    "    Saves `y_` in the given name csv file in data/submit. If `y_` is a `Series`, the index must be the desired index.'''\n",
    "    ypred = (pd.Series(y_).rename('y').astype(str).map(Decimal) / 10000).astype(str)\n",
    "    ypred.index.name = 'Index'\n",
    "    path = Path(top_dir + 'data/submit/' + name + '.csv')\n",
    "    assert not path.is_file(), 'Please manually delete old submission with the same name first'\n",
    "    ypred.to_csv(path, header=True)"
   ]
  },
  {
   "cell_type": "code",
   "execution_count": 9,
   "metadata": {},
   "outputs": [],
   "source": [
    "if __name__ == '__main__':\n",
    "    zero = np.zeros(len(dg.index))\n",
    "    submit(zero, 'zero')\n",
    "    stock_mean = dg.Stock.map(df.groupby('Stock').y.mean()).fillna(0)\n",
    "    submit(stock_mean, 'stock_mean')"
   ]
  }
 ],
 "metadata": {
  "kernelspec": {
   "display_name": "Python 3",
   "language": "python",
   "name": "python3"
  },
  "language_info": {
   "codemirror_mode": {
    "name": "ipython",
    "version": 3
   },
   "file_extension": ".py",
   "mimetype": "text/x-python",
   "name": "python",
   "nbconvert_exporter": "python",
   "pygments_lexer": "ipython3",
   "version": "3.6.2"
  }
 },
 "nbformat": 4,
 "nbformat_minor": 2
}
