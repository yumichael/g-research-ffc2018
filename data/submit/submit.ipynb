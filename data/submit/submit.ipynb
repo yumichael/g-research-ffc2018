{
 "cells": [
  {
   "cell_type": "code",
   "execution_count": 1,
   "metadata": {},
   "outputs": [
    {
     "name": "stderr",
     "output_type": "stream",
     "text": [
      "/home/ec2-user/anaconda3/lib/python3.6/site-packages/pandas/core/common.py:701: RuntimeWarning: divide by zero encountered in log\n",
      "  return func(obj, *args, **kwargs)\n"
     ]
    }
   ],
   "source": [
    "from common import *\n",
    "from decimal import Decimal\n",
    "from pathlib import Path"
   ]
  },
  {
   "cell_type": "code",
   "execution_count": null,
   "metadata": {
    "collapsed": true
   },
   "outputs": [],
   "source": [
    "# dg.y.makesw().shape ==> (258, 3017)"
   ]
  },
  {
   "cell_type": "code",
   "execution_count": 2,
   "metadata": {
    "collapsed": true
   },
   "outputs": [],
   "source": [
    "def submit(y_, name):\n",
    "    '''Params - y_: 1-D `ndarray` of the final actual values to submit, name: `str` of the file name\n",
    "    Saves `y_` in the given name csv file in data/submit. If `y_` is a `Series`, the index must be the desired index.'''\n",
    "    if isinstance(y_, pd.DataFrame) and y_.index.name == 'Day':\n",
    "        assert columns.name == 'Stock'\n",
    "        y_ = y_.loc[y_.index.isin(set(dg.Day.unique())), dg.y.makesw().columns]\n",
    "        y_.sort_index(axis=0, inplace=True)\n",
    "        y_.sort_index(axis=1, inplace=True)\n",
    "        y_ = y_.makeil_like(dg)\n",
    "    elif isinstance(y_, pd.DataFrame) or isinstance(y_, pd.Series):\n",
    "        assert y_.index.name == 'Index'\n",
    "        y_ = y_.loc[dg.index]\n",
    "    assert y_.shape == dg.y.shape\n",
    "    assert y_.dtype == np.float64 or y_.dtype == np.float32\n",
    "    ypred = (pd.Series(y_).rename('y').astype(str).map(Decimal) / 10000).astype(str)\n",
    "    ypred.index.name = 'Index'\n",
    "    path = Path(top_dir + 'data/submit/' + name + '.csv')\n",
    "    assert not path.is_file(), 'Please manually delete old submission with the same name first'\n",
    "    ypred.to_csv(path, header=True)"
   ]
  },
  {
   "cell_type": "code",
   "execution_count": null,
   "metadata": {
    "collapsed": true
   },
   "outputs": [],
   "source": [
    "# generate hdf5 from original files\n",
    "if __name__ == '__main__':\n",
    "    from decimal import Decimal\n",
    "    df = pd.read_csv('train.csv', index_col=0, dtype={'y': str})\n",
    "    df.index = df.index - N_TRAIN\n",
    "    df.y = (df.y.map(Decimal) * 10000).astype(float)\n",
    "    df.columns.values[-1] = 'w'\n",
    "    df.to_hdf(top_dir + '/data/given/train.hdf5', mode='w', key='df')\n",
    "    dg = pd.read_csv('test.csv', index_col=0)\n",
    "    dg.to_hdf(top_dir + '/data/given/test.hdf5', mode='w', key='dg')"
   ]
  },
  {
   "cell_type": "code",
   "execution_count": null,
   "metadata": {
    "collapsed": true
   },
   "outputs": [],
   "source": [
    "def submission(name):\n",
    "    sub = pd.read_csv(top_dir + 'data/submit/' + name + '.csv', index_col=0, dtype={'y': str})\n",
    "    sub.y = (sub.y.map(Decimal) * 10000).astype(float)\n",
    "    return sub"
   ]
  },
  {
   "cell_type": "code",
   "execution_count": 9,
   "metadata": {
    "collapsed": true
   },
   "outputs": [],
   "source": [
    "if __name__ == '__main__':\n",
    "    zero = np.zeros(len(dg.index))\n",
    "    submit(zero, 'zero')\n",
    "    stock_mean = dg.Stock.map(df.groupby('Stock').y.mean()).fillna(0)\n",
    "    submit(stock_mean, 'stock_mean')"
   ]
  }
 ],
 "metadata": {
  "kernelspec": {
   "display_name": "Python 3",
   "language": "python",
   "name": "python3"
  },
  "language_info": {
   "codemirror_mode": {
    "name": "ipython",
    "version": 3
   },
   "file_extension": ".py",
   "mimetype": "text/x-python",
   "name": "python",
   "nbconvert_exporter": "python",
   "pygments_lexer": "ipython3",
   "version": "3.6.2"
  }
 },
 "nbformat": 4,
 "nbformat_minor": 2
}
