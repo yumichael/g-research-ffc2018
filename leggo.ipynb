{
 "cells": [
  {
   "cell_type": "code",
   "execution_count": 400,
   "metadata": {},
   "outputs": [
    {
     "name": "stderr",
     "output_type": "stream",
     "text": [
      "C:\\WinPython-64bit-3.6.1.0Qt5\\python-3.6.1.amd64\\lib\\site-packages\\simplejson\\encoder.py:291: DeprecationWarning: Interpreting naive datetime as local 2018-01-30 10:36:52.977475. Please add timezone info to timestamps.\n",
      "  chunks = self.iterencode(o, _one_shot=True)\n"
     ]
    }
   ],
   "source": [
    "%matplotlib inline\n",
    "import numpy as np\n",
    "import pandas as pd\n",
    "import matplotlib.pyplot as plt\n",
    "#import seaborn as sns\n",
    "#import sklearn.linear_model\n",
    "import xgboost as xgb\n",
    "from pytil.object import Namespace as O\n",
    "from pytil.utility import *\n",
    "from helpers import *\n",
    "from pytil.quickvis import canvas\n",
    "\n",
    "ss = slice(None)\n",
    "canvas(16, 2)"
   ]
  },
  {
   "cell_type": "code",
   "execution_count": 346,
   "metadata": {},
   "outputs": [
    {
     "name": "stderr",
     "output_type": "stream",
     "text": [
      "C:\\WinPython-64bit-3.6.1.0Qt5\\python-3.6.1.amd64\\lib\\site-packages\\simplejson\\encoder.py:291: DeprecationWarning: Interpreting naive datetime as local 2018-01-30 09:16:10.254267. Please add timezone info to timestamps.\n",
      "  chunks = self.iterencode(o, _one_shot=True)\n"
     ]
    }
   ],
   "source": [
    "N_TRAIN, N_TEST = 623817, 640430\n",
    "df = pd.read_csv('train.csv', index_col=0)\n",
    "df.index = df.index - N_TRAIN\n",
    "dg = pd.read_csv('test.csv', index_col=0)"
   ]
  },
  {
   "cell_type": "markdown",
   "metadata": {},
   "source": [
    "# Explore"
   ]
  },
  {
   "cell_type": "code",
   "execution_count": null,
   "metadata": {
    "collapsed": true
   },
   "outputs": [],
   "source": [
    "xfeats = 'x0 x1 x2 x3A x3B x3C x3D x3E x4 x5 x6'.split()"
   ]
  },
  {
   "cell_type": "code",
   "execution_count": 292,
   "metadata": {
    "collapsed": true
   },
   "outputs": [
    {
     "name": "stderr",
     "output_type": "stream",
     "text": [
      "C:\\WinPython-64bit-3.6.1.0Qt5\\python-3.6.1.amd64\\lib\\site-packages\\simplejson\\encoder.py:291: DeprecationWarning: Interpreting naive datetime as local 2018-01-29 22:22:11.674487. Please add timezone info to timestamps.\n",
      "  chunks = self.iterencode(o, _one_shot=True)\n"
     ]
    }
   ],
   "source": [
    "grp = df.groupby(['Market', 'Stock'])\n",
    "desc = grp.describe()"
   ]
  },
  {
   "cell_type": "code",
   "execution_count": 724,
   "metadata": {
    "collapsed": true
   },
   "outputs": [
    {
     "name": "stderr",
     "output_type": "stream",
     "text": [
      "C:\\WinPython-64bit-3.6.1.0Qt5\\python-3.6.1.amd64\\lib\\site-packages\\simplejson\\encoder.py:291: DeprecationWarning: Interpreting naive datetime as local 2018-01-30 21:06:16.747078. Please add timezone info to timestamps.\n",
      "  chunks = self.iterencode(o, _one_shot=True)\n"
     ]
    }
   ],
   "source": [
    "agrp = np.abs(df).groupby('Market Stock'.split())\n",
    "wycorr = agrp.corr().loc[(slice(None), slice(None), 'Weight',), ('y',)]"
   ]
  },
  {
   "cell_type": "code",
   "execution_count": 725,
   "metadata": {
    "collapsed": true
   },
   "outputs": [
    {
     "data": {
      "text/plain": [
       "<matplotlib.axes._subplots.AxesSubplot at 0x1f29adc3550>"
      ]
     },
     "execution_count": 725,
     "metadata": {},
     "output_type": "execute_result"
    },
    {
     "data": {
      "image/png": "[encoded data removed]",
      "text/plain": [
       "<matplotlib.figure.Figure at 0x1f56f8c55f8>"
      ]
     },
     "metadata": {},
     "output_type": "display_data"
    },
    {
     "name": "stderr",
     "output_type": "stream",
     "text": [
      "C:\\WinPython-64bit-3.6.1.0Qt5\\python-3.6.1.amd64\\lib\\site-packages\\simplejson\\encoder.py:291: DeprecationWarning: Interpreting naive datetime as local 2018-01-30 21:06:31.051520. Please add timezone info to timestamps.\n",
      "  chunks = self.iterencode(o, _one_shot=True)\n"
     ]
    }
   ],
   "source": [
    "res = agrp.corr().loc[(ss, ss, 'y'), 'x4']\n",
    "res.hist(bins=120)"
   ]
  },
  {
   "cell_type": "code",
   "execution_count": 341,
   "metadata": {
    "collapsed": true
   },
   "outputs": [
    {
     "data": {
      "text/plain": [
       "<matplotlib.axes._subplots.AxesSubplot at 0x1f27ea42cf8>"
      ]
     },
     "execution_count": 341,
     "metadata": {},
     "output_type": "execute_result"
    },
    {
     "data": {
      "image/png": "[encoded data removed]",
      "text/plain": [
       "<matplotlib.figure.Figure at 0x1f27eb59da0>"
      ]
     },
     "metadata": {},
     "output_type": "display_data"
    },
    {
     "name": "stderr",
     "output_type": "stream",
     "text": [
      "C:\\WinPython-64bit-3.6.1.0Qt5\\python-3.6.1.amd64\\lib\\site-packages\\simplejson\\encoder.py:291: DeprecationWarning: Interpreting naive datetime as local 2018-01-30 09:11:33.695777. Please add timezone info to timestamps.\n",
      "  chunks = self.iterencode(o, _one_shot=True)\n"
     ]
    }
   ],
   "source": [
    "hist(grp.sum().Weight, bins=120, normed=True, cumulative=True)\n",
    "hist(grp.sum().Weight, weighted=True, bins=120, normed=True, cumulative=True)"
   ]
  },
  {
   "cell_type": "code",
   "execution_count": 394,
   "metadata": {
    "collapsed": true
   },
   "outputs": [
    {
     "name": "stderr",
     "output_type": "stream",
     "text": [
      "C:\\WinPython-64bit-3.6.1.0Qt5\\python-3.6.1.amd64\\lib\\site-packages\\simplejson\\encoder.py:291: DeprecationWarning: Interpreting naive datetime as local 2018-01-30 10:21:28.672423. Please add timezone info to timestamps.\n",
      "  chunks = self.iterencode(o, _one_shot=True)\n"
     ]
    }
   ],
   "source": [
    "listthing = [int(x[0]) for x in sorted(df[['Stock', col]].values, key=lambda x: x[1])[::-1][-1000:-500]]\n",
    "thing = list(set(listthing))"
   ]
  },
  {
   "cell_type": "code",
   "execution_count": 744,
   "metadata": {
    "collapsed": true
   },
   "outputs": [
    {
     "data": {
      "image/png": "[encoded data removed]",
      "text/plain": [
       "<matplotlib.figure.Figure at 0x1f3184ecc88>"
      ]
     },
     "metadata": {},
     "output_type": "display_data"
    },
    {
     "name": "stdout",
     "output_type": "stream",
     "text": [
      "247 0.000397538089951\n"
     ]
    },
    {
     "data": {
      "image/png": "[encoded data removed]",
      "text/plain": [
       "<matplotlib.figure.Figure at 0x1f3184ec518>"
      ]
     },
     "metadata": {},
     "output_type": "display_data"
    },
    {
     "name": "stdout",
     "output_type": "stream",
     "text": [
      "251 0.0867626267151\n"
     ]
    },
    {
     "data": {
      "image/png": "[encoded data removed]",
      "text/plain": [
       "<matplotlib.figure.Figure at 0x1f2ed833358>"
      ]
     },
     "metadata": {},
     "output_type": "display_data"
    },
    {
     "name": "stdout",
     "output_type": "stream",
     "text": [
      "251 0.204674285411\n"
     ]
    },
    {
     "data": {
      "image/png": "[encoded data removed]",
      "text/plain": [
       "<matplotlib.figure.Figure at 0x1f3192b2f28>"
      ]
     },
     "metadata": {},
     "output_type": "display_data"
    },
    {
     "name": "stdout",
     "output_type": "stream",
     "text": [
      "247 1.42622882884e-05\n"
     ]
    },
    {
     "data": {
      "image/png": "[encoded data removed]",
      "text/plain": [
       "<matplotlib.figure.Figure at 0x1f2961ea710>"
      ]
     },
     "metadata": {},
     "output_type": "display_data"
    },
    {
     "name": "stdout",
     "output_type": "stream",
     "text": [
      "247 1.6676556502e-31\n"
     ]
    },
    {
     "data": {
      "image/png": "[encoded data removed]",
      "text/plain": [
       "<matplotlib.figure.Figure at 0x1f5453db7b8>"
      ]
     },
     "metadata": {},
     "output_type": "display_data"
    },
    {
     "name": "stdout",
     "output_type": "stream",
     "text": [
      "247 9.22979973834e-14\n"
     ]
    },
    {
     "data": {
      "image/png": "[encoded data removed]",
      "text/plain": [
       "<matplotlib.figure.Figure at 0x1f5453c9320>"
      ]
     },
     "metadata": {},
     "output_type": "display_data"
    },
    {
     "name": "stdout",
     "output_type": "stream",
     "text": [
      "249 9.59286090927e-06\n"
     ]
    },
    {
     "data": {
      "image/png": "[encoded data removed]",
      "text/plain": [
       "<matplotlib.figure.Figure at 0x1f542e4def0>"
      ]
     },
     "metadata": {},
     "output_type": "display_data"
    },
    {
     "name": "stdout",
     "output_type": "stream",
     "text": [
      "247 0.0197578412492\n"
     ]
    },
    {
     "name": "stderr",
     "output_type": "stream",
     "text": [
      "C:\\WinPython-64bit-3.6.1.0Qt5\\python-3.6.1.amd64\\lib\\site-packages\\simplejson\\encoder.py:291: DeprecationWarning: Interpreting naive datetime as local 2018-01-30 21:25:03.178891. Please add timezone info to timestamps.\n",
      "  chunks = self.iterencode(o, _one_shot=True)\n"
     ]
    }
   ],
   "source": [
    "col = 'y'\n",
    "from scipy import stats\n",
    "ii = list(range(df.Stock.min(), df.Stock.max() + 1))\n",
    "random.shuffle(ii)\n",
    "ii = ii[:8]\n",
    "#ii = thing\n",
    "for i in range(len(ii)):\n",
    "    q = df.query('Stock == ' + str(ii[i]))\n",
    "    trans = q[col]\n",
    "    trans.hist(bins=120, weights=q.Weight, normed=True, alpha=.8)\n",
    "    trans.hist(bins=120, normed=True, alpha=.8)\n",
    "    plt.show()\n",
    "    print(len(trans), stats.normaltest(trans).pvalue)"
   ]
  },
  {
   "cell_type": "markdown",
   "metadata": {},
   "source": [
    "# Simple model"
   ]
  },
  {
   "cell_type": "code",
   "execution_count": null,
   "metadata": {
    "collapsed": true
   },
   "outputs": [],
   "source": [
    "ident = pd.get_dummies(df[['Market', 'Stock']], columns=['Market', 'Stock'])"
   ]
  },
  {
   "cell_type": "code",
   "execution_count": 740,
   "metadata": {},
   "outputs": [
    {
     "name": "stderr",
     "output_type": "stream",
     "text": [
      "C:\\WinPython-64bit-3.6.1.0Qt5\\python-3.6.1.amd64\\lib\\site-packages\\simplejson\\encoder.py:291: DeprecationWarning: Interpreting naive datetime as local 2018-01-30 21:21:07.102413. Please add timezone info to timestamps.\n",
      "  chunks = self.iterencode(o, _one_shot=True)\n"
     ]
    }
   ],
   "source": [
    "dh = pd.concat([df, dg])"
   ]
  },
  {
   "cell_type": "code",
   "execution_count": 746,
   "metadata": {},
   "outputs": [
    {
     "name": "stderr",
     "output_type": "stream",
     "text": [
      "C:\\WinPython-64bit-3.6.1.0Qt5\\python-3.6.1.amd64\\lib\\site-packages\\simplejson\\encoder.py:291: DeprecationWarning: Interpreting naive datetime as local 2018-01-30 21:29:16.422723. Please add timezone info to timestamps.\n",
      "  chunks = self.iterencode(o, _one_shot=True)\n"
     ]
    }
   ],
   "source": [
    "ranked = 1 - dh.groupby(['Market', 'Stock']).transform(lambda x: x.rank(pct=True, method='max', ascending=False))\n",
    "ranked = ranked[[c for c in ranked.columns if c != 'Weight' and c != 'y']]\n",
    "ranked.columns = [c + ' rank' for c in ranked.columns]"
   ]
  },
  {
   "cell_type": "code",
   "execution_count": null,
   "metadata": {
    "collapsed": true
   },
   "outputs": [],
   "source": []
  },
  {
   "cell_type": "code",
   "execution_count": null,
   "metadata": {
    "collapsed": true
   },
   "outputs": [],
   "source": [
    "#thedf = pd.concat([df, ident], axis=1)"
   ]
  },
  {
   "cell_type": "code",
   "execution_count": 784,
   "metadata": {},
   "outputs": [
    {
     "name": "stderr",
     "output_type": "stream",
     "text": [
      "C:\\WinPython-64bit-3.6.1.0Qt5\\python-3.6.1.amd64\\lib\\site-packages\\simplejson\\encoder.py:291: DeprecationWarning: Interpreting naive datetime as local 2018-01-30 21:55:08.296143. Please add timezone info to timestamps.\n",
      "  chunks = self.iterencode(o, _one_shot=True)\n"
     ]
    }
   ],
   "source": [
    "thedf = dh[['Day'] + xfeats]\n",
    "#thedf = pd.concat([thedf, ranked], axis=1)"
   ]
  },
  {
   "cell_type": "code",
   "execution_count": 777,
   "metadata": {},
   "outputs": [
    {
     "name": "stderr",
     "output_type": "stream",
     "text": [
      "C:\\WinPython-64bit-3.6.1.0Qt5\\python-3.6.1.amd64\\lib\\site-packages\\simplejson\\encoder.py:291: DeprecationWarning: Interpreting naive datetime as local 2018-01-30 21:52:16.921508. Please add timezone info to timestamps.\n",
      "  chunks = self.iterencode(o, _one_shot=True)\n"
     ]
    }
   ],
   "source": [
    "import random\n",
    "xdf = thedf.iloc[:N_TRAIN]\n",
    "labels = list(xdf.columns)\n",
    "n = len(df)\n",
    "perm = list(range(n))\n",
    "random.shuffle(perm)\n",
    "tr, cv = perm[:n // 2], perm[n // 2:]\n",
    "x = xdf.values\n",
    "y = df.y.values\n",
    "weight = df.Weight.values"
   ]
  },
  {
   "cell_type": "code",
   "execution_count": 778,
   "metadata": {},
   "outputs": [
    {
     "name": "stderr",
     "output_type": "stream",
     "text": [
      "C:\\WinPython-64bit-3.6.1.0Qt5\\python-3.6.1.amd64\\lib\\site-packages\\simplejson\\encoder.py:291: DeprecationWarning: Interpreting naive datetime as local 2018-01-30 21:52:24.798404. Please add timezone info to timestamps.\n",
      "  chunks = self.iterencode(o, _one_shot=True)\n"
     ]
    }
   ],
   "source": [
    "dmat = O()\n",
    "dmat.tr = xgb.DMatrix(x[tr], y[tr], feature_names=labels, weight=weight[tr])\n",
    "dmat.cv = xgb.DMatrix(x[cv], y[cv], feature_names=labels, weight=weight[cv])"
   ]
  },
  {
   "cell_type": "code",
   "execution_count": 790,
   "metadata": {},
   "outputs": [
    {
     "name": "stdout",
     "output_type": "stream",
     "text": [
      "[0]\tCV-rmse:0.449988\n",
      "Will train until CV-rmse hasn't improved in 50 rounds.\n",
      "[1]\tCV-rmse:0.404989\n",
      "[2]\tCV-rmse:0.36449\n",
      "[3]\tCV-rmse:0.328041\n",
      "[4]\tCV-rmse:0.295237\n",
      "[5]\tCV-rmse:0.265713\n",
      "[6]\tCV-rmse:0.239142\n",
      "[7]\tCV-rmse:0.215228\n",
      "[8]\tCV-rmse:0.193705\n",
      "[9]\tCV-rmse:0.174335\n",
      "[10]\tCV-rmse:0.156901\n",
      "[11]\tCV-rmse:0.141211\n",
      "[12]\tCV-rmse:0.12709\n",
      "[13]\tCV-rmse:0.114381\n",
      "[14]\tCV-rmse:0.102943\n",
      "[15]\tCV-rmse:0.092649\n",
      "[16]\tCV-rmse:0.083384\n",
      "[17]\tCV-rmse:0.075046\n",
      "[18]\tCV-rmse:0.067541\n",
      "[19]\tCV-rmse:0.060787\n",
      "[20]\tCV-rmse:0.054709\n",
      "[21]\tCV-rmse:0.049238\n",
      "[22]\tCV-rmse:0.044314\n",
      "[23]\tCV-rmse:0.039883\n",
      "[24]\tCV-rmse:0.035895\n",
      "[25]\tCV-rmse:0.032306\n",
      "[26]\tCV-rmse:0.029075\n",
      "[27]\tCV-rmse:0.026168\n",
      "[28]\tCV-rmse:0.023552\n",
      "[29]\tCV-rmse:0.021197\n",
      "[30]\tCV-rmse:0.019078\n",
      "[31]\tCV-rmse:0.01717\n",
      "[32]\tCV-rmse:0.015454\n",
      "[33]\tCV-rmse:0.013909\n",
      "[34]\tCV-rmse:0.012519\n",
      "[35]\tCV-rmse:0.011267\n",
      "[36]\tCV-rmse:0.010141\n",
      "[37]\tCV-rmse:0.009128\n",
      "[38]\tCV-rmse:0.008216\n",
      "[39]\tCV-rmse:0.007395\n",
      "[40]\tCV-rmse:0.006657\n",
      "[41]\tCV-rmse:0.005992\n",
      "[42]\tCV-rmse:0.005394\n",
      "[43]\tCV-rmse:0.004856\n",
      "[44]\tCV-rmse:0.004372\n",
      "[45]\tCV-rmse:0.003937\n",
      "[46]\tCV-rmse:0.003545\n",
      "[47]\tCV-rmse:0.003193\n",
      "[48]\tCV-rmse:0.002876\n",
      "[49]\tCV-rmse:0.002591\n",
      "[50]\tCV-rmse:0.002335\n",
      "[51]\tCV-rmse:0.002105\n",
      "[52]\tCV-rmse:0.001898\n",
      "[53]\tCV-rmse:0.001712\n",
      "[54]\tCV-rmse:0.001546\n",
      "[55]\tCV-rmse:0.001396\n",
      "[56]\tCV-rmse:0.001262\n",
      "[57]\tCV-rmse:0.001142\n",
      "[58]\tCV-rmse:0.001034\n",
      "[59]\tCV-rmse:0.000938\n",
      "[60]\tCV-rmse:0.000853\n",
      "[61]\tCV-rmse:0.000776\n",
      "[62]\tCV-rmse:0.000709\n",
      "[63]\tCV-rmse:0.000649\n",
      "[64]\tCV-rmse:0.000595\n",
      "[65]\tCV-rmse:0.000549\n",
      "[66]\tCV-rmse:0.000508\n",
      "[67]\tCV-rmse:0.000472\n",
      "[68]\tCV-rmse:0.000441\n",
      "[69]\tCV-rmse:0.000414\n",
      "[70]\tCV-rmse:0.000391\n",
      "[71]\tCV-rmse:0.000371\n",
      "[72]\tCV-rmse:0.000354\n",
      "[73]\tCV-rmse:0.00034\n",
      "[74]\tCV-rmse:0.000328\n",
      "[75]\tCV-rmse:0.000317\n",
      "[76]\tCV-rmse:0.000309\n",
      "[77]\tCV-rmse:0.000302\n",
      "[78]\tCV-rmse:0.000296\n",
      "[79]\tCV-rmse:0.000291\n",
      "[80]\tCV-rmse:0.000287\n",
      "[81]\tCV-rmse:0.000284\n",
      "[82]\tCV-rmse:0.000281\n",
      "[83]\tCV-rmse:0.000279\n",
      "[84]\tCV-rmse:0.000277\n",
      "[85]\tCV-rmse:0.000276\n",
      "[86]\tCV-rmse:0.000275\n",
      "[87]\tCV-rmse:0.000274\n",
      "[88]\tCV-rmse:0.000273\n",
      "[89]\tCV-rmse:0.000273\n",
      "[90]\tCV-rmse:0.000272\n",
      "[91]\tCV-rmse:0.000272\n",
      "[92]\tCV-rmse:0.000271\n",
      "[93]\tCV-rmse:0.000271\n",
      "[94]\tCV-rmse:0.000271\n",
      "[95]\tCV-rmse:0.00027\n",
      "[96]\tCV-rmse:0.00027\n",
      "[97]\tCV-rmse:0.00027\n",
      "[98]\tCV-rmse:0.00027\n",
      "[99]\tCV-rmse:0.00027\n",
      "[100]\tCV-rmse:0.00027\n",
      "[101]\tCV-rmse:0.00027\n",
      "[102]\tCV-rmse:0.00027\n",
      "[103]\tCV-rmse:0.00027\n",
      "[104]\tCV-rmse:0.000269\n",
      "[105]\tCV-rmse:0.000269\n",
      "[106]\tCV-rmse:0.000269\n",
      "[107]\tCV-rmse:0.000269\n",
      "[108]\tCV-rmse:0.000269\n",
      "[109]\tCV-rmse:0.000269\n",
      "[110]\tCV-rmse:0.000269\n",
      "[111]\tCV-rmse:0.000269\n",
      "[112]\tCV-rmse:0.000269\n",
      "[113]\tCV-rmse:0.000269\n",
      "[114]\tCV-rmse:0.000269\n",
      "[115]\tCV-rmse:0.000269\n",
      "[116]\tCV-rmse:0.000269\n",
      "[117]\tCV-rmse:0.000269\n",
      "[118]\tCV-rmse:0.000269\n",
      "[119]\tCV-rmse:0.000269\n",
      "[120]\tCV-rmse:0.000269\n",
      "[121]\tCV-rmse:0.000269\n",
      "[122]\tCV-rmse:0.000269\n",
      "[123]\tCV-rmse:0.000269\n",
      "[124]\tCV-rmse:0.000269\n",
      "[125]\tCV-rmse:0.000269\n",
      "[126]\tCV-rmse:0.000269\n",
      "[127]\tCV-rmse:0.000269\n",
      "[128]\tCV-rmse:0.000269\n",
      "[129]\tCV-rmse:0.000269\n",
      "[130]\tCV-rmse:0.000269\n",
      "[131]\tCV-rmse:0.000269\n",
      "[132]\tCV-rmse:0.000269\n",
      "[133]\tCV-rmse:0.000269\n",
      "[134]\tCV-rmse:0.000269\n",
      "[135]\tCV-rmse:0.000269\n",
      "[136]\tCV-rmse:0.000269\n",
      "[137]\tCV-rmse:0.000269\n",
      "[138]\tCV-rmse:0.000269\n",
      "[139]\tCV-rmse:0.000269\n",
      "[140]\tCV-rmse:0.000269\n",
      "[141]\tCV-rmse:0.000269\n",
      "[142]\tCV-rmse:0.000269\n",
      "[143]\tCV-rmse:0.000269\n",
      "[144]\tCV-rmse:0.000269\n",
      "[145]\tCV-rmse:0.000269\n",
      "[146]\tCV-rmse:0.000269\n",
      "[147]\tCV-rmse:0.000269\n",
      "[148]\tCV-rmse:0.000269\n",
      "[149]\tCV-rmse:0.000269\n",
      "[150]\tCV-rmse:0.000269\n",
      "[151]\tCV-rmse:0.000269\n",
      "[152]\tCV-rmse:0.000269\n",
      "[153]\tCV-rmse:0.000269\n",
      "[154]\tCV-rmse:0.000269\n",
      "Stopping. Best iteration:\n",
      "[104]\tCV-rmse:0.000269\n",
      "\n"
     ]
    },
    {
     "name": "stderr",
     "output_type": "stream",
     "text": [
      "C:\\WinPython-64bit-3.6.1.0Qt5\\python-3.6.1.amd64\\lib\\site-packages\\simplejson\\encoder.py:291: DeprecationWarning: Interpreting naive datetime as local 2018-01-30 21:58:00.465111. Please add timezone info to timestamps.\n",
      "  chunks = self.iterencode(o, _one_shot=True)\n"
     ]
    }
   ],
   "source": [
    "model = None\n",
    "boost_hp = dict(\n",
    "    objective = 'reg:linear',\n",
    "    booste = 'gbtree',\n",
    "    max_depth = 9,\n",
    "    subsample = 1,\n",
    "    colsample_bytree = 1,\n",
    "    colsample_bylevel = 1,\n",
    "    tree_method = 'exact',\n",
    "    gamma = 0,\n",
    "    min_child_weight = 0,\n",
    "    eta = 0.1,\n",
    "    seed = 0\n",
    ")\n",
    "cv_hp = dict(\n",
    "    num_boost_round = 500,\n",
    "    early_stopping_rounds = 50,\n",
    "    nfold = 10,\n",
    "    stratified = True,\n",
    "    seed = 0,\n",
    ")\n",
    "learn_hp = dict(\n",
    "    num_boost_round = 500,\n",
    "    early_stopping_rounds = 50,\n",
    "    evals = [[dmat.cv, 'CV']]\n",
    ")\n",
    "model = xgb.train(boost_hp, dmat.tr, **learn_hp)"
   ]
  },
  {
   "cell_type": "code",
   "execution_count": 791,
   "metadata": {},
   "outputs": [
    {
     "data": {
      "text/plain": [
       "[<matplotlib.lines.Line2D at 0x1f5439d65f8>]"
      ]
     },
     "execution_count": 791,
     "metadata": {},
     "output_type": "execute_result"
    },
    {
     "data": {
      "image/png": "[encoded data removed]",
      "text/plain": [
       "<matplotlib.figure.Figure at 0x1f296278518>"
      ]
     },
     "metadata": {},
     "output_type": "display_data"
    },
    {
     "name": "stderr",
     "output_type": "stream",
     "text": [
      "C:\\WinPython-64bit-3.6.1.0Qt5\\python-3.6.1.amd64\\lib\\site-packages\\simplejson\\encoder.py:291: DeprecationWarning: Interpreting naive datetime as local 2018-01-30 21:59:37.550971. Please add timezone info to timestamps.\n",
      "  chunks = self.iterencode(o, _one_shot=True)\n"
     ]
    }
   ],
   "source": [
    "y_ = model.predict(dmat.cv)\n",
    "plt.plot(y_)"
   ]
  },
  {
   "cell_type": "code",
   "execution_count": 792,
   "metadata": {},
   "outputs": [
    {
     "data": {
      "image/png": "[encoded data removed]",
      "text/plain": [
       "<matplotlib.figure.Figure at 0x1f543a62668>"
      ]
     },
     "metadata": {},
     "output_type": "display_data"
    },
    {
     "name": "stderr",
     "output_type": "stream",
     "text": [
      "C:\\WinPython-64bit-3.6.1.0Qt5\\python-3.6.1.amd64\\lib\\site-packages\\simplejson\\encoder.py:291: DeprecationWarning: Interpreting naive datetime as local 2018-01-30 21:59:37.910821. Please add timezone info to timestamps.\n",
      "  chunks = self.iterencode(o, _one_shot=True)\n"
     ]
    }
   ],
   "source": [
    "xtest = thedf.iloc[N_TRAIN:].values\n",
    "dmat.test = xgb.DMatrix(xtest, feature_names=labels)\n",
    "ytest_ = model.predict(dmat.test)\n",
    "plt.plot(ytest_); plt.show()"
   ]
  },
  {
   "cell_type": "code",
   "execution_count": null,
   "metadata": {
    "collapsed": true
   },
   "outputs": [],
   "source": [
    "for i, tree in enumerate(model.get_dump()):\n",
    "    print('<{}>'.format(i))\n",
    "    print(tree)\n",
    "    if i >= 10:\n",
    "        break"
   ]
  },
  {
   "cell_type": "code",
   "execution_count": 786,
   "metadata": {},
   "outputs": [
    {
     "name": "stderr",
     "output_type": "stream",
     "text": [
      "C:\\WinPython-64bit-3.6.1.0Qt5\\python-3.6.1.amd64\\lib\\site-packages\\simplejson\\encoder.py:291: DeprecationWarning: Interpreting naive datetime as local 2018-01-30 21:55:29.126624. Please add timezone info to timestamps.\n",
      "  chunks = self.iterencode(o, _one_shot=True)\n"
     ]
    }
   ],
   "source": [
    "ypred = pd.Series(ytest_).rename('y')\n",
    "ypred.index.name = 'Index'\n",
    "ypred.to_csv('model1.csv', header=True)\n",
    "omodel = model"
   ]
  },
  {
   "cell_type": "markdown",
   "metadata": {},
   "source": [
    "## predict y-rank"
   ]
  },
  {
   "cell_type": "markdown",
   "metadata": {},
   "source": [
    "# Split model"
   ]
  },
  {
   "cell_type": "markdown",
   "metadata": {},
   "source": [
    "# Abs model"
   ]
  }
 ],
 "metadata": {
  "kernelspec": {
   "display_name": "Python 3",
   "language": "python",
   "name": "python3"
  },
  "language_info": {
   "codemirror_mode": {
    "name": "ipython",
    "version": 3
   },
   "file_extension": ".py",
   "mimetype": "text/x-python",
   "name": "python",
   "nbconvert_exporter": "python",
   "pygments_lexer": "ipython3",
   "version": "3.6.1"
  }
 },
 "nbformat": 4,
 "nbformat_minor": 2
}
