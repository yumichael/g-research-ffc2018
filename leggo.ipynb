{
 "cells": [
  {
   "cell_type": "code",
   "execution_count": 1,
   "metadata": {},
   "outputs": [
    {
     "name": "stderr",
     "output_type": "stream",
     "text": [
      "C:\\WinPython-64bit-3.6.1.0Qt5\\python-3.6.1.amd64\\lib\\site-packages\\simplejson\\encoder.py:291: DeprecationWarning: Interpreting naive datetime as local 2018-01-31 22:11:22.244766. Please add timezone info to timestamps.\n",
      "  chunks = self.iterencode(o, _one_shot=True)\n"
     ]
    }
   ],
   "source": [
    "%matplotlib inline\n",
    "import numpy as np\n",
    "import pandas as pd\n",
    "import matplotlib.pyplot as plt\n",
    "#import seaborn as sns\n",
    "#import sklearn.linear_model\n",
    "import xgboost as xgb\n",
    "from pytil.object import Namespace as O\n",
    "from pytil.utility import *\n",
    "from helpers import *\n",
    "from pytil.quickvis import canvas\n",
    "\n",
    "import random\n",
    "ss = slice(None)\n",
    "canvas(16, 2)"
   ]
  },
  {
   "cell_type": "code",
   "execution_count": 2,
   "metadata": {},
   "outputs": [
    {
     "name": "stderr",
     "output_type": "stream",
     "text": [
      "C:\\WinPython-64bit-3.6.1.0Qt5\\python-3.6.1.amd64\\lib\\site-packages\\simplejson\\encoder.py:291: DeprecationWarning: Interpreting naive datetime as local 2018-01-31 22:11:23.902220. Please add timezone info to timestamps.\n",
      "  chunks = self.iterencode(o, _one_shot=True)\n"
     ]
    }
   ],
   "source": [
    "N_TRAIN, N_TEST = 623817, 640430\n",
    "df = pd.read_csv('train.csv', index_col=0)\n",
    "df.index = df.index - N_TRAIN\n",
    "dg = pd.read_csv('test.csv', index_col=0)\n",
    "dh = pd.concat([df, dg])\n",
    "n_stock = len(set(dh.Stock))"
   ]
  },
  {
   "cell_type": "markdown",
   "metadata": {},
   "source": [
    "# Explore"
   ]
  },
  {
   "cell_type": "code",
   "execution_count": 3,
   "metadata": {},
   "outputs": [
    {
     "name": "stderr",
     "output_type": "stream",
     "text": [
      "C:\\WinPython-64bit-3.6.1.0Qt5\\python-3.6.1.amd64\\lib\\site-packages\\simplejson\\encoder.py:291: DeprecationWarning: Interpreting naive datetime as local 2018-01-31 22:11:29.889189. Please add timezone info to timestamps.\n",
      "  chunks = self.iterencode(o, _one_shot=True)\n"
     ]
    }
   ],
   "source": [
    "xfeats = 'x0 x1 x2 x3A x3B x3C x3D x3E x4 x5 x6'.split()\n",
    "idfeats = 'Market Stock'.split()"
   ]
  },
  {
   "cell_type": "code",
   "execution_count": null,
   "metadata": {
    "collapsed": true
   },
   "outputs": [],
   "source": [
    "raise Exception(\"Don't go on blindly!\")"
   ]
  },
  {
   "cell_type": "markdown",
   "metadata": {},
   "source": [
    "## feature explore"
   ]
  },
  {
   "cell_type": "code",
   "execution_count": null,
   "metadata": {},
   "outputs": [],
   "source": [
    "sortdh = dh.sort_values('Day')\n",
    "res = [None] * n_stock\n",
    "for idx, ((markt, stock), td) in enumerate(sortdh.groupby(['Market', 'Stock'])):\n",
    "    data = [np.inf]\n",
    "    for i in range(1, 200):\n",
    "        roll = td.rolling(i, center=True, min_periods=1)\n",
    "        est = (roll.y.sum() - td.y) / (roll.y.count() - 1)\n",
    "        data.append((td.Weight * (est - td.y) ** 2).sum())\n",
    "    res[stock] = min(range(len(data)), key=lambda x: data[x])\n",
    "    if idx % 100 == 0:\n",
    "        print(idx)"
   ]
  },
  {
   "cell_type": "code",
   "execution_count": 542,
   "metadata": {
    "collapsed": true
   },
   "outputs": [
    {
     "data": {
      "image/png": "[encoded data removed]",
      "text/plain": [
       "<matplotlib.figure.Figure at 0x1ffa3ab6748>"
      ]
     },
     "metadata": {},
     "output_type": "display_data"
    },
    {
     "name": "stderr",
     "output_type": "stream",
     "text": [
      "C:\\WinPython-64bit-3.6.1.0Qt5\\python-3.6.1.amd64\\lib\\site-packages\\simplejson\\encoder.py:291: DeprecationWarning: Interpreting naive datetime as local 2018-02-01 19:18:24.639794. Please add timezone info to timestamps.\n",
      "  chunks = self.iterencode(o, _one_shot=True)\n"
     ]
    }
   ],
   "source": [
    "plt.hist(res, bins=200);"
   ]
  },
  {
   "cell_type": "code",
   "execution_count": null,
   "metadata": {
    "collapsed": true
   },
   "outputs": [],
   "source": [
    "13, 25, 33, 57"
   ]
  },
  {
   "cell_type": "markdown",
   "metadata": {},
   "source": [
    "## old things"
   ]
  },
  {
   "cell_type": "code",
   "execution_count": 724,
   "metadata": {
    "collapsed": true
   },
   "outputs": [
    {
     "name": "stderr",
     "output_type": "stream",
     "text": [
      "C:\\WinPython-64bit-3.6.1.0Qt5\\python-3.6.1.amd64\\lib\\site-packages\\simplejson\\encoder.py:291: DeprecationWarning: Interpreting naive datetime as local 2018-01-30 21:06:16.747078. Please add timezone info to timestamps.\n",
      "  chunks = self.iterencode(o, _one_shot=True)\n"
     ]
    }
   ],
   "source": [
    "agrp = np.abs(df).groupby('Market Stock'.split())\n",
    "wycorr = agrp.corr().loc[(slice(None), slice(None), 'Weight',), ('y',)]"
   ]
  },
  {
   "cell_type": "code",
   "execution_count": 725,
   "metadata": {
    "collapsed": true
   },
   "outputs": [
    {
     "data": {
      "text/plain": [
       "<matplotlib.axes._subplots.AxesSubplot at 0x1f29adc3550>"
      ]
     },
     "execution_count": 725,
     "metadata": {},
     "output_type": "execute_result"
    },
    {
     "data": {
      "image/png": "[encoded data removed]",
      "text/plain": [
       "<matplotlib.figure.Figure at 0x1f56f8c55f8>"
      ]
     },
     "metadata": {},
     "output_type": "display_data"
    },
    {
     "name": "stderr",
     "output_type": "stream",
     "text": [
      "C:\\WinPython-64bit-3.6.1.0Qt5\\python-3.6.1.amd64\\lib\\site-packages\\simplejson\\encoder.py:291: DeprecationWarning: Interpreting naive datetime as local 2018-01-30 21:06:31.051520. Please add timezone info to timestamps.\n",
      "  chunks = self.iterencode(o, _one_shot=True)\n"
     ]
    }
   ],
   "source": [
    "res = agrp.corr().loc[(ss, ss, 'y'), 'x4']\n",
    "res.hist(bins=120)"
   ]
  },
  {
   "cell_type": "code",
   "execution_count": 341,
   "metadata": {
    "collapsed": true
   },
   "outputs": [
    {
     "data": {
      "text/plain": [
       "<matplotlib.axes._subplots.AxesSubplot at 0x1f27ea42cf8>"
      ]
     },
     "execution_count": 341,
     "metadata": {},
     "output_type": "execute_result"
    },
    {
     "data": {
      "image/png": "[encoded data removed]",
      "text/plain": [
       "<matplotlib.figure.Figure at 0x1f27eb59da0>"
      ]
     },
     "metadata": {},
     "output_type": "display_data"
    },
    {
     "name": "stderr",
     "output_type": "stream",
     "text": [
      "C:\\WinPython-64bit-3.6.1.0Qt5\\python-3.6.1.amd64\\lib\\site-packages\\simplejson\\encoder.py:291: DeprecationWarning: Interpreting naive datetime as local 2018-01-30 09:11:33.695777. Please add timezone info to timestamps.\n",
      "  chunks = self.iterencode(o, _one_shot=True)\n"
     ]
    }
   ],
   "source": [
    "hist(grp.sum().Weight, bins=120, normed=True, cumulative=True)\n",
    "hist(grp.sum().Weight, weighted=True, bins=120, normed=True, cumulative=True)"
   ]
  },
  {
   "cell_type": "code",
   "execution_count": 394,
   "metadata": {
    "collapsed": true
   },
   "outputs": [
    {
     "name": "stderr",
     "output_type": "stream",
     "text": [
      "C:\\WinPython-64bit-3.6.1.0Qt5\\python-3.6.1.amd64\\lib\\site-packages\\simplejson\\encoder.py:291: DeprecationWarning: Interpreting naive datetime as local 2018-01-30 10:21:28.672423. Please add timezone info to timestamps.\n",
      "  chunks = self.iterencode(o, _one_shot=True)\n"
     ]
    }
   ],
   "source": [
    "listthing = [int(x[0]) for x in sorted(df[['Stock', col]].values, key=lambda x: x[1])[::-1][-1000:-500]]\n",
    "thing = list(set(listthing))"
   ]
  },
  {
   "cell_type": "code",
   "execution_count": 744,
   "metadata": {
    "collapsed": true
   },
   "outputs": [
    {
     "data": {
      "image/png": "[encoded data removed]",
      "text/plain": [
       "<matplotlib.figure.Figure at 0x1f3184ecc88>"
      ]
     },
     "metadata": {},
     "output_type": "display_data"
    },
    {
     "name": "stdout",
     "output_type": "stream",
     "text": [
      "247 0.000397538089951\n"
     ]
    },
    {
     "data": {
      "image/png": "[encoded data removed]",
      "text/plain": [
       "<matplotlib.figure.Figure at 0x1f3184ec518>"
      ]
     },
     "metadata": {},
     "output_type": "display_data"
    },
    {
     "name": "stdout",
     "output_type": "stream",
     "text": [
      "251 0.0867626267151\n"
     ]
    },
    {
     "data": {
      "image/png": "[encoded data removed]",
      "text/plain": [
       "<matplotlib.figure.Figure at 0x1f2ed833358>"
      ]
     },
     "metadata": {},
     "output_type": "display_data"
    },
    {
     "name": "stdout",
     "output_type": "stream",
     "text": [
      "251 0.204674285411\n"
     ]
    },
    {
     "data": {
      "image/png": "[encoded data removed]",
      "text/plain": [
       "<matplotlib.figure.Figure at 0x1f3192b2f28>"
      ]
     },
     "metadata": {},
     "output_type": "display_data"
    },
    {
     "name": "stdout",
     "output_type": "stream",
     "text": [
      "247 1.42622882884e-05\n"
     ]
    },
    {
     "data": {
      "image/png": "[encoded data removed]",
      "text/plain": [
       "<matplotlib.figure.Figure at 0x1f2961ea710>"
      ]
     },
     "metadata": {},
     "output_type": "display_data"
    },
    {
     "name": "stdout",
     "output_type": "stream",
     "text": [
      "247 1.6676556502e-31\n"
     ]
    },
    {
     "data": {
      "image/png": "[encoded data removed]",
      "text/plain": [
       "<matplotlib.figure.Figure at 0x1f5453db7b8>"
      ]
     },
     "metadata": {},
     "output_type": "display_data"
    },
    {
     "name": "stdout",
     "output_type": "stream",
     "text": [
      "247 9.22979973834e-14\n"
     ]
    },
    {
     "data": {
      "image/png": "[encoded data removed]",
      "text/plain": [
       "<matplotlib.figure.Figure at 0x1f5453c9320>"
      ]
     },
     "metadata": {},
     "output_type": "display_data"
    },
    {
     "name": "stdout",
     "output_type": "stream",
     "text": [
      "249 9.59286090927e-06\n"
     ]
    },
    {
     "data": {
      "image/png": "[encoded data removed]",
      "text/plain": [
       "<matplotlib.figure.Figure at 0x1f542e4def0>"
      ]
     },
     "metadata": {},
     "output_type": "display_data"
    },
    {
     "name": "stdout",
     "output_type": "stream",
     "text": [
      "247 0.0197578412492\n"
     ]
    },
    {
     "name": "stderr",
     "output_type": "stream",
     "text": [
      "C:\\WinPython-64bit-3.6.1.0Qt5\\python-3.6.1.amd64\\lib\\site-packages\\simplejson\\encoder.py:291: DeprecationWarning: Interpreting naive datetime as local 2018-01-30 21:25:03.178891. Please add timezone info to timestamps.\n",
      "  chunks = self.iterencode(o, _one_shot=True)\n"
     ]
    }
   ],
   "source": [
    "col = 'y'\n",
    "from scipy import stats\n",
    "ii = list(range(df.Stock.min(), df.Stock.max() + 1))\n",
    "random.shuffle(ii)\n",
    "ii = ii[:8]\n",
    "#ii = thing\n",
    "for i in range(len(ii)):\n",
    "    q = df.query('Stock == ' + str(ii[i]))\n",
    "    trans = q[col]\n",
    "    trans.hist(bins=120, weights=q.Weight, normed=True, alpha=.8)\n",
    "    trans.hist(bins=120, normed=True, alpha=.8)\n",
    "    plt.show()\n",
    "    print(len(trans), stats.normaltest(trans).pvalue)"
   ]
  },
  {
   "cell_type": "markdown",
   "metadata": {},
   "source": [
    "## cv days selection"
   ]
  },
  {
   "cell_type": "code",
   "execution_count": 84,
   "metadata": {
    "collapsed": true
   },
   "outputs": [
    {
     "data": {
      "image/png": "[encoded data removed]",
      "text/plain": [
       "<matplotlib.figure.Figure at 0x7f444192d6d8>"
      ]
     },
     "metadata": {},
     "output_type": "display_data"
    }
   ],
   "source": [
    "days = sorted(set(df.Day))\n",
    "weights = [df.query('Day == ' + str(day)).Weight.sum() for day in days]\n",
    "plt.plot(weights); plt.show()"
   ]
  },
  {
   "cell_type": "markdown",
   "metadata": {},
   "source": [
    "# Simple model"
   ]
  },
  {
   "cell_type": "code",
   "execution_count": null,
   "metadata": {
    "collapsed": true
   },
   "outputs": [],
   "source": [
    "# +2 to day to get 0 % 7 == Monday"
   ]
  },
  {
   "cell_type": "code",
   "execution_count": 5,
   "metadata": {},
   "outputs": [
    {
     "name": "stderr",
     "output_type": "stream",
     "text": [
      "C:\\WinPython-64bit-3.6.1.0Qt5\\python-3.6.1.amd64\\lib\\site-packages\\simplejson\\encoder.py:291: DeprecationWarning: Interpreting naive datetime as local 2018-01-31 22:11:30.232648. Please add timezone info to timestamps.\n",
      "  chunks = self.iterencode(o, _one_shot=True)\n"
     ]
    }
   ],
   "source": [
    "market = pd.get_dummies(dh[['Market']], columns=['Market'])\n",
    "#stock = pd.get_dummies(dh[['Stock']], columns=['Stock'])\n",
    "#day = pd.get_dummies(dh[['Day']], columns=['Day'])"
   ]
  },
  {
   "cell_type": "code",
   "execution_count": 240,
   "metadata": {},
   "outputs": [
    {
     "name": "stderr",
     "output_type": "stream",
     "text": [
      "C:\\WinPython-64bit-3.6.1.0Qt5\\python-3.6.1.amd64\\lib\\site-packages\\simplejson\\encoder.py:291: DeprecationWarning: Interpreting naive datetime as local 2018-02-01 10:21:17.302355. Please add timezone info to timestamps.\n",
      "  chunks = self.iterencode(o, _one_shot=True)\n"
     ]
    }
   ],
   "source": [
    "dayseg = dh['Day']\n",
    "off0 = (dayseg + 2) // 14\n",
    "off0.name = 'Biweek0'\n",
    "off1 = (dayseg + 2 + 7) // 14\n",
    "off1.name = 'Biweek1'\n",
    "dayseg = pd.concat([off0, off1], axis=1)"
   ]
  },
  {
   "cell_type": "code",
   "execution_count": 225,
   "metadata": {},
   "outputs": [
    {
     "name": "stderr",
     "output_type": "stream",
     "text": [
      "C:\\WinPython-64bit-3.6.1.0Qt5\\python-3.6.1.amd64\\lib\\site-packages\\simplejson\\encoder.py:291: DeprecationWarning: Interpreting naive datetime as local 2018-02-01 10:18:08.946198. Please add timezone info to timestamps.\n",
      "  chunks = self.iterencode(o, _one_shot=True)\n"
     ]
    }
   ],
   "source": [
    "wkdfeats = 'Monday Tuesday Wednesday Thursday Friday'.split()\n",
    "weekday = ((dh.Day + 2) % 7)\n",
    "weekday = weekday.map({i: s for i, s in enumerate(wkdfeats)})\n",
    "weekday = pd.get_dummies(weekday)\n",
    "weekday = weekday[wkdfeats]"
   ]
  },
  {
   "cell_type": "code",
   "execution_count": 226,
   "metadata": {},
   "outputs": [
    {
     "name": "stderr",
     "output_type": "stream",
     "text": [
      "C:\\WinPython-64bit-3.6.1.0Qt5\\python-3.6.1.amd64\\lib\\site-packages\\simplejson\\encoder.py:291: DeprecationWarning: Interpreting naive datetime as local 2018-02-01 10:18:09.331489. Please add timezone info to timestamps.\n",
      "  chunks = self.iterencode(o, _one_shot=True)\n"
     ]
    }
   ],
   "source": [
    "ranked = 1 - dh.groupby(['Market', 'Stock']).transform(lambda x: x.rank(pct=True, method='max', ascending=False))\n",
    "ranked = ranked[[c for c in ranked.columns if c != 'Weight' and c != 'y' and c != 'Day']]\n",
    "ranked.columns = [c + ' rank' for c in ranked.columns]"
   ]
  },
  {
   "cell_type": "code",
   "execution_count": 583,
   "metadata": {},
   "outputs": [
    {
     "name": "stderr",
     "output_type": "stream",
     "text": [
      "C:\\WinPython-64bit-3.6.1.0Qt5\\python-3.6.1.amd64\\lib\\site-packages\\simplejson\\encoder.py:291: DeprecationWarning: Interpreting naive datetime as local 2018-02-01 19:40:34.124446. Please add timezone info to timestamps.\n",
      "  chunks = self.iterencode(o, _one_shot=True)\n"
     ]
    }
   ],
   "source": [
    "windowdh = pd.concat([dh[idfeats], weekday, dh[xfeats], ranked], axis=1)\n",
    "windowgrp = windowdh.groupby(idfeats)\n",
    "shifts = []\n",
    "plains = []\n",
    "for i in [-1, 1]: # <-- the shifts\n",
    "    shifted = windowgrp.shift(i)\n",
    "    if i:\n",
    "        shifted.columns = [x + ' (' + str(-i) + ')' for x in shifted.columns]\n",
    "    shifts.append(shifted)"
   ]
  },
  {
   "cell_type": "code",
   "execution_count": 574,
   "metadata": {},
   "outputs": [
    {
     "name": "stderr",
     "output_type": "stream",
     "text": [
      "C:\\WinPython-64bit-3.6.1.0Qt5\\python-3.6.1.amd64\\lib\\site-packages\\simplejson\\encoder.py:291: DeprecationWarning: Interpreting naive datetime as local 2018-02-01 19:34:34.444586. Please add timezone info to timestamps.\n",
      "  chunks = self.iterencode(o, _one_shot=True)\n"
     ]
    }
   ],
   "source": [
    "def get_rolling_average(x, window):\n",
    "    roll = x.rolling(window, center=True, min_periods=1)\n",
    "    est = (roll.sum() - x) / (roll.count() - 1)\n",
    "    return est\n",
    "timey = dh.sort_values('Day').groupby(['Market', 'Stock']).y\n",
    "yrolls = []\n",
    "for w in range(5, 58, 4): #[13, 25, 33, 57]:\n",
    "    roll = timey.transform(lambda y: get_rolling_average(y, w))\n",
    "    roll.name = 'y mean((' + str(w) + '))center'\n",
    "    yrolls.append(roll)"
   ]
  },
  {
   "cell_type": "code",
   "execution_count": 416,
   "metadata": {},
   "outputs": [
    {
     "name": "stderr",
     "output_type": "stream",
     "text": [
      "C:\\WinPython-64bit-3.6.1.0Qt5\\python-3.6.1.amd64\\lib\\site-packages\\simplejson\\encoder.py:291: DeprecationWarning: Interpreting naive datetime as local 2018-02-01 16:37:52.620005. Please add timezone info to timestamps.\n",
      "  chunks = self.iterencode(o, _one_shot=True)\n"
     ]
    }
   ],
   "source": [
    "ymean = dh.groupby(['Market', 'Stock']).y.transform('mean')\n",
    "ymean = ymean.fillna(0)\n",
    "ymean.name = 'y mean'"
   ]
  },
  {
   "cell_type": "code",
   "execution_count": 515,
   "metadata": {},
   "outputs": [
    {
     "name": "stderr",
     "output_type": "stream",
     "text": [
      "C:\\WinPython-64bit-3.6.1.0Qt5\\python-3.6.1.amd64\\lib\\site-packages\\simplejson\\encoder.py:291: DeprecationWarning: Interpreting naive datetime as local 2018-02-01 18:54:50.632042. Please add timezone info to timestamps.\n",
      "  chunks = self.iterencode(o, _one_shot=True)\n"
     ]
    }
   ],
   "source": [
    "stockparts = []\n",
    "for i in range(80):\n",
    "    randmap = list(range(n_stock))\n",
    "    random.shuffle(randmap)\n",
    "    stockpart = dh.Stock.map(lambda x: randmap[x])\n",
    "    stockpart.name = 'Stock ~' + str(i) + '~'\n",
    "    stockparts.append(stockpart)"
   ]
  },
  {
   "cell_type": "code",
   "execution_count": 228,
   "metadata": {},
   "outputs": [
    {
     "name": "stderr",
     "output_type": "stream",
     "text": [
      "C:\\WinPython-64bit-3.6.1.0Qt5\\python-3.6.1.amd64\\lib\\site-packages\\simplejson\\encoder.py:291: DeprecationWarning: Interpreting naive datetime as local 2018-02-01 10:18:14.829564. Please add timezone info to timestamps.\n",
      "  chunks = self.iterencode(o, _one_shot=True)\n"
     ]
    }
   ],
   "source": [
    "# "
   ]
  },
  {
   "cell_type": "code",
   "execution_count": 123,
   "metadata": {},
   "outputs": [
    {
     "name": "stderr",
     "output_type": "stream",
     "text": [
      "C:\\WinPython-64bit-3.6.1.0Qt5\\python-3.6.1.amd64\\lib\\site-packages\\simplejson\\encoder.py:291: DeprecationWarning: Interpreting naive datetime as local 2018-01-31 23:15:00.885232. Please add timezone info to timestamps.\n",
      "  chunks = self.iterencode(o, _one_shot=True)\n"
     ]
    }
   ],
   "source": [
    "#\n",
    "try:\n",
    "    with open('days_order.txt', 'r') as file:\n",
    "        days = [int(x) for x in file.read().splitlines()]\n",
    "except FileNotFoundError:\n",
    "    days = sorted(set(df.Day))\n",
    "    random.shuffle(days)\n",
    "    print('new days')\n",
    "#\n",
    "n_days = len(days)\n",
    "days_a, days_b, days_c = set(days[:n_days // 3]), set(days[n_days // 3:(2 * n_days) // 3]), set(days[(2 * n_days) // 3:])\n",
    "tr, cv, sc = df.Day.isin(days_a), df.Day.isin(days_b), df.Day.isin(days_c)"
   ]
  },
  {
   "cell_type": "code",
   "execution_count": 581,
   "metadata": {},
   "outputs": [
    {
     "name": "stderr",
     "output_type": "stream",
     "text": [
      "C:\\WinPython-64bit-3.6.1.0Qt5\\python-3.6.1.amd64\\lib\\site-packages\\simplejson\\encoder.py:291: DeprecationWarning: Interpreting naive datetime as local 2018-02-01 19:38:33.352119. Please add timezone info to timestamps.\n",
      "  chunks = self.iterencode(o, _one_shot=True)\n"
     ]
    }
   ],
   "source": [
    "#origdh = dh[['Market'] + xfeats]\n",
    "#thedh = pd.concat([market, stock, weekday, origdh], axis=1)\n",
    "thedh = pd.concat([dh[xfeats], market, dayseg, weekday, ymean, ranked] + yrolls + shifts, axis=1)"
   ]
  },
  {
   "cell_type": "code",
   "execution_count": null,
   "metadata": {
    "collapsed": true
   },
   "outputs": [],
   "source": []
  },
  {
   "cell_type": "code",
   "execution_count": 576,
   "metadata": {},
   "outputs": [
    {
     "name": "stderr",
     "output_type": "stream",
     "text": [
      "C:\\WinPython-64bit-3.6.1.0Qt5\\python-3.6.1.amd64\\lib\\site-packages\\simplejson\\encoder.py:291: DeprecationWarning: Interpreting naive datetime as local 2018-02-01 19:36:00.295353. Please add timezone info to timestamps.\n",
      "  chunks = self.iterencode(o, _one_shot=True)\n"
     ]
    }
   ],
   "source": [
    "xdf = thedh.iloc[:N_TRAIN]\n",
    "labels = list(xdf.columns)\n",
    "n = len(df)\n",
    "x = xdf.values\n",
    "y = df.y.values #(df.y - ymean).values\n",
    "weight = df.Weight.values"
   ]
  },
  {
   "cell_type": "code",
   "execution_count": 577,
   "metadata": {},
   "outputs": [
    {
     "name": "stderr",
     "output_type": "stream",
     "text": [
      "C:\\WinPython-64bit-3.6.1.0Qt5\\python-3.6.1.amd64\\lib\\site-packages\\simplejson\\encoder.py:291: DeprecationWarning: Interpreting naive datetime as local 2018-02-01 19:36:00.701621. Please add timezone info to timestamps.\n",
      "  chunks = self.iterencode(o, _one_shot=True)\n"
     ]
    }
   ],
   "source": [
    "#n = len(df)\n",
    "#a = list(range(n))\n",
    "#random.shuffle(a)\n",
    "#tr, cv = a[:n // 2], a[n // 2:]"
   ]
  },
  {
   "cell_type": "code",
   "execution_count": 578,
   "metadata": {},
   "outputs": [
    {
     "name": "stderr",
     "output_type": "stream",
     "text": [
      "C:\\WinPython-64bit-3.6.1.0Qt5\\python-3.6.1.amd64\\lib\\site-packages\\simplejson\\encoder.py:291: DeprecationWarning: Interpreting naive datetime as local 2018-02-01 19:36:00.709627. Please add timezone info to timestamps.\n",
      "  chunks = self.iterencode(o, _one_shot=True)\n"
     ]
    }
   ],
   "source": [
    "dmat = O()\n",
    "dmat.tr = xgb.DMatrix(x[tr], y[tr], feature_names=labels, weight=weight[tr])\n",
    "dmat.cv = xgb.DMatrix(x[cv], y[cv], feature_names=labels, weight=weight[cv])\n",
    "dmat.sc = xgb.DMatrix(x[sc], y[sc], feature_names=labels, weight=weight[sc])"
   ]
  },
  {
   "cell_type": "code",
   "execution_count": 579,
   "metadata": {
    "scrolled": true
   },
   "outputs": [
    {
     "name": "stdout",
     "output_type": "stream",
     "text": [
      "[0]\tTrain-rmse:0.39999\tScore-rmse:0.399987\tCV-rmse:0.399989\n",
      "Multiple eval metrics have been passed: 'CV-rmse' will be used for early stopping.\n",
      "\n",
      "Will train until CV-rmse hasn't improved in 30 rounds.\n",
      "[1]\tTrain-rmse:0.319992\tScore-rmse:0.319989\tCV-rmse:0.319991\n",
      "[2]\tTrain-rmse:0.255994\tScore-rmse:0.255991\tCV-rmse:0.255993\n",
      "[3]\tTrain-rmse:0.204795\tScore-rmse:0.204792\tCV-rmse:0.204795\n",
      "[4]\tTrain-rmse:0.163836\tScore-rmse:0.163833\tCV-rmse:0.163836\n",
      "[5]\tTrain-rmse:0.131069\tScore-rmse:0.131066\tCV-rmse:0.131069\n",
      "[6]\tTrain-rmse:0.104855\tScore-rmse:0.104853\tCV-rmse:0.104855\n",
      "[7]\tTrain-rmse:0.083885\tScore-rmse:0.083882\tCV-rmse:0.083884\n",
      "[8]\tTrain-rmse:0.067108\tScore-rmse:0.067105\tCV-rmse:0.067107\n",
      "[9]\tTrain-rmse:0.053687\tScore-rmse:0.053684\tCV-rmse:0.053686\n",
      "[10]\tTrain-rmse:0.04295\tScore-rmse:0.042947\tCV-rmse:0.042949\n",
      "[11]\tTrain-rmse:0.03436\tScore-rmse:0.034358\tCV-rmse:0.03436\n",
      "[12]\tTrain-rmse:0.027489\tScore-rmse:0.027487\tCV-rmse:0.027489\n",
      "[13]\tTrain-rmse:0.021992\tScore-rmse:0.02199\tCV-rmse:0.021992\n",
      "[14]\tTrain-rmse:0.017594\tScore-rmse:0.017593\tCV-rmse:0.017595\n",
      "[15]\tTrain-rmse:0.014076\tScore-rmse:0.014075\tCV-rmse:0.014077\n",
      "[16]\tTrain-rmse:0.011262\tScore-rmse:0.011261\tCV-rmse:0.011263\n",
      "[17]\tTrain-rmse:0.009011\tScore-rmse:0.009011\tCV-rmse:0.009013\n",
      "[18]\tTrain-rmse:0.007211\tScore-rmse:0.007211\tCV-rmse:0.007212\n",
      "[19]\tTrain-rmse:0.005771\tScore-rmse:0.005771\tCV-rmse:0.005773\n",
      "[20]\tTrain-rmse:0.004619\tScore-rmse:0.00462\tCV-rmse:0.004622\n",
      "[21]\tTrain-rmse:0.003699\tScore-rmse:0.0037\tCV-rmse:0.003701\n",
      "[22]\tTrain-rmse:0.002963\tScore-rmse:0.002964\tCV-rmse:0.002966\n",
      "[23]\tTrain-rmse:0.002376\tScore-rmse:0.002377\tCV-rmse:0.002379\n",
      "[24]\tTrain-rmse:0.001907\tScore-rmse:0.001908\tCV-rmse:0.00191\n",
      "[25]\tTrain-rmse:0.001534\tScore-rmse:0.001535\tCV-rmse:0.001537\n",
      "[26]\tTrain-rmse:0.001237\tScore-rmse:0.001239\tCV-rmse:0.001241\n",
      "[27]\tTrain-rmse:0.001002\tScore-rmse:0.001004\tCV-rmse:0.001006\n",
      "[28]\tTrain-rmse:0.000816\tScore-rmse:0.000819\tCV-rmse:0.000821\n",
      "[29]\tTrain-rmse:0.000671\tScore-rmse:0.000674\tCV-rmse:0.000677\n",
      "[30]\tTrain-rmse:0.000559\tScore-rmse:0.000563\tCV-rmse:0.000565\n",
      "[31]\tTrain-rmse:0.000473\tScore-rmse:0.000477\tCV-rmse:0.00048\n",
      "[32]\tTrain-rmse:0.000409\tScore-rmse:0.000414\tCV-rmse:0.000416\n",
      "[33]\tTrain-rmse:0.000361\tScore-rmse:0.000367\tCV-rmse:0.00037\n",
      "[34]\tTrain-rmse:0.000328\tScore-rmse:0.000334\tCV-rmse:0.000337\n",
      "[35]\tTrain-rmse:0.000304\tScore-rmse:0.000311\tCV-rmse:0.000314\n",
      "[36]\tTrain-rmse:0.000288\tScore-rmse:0.000295\tCV-rmse:0.000298\n",
      "[37]\tTrain-rmse:0.000277\tScore-rmse:0.000284\tCV-rmse:0.000287\n",
      "[38]\tTrain-rmse:0.000269\tScore-rmse:0.000277\tCV-rmse:0.00028\n",
      "[39]\tTrain-rmse:0.000265\tScore-rmse:0.000272\tCV-rmse:0.000275\n",
      "[40]\tTrain-rmse:0.000261\tScore-rmse:0.000269\tCV-rmse:0.000272\n",
      "[41]\tTrain-rmse:0.000259\tScore-rmse:0.000267\tCV-rmse:0.00027\n",
      "[42]\tTrain-rmse:0.000258\tScore-rmse:0.000266\tCV-rmse:0.000269\n",
      "[43]\tTrain-rmse:0.000257\tScore-rmse:0.000265\tCV-rmse:0.000268\n",
      "[44]\tTrain-rmse:0.000256\tScore-rmse:0.000264\tCV-rmse:0.000267\n",
      "[45]\tTrain-rmse:0.000255\tScore-rmse:0.000264\tCV-rmse:0.000267\n",
      "[46]\tTrain-rmse:0.000255\tScore-rmse:0.000263\tCV-rmse:0.000266\n",
      "[47]\tTrain-rmse:0.000255\tScore-rmse:0.000263\tCV-rmse:0.000266\n",
      "[48]\tTrain-rmse:0.000254\tScore-rmse:0.000263\tCV-rmse:0.000266\n",
      "[49]\tTrain-rmse:0.000254\tScore-rmse:0.000263\tCV-rmse:0.000266\n",
      "[50]\tTrain-rmse:0.000253\tScore-rmse:0.000262\tCV-rmse:0.000265\n",
      "[51]\tTrain-rmse:0.000253\tScore-rmse:0.000262\tCV-rmse:0.000265\n",
      "[52]\tTrain-rmse:0.000253\tScore-rmse:0.000262\tCV-rmse:0.000265\n",
      "[53]\tTrain-rmse:0.000253\tScore-rmse:0.000262\tCV-rmse:0.000265\n",
      "[54]\tTrain-rmse:0.000252\tScore-rmse:0.000262\tCV-rmse:0.000265\n",
      "[55]\tTrain-rmse:0.000252\tScore-rmse:0.000262\tCV-rmse:0.000265\n",
      "[56]\tTrain-rmse:0.000252\tScore-rmse:0.000262\tCV-rmse:0.000265\n",
      "[57]\tTrain-rmse:0.000252\tScore-rmse:0.000262\tCV-rmse:0.000265\n",
      "[58]\tTrain-rmse:0.000252\tScore-rmse:0.000262\tCV-rmse:0.000265\n",
      "[59]\tTrain-rmse:0.000252\tScore-rmse:0.000262\tCV-rmse:0.000265\n",
      "[60]\tTrain-rmse:0.000252\tScore-rmse:0.000262\tCV-rmse:0.000265\n",
      "[61]\tTrain-rmse:0.000251\tScore-rmse:0.000262\tCV-rmse:0.000265\n",
      "[62]\tTrain-rmse:0.000251\tScore-rmse:0.000262\tCV-rmse:0.000265\n",
      "[63]\tTrain-rmse:0.000251\tScore-rmse:0.000262\tCV-rmse:0.000265\n",
      "[64]\tTrain-rmse:0.000251\tScore-rmse:0.000262\tCV-rmse:0.000264\n",
      "[65]\tTrain-rmse:0.000251\tScore-rmse:0.000262\tCV-rmse:0.000264\n",
      "[66]\tTrain-rmse:0.000251\tScore-rmse:0.000262\tCV-rmse:0.000264\n",
      "[67]\tTrain-rmse:0.00025\tScore-rmse:0.000262\tCV-rmse:0.000264\n",
      "[68]\tTrain-rmse:0.00025\tScore-rmse:0.000262\tCV-rmse:0.000264\n",
      "[69]\tTrain-rmse:0.00025\tScore-rmse:0.000262\tCV-rmse:0.000264\n",
      "[70]\tTrain-rmse:0.00025\tScore-rmse:0.000261\tCV-rmse:0.000264\n",
      "[71]\tTrain-rmse:0.00025\tScore-rmse:0.000261\tCV-rmse:0.000264\n",
      "[72]\tTrain-rmse:0.00025\tScore-rmse:0.000261\tCV-rmse:0.000264\n",
      "[73]\tTrain-rmse:0.000249\tScore-rmse:0.000261\tCV-rmse:0.000264\n",
      "[74]\tTrain-rmse:0.000249\tScore-rmse:0.000261\tCV-rmse:0.000264\n",
      "[75]\tTrain-rmse:0.000249\tScore-rmse:0.000261\tCV-rmse:0.000264\n",
      "[76]\tTrain-rmse:0.000249\tScore-rmse:0.000261\tCV-rmse:0.000264\n",
      "[77]\tTrain-rmse:0.000249\tScore-rmse:0.000261\tCV-rmse:0.000264\n",
      "[78]\tTrain-rmse:0.000249\tScore-rmse:0.000261\tCV-rmse:0.000264\n",
      "[79]\tTrain-rmse:0.000249\tScore-rmse:0.000261\tCV-rmse:0.000264\n",
      "[80]\tTrain-rmse:0.000249\tScore-rmse:0.000261\tCV-rmse:0.000264\n",
      "[81]\tTrain-rmse:0.000249\tScore-rmse:0.000261\tCV-rmse:0.000264\n",
      "[82]\tTrain-rmse:0.000248\tScore-rmse:0.000261\tCV-rmse:0.000264\n",
      "[83]\tTrain-rmse:0.000248\tScore-rmse:0.000261\tCV-rmse:0.000264\n",
      "[84]\tTrain-rmse:0.000248\tScore-rmse:0.000261\tCV-rmse:0.000264\n",
      "[85]\tTrain-rmse:0.000248\tScore-rmse:0.000261\tCV-rmse:0.000264\n",
      "[86]\tTrain-rmse:0.000248\tScore-rmse:0.000261\tCV-rmse:0.000264\n",
      "[87]\tTrain-rmse:0.000248\tScore-rmse:0.000261\tCV-rmse:0.000263\n",
      "[88]\tTrain-rmse:0.000248\tScore-rmse:0.000261\tCV-rmse:0.000263\n",
      "[89]\tTrain-rmse:0.000248\tScore-rmse:0.000261\tCV-rmse:0.000263\n",
      "[90]\tTrain-rmse:0.000248\tScore-rmse:0.000261\tCV-rmse:0.000263\n",
      "[91]\tTrain-rmse:0.000247\tScore-rmse:0.000261\tCV-rmse:0.000263\n",
      "[92]\tTrain-rmse:0.000247\tScore-rmse:0.000261\tCV-rmse:0.000263\n",
      "[93]\tTrain-rmse:0.000247\tScore-rmse:0.000261\tCV-rmse:0.000263\n",
      "[94]\tTrain-rmse:0.000247\tScore-rmse:0.000261\tCV-rmse:0.000263\n",
      "[95]\tTrain-rmse:0.000247\tScore-rmse:0.000261\tCV-rmse:0.000263\n",
      "[96]\tTrain-rmse:0.000247\tScore-rmse:0.000261\tCV-rmse:0.000263\n",
      "[97]\tTrain-rmse:0.000247\tScore-rmse:0.000261\tCV-rmse:0.000263\n",
      "[98]\tTrain-rmse:0.000247\tScore-rmse:0.000261\tCV-rmse:0.000263\n",
      "[99]\tTrain-rmse:0.000247\tScore-rmse:0.000261\tCV-rmse:0.000263\n",
      "[100]\tTrain-rmse:0.000247\tScore-rmse:0.000261\tCV-rmse:0.000263\n",
      "[101]\tTrain-rmse:0.000247\tScore-rmse:0.000261\tCV-rmse:0.000263\n",
      "[102]\tTrain-rmse:0.000247\tScore-rmse:0.000261\tCV-rmse:0.000263\n",
      "[103]\tTrain-rmse:0.000247\tScore-rmse:0.000261\tCV-rmse:0.000263\n",
      "[104]\tTrain-rmse:0.000246\tScore-rmse:0.000261\tCV-rmse:0.000263\n",
      "[105]\tTrain-rmse:0.000246\tScore-rmse:0.000261\tCV-rmse:0.000263\n",
      "[106]\tTrain-rmse:0.000246\tScore-rmse:0.000261\tCV-rmse:0.000263\n",
      "[107]\tTrain-rmse:0.000246\tScore-rmse:0.000261\tCV-rmse:0.000263\n",
      "[108]\tTrain-rmse:0.000246\tScore-rmse:0.000261\tCV-rmse:0.000263\n",
      "[109]\tTrain-rmse:0.000246\tScore-rmse:0.00026\tCV-rmse:0.000263\n",
      "[110]\tTrain-rmse:0.000246\tScore-rmse:0.00026\tCV-rmse:0.000263\n",
      "[111]\tTrain-rmse:0.000246\tScore-rmse:0.00026\tCV-rmse:0.000263\n",
      "[112]\tTrain-rmse:0.000246\tScore-rmse:0.00026\tCV-rmse:0.000263\n",
      "[113]\tTrain-rmse:0.000246\tScore-rmse:0.00026\tCV-rmse:0.000263\n",
      "[114]\tTrain-rmse:0.000246\tScore-rmse:0.00026\tCV-rmse:0.000263\n",
      "[115]\tTrain-rmse:0.000246\tScore-rmse:0.00026\tCV-rmse:0.000263\n",
      "[116]\tTrain-rmse:0.000246\tScore-rmse:0.00026\tCV-rmse:0.000263\n",
      "[117]\tTrain-rmse:0.000246\tScore-rmse:0.00026\tCV-rmse:0.000263\n",
      "Stopping. Best iteration:\n",
      "[87]\tTrain-rmse:0.000248\tScore-rmse:0.000261\tCV-rmse:0.000263\n",
      "\n"
     ]
    },
    {
     "name": "stderr",
     "output_type": "stream",
     "text": [
      "C:\\WinPython-64bit-3.6.1.0Qt5\\python-3.6.1.amd64\\lib\\site-packages\\simplejson\\encoder.py:291: DeprecationWarning: Interpreting naive datetime as local 2018-02-01 19:36:02.521412. Please add timezone info to timestamps.\n",
      "  chunks = self.iterencode(o, _one_shot=True)\n"
     ]
    }
   ],
   "source": [
    "model = None\n",
    "boost_hp = dict(\n",
    "    objective = 'reg:linear',\n",
    "    booste = 'gbtree',\n",
    "    max_depth = 5, #12,\n",
    "    subsample = 1,\n",
    "    colsample_bytree = 1,\n",
    "    colsample_bylevel = 1,\n",
    "    tree_method = 'exact',\n",
    "    gamma = 0.00003,\n",
    "    min_child_weight = 1000,\n",
    "    eta = 0.2,\n",
    "    seed = 0\n",
    ")\n",
    "cv_hp = dict(\n",
    "    num_boost_round = 300,\n",
    "    early_stopping_rounds = 30,\n",
    "    nfold = 10,\n",
    "    stratified = True,\n",
    "    seed = 0,\n",
    ")\n",
    "learn_hp = dict(\n",
    "    num_boost_round = 300,\n",
    "    early_stopping_rounds = 30,\n",
    "    evals = [[dmat.tr, 'Train'], [dmat.sc, 'Score'], [dmat.cv, 'CV']]\n",
    ")\n",
    "model = xgb.train(boost_hp, dmat.tr, **learn_hp)"
   ]
  },
  {
   "cell_type": "code",
   "execution_count": 563,
   "metadata": {},
   "outputs": [
    {
     "data": {
      "image/png": "[encoded data removed]",
      "text/plain": [
       "<matplotlib.figure.Figure at 0x1ffa38c64e0>"
      ]
     },
     "metadata": {},
     "output_type": "display_data"
    },
    {
     "name": "stderr",
     "output_type": "stream",
     "text": [
      "C:\\WinPython-64bit-3.6.1.0Qt5\\python-3.6.1.amd64\\lib\\site-packages\\simplejson\\encoder.py:291: DeprecationWarning: Interpreting naive datetime as local 2018-02-01 19:30:25.702557. Please add timezone info to timestamps.\n",
      "  chunks = self.iterencode(o, _one_shot=True)\n"
     ]
    }
   ],
   "source": [
    "y_ = model.predict(dmat.tr)\n",
    "plt.plot(y_);"
   ]
  },
  {
   "cell_type": "code",
   "execution_count": 529,
   "metadata": {},
   "outputs": [
    {
     "data": {
      "image/png": "[encoded data removed]",
      "text/plain": [
       "<matplotlib.figure.Figure at 0x1ffa7332710>"
      ]
     },
     "metadata": {},
     "output_type": "display_data"
    },
    {
     "name": "stderr",
     "output_type": "stream",
     "text": [
      "C:\\WinPython-64bit-3.6.1.0Qt5\\python-3.6.1.amd64\\lib\\site-packages\\simplejson\\encoder.py:291: DeprecationWarning: Interpreting naive datetime as local 2018-02-01 19:05:32.007549. Please add timezone info to timestamps.\n",
      "  chunks = self.iterencode(o, _one_shot=True)\n"
     ]
    }
   ],
   "source": [
    "y_ = model.predict(dmat.sc)\n",
    "plt.plot(y_);"
   ]
  },
  {
   "cell_type": "code",
   "execution_count": 530,
   "metadata": {},
   "outputs": [
    {
     "data": {
      "image/png": "[encoded data removed]",
      "text/plain": [
       "<matplotlib.figure.Figure at 0x1ffb9a202b0>"
      ]
     },
     "metadata": {},
     "output_type": "display_data"
    },
    {
     "name": "stderr",
     "output_type": "stream",
     "text": [
      "C:\\WinPython-64bit-3.6.1.0Qt5\\python-3.6.1.amd64\\lib\\site-packages\\simplejson\\encoder.py:291: DeprecationWarning: Interpreting naive datetime as local 2018-02-01 19:05:36.390072. Please add timezone info to timestamps.\n",
      "  chunks = self.iterencode(o, _one_shot=True)\n"
     ]
    }
   ],
   "source": [
    "xtest = thedh.iloc[N_TRAIN:].values\n",
    "dmat.test = xgb.DMatrix(xtest, feature_names=labels)\n",
    "ytest_ = model.predict(dmat.test)\n",
    "plt.plot(ytest_);"
   ]
  },
  {
   "cell_type": "code",
   "execution_count": 565,
   "metadata": {},
   "outputs": [
    {
     "name": "stderr",
     "output_type": "stream",
     "text": [
      "C:\\WinPython-64bit-3.6.1.0Qt5\\python-3.6.1.amd64\\lib\\site-packages\\simplejson\\encoder.py:291: DeprecationWarning: Interpreting naive datetime as local 2018-02-01 19:32:21.861636. Please add timezone info to timestamps.\n",
      "  chunks = self.iterencode(o, _one_shot=True)\n"
     ]
    }
   ],
   "source": [
    "ypred = pd.Series(ytest_).rename('y')\n",
    "ypred.index.name = 'Index'\n",
    "ypred.to_csv('model1.csv', header=True)\n",
    "with open('days_order.txt', 'w') as file:\n",
    "    print('\\n'.join(str(x) for x in days), file=file)\n",
    "omodel = model\n",
    "odays = days"
   ]
  },
  {
   "cell_type": "code",
   "execution_count": 566,
   "metadata": {},
   "outputs": [
    {
     "data": {
      "text/plain": [
       "[('x4', 99),\n",
       " ('y mean', 65),\n",
       " ('x3E', 62),\n",
       " ('x3D', 52),\n",
       " ('x3D rank', 46),\n",
       " ('x3A rank', 42),\n",
       " ('x3E rank', 41),\n",
       " ('x5', 35),\n",
       " ('x3A', 34),\n",
       " ('x0 rank', 28),\n",
       " ('x3C', 26),\n",
       " ('x4 rank', 24),\n",
       " ('x0', 22),\n",
       " ('x3B', 21),\n",
       " ('x1', 16),\n",
       " ('x5 rank', 15),\n",
       " ('Biweek0', 14),\n",
       " ('x2', 12),\n",
       " ('y mean((44))center', 10),\n",
       " ('y mean((54))center', 8),\n",
       " ('y mean((57))center', 8),\n",
       " ('y mean((39))center', 8),\n",
       " ('y mean((5))center', 8),\n",
       " ('y mean((45))center', 7),\n",
       " ('y mean((55))center', 7),\n",
       " ('y mean((22))center', 7),\n",
       " ('y mean((23))center', 7),\n",
       " ('y mean((13))center', 6),\n",
       " ('y mean((29))center', 6),\n",
       " ('y mean((42))center', 6),\n",
       " ('y mean((24))center', 6),\n",
       " ('y mean((17))center', 6),\n",
       " ('y mean((12))center', 6),\n",
       " ('Market_1', 6),\n",
       " ('y mean((43))center', 6),\n",
       " ('y mean((10))center', 6),\n",
       " ('x2 rank', 6),\n",
       " ('y mean((20))center', 6),\n",
       " ('y mean((26))center', 6),\n",
       " ('y mean((16))center', 6),\n",
       " ('x1 rank', 6),\n",
       " ('y mean((50))center', 5),\n",
       " ('y mean((38))center', 5),\n",
       " ('y mean((37))center', 5),\n",
       " ('y mean((47))center', 5),\n",
       " ('y mean((40))center', 5),\n",
       " ('y mean((25))center', 5),\n",
       " ('y mean((8))center', 5),\n",
       " ('y mean((32))center', 5),\n",
       " ('y mean((56))center', 4),\n",
       " ('y mean((31))center', 4),\n",
       " ('y mean((41))center', 4),\n",
       " ('y mean((49))center', 4),\n",
       " ('y mean((14))center', 4),\n",
       " ('Market_2', 4),\n",
       " ('y mean((6))center', 4),\n",
       " ('x6 rank', 4),\n",
       " ('y mean((34))center', 3),\n",
       " ('Market_4', 3),\n",
       " ('y mean((48))center', 3),\n",
       " ('y mean((46))center', 3),\n",
       " ('y mean((21))center', 3),\n",
       " ('y mean((30))center', 3),\n",
       " ('y mean((35))center', 3),\n",
       " ('x3C rank', 3),\n",
       " ('y mean((28))center', 3),\n",
       " ('y mean((15))center', 2),\n",
       " ('Market_3', 2),\n",
       " ('x3B rank', 2),\n",
       " ('y mean((7))center', 2),\n",
       " ('y mean((18))center', 2),\n",
       " ('y mean((53))center', 2),\n",
       " ('y mean((27))center', 2),\n",
       " ('y mean((51))center', 2),\n",
       " ('y mean((19))center', 2),\n",
       " ('x6', 2),\n",
       " ('Biweek1', 1),\n",
       " ('y mean((33))center', 1),\n",
       " ('y mean((36))center', 1)]"
      ]
     },
     "execution_count": 566,
     "metadata": {},
     "output_type": "execute_result"
    },
    {
     "name": "stderr",
     "output_type": "stream",
     "text": [
      "C:\\WinPython-64bit-3.6.1.0Qt5\\python-3.6.1.amd64\\lib\\site-packages\\simplejson\\encoder.py:291: DeprecationWarning: Interpreting naive datetime as local 2018-02-01 19:32:27.645363. Please add timezone info to timestamps.\n",
      "  chunks = self.iterencode(o, _one_shot=True)\n"
     ]
    }
   ],
   "source": [
    "sorted(model.get_score().items(), key=lambda x: -x[1])"
   ]
  },
  {
   "cell_type": "code",
   "execution_count": 77,
   "metadata": {
    "collapsed": true
   },
   "outputs": [
    {
     "name": "stdout",
     "output_type": "stream",
     "text": [
      "<0>\n",
      "0:leaf=-0.0999974\n",
      "\n",
      "<1>\n",
      "0:leaf=-0.0799979\n",
      "\n",
      "<2>\n",
      "0:leaf=-0.0639983\n",
      "\n",
      "<3>\n",
      "0:leaf=-0.0511987\n",
      "\n",
      "<4>\n",
      "0:[Market_1<-1e-06] yes=1,no=2,missing=1\n",
      "\t1:leaf=-0\n",
      "\t2:[Market_1<-1e-06] yes=3,no=4,missing=3\n",
      "\t\t3:leaf=-0\n",
      "\t\t4:[Market_1<-1e-06] yes=5,no=6,missing=5\n",
      "\t\t\t5:leaf=-0\n",
      "\t\t\t6:[Market_1<-1e-06] yes=7,no=8,missing=7\n",
      "\t\t\t\t7:leaf=-0\n",
      "\t\t\t\t8:[Market_1<-1e-06] yes=9,no=10,missing=9\n",
      "\t\t\t\t\t9:leaf=-0\n",
      "\t\t\t\t\t10:[Market_1<-1e-06] yes=11,no=12,missing=11\n",
      "\t\t\t\t\t\t11:leaf=-0\n",
      "\t\t\t\t\t\t12:[Market_1<-1e-06] yes=13,no=14,missing=13\n",
      "\t\t\t\t\t\t\t13:leaf=-0\n",
      "\t\t\t\t\t\t\t14:[Market_1<-1e-06] yes=15,no=16,missing=15\n",
      "\t\t\t\t\t\t\t\t15:leaf=-0\n",
      "\t\t\t\t\t\t\t\t16:[Market_1<-1e-06] yes=17,no=18,missing=17\n",
      "\t\t\t\t\t\t\t\t\t17:leaf=-0\n",
      "\t\t\t\t\t\t\t\t\t18:leaf=-0.0409589\n",
      "\n",
      "<5>\n",
      "0:[Market_1<-1e-06] yes=1,no=2,missing=1\n",
      "\t1:leaf=-0\n",
      "\t2:[Market_1<-1e-06] yes=3,no=4,missing=3\n",
      "\t\t3:leaf=-0\n",
      "\t\t4:[Market_1<-1e-06] yes=5,no=6,missing=5\n",
      "\t\t\t5:leaf=-0\n",
      "\t\t\t6:[Market_1<-1e-06] yes=7,no=8,missing=7\n",
      "\t\t\t\t7:leaf=-0\n",
      "\t\t\t\t8:[Market_1<-1e-06] yes=9,no=10,missing=9\n",
      "\t\t\t\t\t9:leaf=-0\n",
      "\t\t\t\t\t10:[Market_1<-1e-06] yes=11,no=12,missing=11\n",
      "\t\t\t\t\t\t11:leaf=-0\n",
      "\t\t\t\t\t\t12:[Market_1<-1e-06] yes=13,no=14,missing=13\n",
      "\t\t\t\t\t\t\t13:leaf=-0\n",
      "\t\t\t\t\t\t\t14:[Market_1<-1e-06] yes=15,no=16,missing=15\n",
      "\t\t\t\t\t\t\t\t15:leaf=-0\n",
      "\t\t\t\t\t\t\t\t16:[Market_1<-1e-06] yes=17,no=18,missing=17\n",
      "\t\t\t\t\t\t\t\t\t17:leaf=-0\n",
      "\t\t\t\t\t\t\t\t\t18:leaf=-0.0327671\n",
      "\n",
      "<6>\n",
      "0:[x4<0.0063692] yes=1,no=2,missing=1\n",
      "\t1:[Market_1<-1e-06] yes=3,no=4,missing=3\n",
      "\t\t3:leaf=-0\n",
      "\t\t4:[Market_1<-1e-06] yes=7,no=8,missing=7\n",
      "\t\t\t7:leaf=-0\n",
      "\t\t\t8:[Market_1<-1e-06] yes=11,no=12,missing=11\n",
      "\t\t\t\t11:leaf=-0\n",
      "\t\t\t\t12:[Market_1<-1e-06] yes=15,no=16,missing=15\n",
      "\t\t\t\t\t15:leaf=-0\n",
      "\t\t\t\t\t16:[Market_1<-1e-06] yes=19,no=20,missing=19\n",
      "\t\t\t\t\t\t19:leaf=-0\n",
      "\t\t\t\t\t\t20:[Market_1<-1e-06] yes=23,no=24,missing=23\n",
      "\t\t\t\t\t\t\t23:leaf=-0\n",
      "\t\t\t\t\t\t\t24:[Market_1<-1e-06] yes=27,no=28,missing=27\n",
      "\t\t\t\t\t\t\t\t27:leaf=-0\n",
      "\t\t\t\t\t\t\t\t28:[Market_1<-1e-06] yes=31,no=32,missing=31\n",
      "\t\t\t\t\t\t\t\t\t31:leaf=-0\n",
      "\t\t\t\t\t\t\t\t\t32:leaf=-0.0262149\n",
      "\t2:[Market_1<-1e-06] yes=5,no=6,missing=5\n",
      "\t\t5:leaf=-0\n",
      "\t\t6:[Market_1<-1e-06] yes=9,no=10,missing=9\n",
      "\t\t\t9:leaf=-0\n",
      "\t\t\t10:[Market_1<-1e-06] yes=13,no=14,missing=13\n",
      "\t\t\t\t13:leaf=-0\n",
      "\t\t\t\t14:[Market_1<-1e-06] yes=17,no=18,missing=17\n",
      "\t\t\t\t\t17:leaf=-0\n",
      "\t\t\t\t\t18:[Market_1<-1e-06] yes=21,no=22,missing=21\n",
      "\t\t\t\t\t\t21:leaf=-0\n",
      "\t\t\t\t\t\t22:[Market_1<-1e-06] yes=25,no=26,missing=25\n",
      "\t\t\t\t\t\t\t25:leaf=-0\n",
      "\t\t\t\t\t\t\t26:[Market_1<-1e-06] yes=29,no=30,missing=29\n",
      "\t\t\t\t\t\t\t\t29:leaf=-0\n",
      "\t\t\t\t\t\t\t\t30:[Market_1<-1e-06] yes=33,no=34,missing=33\n",
      "\t\t\t\t\t\t\t\t\t33:leaf=-0\n",
      "\t\t\t\t\t\t\t\t\t34:leaf=-0.0259822\n",
      "\n",
      "<7>\n",
      "0:[x4<0.00374785] yes=1,no=2,missing=1\n",
      "\t1:leaf=-0.0209728\n",
      "\t2:[x0<0.00143822] yes=3,no=4,missing=3\n",
      "\t\t3:leaf=-0.0207586\n",
      "\t\t4:leaf=-0.020998\n",
      "\n",
      "<8>\n",
      "0:[x4 (-1)<0.00330195] yes=1,no=2,missing=1\n",
      "\t1:[Market_1<-1e-06] yes=3,no=4,missing=3\n",
      "\t\t3:leaf=-0\n",
      "\t\t4:[Market_1<-1e-06] yes=7,no=8,missing=7\n",
      "\t\t\t7:leaf=-0\n",
      "\t\t\t8:[Market_1<-1e-06] yes=13,no=14,missing=13\n",
      "\t\t\t\t13:leaf=-0\n",
      "\t\t\t\t14:[Market_1<-1e-06] yes=19,no=20,missing=19\n",
      "\t\t\t\t\t19:leaf=-0\n",
      "\t\t\t\t\t20:[Market_1<-1e-06] yes=25,no=26,missing=25\n",
      "\t\t\t\t\t\t25:leaf=-0\n",
      "\t\t\t\t\t\t26:[Market_1<-1e-06] yes=31,no=32,missing=31\n",
      "\t\t\t\t\t\t\t31:leaf=-0\n",
      "\t\t\t\t\t\t\t32:[Market_1<-1e-06] yes=37,no=38,missing=37\n",
      "\t\t\t\t\t\t\t\t37:leaf=-0\n",
      "\t\t\t\t\t\t\t\t38:[Market_1<-1e-06] yes=43,no=44,missing=43\n",
      "\t\t\t\t\t\t\t\t\t43:leaf=-0\n",
      "\t\t\t\t\t\t\t\t\t44:leaf=-0.0167785\n",
      "\t2:[Market_1<0.5] yes=5,no=6,missing=5\n",
      "\t\t5:[Market_1<-1e-06] yes=9,no=10,missing=9\n",
      "\t\t\t9:leaf=-0\n",
      "\t\t\t10:[Market_1<-1e-06] yes=15,no=16,missing=15\n",
      "\t\t\t\t15:leaf=-0\n",
      "\t\t\t\t16:[Market_1<-1e-06] yes=21,no=22,missing=21\n",
      "\t\t\t\t\t21:leaf=-0\n",
      "\t\t\t\t\t22:[Market_1<-1e-06] yes=27,no=28,missing=27\n",
      "\t\t\t\t\t\t27:leaf=-0\n",
      "\t\t\t\t\t\t28:[Market_1<-1e-06] yes=33,no=34,missing=33\n",
      "\t\t\t\t\t\t\t33:leaf=-0\n",
      "\t\t\t\t\t\t\t34:[Market_1<-1e-06] yes=39,no=40,missing=39\n",
      "\t\t\t\t\t\t\t\t39:leaf=-0\n",
      "\t\t\t\t\t\t\t\t40:[Market_1<-1e-06] yes=45,no=46,missing=45\n",
      "\t\t\t\t\t\t\t\t\t45:leaf=-0\n",
      "\t\t\t\t\t\t\t\t\t46:leaf=-0.0167672\n",
      "\t\t6:[Market_1<-9.53674e-07] yes=11,no=12,missing=11\n",
      "\t\t\t11:leaf=-0\n",
      "\t\t\t12:[Market_1<-9.53674e-07] yes=17,no=18,missing=17\n",
      "\t\t\t\t17:leaf=-0\n",
      "\t\t\t\t18:[Market_1<-9.53674e-07] yes=23,no=24,missing=23\n",
      "\t\t\t\t\t23:leaf=-0\n",
      "\t\t\t\t\t24:[Market_1<-9.53674e-07] yes=29,no=30,missing=29\n",
      "\t\t\t\t\t\t29:leaf=-0\n",
      "\t\t\t\t\t\t30:[Market_1<-9.53674e-07] yes=35,no=36,missing=35\n",
      "\t\t\t\t\t\t\t35:leaf=-0\n",
      "\t\t\t\t\t\t\t36:[Market_1<-9.53674e-07] yes=41,no=42,missing=41\n",
      "\t\t\t\t\t\t\t\t41:leaf=-0\n",
      "\t\t\t\t\t\t\t\t42:[Market_1<-9.53674e-07] yes=47,no=48,missing=47\n",
      "\t\t\t\t\t\t\t\t\t47:leaf=-0\n",
      "\t\t\t\t\t\t\t\t\t48:leaf=-0.0165743\n",
      "\n",
      "<9>\n",
      "0:[x4<0.00765265] yes=1,no=2,missing=1\n",
      "\t1:[x3E<0.000259271] yes=3,no=4,missing=3\n",
      "\t\t3:[x4<0.0026057] yes=7,no=8,missing=7\n",
      "\t\t\t7:[Market_4<0.5] yes=11,no=12,missing=11\n",
      "\t\t\t\t11:leaf=-0.0134203\n",
      "\t\t\t\t12:leaf=-0.0134477\n",
      "\t\t\t8:[x0<0.0028477] yes=13,no=14,missing=13\n",
      "\t\t\t\t13:[Market_1<-1e-06] yes=17,no=18,missing=17\n",
      "\t\t\t\t\t17:leaf=-0\n",
      "\t\t\t\t\t18:[Market_1<-1e-06] yes=23,no=24,missing=23\n",
      "\t\t\t\t\t\t23:leaf=-0\n",
      "\t\t\t\t\t\t24:[Market_1<-1e-06] yes=29,no=30,missing=29\n",
      "\t\t\t\t\t\t\t29:leaf=-0\n",
      "\t\t\t\t\t\t\t30:[Market_1<-1e-06] yes=35,no=36,missing=35\n",
      "\t\t\t\t\t\t\t\t35:leaf=-0\n",
      "\t\t\t\t\t\t\t\t36:[Market_1<-1e-06] yes=41,no=42,missing=41\n",
      "\t\t\t\t\t\t\t\t\t41:leaf=-0\n",
      "\t\t\t\t\t\t\t\t\t42:leaf=-0.0133203\n",
      "\t\t\t\t14:[Market_1<-1e-06] yes=19,no=20,missing=19\n",
      "\t\t\t\t\t19:leaf=-0\n",
      "\t\t\t\t\t20:[Market_1<-1e-06] yes=25,no=26,missing=25\n",
      "\t\t\t\t\t\t25:leaf=-0\n",
      "\t\t\t\t\t\t26:[Market_1<-1e-06] yes=31,no=32,missing=31\n",
      "\t\t\t\t\t\t\t31:leaf=-0\n",
      "\t\t\t\t\t\t\t32:[Market_1<-1e-06] yes=37,no=38,missing=37\n",
      "\t\t\t\t\t\t\t\t37:leaf=-0\n",
      "\t\t\t\t\t\t\t\t38:[Market_1<-1e-06] yes=43,no=44,missing=43\n",
      "\t\t\t\t\t\t\t\t\t43:leaf=-0\n",
      "\t\t\t\t\t\t\t\t\t44:leaf=-0.013433\n",
      "\t\t4:leaf=-0.0136347\n",
      "\t2:[x3E<0.000181847] yes=5,no=6,missing=5\n",
      "\t\t5:[Market_1<-1e-06] yes=9,no=10,missing=9\n",
      "\t\t\t9:leaf=-0\n",
      "\t\t\t10:[Market_1<-1e-06] yes=15,no=16,missing=15\n",
      "\t\t\t\t15:leaf=-0\n",
      "\t\t\t\t16:[Market_1<-1e-06] yes=21,no=22,missing=21\n",
      "\t\t\t\t\t21:leaf=-0\n",
      "\t\t\t\t\t22:[Market_1<-1e-06] yes=27,no=28,missing=27\n",
      "\t\t\t\t\t\t27:leaf=-0\n",
      "\t\t\t\t\t\t28:[Market_1<-1e-06] yes=33,no=34,missing=33\n",
      "\t\t\t\t\t\t\t33:leaf=-0\n",
      "\t\t\t\t\t\t\t34:[Market_1<-1e-06] yes=39,no=40,missing=39\n",
      "\t\t\t\t\t\t\t\t39:leaf=-0\n",
      "\t\t\t\t\t\t\t\t40:[Market_1<-1e-06] yes=45,no=46,missing=45\n",
      "\t\t\t\t\t\t\t\t\t45:leaf=-0\n",
      "\t\t\t\t\t\t\t\t\t46:leaf=-0.0131499\n",
      "\t\t6:leaf=-0.0134921\n",
      "\n",
      "<10>\n",
      "0:[x3E<0.000492394] yes=1,no=2,missing=1\n",
      "\t1:[x4<0.00704452] yes=3,no=4,missing=3\n",
      "\t\t3:[x3E<0.000107622] yes=7,no=8,missing=7\n",
      "\t\t\t7:[x4<0.0023872] yes=11,no=12,missing=11\n",
      "\t\t\t\t11:[Market_4<0.5] yes=15,no=16,missing=15\n",
      "\t\t\t\t\t15:leaf=-0.0107361\n",
      "\t\t\t\t\t16:leaf=-0.0107582\n",
      "\t\t\t\t12:[Market_1<0.5] yes=17,no=18,missing=17\n",
      "\t\t\t\t\t17:[Market_1<-1e-06] yes=21,no=22,missing=21\n",
      "\t\t\t\t\t\t21:leaf=-0\n",
      "\t\t\t\t\t\t22:[Market_1<-1e-06] yes=25,no=26,missing=25\n",
      "\t\t\t\t\t\t\t25:leaf=-0\n",
      "\t\t\t\t\t\t\t26:[Market_1<-1e-06] yes=27,no=28,missing=27\n",
      "\t\t\t\t\t\t\t\t27:leaf=-0\n",
      "\t\t\t\t\t\t\t\t28:[Market_1<-1e-06] yes=29,no=30,missing=29\n",
      "\t\t\t\t\t\t\t\t\t29:leaf=-0\n",
      "\t\t\t\t\t\t\t\t\t30:leaf=-0.0107178\n",
      "\t\t\t\t\t18:leaf=-0.01062\n",
      "\t\t\t8:leaf=-0.0108084\n",
      "\t\t4:[Market_3<0.5] yes=9,no=10,missing=9\n",
      "\t\t\t9:[x0<4.74983e-33] yes=13,no=14,missing=13\n",
      "\t\t\t\t13:[x2 (-1)<40.4744] yes=19,no=20,missing=19\n",
      "\t\t\t\t\t19:[x4<0.0455795] yes=23,no=24,missing=23\n",
      "\t\t\t\t\t\t23:leaf=-0.0088963\n",
      "\t\t\t\t\t\t24:leaf=-0.0020494\n",
      "\t\t\t\t\t20:leaf=-0.00224089\n",
      "\t\t\t\t14:leaf=-0.0105198\n",
      "\t\t\t10:leaf=-0.0107969\n",
      "\t2:[x1 (-1)<0.0195989] yes=5,no=6,missing=6\n",
      "\t\t5:leaf=-0.00210798\n",
      "\t\t6:leaf=-0.0110395\n",
      "\n"
     ]
    },
    {
     "name": "stderr",
     "output_type": "stream",
     "text": [
      "C:\\WinPython-64bit-3.6.1.0Qt5\\python-3.6.1.amd64\\lib\\site-packages\\simplejson\\encoder.py:291: DeprecationWarning: Interpreting naive datetime as local 2018-01-31 22:32:44.135640. Please add timezone info to timestamps.\n",
      "  chunks = self.iterencode(o, _one_shot=True)\n"
     ]
    }
   ],
   "source": [
    "for i, tree in enumerate(model.get_dump()):\n",
    "    print('<{}>'.format(i))\n",
    "    print(tree)\n",
    "    if i >= 10:\n",
    "        break"
   ]
  },
  {
   "cell_type": "markdown",
   "metadata": {},
   "source": [
    "## predict y-rank"
   ]
  },
  {
   "cell_type": "markdown",
   "metadata": {},
   "source": [
    "# Split model"
   ]
  },
  {
   "cell_type": "markdown",
   "metadata": {},
   "source": [
    "# Abs model"
   ]
  }
 ],
 "metadata": {
  "kernelspec": {
   "display_name": "Python 3",
   "language": "python",
   "name": "python3"
  },
  "language_info": {
   "codemirror_mode": {
    "name": "ipython",
    "version": 3
   },
   "file_extension": ".py",
   "mimetype": "text/x-python",
   "name": "python",
   "nbconvert_exporter": "python",
   "pygments_lexer": "ipython3",
   "version": "3.6.1"
  }
 },
 "nbformat": 4,
 "nbformat_minor": 2
}
