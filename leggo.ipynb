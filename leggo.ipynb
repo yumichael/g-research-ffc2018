{
 "cells": [
  {
   "cell_type": "code",
   "execution_count": 1,
   "metadata": {
    "collapsed": true
   },
   "outputs": [],
   "source": [
    "%matplotlib inline\n",
    "import numpy as np\n",
    "import pandas as pd\n",
    "import matplotlib.pyplot as plt\n",
    "#import seaborn as sns\n",
    "#import sklearn.linear_model\n",
    "import xgboost as xgb\n",
    "from pytil.object import Namespace as O\n",
    "from pytil.utility import *\n",
    "from helpers import *\n",
    "from pytil.quickvis import canvas\n",
    "\n",
    "import random\n",
    "ss = slice(None)\n",
    "canvas(16, 2)"
   ]
  },
  {
   "cell_type": "code",
   "execution_count": 2,
   "metadata": {
    "collapsed": true
   },
   "outputs": [],
   "source": [
    "N_TRAIN, N_TEST = 623817, 640430\n",
    "df = pd.read_csv('train.csv', index_col=0)\n",
    "df.index = df.index - N_TRAIN\n",
    "dg = pd.read_csv('test.csv', index_col=0)\n",
    "dh = pd.concat([df, dg])\n",
    "n_stock = len(set(dh.Stock))"
   ]
  },
  {
   "cell_type": "markdown",
   "metadata": {},
   "source": [
    "# Explore"
   ]
  },
  {
   "cell_type": "code",
   "execution_count": 3,
   "metadata": {
    "collapsed": true
   },
   "outputs": [],
   "source": [
    "xfeats = 'x0 x1 x2 x3A x3B x3C x3D x3E x4 x5 x6'.split()\n",
    "idfeats = 'Market Stock'.split()"
   ]
  },
  {
   "cell_type": "code",
   "execution_count": null,
   "metadata": {
    "collapsed": true
   },
   "outputs": [],
   "source": [
    "raise Exception(\"Don't go on blindly!\")"
   ]
  },
  {
   "cell_type": "markdown",
   "metadata": {},
   "source": [
    "## feature explore"
   ]
  },
  {
   "cell_type": "code",
   "execution_count": null,
   "metadata": {
    "collapsed": true
   },
   "outputs": [],
   "source": [
    "sortdh = dh.sort_values('Day')\n",
    "res = [None] * n_stock\n",
    "for idx, ((markt, stock), td) in enumerate(sortdh.groupby(['Market', 'Stock'])):\n",
    "    data = [np.inf]\n",
    "    for i in range(1, 200):\n",
    "        roll = td.rolling(i, center=True, min_periods=1)\n",
    "        est = (roll.y.sum() - td.y) / (roll.y.count() - 1)\n",
    "        data.append((td.Weight * (est - td.y) ** 2).sum())\n",
    "    res[stock] = min(range(len(data)), key=lambda x: data[x])\n",
    "    if idx % 100 == 0:\n",
    "        print(idx)"
   ]
  },
  {
   "cell_type": "code",
   "execution_count": 542,
   "metadata": {
    "collapsed": true
   },
   "outputs": [
    {
     "data": {
      "image/png": "[encoded data removed]",
      "text/plain": [
       "<matplotlib.figure.Figure at 0x1ffa3ab6748>"
      ]
     },
     "metadata": {},
     "output_type": "display_data"
    },
    {
     "name": "stderr",
     "output_type": "stream",
     "text": [
      "C:\\WinPython-64bit-3.6.1.0Qt5\\python-3.6.1.amd64\\lib\\site-packages\\simplejson\\encoder.py:291: DeprecationWarning: Interpreting naive datetime as local 2018-02-01 19:18:24.639794. Please add timezone info to timestamps.\n",
      "  chunks = self.iterencode(o, _one_shot=True)\n"
     ]
    }
   ],
   "source": [
    "plt.hist(res, bins=200);"
   ]
  },
  {
   "cell_type": "code",
   "execution_count": null,
   "metadata": {
    "collapsed": true
   },
   "outputs": [],
   "source": [
    "13, 25, 33, 57"
   ]
  },
  {
   "cell_type": "markdown",
   "metadata": {},
   "source": [
    "## old things"
   ]
  },
  {
   "cell_type": "code",
   "execution_count": 724,
   "metadata": {
    "collapsed": true
   },
   "outputs": [
    {
     "name": "stderr",
     "output_type": "stream",
     "text": [
      "C:\\WinPython-64bit-3.6.1.0Qt5\\python-3.6.1.amd64\\lib\\site-packages\\simplejson\\encoder.py:291: DeprecationWarning: Interpreting naive datetime as local 2018-01-30 21:06:16.747078. Please add timezone info to timestamps.\n",
      "  chunks = self.iterencode(o, _one_shot=True)\n"
     ]
    }
   ],
   "source": [
    "agrp = np.abs(df).groupby('Market Stock'.split())\n",
    "wycorr = agrp.corr().loc[(slice(None), slice(None), 'Weight',), ('y',)]"
   ]
  },
  {
   "cell_type": "code",
   "execution_count": 725,
   "metadata": {
    "collapsed": true
   },
   "outputs": [
    {
     "data": {
      "text/plain": [
       "<matplotlib.axes._subplots.AxesSubplot at 0x1f29adc3550>"
      ]
     },
     "execution_count": 725,
     "metadata": {},
     "output_type": "execute_result"
    },
    {
     "data": {
      "image/png": "[encoded data removed]",
      "text/plain": [
       "<matplotlib.figure.Figure at 0x1f56f8c55f8>"
      ]
     },
     "metadata": {},
     "output_type": "display_data"
    },
    {
     "name": "stderr",
     "output_type": "stream",
     "text": [
      "C:\\WinPython-64bit-3.6.1.0Qt5\\python-3.6.1.amd64\\lib\\site-packages\\simplejson\\encoder.py:291: DeprecationWarning: Interpreting naive datetime as local 2018-01-30 21:06:31.051520. Please add timezone info to timestamps.\n",
      "  chunks = self.iterencode(o, _one_shot=True)\n"
     ]
    }
   ],
   "source": [
    "res = agrp.corr().loc[(ss, ss, 'y'), 'x4']\n",
    "res.hist(bins=120)"
   ]
  },
  {
   "cell_type": "code",
   "execution_count": 341,
   "metadata": {
    "collapsed": true
   },
   "outputs": [
    {
     "data": {
      "text/plain": [
       "<matplotlib.axes._subplots.AxesSubplot at 0x1f27ea42cf8>"
      ]
     },
     "execution_count": 341,
     "metadata": {},
     "output_type": "execute_result"
    },
    {
     "data": {
      "image/png": "[encoded data removed]",
      "text/plain": [
       "<matplotlib.figure.Figure at 0x1f27eb59da0>"
      ]
     },
     "metadata": {},
     "output_type": "display_data"
    },
    {
     "name": "stderr",
     "output_type": "stream",
     "text": [
      "C:\\WinPython-64bit-3.6.1.0Qt5\\python-3.6.1.amd64\\lib\\site-packages\\simplejson\\encoder.py:291: DeprecationWarning: Interpreting naive datetime as local 2018-01-30 09:11:33.695777. Please add timezone info to timestamps.\n",
      "  chunks = self.iterencode(o, _one_shot=True)\n"
     ]
    }
   ],
   "source": [
    "hist(grp.sum().Weight, bins=120, normed=True, cumulative=True)\n",
    "hist(grp.sum().Weight, weighted=True, bins=120, normed=True, cumulative=True)"
   ]
  },
  {
   "cell_type": "code",
   "execution_count": 394,
   "metadata": {
    "collapsed": true
   },
   "outputs": [
    {
     "name": "stderr",
     "output_type": "stream",
     "text": [
      "C:\\WinPython-64bit-3.6.1.0Qt5\\python-3.6.1.amd64\\lib\\site-packages\\simplejson\\encoder.py:291: DeprecationWarning: Interpreting naive datetime as local 2018-01-30 10:21:28.672423. Please add timezone info to timestamps.\n",
      "  chunks = self.iterencode(o, _one_shot=True)\n"
     ]
    }
   ],
   "source": [
    "listthing = [int(x[0]) for x in sorted(df[['Stock', col]].values, key=lambda x: x[1])[::-1][-1000:-500]]\n",
    "thing = list(set(listthing))"
   ]
  },
  {
   "cell_type": "code",
   "execution_count": 744,
   "metadata": {
    "collapsed": true
   },
   "outputs": [
    {
     "data": {
      "image/png": "[encoded data removed]",
      "text/plain": [
       "<matplotlib.figure.Figure at 0x1f3184ecc88>"
      ]
     },
     "metadata": {},
     "output_type": "display_data"
    },
    {
     "name": "stdout",
     "output_type": "stream",
     "text": [
      "247 0.000397538089951\n"
     ]
    },
    {
     "data": {
      "image/png": "[encoded data removed]",
      "text/plain": [
       "<matplotlib.figure.Figure at 0x1f3184ec518>"
      ]
     },
     "metadata": {},
     "output_type": "display_data"
    },
    {
     "name": "stdout",
     "output_type": "stream",
     "text": [
      "251 0.0867626267151\n"
     ]
    },
    {
     "data": {
      "image/png": "[encoded data removed]",
      "text/plain": [
       "<matplotlib.figure.Figure at 0x1f2ed833358>"
      ]
     },
     "metadata": {},
     "output_type": "display_data"
    },
    {
     "name": "stdout",
     "output_type": "stream",
     "text": [
      "251 0.204674285411\n"
     ]
    },
    {
     "data": {
      "image/png": "[encoded data removed]",
      "text/plain": [
       "<matplotlib.figure.Figure at 0x1f3192b2f28>"
      ]
     },
     "metadata": {},
     "output_type": "display_data"
    },
    {
     "name": "stdout",
     "output_type": "stream",
     "text": [
      "247 1.42622882884e-05\n"
     ]
    },
    {
     "data": {
      "image/png": "[encoded data removed]",
      "text/plain": [
       "<matplotlib.figure.Figure at 0x1f2961ea710>"
      ]
     },
     "metadata": {},
     "output_type": "display_data"
    },
    {
     "name": "stdout",
     "output_type": "stream",
     "text": [
      "247 1.6676556502e-31\n"
     ]
    },
    {
     "data": {
      "image/png": "[encoded data removed]",
      "text/plain": [
       "<matplotlib.figure.Figure at 0x1f5453db7b8>"
      ]
     },
     "metadata": {},
     "output_type": "display_data"
    },
    {
     "name": "stdout",
     "output_type": "stream",
     "text": [
      "247 9.22979973834e-14\n"
     ]
    },
    {
     "data": {
      "image/png": "[encoded data removed]",
      "text/plain": [
       "<matplotlib.figure.Figure at 0x1f5453c9320>"
      ]
     },
     "metadata": {},
     "output_type": "display_data"
    },
    {
     "name": "stdout",
     "output_type": "stream",
     "text": [
      "249 9.59286090927e-06\n"
     ]
    },
    {
     "data": {
      "image/png": "[encoded data removed]",
      "text/plain": [
       "<matplotlib.figure.Figure at 0x1f542e4def0>"
      ]
     },
     "metadata": {},
     "output_type": "display_data"
    },
    {
     "name": "stdout",
     "output_type": "stream",
     "text": [
      "247 0.0197578412492\n"
     ]
    },
    {
     "name": "stderr",
     "output_type": "stream",
     "text": [
      "C:\\WinPython-64bit-3.6.1.0Qt5\\python-3.6.1.amd64\\lib\\site-packages\\simplejson\\encoder.py:291: DeprecationWarning: Interpreting naive datetime as local 2018-01-30 21:25:03.178891. Please add timezone info to timestamps.\n",
      "  chunks = self.iterencode(o, _one_shot=True)\n"
     ]
    }
   ],
   "source": [
    "col = 'y'\n",
    "from scipy import stats\n",
    "ii = list(range(df.Stock.min(), df.Stock.max() + 1))\n",
    "random.shuffle(ii)\n",
    "ii = ii[:8]\n",
    "#ii = thing\n",
    "for i in range(len(ii)):\n",
    "    q = df.query('Stock == ' + str(ii[i]))\n",
    "    trans = q[col]\n",
    "    trans.hist(bins=120, weights=q.Weight, normed=True, alpha=.8)\n",
    "    trans.hist(bins=120, normed=True, alpha=.8)\n",
    "    plt.show()\n",
    "    print(len(trans), stats.normaltest(trans).pvalue)"
   ]
  },
  {
   "cell_type": "markdown",
   "metadata": {},
   "source": [
    "## cv days selection"
   ]
  },
  {
   "cell_type": "code",
   "execution_count": 4,
   "metadata": {},
   "outputs": [
    {
     "data": {
      "image/png": "[encoded data removed]",
      "text/plain": [
       "<matplotlib.figure.Figure at 0x7f01547ca080>"
      ]
     },
     "metadata": {},
     "output_type": "display_data"
    }
   ],
   "source": [
    "days = sorted(set(df.Day))\n",
    "weights = [df.query('Day == ' + str(day)).Weight.sum() for day in days]\n",
    "plt.plot(weights); plt.show()"
   ]
  },
  {
   "cell_type": "markdown",
   "metadata": {},
   "source": [
    "# Simple model"
   ]
  },
  {
   "cell_type": "code",
   "execution_count": 4,
   "metadata": {
    "collapsed": true
   },
   "outputs": [],
   "source": [
    "# +2 to day to get 0 % 7 == Monday"
   ]
  },
  {
   "cell_type": "code",
   "execution_count": 4,
   "metadata": {
    "collapsed": true
   },
   "outputs": [],
   "source": [
    "market = pd.get_dummies(dh[['Market']], columns=['Market'])\n",
    "stock = pd.get_dummies(dh[['Stock']], columns=['Stock'])\n",
    "#day = pd.get_dummies(dh[['Day']], columns=['Day'])"
   ]
  },
  {
   "cell_type": "code",
   "execution_count": 5,
   "metadata": {
    "collapsed": true
   },
   "outputs": [],
   "source": [
    "dayseg = dh['Day']\n",
    "off0 = (dayseg + 2) // 14\n",
    "off0.name = 'Biweek0'\n",
    "off1 = (dayseg + 2 + 7) // 14\n",
    "off1.name = 'Biweek1'\n",
    "dayseg = pd.concat([off0, off1], axis=1)"
   ]
  },
  {
   "cell_type": "code",
   "execution_count": 6,
   "metadata": {
    "collapsed": true
   },
   "outputs": [],
   "source": [
    "wkdfeats = 'Monday Tuesday Wednesday Thursday Friday'.split()\n",
    "weekday = ((dh.Day + 2) % 7)\n",
    "weekday = weekday.map({i: s for i, s in enumerate(wkdfeats)})\n",
    "weekday = pd.get_dummies(weekday)\n",
    "weekday = weekday[wkdfeats]"
   ]
  },
  {
   "cell_type": "code",
   "execution_count": 7,
   "metadata": {
    "collapsed": true
   },
   "outputs": [],
   "source": [
    "rank = 1 - dh.groupby(['Market', 'Stock']).transform(lambda x: x.rank(pct=True, method='max', ascending=False))\n",
    "rank = rank[[c for c in rank.columns if c != 'Weight' and c != 'y' and c != 'Day']]\n",
    "rank.columns = [c + ' rank' for c in rank.columns]"
   ]
  },
  {
   "cell_type": "code",
   "execution_count": 42,
   "metadata": {},
   "outputs": [],
   "source": [
    "trfilt = dh.Day.isin(days_a)\n",
    "#trfilt = dh.Day == dh.Day"
   ]
  },
  {
   "cell_type": "code",
   "execution_count": 43,
   "metadata": {
    "collapsed": true
   },
   "outputs": [],
   "source": [
    "# TODO below code inefficient due to the unoptimized y[trfilt]"
   ]
  },
  {
   "cell_type": "code",
   "execution_count": 44,
   "metadata": {
    "collapsed": true
   },
   "outputs": [],
   "source": [
    "def helper(y):\n",
    "    thing = y + np.nan\n",
    "    thing.loc[trfilt] = y[trfilt]\n",
    "    return thing\n",
    "ymean = dh.groupby(['Market', 'Stock']).y.transform(lambda y: helper(y).mean())\n",
    "ymean = ymean.fillna(0)\n",
    "ymean.name = 'y mean'"
   ]
  },
  {
   "cell_type": "code",
   "execution_count": 278,
   "metadata": {
    "collapsed": true
   },
   "outputs": [],
   "source": [
    "def get_rolling_average(x, window, *args, **kw):\n",
    "    roll = x.rolling(window, min_periods=1, *args, **kw)\n",
    "    est = (roll.sum() - x) / (roll.count() - 1)\n",
    "    return est\n",
    "def helper(y):\n",
    "    thing = y + np.nan\n",
    "    thing.loc[trfilt] = y[trfilt]\n",
    "    return thing\n",
    "timedh = dh.sort_values('Day')\n",
    "timey = timedh.groupby(['Market', 'Stock']).y\n",
    "yrolls = []\n",
    "for w in range(5, 58, 4): #[13, 25, 33, 57]:\n",
    "    roll = timey.transform(lambda y: get_rolling_average(helper(y), w, center=True))\n",
    "    roll.name = 'y mean((' + str(w) + '))center'\n",
    "    yrolls.append(roll)\n",
    "    #roll = timey.transform(lambda y: get_rolling_average(y[::-1], w, center=False)[::-1])\n",
    "    #roll.name = 'y mean((' + str(w) + '))after'\n",
    "    #yrolls.append(roll)\n",
    "    #roll = timey.transform(lambda y: get_rolling_average(y, w, center=False))\n",
    "    #roll.name = 'y mean((' + str(w) + '))before'\n",
    "    #yrolls.append(roll)"
   ]
  },
  {
   "cell_type": "code",
   "execution_count": 11,
   "metadata": {},
   "outputs": [
    {
     "data": {
      "text/plain": [
       "(2, 5, 7, 13)"
      ]
     },
     "execution_count": 11,
     "metadata": {},
     "output_type": "execute_result"
    }
   ],
   "source": [
    "aa = list(range(5, 58, 4))\n",
    "aa.index(13), aa.index(25), aa.index(33), aa.index(57)"
   ]
  },
  {
   "cell_type": "code",
   "execution_count": 12,
   "metadata": {
    "collapsed": true
   },
   "outputs": [],
   "source": [
    "windowdh = pd.concat([dh[idfeats], weekday, dh[xfeats], rank], axis=1)\n",
    "windowgrp = windowdh.groupby(idfeats)\n",
    "shifts = []\n",
    "plains = []\n",
    "for i in [-1, 1]: # <-- the shifts\n",
    "    shifted = windowgrp.shift(i)\n",
    "    if i:\n",
    "        shifted.columns = [x + ' (' + str(-i) + ')' for x in shifted.columns]\n",
    "    shifts.append(shifted)"
   ]
  },
  {
   "cell_type": "code",
   "execution_count": 13,
   "metadata": {
    "collapsed": true
   },
   "outputs": [],
   "source": [
    "#stockparts = []\n",
    "#for i in range(80):\n",
    "#    randmap = list(range(n_stock))\n",
    "#    random.shuffle(randmap)\n",
    "#    stockpart = dh.Stock.map(lambda x: randmap[x])\n",
    "#    stockpart.name = 'Stock ~' + str(i) + '~'\n",
    "#    stockparts.append(stockpart)"
   ]
  },
  {
   "cell_type": "code",
   "execution_count": 14,
   "metadata": {
    "collapsed": true
   },
   "outputs": [],
   "source": [
    "# "
   ]
  },
  {
   "cell_type": "code",
   "execution_count": 15,
   "metadata": {
    "collapsed": true
   },
   "outputs": [],
   "source": [
    "#\n",
    "try:\n",
    "    with open('days_order.txt', 'r') as file:\n",
    "        days = [int(x) for x in file.read().splitlines()]\n",
    "except FileNotFoundError:\n",
    "    days = sorted(set(df.Day))\n",
    "    random.shuffle(days)\n",
    "    print('new days')\n",
    "#\n",
    "n_days = len(days)\n",
    "#days_a, days_b, days_c = set(days[:n_days // 3]), set(days[n_days // 3:(2 * n_days) // 3]), set(days[(2 * n_days) // 3:])\n",
    "days_a, days_b = set(days[:n_days // 2]), set(days[n_days // 2:])\n",
    "#tr, cv, sc = df.Day.isin(days_a), df.Day.isin(days_b), df.Day.isin(days_c)\n",
    "tr, cv = df.Day.isin(days_a), df.Day.isin(days_b)"
   ]
  },
  {
   "cell_type": "code",
   "execution_count": 45,
   "metadata": {
    "collapsed": true
   },
   "outputs": [],
   "source": [
    "#origdh = dh[['Market'] + xfeats]\n",
    "#thedh = pd.concat([market, stock, weekday, origdh], axis=1)\n",
    "thedh = pd.concat([dh[xfeats], market, dayseg, weekday, rank, ymean] + shifts, axis=1)"
   ]
  },
  {
   "cell_type": "code",
   "execution_count": 46,
   "metadata": {
    "collapsed": true
   },
   "outputs": [],
   "source": [
    "xdf = thedh.iloc[:N_TRAIN]\n",
    "labels = list(xdf.columns)\n",
    "n = len(df)\n",
    "x = xdf.values\n",
    "y = df.y.values #(df.y - ymean).values\n",
    "y = 10000 * (y - ymean[:N_TRAIN].values)\n",
    "weight = df.Weight.values"
   ]
  },
  {
   "cell_type": "code",
   "execution_count": 47,
   "metadata": {
    "collapsed": true
   },
   "outputs": [],
   "source": [
    "#n = len(df)\n",
    "#a = list(range(n))\n",
    "#random.shuffle(a)\n",
    "#tr, cv = a[:n // 2], a[n // 2:]"
   ]
  },
  {
   "cell_type": "code",
   "execution_count": 48,
   "metadata": {
    "collapsed": true
   },
   "outputs": [],
   "source": [
    "dmat = O()\n",
    "dmat.tr = xgb.DMatrix(x[tr], y[tr], feature_names=labels, weight=weight[tr])\n",
    "dmat.cv = xgb.DMatrix(x[cv], y[cv], feature_names=labels, weight=weight[cv])\n",
    "#dmat.sc = xgb.DMatrix(x[sc], y[sc], feature_names=labels, weight=weight[sc])\n",
    "dmat.given = xgb.DMatrix(x, y, feature_names=labels, weight=weight)"
   ]
  },
  {
   "cell_type": "code",
   "execution_count": 49,
   "metadata": {
    "scrolled": true
   },
   "outputs": [
    {
     "name": "stdout",
     "output_type": "stream",
     "text": [
      "[0]\tTrain-rmse:2.98321\tCV-rmse:2.95112\n",
      "Multiple eval metrics have been passed: 'CV-rmse' will be used for early stopping.\n",
      "\n",
      "Will train until CV-rmse hasn't improved in 100 rounds.\n",
      "[1]\tTrain-rmse:2.93455\tCV-rmse:2.90554\n",
      "[2]\tTrain-rmse:2.89192\tCV-rmse:2.86658\n",
      "[3]\tTrain-rmse:2.85595\tCV-rmse:2.83356\n",
      "[4]\tTrain-rmse:2.82461\tCV-rmse:2.80561\n",
      "[5]\tTrain-rmse:2.79822\tCV-rmse:2.78163\n",
      "[6]\tTrain-rmse:2.77466\tCV-rmse:2.7611\n",
      "[7]\tTrain-rmse:2.75323\tCV-rmse:2.74333\n",
      "[8]\tTrain-rmse:2.73435\tCV-rmse:2.72751\n",
      "[9]\tTrain-rmse:2.71874\tCV-rmse:2.71443\n",
      "[10]\tTrain-rmse:2.70339\tCV-rmse:2.70197\n",
      "[11]\tTrain-rmse:2.68973\tCV-rmse:2.69122\n",
      "[12]\tTrain-rmse:2.67757\tCV-rmse:2.68206\n",
      "[13]\tTrain-rmse:2.66712\tCV-rmse:2.67471\n",
      "[14]\tTrain-rmse:2.65735\tCV-rmse:2.66754\n",
      "[15]\tTrain-rmse:2.64687\tCV-rmse:2.66027\n",
      "[16]\tTrain-rmse:2.638\tCV-rmse:2.65407\n",
      "[17]\tTrain-rmse:2.63086\tCV-rmse:2.649\n",
      "[18]\tTrain-rmse:2.62356\tCV-rmse:2.64407\n",
      "[19]\tTrain-rmse:2.61634\tCV-rmse:2.63938\n",
      "[20]\tTrain-rmse:2.61018\tCV-rmse:2.63598\n",
      "[21]\tTrain-rmse:2.60377\tCV-rmse:2.63216\n",
      "[22]\tTrain-rmse:2.59797\tCV-rmse:2.62894\n",
      "[23]\tTrain-rmse:2.59285\tCV-rmse:2.62628\n",
      "[24]\tTrain-rmse:2.58756\tCV-rmse:2.62365\n",
      "[25]\tTrain-rmse:2.58268\tCV-rmse:2.62127\n",
      "[26]\tTrain-rmse:2.57855\tCV-rmse:2.61902\n",
      "[27]\tTrain-rmse:2.57453\tCV-rmse:2.61744\n",
      "[28]\tTrain-rmse:2.57004\tCV-rmse:2.61506\n",
      "[29]\tTrain-rmse:2.56579\tCV-rmse:2.61279\n",
      "[30]\tTrain-rmse:2.56154\tCV-rmse:2.61065\n",
      "[31]\tTrain-rmse:2.55767\tCV-rmse:2.60874\n",
      "[32]\tTrain-rmse:2.55372\tCV-rmse:2.60759\n",
      "[33]\tTrain-rmse:2.54983\tCV-rmse:2.60556\n",
      "[34]\tTrain-rmse:2.54666\tCV-rmse:2.60437\n",
      "[35]\tTrain-rmse:2.54257\tCV-rmse:2.60283\n",
      "[36]\tTrain-rmse:2.53948\tCV-rmse:2.60152\n",
      "[37]\tTrain-rmse:2.53645\tCV-rmse:2.60054\n",
      "[38]\tTrain-rmse:2.53351\tCV-rmse:2.59948\n",
      "[39]\tTrain-rmse:2.53164\tCV-rmse:2.59829\n",
      "[40]\tTrain-rmse:2.52842\tCV-rmse:2.59727\n",
      "[41]\tTrain-rmse:2.52593\tCV-rmse:2.5962\n",
      "[42]\tTrain-rmse:2.52284\tCV-rmse:2.59488\n",
      "[43]\tTrain-rmse:2.52017\tCV-rmse:2.59433\n",
      "[44]\tTrain-rmse:2.51781\tCV-rmse:2.59363\n",
      "[45]\tTrain-rmse:2.51595\tCV-rmse:2.59303\n",
      "[46]\tTrain-rmse:2.5141\tCV-rmse:2.59229\n",
      "[47]\tTrain-rmse:2.51144\tCV-rmse:2.59154\n",
      "[48]\tTrain-rmse:2.50852\tCV-rmse:2.5907\n",
      "[49]\tTrain-rmse:2.50727\tCV-rmse:2.59044\n",
      "[50]\tTrain-rmse:2.50509\tCV-rmse:2.58999\n",
      "[51]\tTrain-rmse:2.50302\tCV-rmse:2.58967\n",
      "[52]\tTrain-rmse:2.50063\tCV-rmse:2.58882\n",
      "[53]\tTrain-rmse:2.4991\tCV-rmse:2.5887\n",
      "[54]\tTrain-rmse:2.49722\tCV-rmse:2.58844\n",
      "[55]\tTrain-rmse:2.49475\tCV-rmse:2.58789\n",
      "[56]\tTrain-rmse:2.49287\tCV-rmse:2.58746\n",
      "[57]\tTrain-rmse:2.49081\tCV-rmse:2.58728\n",
      "[58]\tTrain-rmse:2.48882\tCV-rmse:2.58692\n",
      "[59]\tTrain-rmse:2.48668\tCV-rmse:2.58681\n",
      "[60]\tTrain-rmse:2.48493\tCV-rmse:2.58615\n",
      "[61]\tTrain-rmse:2.48305\tCV-rmse:2.58614\n",
      "[62]\tTrain-rmse:2.48179\tCV-rmse:2.58614\n",
      "[63]\tTrain-rmse:2.47978\tCV-rmse:2.58571\n",
      "[64]\tTrain-rmse:2.47888\tCV-rmse:2.58549\n",
      "[65]\tTrain-rmse:2.4766\tCV-rmse:2.58527\n",
      "[66]\tTrain-rmse:2.47481\tCV-rmse:2.58518\n",
      "[67]\tTrain-rmse:2.47338\tCV-rmse:2.58487\n",
      "[68]\tTrain-rmse:2.47208\tCV-rmse:2.58474\n",
      "[69]\tTrain-rmse:2.4708\tCV-rmse:2.5845\n",
      "[70]\tTrain-rmse:2.46864\tCV-rmse:2.58431\n",
      "[71]\tTrain-rmse:2.46661\tCV-rmse:2.58405\n",
      "[72]\tTrain-rmse:2.46512\tCV-rmse:2.58382\n",
      "[73]\tTrain-rmse:2.46349\tCV-rmse:2.58398\n",
      "[74]\tTrain-rmse:2.46233\tCV-rmse:2.58375\n",
      "[75]\tTrain-rmse:2.46152\tCV-rmse:2.58349\n",
      "[76]\tTrain-rmse:2.45966\tCV-rmse:2.58312\n",
      "[77]\tTrain-rmse:2.45801\tCV-rmse:2.58285\n",
      "[78]\tTrain-rmse:2.45582\tCV-rmse:2.58247\n",
      "[79]\tTrain-rmse:2.45437\tCV-rmse:2.58233\n",
      "[80]\tTrain-rmse:2.45314\tCV-rmse:2.58226\n",
      "[81]\tTrain-rmse:2.45172\tCV-rmse:2.58203\n",
      "[82]\tTrain-rmse:2.44985\tCV-rmse:2.58188\n",
      "[83]\tTrain-rmse:2.44821\tCV-rmse:2.58167\n",
      "[84]\tTrain-rmse:2.44622\tCV-rmse:2.58168\n",
      "[85]\tTrain-rmse:2.44452\tCV-rmse:2.58164\n",
      "[86]\tTrain-rmse:2.44344\tCV-rmse:2.58167\n",
      "[87]\tTrain-rmse:2.4415\tCV-rmse:2.58153\n",
      "[88]\tTrain-rmse:2.43967\tCV-rmse:2.58128\n",
      "[89]\tTrain-rmse:2.43834\tCV-rmse:2.58105\n",
      "[90]\tTrain-rmse:2.43704\tCV-rmse:2.58104\n",
      "[91]\tTrain-rmse:2.43561\tCV-rmse:2.58101\n",
      "[92]\tTrain-rmse:2.43379\tCV-rmse:2.58104\n",
      "[93]\tTrain-rmse:2.43233\tCV-rmse:2.58102\n",
      "[94]\tTrain-rmse:2.43092\tCV-rmse:2.58088\n",
      "[95]\tTrain-rmse:2.43004\tCV-rmse:2.58073\n",
      "[96]\tTrain-rmse:2.4286\tCV-rmse:2.58065\n",
      "[97]\tTrain-rmse:2.42769\tCV-rmse:2.58065\n",
      "[98]\tTrain-rmse:2.42679\tCV-rmse:2.58075\n",
      "[99]\tTrain-rmse:2.42519\tCV-rmse:2.58073\n",
      "[100]\tTrain-rmse:2.42346\tCV-rmse:2.58087\n",
      "[101]\tTrain-rmse:2.42209\tCV-rmse:2.5809\n",
      "[102]\tTrain-rmse:2.4205\tCV-rmse:2.58077\n",
      "[103]\tTrain-rmse:2.41874\tCV-rmse:2.58086\n",
      "[104]\tTrain-rmse:2.41756\tCV-rmse:2.58095\n",
      "[105]\tTrain-rmse:2.41649\tCV-rmse:2.58096\n",
      "[106]\tTrain-rmse:2.41467\tCV-rmse:2.58103\n",
      "[107]\tTrain-rmse:2.41334\tCV-rmse:2.58098\n",
      "[108]\tTrain-rmse:2.41244\tCV-rmse:2.58089\n",
      "[109]\tTrain-rmse:2.41125\tCV-rmse:2.58059\n",
      "[110]\tTrain-rmse:2.4105\tCV-rmse:2.58057\n",
      "[111]\tTrain-rmse:2.4097\tCV-rmse:2.58055\n",
      "[112]\tTrain-rmse:2.40841\tCV-rmse:2.58031\n",
      "[113]\tTrain-rmse:2.40775\tCV-rmse:2.5803\n",
      "[114]\tTrain-rmse:2.40684\tCV-rmse:2.58011\n",
      "[115]\tTrain-rmse:2.4052\tCV-rmse:2.58039\n",
      "[116]\tTrain-rmse:2.40473\tCV-rmse:2.58021\n",
      "[117]\tTrain-rmse:2.40325\tCV-rmse:2.58017\n",
      "[118]\tTrain-rmse:2.40203\tCV-rmse:2.58016\n",
      "[119]\tTrain-rmse:2.401\tCV-rmse:2.58001\n",
      "[120]\tTrain-rmse:2.39937\tCV-rmse:2.58009\n",
      "[121]\tTrain-rmse:2.39775\tCV-rmse:2.58004\n",
      "[122]\tTrain-rmse:2.39668\tCV-rmse:2.58003\n",
      "[123]\tTrain-rmse:2.39566\tCV-rmse:2.57996\n",
      "[124]\tTrain-rmse:2.39433\tCV-rmse:2.58003\n",
      "[125]\tTrain-rmse:2.39354\tCV-rmse:2.58014\n",
      "[126]\tTrain-rmse:2.39285\tCV-rmse:2.58016\n",
      "[127]\tTrain-rmse:2.39149\tCV-rmse:2.57998\n",
      "[128]\tTrain-rmse:2.38947\tCV-rmse:2.58019\n",
      "[129]\tTrain-rmse:2.38854\tCV-rmse:2.58027\n",
      "[130]\tTrain-rmse:2.38782\tCV-rmse:2.58019\n",
      "[131]\tTrain-rmse:2.38634\tCV-rmse:2.58002\n",
      "[132]\tTrain-rmse:2.38511\tCV-rmse:2.57995\n",
      "[133]\tTrain-rmse:2.38386\tCV-rmse:2.58019\n",
      "[134]\tTrain-rmse:2.38261\tCV-rmse:2.58024\n",
      "[135]\tTrain-rmse:2.38089\tCV-rmse:2.58009\n",
      "[136]\tTrain-rmse:2.37994\tCV-rmse:2.58008\n",
      "[137]\tTrain-rmse:2.37891\tCV-rmse:2.58\n",
      "[138]\tTrain-rmse:2.37838\tCV-rmse:2.58001\n",
      "[139]\tTrain-rmse:2.37786\tCV-rmse:2.58004\n",
      "[140]\tTrain-rmse:2.37655\tCV-rmse:2.57991\n",
      "[141]\tTrain-rmse:2.3758\tCV-rmse:2.58003\n",
      "[142]\tTrain-rmse:2.37507\tCV-rmse:2.58002\n",
      "[143]\tTrain-rmse:2.3741\tCV-rmse:2.5802\n",
      "[144]\tTrain-rmse:2.37283\tCV-rmse:2.5802\n",
      "[145]\tTrain-rmse:2.37161\tCV-rmse:2.58026\n",
      "[146]\tTrain-rmse:2.37057\tCV-rmse:2.5802\n",
      "[147]\tTrain-rmse:2.3693\tCV-rmse:2.5801\n",
      "[148]\tTrain-rmse:2.36819\tCV-rmse:2.58015\n",
      "[149]\tTrain-rmse:2.3672\tCV-rmse:2.5803\n",
      "[150]\tTrain-rmse:2.36646\tCV-rmse:2.5803\n",
      "[151]\tTrain-rmse:2.36526\tCV-rmse:2.58028\n",
      "[152]\tTrain-rmse:2.36396\tCV-rmse:2.58033\n",
      "[153]\tTrain-rmse:2.36343\tCV-rmse:2.58032\n",
      "[154]\tTrain-rmse:2.36219\tCV-rmse:2.58007\n",
      "[155]\tTrain-rmse:2.36096\tCV-rmse:2.58004\n",
      "[156]\tTrain-rmse:2.3603\tCV-rmse:2.57986\n",
      "[157]\tTrain-rmse:2.35901\tCV-rmse:2.58004\n",
      "[158]\tTrain-rmse:2.3581\tCV-rmse:2.58005\n",
      "[159]\tTrain-rmse:2.35681\tCV-rmse:2.58025\n",
      "[160]\tTrain-rmse:2.3557\tCV-rmse:2.58023\n",
      "[161]\tTrain-rmse:2.3544\tCV-rmse:2.58027\n",
      "[162]\tTrain-rmse:2.35346\tCV-rmse:2.58029\n",
      "[163]\tTrain-rmse:2.35262\tCV-rmse:2.58022\n",
      "[164]\tTrain-rmse:2.3514\tCV-rmse:2.58033\n",
      "[165]\tTrain-rmse:2.3502\tCV-rmse:2.58043\n",
      "[166]\tTrain-rmse:2.34939\tCV-rmse:2.58028\n",
      "[167]\tTrain-rmse:2.34869\tCV-rmse:2.58028\n",
      "[168]\tTrain-rmse:2.34764\tCV-rmse:2.58026\n",
      "[169]\tTrain-rmse:2.34702\tCV-rmse:2.58026\n",
      "[170]\tTrain-rmse:2.34597\tCV-rmse:2.58022\n",
      "[171]\tTrain-rmse:2.34529\tCV-rmse:2.58007\n",
      "[172]\tTrain-rmse:2.34451\tCV-rmse:2.57986\n",
      "[173]\tTrain-rmse:2.34303\tCV-rmse:2.57976\n",
      "[174]\tTrain-rmse:2.34185\tCV-rmse:2.57971\n",
      "[175]\tTrain-rmse:2.34073\tCV-rmse:2.57959\n",
      "[176]\tTrain-rmse:2.33979\tCV-rmse:2.57981\n",
      "[177]\tTrain-rmse:2.33913\tCV-rmse:2.57976\n",
      "[178]\tTrain-rmse:2.33814\tCV-rmse:2.57991\n",
      "[179]\tTrain-rmse:2.33733\tCV-rmse:2.57995\n",
      "[180]\tTrain-rmse:2.33617\tCV-rmse:2.58022\n",
      "[181]\tTrain-rmse:2.3353\tCV-rmse:2.58006\n",
      "[182]\tTrain-rmse:2.33426\tCV-rmse:2.58006\n",
      "[183]\tTrain-rmse:2.33291\tCV-rmse:2.58001\n",
      "[184]\tTrain-rmse:2.33235\tCV-rmse:2.58007\n",
      "[185]\tTrain-rmse:2.33156\tCV-rmse:2.57994\n",
      "[186]\tTrain-rmse:2.33054\tCV-rmse:2.57999\n",
      "[187]\tTrain-rmse:2.32958\tCV-rmse:2.57998\n",
      "[188]\tTrain-rmse:2.32851\tCV-rmse:2.58017\n",
      "[189]\tTrain-rmse:2.32811\tCV-rmse:2.58016\n",
      "[190]\tTrain-rmse:2.32698\tCV-rmse:2.58015\n",
      "[191]\tTrain-rmse:2.32604\tCV-rmse:2.58035\n",
      "[192]\tTrain-rmse:2.32491\tCV-rmse:2.5804\n",
      "[193]\tTrain-rmse:2.32387\tCV-rmse:2.58041\n",
      "[194]\tTrain-rmse:2.32256\tCV-rmse:2.58036\n",
      "[195]\tTrain-rmse:2.32138\tCV-rmse:2.58038\n",
      "[196]\tTrain-rmse:2.32054\tCV-rmse:2.58032\n",
      "[197]\tTrain-rmse:2.31977\tCV-rmse:2.58032\n",
      "[198]\tTrain-rmse:2.31898\tCV-rmse:2.5802\n",
      "[199]\tTrain-rmse:2.31825\tCV-rmse:2.58023\n",
      "[200]\tTrain-rmse:2.31726\tCV-rmse:2.58035\n"
     ]
    },
    {
     "name": "stdout",
     "output_type": "stream",
     "text": [
      "[201]\tTrain-rmse:2.31653\tCV-rmse:2.58047\n",
      "[202]\tTrain-rmse:2.31578\tCV-rmse:2.58056\n",
      "[203]\tTrain-rmse:2.3146\tCV-rmse:2.58066\n",
      "[204]\tTrain-rmse:2.3136\tCV-rmse:2.58076\n",
      "[205]\tTrain-rmse:2.31282\tCV-rmse:2.58086\n",
      "[206]\tTrain-rmse:2.31197\tCV-rmse:2.58098\n",
      "[207]\tTrain-rmse:2.31108\tCV-rmse:2.58088\n",
      "[208]\tTrain-rmse:2.31043\tCV-rmse:2.5808\n",
      "[209]\tTrain-rmse:2.31012\tCV-rmse:2.58081\n",
      "[210]\tTrain-rmse:2.30944\tCV-rmse:2.58091\n",
      "[211]\tTrain-rmse:2.30884\tCV-rmse:2.58091\n",
      "[212]\tTrain-rmse:2.30806\tCV-rmse:2.5808\n",
      "[213]\tTrain-rmse:2.30667\tCV-rmse:2.58058\n",
      "[214]\tTrain-rmse:2.30567\tCV-rmse:2.58056\n",
      "[215]\tTrain-rmse:2.30448\tCV-rmse:2.58072\n",
      "[216]\tTrain-rmse:2.30352\tCV-rmse:2.5809\n",
      "[217]\tTrain-rmse:2.30259\tCV-rmse:2.58109\n",
      "[218]\tTrain-rmse:2.30171\tCV-rmse:2.58109\n",
      "[219]\tTrain-rmse:2.30087\tCV-rmse:2.58118\n",
      "[220]\tTrain-rmse:2.29994\tCV-rmse:2.5812\n",
      "[221]\tTrain-rmse:2.29929\tCV-rmse:2.58131\n",
      "[222]\tTrain-rmse:2.29821\tCV-rmse:2.58162\n",
      "[223]\tTrain-rmse:2.29741\tCV-rmse:2.58176\n",
      "[224]\tTrain-rmse:2.29708\tCV-rmse:2.58171\n",
      "[225]\tTrain-rmse:2.29585\tCV-rmse:2.58171\n",
      "[226]\tTrain-rmse:2.29517\tCV-rmse:2.58192\n",
      "[227]\tTrain-rmse:2.29397\tCV-rmse:2.58188\n",
      "[228]\tTrain-rmse:2.2928\tCV-rmse:2.58183\n",
      "[229]\tTrain-rmse:2.29168\tCV-rmse:2.58195\n",
      "[230]\tTrain-rmse:2.29099\tCV-rmse:2.58191\n",
      "[231]\tTrain-rmse:2.28997\tCV-rmse:2.58191\n",
      "[232]\tTrain-rmse:2.28905\tCV-rmse:2.58194\n",
      "[233]\tTrain-rmse:2.28807\tCV-rmse:2.58209\n",
      "[234]\tTrain-rmse:2.28733\tCV-rmse:2.58211\n",
      "[235]\tTrain-rmse:2.28623\tCV-rmse:2.58225\n",
      "[236]\tTrain-rmse:2.28529\tCV-rmse:2.58226\n",
      "[237]\tTrain-rmse:2.28416\tCV-rmse:2.58228\n",
      "[238]\tTrain-rmse:2.28329\tCV-rmse:2.58212\n",
      "[239]\tTrain-rmse:2.28271\tCV-rmse:2.58216\n",
      "[240]\tTrain-rmse:2.28188\tCV-rmse:2.58216\n",
      "[241]\tTrain-rmse:2.2806\tCV-rmse:2.58221\n",
      "[242]\tTrain-rmse:2.27953\tCV-rmse:2.58216\n",
      "[243]\tTrain-rmse:2.27894\tCV-rmse:2.58204\n",
      "[244]\tTrain-rmse:2.2785\tCV-rmse:2.5821\n",
      "[245]\tTrain-rmse:2.27814\tCV-rmse:2.58222\n",
      "[246]\tTrain-rmse:2.27739\tCV-rmse:2.58228\n",
      "[247]\tTrain-rmse:2.27639\tCV-rmse:2.58235\n",
      "[248]\tTrain-rmse:2.27566\tCV-rmse:2.58246\n",
      "[249]\tTrain-rmse:2.27533\tCV-rmse:2.58241\n",
      "[250]\tTrain-rmse:2.27435\tCV-rmse:2.58239\n",
      "[251]\tTrain-rmse:2.27373\tCV-rmse:2.58241\n",
      "[252]\tTrain-rmse:2.27279\tCV-rmse:2.5825\n",
      "[253]\tTrain-rmse:2.27237\tCV-rmse:2.58258\n",
      "[254]\tTrain-rmse:2.2714\tCV-rmse:2.58272\n",
      "[255]\tTrain-rmse:2.27103\tCV-rmse:2.58267\n",
      "[256]\tTrain-rmse:2.27049\tCV-rmse:2.58261\n",
      "[257]\tTrain-rmse:2.26955\tCV-rmse:2.58255\n",
      "[258]\tTrain-rmse:2.26909\tCV-rmse:2.5825\n",
      "[259]\tTrain-rmse:2.26809\tCV-rmse:2.5826\n",
      "[260]\tTrain-rmse:2.26694\tCV-rmse:2.58271\n",
      "[261]\tTrain-rmse:2.26595\tCV-rmse:2.58284\n",
      "[262]\tTrain-rmse:2.26494\tCV-rmse:2.58275\n",
      "[263]\tTrain-rmse:2.26403\tCV-rmse:2.58278\n",
      "[264]\tTrain-rmse:2.26315\tCV-rmse:2.5827\n",
      "[265]\tTrain-rmse:2.26258\tCV-rmse:2.58265\n",
      "[266]\tTrain-rmse:2.26154\tCV-rmse:2.58239\n",
      "[267]\tTrain-rmse:2.26048\tCV-rmse:2.58237\n",
      "[268]\tTrain-rmse:2.25997\tCV-rmse:2.58245\n",
      "[269]\tTrain-rmse:2.25907\tCV-rmse:2.58249\n",
      "[270]\tTrain-rmse:2.25836\tCV-rmse:2.58268\n",
      "[271]\tTrain-rmse:2.25737\tCV-rmse:2.58255\n",
      "[272]\tTrain-rmse:2.25651\tCV-rmse:2.58249\n",
      "[273]\tTrain-rmse:2.25568\tCV-rmse:2.58244\n",
      "[274]\tTrain-rmse:2.25468\tCV-rmse:2.58245\n",
      "[275]\tTrain-rmse:2.25433\tCV-rmse:2.58225\n",
      "Stopping. Best iteration:\n",
      "[175]\tTrain-rmse:2.34073\tCV-rmse:2.57959\n",
      "\n"
     ]
    }
   ],
   "source": [
    "model = None\n",
    "boost_hp = dict(\n",
    "    objective = 'reg:linear',\n",
    "    booste = 'gbtree',\n",
    "    max_depth = 9, #12,\n",
    "    subsample = 1,\n",
    "    colsample_bytree = 1,\n",
    "    colsample_bylevel = 1,\n",
    "    tree_method = 'hist',\n",
    "    gamma = 0.00003,\n",
    "    min_child_weight = 1000,\n",
    "    eta = 0.1,\n",
    "    seed = 0\n",
    ")\n",
    "cv_hp = dict(\n",
    "    num_boost_round = 300,\n",
    "    early_stopping_rounds = 30,\n",
    "    nfold = 10,\n",
    "    stratified = True,\n",
    "    seed = 0\n",
    ")\n",
    "learn_hp = dict(\n",
    "    num_boost_round = 500,\n",
    "    early_stopping_rounds = 100,\n",
    "    evals = [[dmat.tr, 'Train'], [dmat.cv, 'CV']]\n",
    ")\n",
    "model = xgb.train(boost_hp, dmat.tr, **learn_hp)"
   ]
  },
  {
   "cell_type": "code",
   "execution_count": null,
   "metadata": {
    "collapsed": true
   },
   "outputs": [],
   "source": [
    "[100]\tTrain-rmse:2.50238\tCV-rmse:2.5416"
   ]
  },
  {
   "cell_type": "code",
   "execution_count": null,
   "metadata": {
    "collapsed": true
   },
   "outputs": [],
   "source": [
    "239685 256708 [370] depth9\n",
    "237573 256405 [356] depth9 @withmeans\n",
    "239055 256313 [314] depth9 @zeromeaned\n",
    "236928 256113 [380] depth9 @zeromeaned @stocks"
   ]
  },
  {
   "cell_type": "code",
   "execution_count": 72,
   "metadata": {},
   "outputs": [
    {
     "data": {
      "image/png": "[encoded data removed]",
      "text/plain": [
       "<matplotlib.figure.Figure at 0x7fd9300c7f28>"
      ]
     },
     "metadata": {},
     "output_type": "display_data"
    }
   ],
   "source": [
    "plt.plot(df.y.values);"
   ]
  },
  {
   "cell_type": "code",
   "execution_count": 22,
   "metadata": {},
   "outputs": [
    {
     "data": {
      "image/png": "[encoded data removed]",
      "text/plain": [
       "<matplotlib.figure.Figure at 0x7f3cd7bf1c50>"
      ]
     },
     "metadata": {},
     "output_type": "display_data"
    }
   ],
   "source": [
    "y_ = model.predict(dmat.given)\n",
    "plt.plot(y_ / 10000 + ymean[:N_TRAIN]);"
   ]
  },
  {
   "cell_type": "code",
   "execution_count": 23,
   "metadata": {},
   "outputs": [
    {
     "data": {
      "image/png": "[encoded data removed]",
      "text/plain": [
       "<matplotlib.figure.Figure at 0x7f3cd35ff5f8>"
      ]
     },
     "metadata": {},
     "output_type": "display_data"
    }
   ],
   "source": [
    "xtest = thedh.iloc[N_TRAIN:].values\n",
    "dmat.test = xgb.DMatrix(xtest, feature_names=labels)\n",
    "ytest_ = model.predict(dmat.test)\n",
    "plt.plot((pd.Series(ytest_) / 10000 + ymean[N_TRAIN:]).rename('y'));"
   ]
  },
  {
   "cell_type": "code",
   "execution_count": 24,
   "metadata": {
    "collapsed": true
   },
   "outputs": [],
   "source": [
    "ypred = (pd.Series(ytest_) / 10000 + ymean[N_TRAIN:]).rename('y')\n",
    "ypred.index.name = 'Index'\n",
    "ypred.to_csv('model1.csv', header=True)\n",
    "with open('days_order.txt', 'w') as file:\n",
    "    print('\\n'.join(str(x) for x in days), file=file)\n",
    "omodel = model\n",
    "odays = days"
   ]
  },
  {
   "cell_type": "code",
   "execution_count": 25,
   "metadata": {},
   "outputs": [
    {
     "data": {
      "text/plain": [
       "[('y mean', 761),\n",
       " ('x3D', 739),\n",
       " ('x4', 734),\n",
       " ('x3A', 632),\n",
       " ('x3E', 523),\n",
       " ('x3B', 483),\n",
       " ('x4 (1)', 467),\n",
       " ('x4 (-1)', 445),\n",
       " ('x3C', 444),\n",
       " ('x5', 438),\n",
       " ('x3E rank', 374),\n",
       " ('x3D rank', 350),\n",
       " ('x0 rank', 334),\n",
       " ('x3A rank', 315),\n",
       " ('x0', 288),\n",
       " ('x3B (1)', 269),\n",
       " ('x5 (1)', 232),\n",
       " ('x4 rank', 213),\n",
       " ('x3A (-1)', 212),\n",
       " ('x3A (1)', 209),\n",
       " ('x5 rank', 208),\n",
       " ('x5 (-1)', 198),\n",
       " ('x3B (-1)', 187),\n",
       " ('x3C (1)', 187),\n",
       " ('x0 (-1)', 184),\n",
       " ('x2', 183),\n",
       " ('x1', 176),\n",
       " ('x3E (-1)', 175),\n",
       " ('x3D (-1)', 150),\n",
       " ('x2 (1)', 143),\n",
       " ('x0 (1)', 139),\n",
       " ('x3E (1)', 129),\n",
       " ('x2 (-1)', 126),\n",
       " ('x3D (1)', 123),\n",
       " ('Biweek0', 122),\n",
       " ('x1 (-1)', 121),\n",
       " ('x3C (-1)', 114),\n",
       " ('x2 rank', 113),\n",
       " ('x6', 103),\n",
       " ('Market_1', 102),\n",
       " ('x6 rank', 102),\n",
       " ('x6 (-1)', 101),\n",
       " ('x0 rank (-1)', 94),\n",
       " ('Market_3', 93),\n",
       " ('x1 (1)', 89),\n",
       " ('x6 rank (-1)', 85),\n",
       " ('x5 rank (1)', 75),\n",
       " ('Biweek1', 74),\n",
       " ('x6 (1)', 72),\n",
       " ('x2 rank (-1)', 71),\n",
       " ('x1 rank', 71),\n",
       " ('x1 rank (-1)', 70),\n",
       " ('x6 rank (1)', 69),\n",
       " ('x5 rank (-1)', 67),\n",
       " ('x4 rank (1)', 65),\n",
       " ('x3A rank (-1)', 64),\n",
       " ('x4 rank (-1)', 59),\n",
       " ('x2 rank (1)', 59),\n",
       " ('x3A rank (1)', 58),\n",
       " ('x0 rank (1)', 58),\n",
       " ('x1 rank (1)', 57),\n",
       " ('x3C rank', 52),\n",
       " ('x3B rank (-1)', 52),\n",
       " ('x3B rank', 51),\n",
       " ('x3E rank (-1)', 47),\n",
       " ('x3C rank (-1)', 42),\n",
       " ('x3D rank (-1)', 41),\n",
       " ('x3C rank (1)', 38),\n",
       " ('x3D rank (1)', 38),\n",
       " ('x3E rank (1)', 37),\n",
       " ('Market_4', 29),\n",
       " ('x3B rank (1)', 22),\n",
       " ('Market_2', 20),\n",
       " ('Stock_2422', 13),\n",
       " ('Stock_2313', 10),\n",
       " ('Monday (1)', 9),\n",
       " ('Stock_1552', 8),\n",
       " ('Stock_1995', 7),\n",
       " ('Stock_2308', 7),\n",
       " ('Wednesday (-1)', 6),\n",
       " ('Stock_1984', 6),\n",
       " ('Stock_1977', 6),\n",
       " ('Monday (-1)', 5),\n",
       " ('Stock_2584', 5),\n",
       " ('Stock_1786', 4),\n",
       " ('Wednesday (1)', 4),\n",
       " ('Friday', 4),\n",
       " ('Stock_1108', 4),\n",
       " ('Stock_2001', 3),\n",
       " ('Stock_610', 3),\n",
       " ('Stock_1809', 3),\n",
       " ('Stock_1088', 2),\n",
       " ('Stock_1648', 2),\n",
       " ('Stock_2999', 2),\n",
       " ('Stock_1832', 2),\n",
       " ('Thursday (-1)', 2),\n",
       " ('Friday (-1)', 2),\n",
       " ('Stock_3007', 2),\n",
       " ('Monday', 2),\n",
       " ('Stock_2372', 2),\n",
       " ('Stock_1083', 2),\n",
       " ('Stock_191', 2),\n",
       " ('Stock_1556', 2),\n",
       " ('Stock_258', 2),\n",
       " ('Stock_1691', 2),\n",
       " ('Stock_1797', 2),\n",
       " ('Stock_1892', 2),\n",
       " ('Stock_532', 2),\n",
       " ('Stock_1009', 2),\n",
       " ('Stock_128', 1),\n",
       " ('Thursday', 1),\n",
       " ('Stock_1645', 1),\n",
       " ('Stock_467', 1),\n",
       " ('Stock_2607', 1),\n",
       " ('Stock_2230', 1),\n",
       " ('Friday (1)', 1),\n",
       " ('Stock_1712', 1),\n",
       " ('Stock_390', 1),\n",
       " ('Stock_1058', 1),\n",
       " ('Stock_1676', 1),\n",
       " ('Stock_665', 1),\n",
       " ('Stock_2198', 1),\n",
       " ('Wednesday', 1),\n",
       " ('Stock_441', 1),\n",
       " ('Stock_1230', 1),\n",
       " ('Stock_1107', 1),\n",
       " ('Tuesday (-1)', 1),\n",
       " ('Stock_2012', 1)]"
      ]
     },
     "execution_count": 25,
     "metadata": {},
     "output_type": "execute_result"
    }
   ],
   "source": [
    "sorted(model.get_score().items(), key=lambda x: -x[1])"
   ]
  },
  {
   "cell_type": "code",
   "execution_count": 77,
   "metadata": {
    "collapsed": true
   },
   "outputs": [
    {
     "name": "stdout",
     "output_type": "stream",
     "text": [
      "<0>\n",
      "0:leaf=-0.0999974\n",
      "\n",
      "<1>\n",
      "0:leaf=-0.0799979\n",
      "\n",
      "<2>\n",
      "0:leaf=-0.0639983\n",
      "\n",
      "<3>\n",
      "0:leaf=-0.0511987\n",
      "\n",
      "<4>\n",
      "0:[Market_1<-1e-06] yes=1,no=2,missing=1\n",
      "\t1:leaf=-0\n",
      "\t2:[Market_1<-1e-06] yes=3,no=4,missing=3\n",
      "\t\t3:leaf=-0\n",
      "\t\t4:[Market_1<-1e-06] yes=5,no=6,missing=5\n",
      "\t\t\t5:leaf=-0\n",
      "\t\t\t6:[Market_1<-1e-06] yes=7,no=8,missing=7\n",
      "\t\t\t\t7:leaf=-0\n",
      "\t\t\t\t8:[Market_1<-1e-06] yes=9,no=10,missing=9\n",
      "\t\t\t\t\t9:leaf=-0\n",
      "\t\t\t\t\t10:[Market_1<-1e-06] yes=11,no=12,missing=11\n",
      "\t\t\t\t\t\t11:leaf=-0\n",
      "\t\t\t\t\t\t12:[Market_1<-1e-06] yes=13,no=14,missing=13\n",
      "\t\t\t\t\t\t\t13:leaf=-0\n",
      "\t\t\t\t\t\t\t14:[Market_1<-1e-06] yes=15,no=16,missing=15\n",
      "\t\t\t\t\t\t\t\t15:leaf=-0\n",
      "\t\t\t\t\t\t\t\t16:[Market_1<-1e-06] yes=17,no=18,missing=17\n",
      "\t\t\t\t\t\t\t\t\t17:leaf=-0\n",
      "\t\t\t\t\t\t\t\t\t18:leaf=-0.0409589\n",
      "\n",
      "<5>\n",
      "0:[Market_1<-1e-06] yes=1,no=2,missing=1\n",
      "\t1:leaf=-0\n",
      "\t2:[Market_1<-1e-06] yes=3,no=4,missing=3\n",
      "\t\t3:leaf=-0\n",
      "\t\t4:[Market_1<-1e-06] yes=5,no=6,missing=5\n",
      "\t\t\t5:leaf=-0\n",
      "\t\t\t6:[Market_1<-1e-06] yes=7,no=8,missing=7\n",
      "\t\t\t\t7:leaf=-0\n",
      "\t\t\t\t8:[Market_1<-1e-06] yes=9,no=10,missing=9\n",
      "\t\t\t\t\t9:leaf=-0\n",
      "\t\t\t\t\t10:[Market_1<-1e-06] yes=11,no=12,missing=11\n",
      "\t\t\t\t\t\t11:leaf=-0\n",
      "\t\t\t\t\t\t12:[Market_1<-1e-06] yes=13,no=14,missing=13\n",
      "\t\t\t\t\t\t\t13:leaf=-0\n",
      "\t\t\t\t\t\t\t14:[Market_1<-1e-06] yes=15,no=16,missing=15\n",
      "\t\t\t\t\t\t\t\t15:leaf=-0\n",
      "\t\t\t\t\t\t\t\t16:[Market_1<-1e-06] yes=17,no=18,missing=17\n",
      "\t\t\t\t\t\t\t\t\t17:leaf=-0\n",
      "\t\t\t\t\t\t\t\t\t18:leaf=-0.0327671\n",
      "\n",
      "<6>\n",
      "0:[x4<0.0063692] yes=1,no=2,missing=1\n",
      "\t1:[Market_1<-1e-06] yes=3,no=4,missing=3\n",
      "\t\t3:leaf=-0\n",
      "\t\t4:[Market_1<-1e-06] yes=7,no=8,missing=7\n",
      "\t\t\t7:leaf=-0\n",
      "\t\t\t8:[Market_1<-1e-06] yes=11,no=12,missing=11\n",
      "\t\t\t\t11:leaf=-0\n",
      "\t\t\t\t12:[Market_1<-1e-06] yes=15,no=16,missing=15\n",
      "\t\t\t\t\t15:leaf=-0\n",
      "\t\t\t\t\t16:[Market_1<-1e-06] yes=19,no=20,missing=19\n",
      "\t\t\t\t\t\t19:leaf=-0\n",
      "\t\t\t\t\t\t20:[Market_1<-1e-06] yes=23,no=24,missing=23\n",
      "\t\t\t\t\t\t\t23:leaf=-0\n",
      "\t\t\t\t\t\t\t24:[Market_1<-1e-06] yes=27,no=28,missing=27\n",
      "\t\t\t\t\t\t\t\t27:leaf=-0\n",
      "\t\t\t\t\t\t\t\t28:[Market_1<-1e-06] yes=31,no=32,missing=31\n",
      "\t\t\t\t\t\t\t\t\t31:leaf=-0\n",
      "\t\t\t\t\t\t\t\t\t32:leaf=-0.0262149\n",
      "\t2:[Market_1<-1e-06] yes=5,no=6,missing=5\n",
      "\t\t5:leaf=-0\n",
      "\t\t6:[Market_1<-1e-06] yes=9,no=10,missing=9\n",
      "\t\t\t9:leaf=-0\n",
      "\t\t\t10:[Market_1<-1e-06] yes=13,no=14,missing=13\n",
      "\t\t\t\t13:leaf=-0\n",
      "\t\t\t\t14:[Market_1<-1e-06] yes=17,no=18,missing=17\n",
      "\t\t\t\t\t17:leaf=-0\n",
      "\t\t\t\t\t18:[Market_1<-1e-06] yes=21,no=22,missing=21\n",
      "\t\t\t\t\t\t21:leaf=-0\n",
      "\t\t\t\t\t\t22:[Market_1<-1e-06] yes=25,no=26,missing=25\n",
      "\t\t\t\t\t\t\t25:leaf=-0\n",
      "\t\t\t\t\t\t\t26:[Market_1<-1e-06] yes=29,no=30,missing=29\n",
      "\t\t\t\t\t\t\t\t29:leaf=-0\n",
      "\t\t\t\t\t\t\t\t30:[Market_1<-1e-06] yes=33,no=34,missing=33\n",
      "\t\t\t\t\t\t\t\t\t33:leaf=-0\n",
      "\t\t\t\t\t\t\t\t\t34:leaf=-0.0259822\n",
      "\n",
      "<7>\n",
      "0:[x4<0.00374785] yes=1,no=2,missing=1\n",
      "\t1:leaf=-0.0209728\n",
      "\t2:[x0<0.00143822] yes=3,no=4,missing=3\n",
      "\t\t3:leaf=-0.0207586\n",
      "\t\t4:leaf=-0.020998\n",
      "\n",
      "<8>\n",
      "0:[x4 (-1)<0.00330195] yes=1,no=2,missing=1\n",
      "\t1:[Market_1<-1e-06] yes=3,no=4,missing=3\n",
      "\t\t3:leaf=-0\n",
      "\t\t4:[Market_1<-1e-06] yes=7,no=8,missing=7\n",
      "\t\t\t7:leaf=-0\n",
      "\t\t\t8:[Market_1<-1e-06] yes=13,no=14,missing=13\n",
      "\t\t\t\t13:leaf=-0\n",
      "\t\t\t\t14:[Market_1<-1e-06] yes=19,no=20,missing=19\n",
      "\t\t\t\t\t19:leaf=-0\n",
      "\t\t\t\t\t20:[Market_1<-1e-06] yes=25,no=26,missing=25\n",
      "\t\t\t\t\t\t25:leaf=-0\n",
      "\t\t\t\t\t\t26:[Market_1<-1e-06] yes=31,no=32,missing=31\n",
      "\t\t\t\t\t\t\t31:leaf=-0\n",
      "\t\t\t\t\t\t\t32:[Market_1<-1e-06] yes=37,no=38,missing=37\n",
      "\t\t\t\t\t\t\t\t37:leaf=-0\n",
      "\t\t\t\t\t\t\t\t38:[Market_1<-1e-06] yes=43,no=44,missing=43\n",
      "\t\t\t\t\t\t\t\t\t43:leaf=-0\n",
      "\t\t\t\t\t\t\t\t\t44:leaf=-0.0167785\n",
      "\t2:[Market_1<0.5] yes=5,no=6,missing=5\n",
      "\t\t5:[Market_1<-1e-06] yes=9,no=10,missing=9\n",
      "\t\t\t9:leaf=-0\n",
      "\t\t\t10:[Market_1<-1e-06] yes=15,no=16,missing=15\n",
      "\t\t\t\t15:leaf=-0\n",
      "\t\t\t\t16:[Market_1<-1e-06] yes=21,no=22,missing=21\n",
      "\t\t\t\t\t21:leaf=-0\n",
      "\t\t\t\t\t22:[Market_1<-1e-06] yes=27,no=28,missing=27\n",
      "\t\t\t\t\t\t27:leaf=-0\n",
      "\t\t\t\t\t\t28:[Market_1<-1e-06] yes=33,no=34,missing=33\n",
      "\t\t\t\t\t\t\t33:leaf=-0\n",
      "\t\t\t\t\t\t\t34:[Market_1<-1e-06] yes=39,no=40,missing=39\n",
      "\t\t\t\t\t\t\t\t39:leaf=-0\n",
      "\t\t\t\t\t\t\t\t40:[Market_1<-1e-06] yes=45,no=46,missing=45\n",
      "\t\t\t\t\t\t\t\t\t45:leaf=-0\n",
      "\t\t\t\t\t\t\t\t\t46:leaf=-0.0167672\n",
      "\t\t6:[Market_1<-9.53674e-07] yes=11,no=12,missing=11\n",
      "\t\t\t11:leaf=-0\n",
      "\t\t\t12:[Market_1<-9.53674e-07] yes=17,no=18,missing=17\n",
      "\t\t\t\t17:leaf=-0\n",
      "\t\t\t\t18:[Market_1<-9.53674e-07] yes=23,no=24,missing=23\n",
      "\t\t\t\t\t23:leaf=-0\n",
      "\t\t\t\t\t24:[Market_1<-9.53674e-07] yes=29,no=30,missing=29\n",
      "\t\t\t\t\t\t29:leaf=-0\n",
      "\t\t\t\t\t\t30:[Market_1<-9.53674e-07] yes=35,no=36,missing=35\n",
      "\t\t\t\t\t\t\t35:leaf=-0\n",
      "\t\t\t\t\t\t\t36:[Market_1<-9.53674e-07] yes=41,no=42,missing=41\n",
      "\t\t\t\t\t\t\t\t41:leaf=-0\n",
      "\t\t\t\t\t\t\t\t42:[Market_1<-9.53674e-07] yes=47,no=48,missing=47\n",
      "\t\t\t\t\t\t\t\t\t47:leaf=-0\n",
      "\t\t\t\t\t\t\t\t\t48:leaf=-0.0165743\n",
      "\n",
      "<9>\n",
      "0:[x4<0.00765265] yes=1,no=2,missing=1\n",
      "\t1:[x3E<0.000259271] yes=3,no=4,missing=3\n",
      "\t\t3:[x4<0.0026057] yes=7,no=8,missing=7\n",
      "\t\t\t7:[Market_4<0.5] yes=11,no=12,missing=11\n",
      "\t\t\t\t11:leaf=-0.0134203\n",
      "\t\t\t\t12:leaf=-0.0134477\n",
      "\t\t\t8:[x0<0.0028477] yes=13,no=14,missing=13\n",
      "\t\t\t\t13:[Market_1<-1e-06] yes=17,no=18,missing=17\n",
      "\t\t\t\t\t17:leaf=-0\n",
      "\t\t\t\t\t18:[Market_1<-1e-06] yes=23,no=24,missing=23\n",
      "\t\t\t\t\t\t23:leaf=-0\n",
      "\t\t\t\t\t\t24:[Market_1<-1e-06] yes=29,no=30,missing=29\n",
      "\t\t\t\t\t\t\t29:leaf=-0\n",
      "\t\t\t\t\t\t\t30:[Market_1<-1e-06] yes=35,no=36,missing=35\n",
      "\t\t\t\t\t\t\t\t35:leaf=-0\n",
      "\t\t\t\t\t\t\t\t36:[Market_1<-1e-06] yes=41,no=42,missing=41\n",
      "\t\t\t\t\t\t\t\t\t41:leaf=-0\n",
      "\t\t\t\t\t\t\t\t\t42:leaf=-0.0133203\n",
      "\t\t\t\t14:[Market_1<-1e-06] yes=19,no=20,missing=19\n",
      "\t\t\t\t\t19:leaf=-0\n",
      "\t\t\t\t\t20:[Market_1<-1e-06] yes=25,no=26,missing=25\n",
      "\t\t\t\t\t\t25:leaf=-0\n",
      "\t\t\t\t\t\t26:[Market_1<-1e-06] yes=31,no=32,missing=31\n",
      "\t\t\t\t\t\t\t31:leaf=-0\n",
      "\t\t\t\t\t\t\t32:[Market_1<-1e-06] yes=37,no=38,missing=37\n",
      "\t\t\t\t\t\t\t\t37:leaf=-0\n",
      "\t\t\t\t\t\t\t\t38:[Market_1<-1e-06] yes=43,no=44,missing=43\n",
      "\t\t\t\t\t\t\t\t\t43:leaf=-0\n",
      "\t\t\t\t\t\t\t\t\t44:leaf=-0.013433\n",
      "\t\t4:leaf=-0.0136347\n",
      "\t2:[x3E<0.000181847] yes=5,no=6,missing=5\n",
      "\t\t5:[Market_1<-1e-06] yes=9,no=10,missing=9\n",
      "\t\t\t9:leaf=-0\n",
      "\t\t\t10:[Market_1<-1e-06] yes=15,no=16,missing=15\n",
      "\t\t\t\t15:leaf=-0\n",
      "\t\t\t\t16:[Market_1<-1e-06] yes=21,no=22,missing=21\n",
      "\t\t\t\t\t21:leaf=-0\n",
      "\t\t\t\t\t22:[Market_1<-1e-06] yes=27,no=28,missing=27\n",
      "\t\t\t\t\t\t27:leaf=-0\n",
      "\t\t\t\t\t\t28:[Market_1<-1e-06] yes=33,no=34,missing=33\n",
      "\t\t\t\t\t\t\t33:leaf=-0\n",
      "\t\t\t\t\t\t\t34:[Market_1<-1e-06] yes=39,no=40,missing=39\n",
      "\t\t\t\t\t\t\t\t39:leaf=-0\n",
      "\t\t\t\t\t\t\t\t40:[Market_1<-1e-06] yes=45,no=46,missing=45\n",
      "\t\t\t\t\t\t\t\t\t45:leaf=-0\n",
      "\t\t\t\t\t\t\t\t\t46:leaf=-0.0131499\n",
      "\t\t6:leaf=-0.0134921\n",
      "\n",
      "<10>\n",
      "0:[x3E<0.000492394] yes=1,no=2,missing=1\n",
      "\t1:[x4<0.00704452] yes=3,no=4,missing=3\n",
      "\t\t3:[x3E<0.000107622] yes=7,no=8,missing=7\n",
      "\t\t\t7:[x4<0.0023872] yes=11,no=12,missing=11\n",
      "\t\t\t\t11:[Market_4<0.5] yes=15,no=16,missing=15\n",
      "\t\t\t\t\t15:leaf=-0.0107361\n",
      "\t\t\t\t\t16:leaf=-0.0107582\n",
      "\t\t\t\t12:[Market_1<0.5] yes=17,no=18,missing=17\n",
      "\t\t\t\t\t17:[Market_1<-1e-06] yes=21,no=22,missing=21\n",
      "\t\t\t\t\t\t21:leaf=-0\n",
      "\t\t\t\t\t\t22:[Market_1<-1e-06] yes=25,no=26,missing=25\n",
      "\t\t\t\t\t\t\t25:leaf=-0\n",
      "\t\t\t\t\t\t\t26:[Market_1<-1e-06] yes=27,no=28,missing=27\n",
      "\t\t\t\t\t\t\t\t27:leaf=-0\n",
      "\t\t\t\t\t\t\t\t28:[Market_1<-1e-06] yes=29,no=30,missing=29\n",
      "\t\t\t\t\t\t\t\t\t29:leaf=-0\n",
      "\t\t\t\t\t\t\t\t\t30:leaf=-0.0107178\n",
      "\t\t\t\t\t18:leaf=-0.01062\n",
      "\t\t\t8:leaf=-0.0108084\n",
      "\t\t4:[Market_3<0.5] yes=9,no=10,missing=9\n",
      "\t\t\t9:[x0<4.74983e-33] yes=13,no=14,missing=13\n",
      "\t\t\t\t13:[x2 (-1)<40.4744] yes=19,no=20,missing=19\n",
      "\t\t\t\t\t19:[x4<0.0455795] yes=23,no=24,missing=23\n",
      "\t\t\t\t\t\t23:leaf=-0.0088963\n",
      "\t\t\t\t\t\t24:leaf=-0.0020494\n",
      "\t\t\t\t\t20:leaf=-0.00224089\n",
      "\t\t\t\t14:leaf=-0.0105198\n",
      "\t\t\t10:leaf=-0.0107969\n",
      "\t2:[x1 (-1)<0.0195989] yes=5,no=6,missing=6\n",
      "\t\t5:leaf=-0.00210798\n",
      "\t\t6:leaf=-0.0110395\n",
      "\n"
     ]
    },
    {
     "name": "stderr",
     "output_type": "stream",
     "text": [
      "C:\\WinPython-64bit-3.6.1.0Qt5\\python-3.6.1.amd64\\lib\\site-packages\\simplejson\\encoder.py:291: DeprecationWarning: Interpreting naive datetime as local 2018-01-31 22:32:44.135640. Please add timezone info to timestamps.\n",
      "  chunks = self.iterencode(o, _one_shot=True)\n"
     ]
    }
   ],
   "source": [
    "for i, tree in enumerate(model.get_dump()):\n",
    "    print('<{}>'.format(i))\n",
    "    print(tree)\n",
    "    if i >= 10:\n",
    "        break"
   ]
  },
  {
   "cell_type": "markdown",
   "metadata": {},
   "source": [
    "## predict y-rank"
   ]
  },
  {
   "cell_type": "markdown",
   "metadata": {},
   "source": [
    "# Split model"
   ]
  },
  {
   "cell_type": "markdown",
   "metadata": {},
   "source": [
    "# Abs model"
   ]
  }
 ],
 "metadata": {
  "kernelspec": {
   "display_name": "Python 3",
   "language": "python",
   "name": "python3"
  },
  "language_info": {
   "codemirror_mode": {
    "name": "ipython",
    "version": 3
   },
   "file_extension": ".py",
   "mimetype": "text/x-python",
   "name": "python",
   "nbconvert_exporter": "python",
   "pygments_lexer": "ipython3",
   "version": "3.6.2"
  }
 },
 "nbformat": 4,
 "nbformat_minor": 2
}
