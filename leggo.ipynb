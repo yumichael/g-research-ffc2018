{
 "cells": [
  {
   "cell_type": "code",
   "execution_count": 1,
   "metadata": {
    "collapsed": true
   },
   "outputs": [],
   "source": [
    "%matplotlib inline\n",
    "import numpy as np\n",
    "import pandas as pd\n",
    "import matplotlib.pyplot as plt\n",
    "#import seaborn as sns\n",
    "#import sklearn.linear_model\n",
    "import xgboost as xgb\n",
    "from pytil.object import Namespace as O\n",
    "from pytil.utility import *\n",
    "from helpers import *\n",
    "from pytil.quickvis import canvas\n",
    "\n",
    "import random\n",
    "ss = slice(None)\n",
    "canvas(16, 2)"
   ]
  },
  {
   "cell_type": "code",
   "execution_count": 2,
   "metadata": {
    "collapsed": true
   },
   "outputs": [],
   "source": [
    "N_TRAIN, N_TEST = 623817, 640430\n",
    "df = pd.read_csv('train.csv', index_col=0)\n",
    "df.index = df.index - N_TRAIN\n",
    "dg = pd.read_csv('test.csv', index_col=0)"
   ]
  },
  {
   "cell_type": "markdown",
   "metadata": {},
   "source": [
    "# Explore"
   ]
  },
  {
   "cell_type": "code",
   "execution_count": 3,
   "metadata": {
    "collapsed": true
   },
   "outputs": [],
   "source": [
    "xfeats = 'x0 x1 x2 x3A x3B x3C x3D x3E x4 x5 x6'.split()"
   ]
  },
  {
   "cell_type": "code",
   "execution_count": 292,
   "metadata": {
    "collapsed": true
   },
   "outputs": [
    {
     "name": "stderr",
     "output_type": "stream",
     "text": [
      "C:\\WinPython-64bit-3.6.1.0Qt5\\python-3.6.1.amd64\\lib\\site-packages\\simplejson\\encoder.py:291: DeprecationWarning: Interpreting naive datetime as local 2018-01-29 22:22:11.674487. Please add timezone info to timestamps.\n",
      "  chunks = self.iterencode(o, _one_shot=True)\n"
     ]
    }
   ],
   "source": [
    "grp = df.groupby(['Market', 'Stock'])\n",
    "desc = grp.describe()"
   ]
  },
  {
   "cell_type": "code",
   "execution_count": 724,
   "metadata": {
    "collapsed": true
   },
   "outputs": [
    {
     "name": "stderr",
     "output_type": "stream",
     "text": [
      "C:\\WinPython-64bit-3.6.1.0Qt5\\python-3.6.1.amd64\\lib\\site-packages\\simplejson\\encoder.py:291: DeprecationWarning: Interpreting naive datetime as local 2018-01-30 21:06:16.747078. Please add timezone info to timestamps.\n",
      "  chunks = self.iterencode(o, _one_shot=True)\n"
     ]
    }
   ],
   "source": [
    "agrp = np.abs(df).groupby('Market Stock'.split())\n",
    "wycorr = agrp.corr().loc[(slice(None), slice(None), 'Weight',), ('y',)]"
   ]
  },
  {
   "cell_type": "code",
   "execution_count": 725,
   "metadata": {
    "collapsed": true
   },
   "outputs": [
    {
     "data": {
      "text/plain": [
       "<matplotlib.axes._subplots.AxesSubplot at 0x1f29adc3550>"
      ]
     },
     "execution_count": 725,
     "metadata": {},
     "output_type": "execute_result"
    },
    {
     "data": {
      "image/png": "[encoded data removed]",
      "text/plain": [
       "<matplotlib.figure.Figure at 0x1f56f8c55f8>"
      ]
     },
     "metadata": {},
     "output_type": "display_data"
    },
    {
     "name": "stderr",
     "output_type": "stream",
     "text": [
      "C:\\WinPython-64bit-3.6.1.0Qt5\\python-3.6.1.amd64\\lib\\site-packages\\simplejson\\encoder.py:291: DeprecationWarning: Interpreting naive datetime as local 2018-01-30 21:06:31.051520. Please add timezone info to timestamps.\n",
      "  chunks = self.iterencode(o, _one_shot=True)\n"
     ]
    }
   ],
   "source": [
    "res = agrp.corr().loc[(ss, ss, 'y'), 'x4']\n",
    "res.hist(bins=120)"
   ]
  },
  {
   "cell_type": "code",
   "execution_count": 341,
   "metadata": {
    "collapsed": true
   },
   "outputs": [
    {
     "data": {
      "text/plain": [
       "<matplotlib.axes._subplots.AxesSubplot at 0x1f27ea42cf8>"
      ]
     },
     "execution_count": 341,
     "metadata": {},
     "output_type": "execute_result"
    },
    {
     "data": {
      "image/png": "[encoded data removed]",
      "text/plain": [
       "<matplotlib.figure.Figure at 0x1f27eb59da0>"
      ]
     },
     "metadata": {},
     "output_type": "display_data"
    },
    {
     "name": "stderr",
     "output_type": "stream",
     "text": [
      "C:\\WinPython-64bit-3.6.1.0Qt5\\python-3.6.1.amd64\\lib\\site-packages\\simplejson\\encoder.py:291: DeprecationWarning: Interpreting naive datetime as local 2018-01-30 09:11:33.695777. Please add timezone info to timestamps.\n",
      "  chunks = self.iterencode(o, _one_shot=True)\n"
     ]
    }
   ],
   "source": [
    "hist(grp.sum().Weight, bins=120, normed=True, cumulative=True)\n",
    "hist(grp.sum().Weight, weighted=True, bins=120, normed=True, cumulative=True)"
   ]
  },
  {
   "cell_type": "code",
   "execution_count": 394,
   "metadata": {
    "collapsed": true
   },
   "outputs": [
    {
     "name": "stderr",
     "output_type": "stream",
     "text": [
      "C:\\WinPython-64bit-3.6.1.0Qt5\\python-3.6.1.amd64\\lib\\site-packages\\simplejson\\encoder.py:291: DeprecationWarning: Interpreting naive datetime as local 2018-01-30 10:21:28.672423. Please add timezone info to timestamps.\n",
      "  chunks = self.iterencode(o, _one_shot=True)\n"
     ]
    }
   ],
   "source": [
    "listthing = [int(x[0]) for x in sorted(df[['Stock', col]].values, key=lambda x: x[1])[::-1][-1000:-500]]\n",
    "thing = list(set(listthing))"
   ]
  },
  {
   "cell_type": "code",
   "execution_count": 744,
   "metadata": {
    "collapsed": true
   },
   "outputs": [
    {
     "data": {
      "image/png": "[encoded data removed]",
      "text/plain": [
       "<matplotlib.figure.Figure at 0x1f3184ecc88>"
      ]
     },
     "metadata": {},
     "output_type": "display_data"
    },
    {
     "name": "stdout",
     "output_type": "stream",
     "text": [
      "247 0.000397538089951\n"
     ]
    },
    {
     "data": {
      "image/png": "[encoded data removed]",
      "text/plain": [
       "<matplotlib.figure.Figure at 0x1f3184ec518>"
      ]
     },
     "metadata": {},
     "output_type": "display_data"
    },
    {
     "name": "stdout",
     "output_type": "stream",
     "text": [
      "251 0.0867626267151\n"
     ]
    },
    {
     "data": {
      "image/png": "[encoded data removed]",
      "text/plain": [
       "<matplotlib.figure.Figure at 0x1f2ed833358>"
      ]
     },
     "metadata": {},
     "output_type": "display_data"
    },
    {
     "name": "stdout",
     "output_type": "stream",
     "text": [
      "251 0.204674285411\n"
     ]
    },
    {
     "data": {
      "image/png": "[encoded data removed]",
      "text/plain": [
       "<matplotlib.figure.Figure at 0x1f3192b2f28>"
      ]
     },
     "metadata": {},
     "output_type": "display_data"
    },
    {
     "name": "stdout",
     "output_type": "stream",
     "text": [
      "247 1.42622882884e-05\n"
     ]
    },
    {
     "data": {
      "image/png": "[encoded data removed]",
      "text/plain": [
       "<matplotlib.figure.Figure at 0x1f2961ea710>"
      ]
     },
     "metadata": {},
     "output_type": "display_data"
    },
    {
     "name": "stdout",
     "output_type": "stream",
     "text": [
      "247 1.6676556502e-31\n"
     ]
    },
    {
     "data": {
      "image/png": "[encoded data removed]",
      "text/plain": [
       "<matplotlib.figure.Figure at 0x1f5453db7b8>"
      ]
     },
     "metadata": {},
     "output_type": "display_data"
    },
    {
     "name": "stdout",
     "output_type": "stream",
     "text": [
      "247 9.22979973834e-14\n"
     ]
    },
    {
     "data": {
      "image/png": "[encoded data removed]",
      "text/plain": [
       "<matplotlib.figure.Figure at 0x1f5453c9320>"
      ]
     },
     "metadata": {},
     "output_type": "display_data"
    },
    {
     "name": "stdout",
     "output_type": "stream",
     "text": [
      "249 9.59286090927e-06\n"
     ]
    },
    {
     "data": {
      "image/png": "[encoded data removed]",
      "text/plain": [
       "<matplotlib.figure.Figure at 0x1f542e4def0>"
      ]
     },
     "metadata": {},
     "output_type": "display_data"
    },
    {
     "name": "stdout",
     "output_type": "stream",
     "text": [
      "247 0.0197578412492\n"
     ]
    },
    {
     "name": "stderr",
     "output_type": "stream",
     "text": [
      "C:\\WinPython-64bit-3.6.1.0Qt5\\python-3.6.1.amd64\\lib\\site-packages\\simplejson\\encoder.py:291: DeprecationWarning: Interpreting naive datetime as local 2018-01-30 21:25:03.178891. Please add timezone info to timestamps.\n",
      "  chunks = self.iterencode(o, _one_shot=True)\n"
     ]
    }
   ],
   "source": [
    "col = 'y'\n",
    "from scipy import stats\n",
    "ii = list(range(df.Stock.min(), df.Stock.max() + 1))\n",
    "random.shuffle(ii)\n",
    "ii = ii[:8]\n",
    "#ii = thing\n",
    "for i in range(len(ii)):\n",
    "    q = df.query('Stock == ' + str(ii[i]))\n",
    "    trans = q[col]\n",
    "    trans.hist(bins=120, weights=q.Weight, normed=True, alpha=.8)\n",
    "    trans.hist(bins=120, normed=True, alpha=.8)\n",
    "    plt.show()\n",
    "    print(len(trans), stats.normaltest(trans).pvalue)"
   ]
  },
  {
   "cell_type": "markdown",
   "metadata": {},
   "source": [
    "## cv days selection"
   ]
  },
  {
   "cell_type": "code",
   "execution_count": 84,
   "metadata": {
    "collapsed": true
   },
   "outputs": [
    {
     "data": {
      "image/png": "[encoded data removed]",
      "text/plain": [
       "<matplotlib.figure.Figure at 0x7f444192d6d8>"
      ]
     },
     "metadata": {},
     "output_type": "display_data"
    }
   ],
   "source": [
    "days = sorted(set(df.Day))\n",
    "weights = [df.query('Day == ' + str(day)).Weight.sum() for day in days]\n",
    "plt.plot(weights); plt.show()"
   ]
  },
  {
   "cell_type": "markdown",
   "metadata": {},
   "source": [
    "# Simple model"
   ]
  },
  {
   "cell_type": "code",
   "execution_count": 4,
   "metadata": {
    "collapsed": true
   },
   "outputs": [],
   "source": [
    "dh = pd.concat([df, dg])"
   ]
  },
  {
   "cell_type": "code",
   "execution_count": 5,
   "metadata": {
    "collapsed": true
   },
   "outputs": [],
   "source": [
    "market = pd.get_dummies(dh[['Market']], columns=['Market'])\n",
    "stock = pd.get_dummies(dh[['Stock']], columns=['Stock'])\n",
    "day = pd.get_dummies(dh[['Day']], columns=['Day'])"
   ]
  },
  {
   "cell_type": "code",
   "execution_count": 6,
   "metadata": {
    "collapsed": true
   },
   "outputs": [],
   "source": [
    "wkdfeats = 'Monday Tuesday Wednesday Thursday Friday'.split()\n",
    "weekday = ((dh.Day + 2) % 7)\n",
    "weekday = weekday.map({i: s for i, s in enumerate(wkdfeats)})\n",
    "weekday = pd.get_dummies(weekday)\n",
    "weekday = weekday[wkdfeats]"
   ]
  },
  {
   "cell_type": "code",
   "execution_count": 18,
   "metadata": {},
   "outputs": [],
   "source": [
    "ranked = 1 - dh.groupby(['Market', 'Stock']).transform(lambda x: x.rank(pct=True, method='max', ascending=False))\n",
    "ranked = ranked[[c for c in ranked.columns if c != 'Weight' and c != 'y' and c != 'Day']]\n",
    "ranked.columns = [c + ' rank' for c in ranked.columns]"
   ]
  },
  {
   "cell_type": "code",
   "execution_count": null,
   "metadata": {
    "collapsed": true
   },
   "outputs": [],
   "source": [
    "# "
   ]
  },
  {
   "cell_type": "code",
   "execution_count": 8,
   "metadata": {
    "collapsed": true
   },
   "outputs": [],
   "source": [
    "days = sorted(set(df.Day))\n",
    "random.shuffle(days)\n",
    "n_days = len(days)\n",
    "days_a, days_b = set(days[:n_days // 2]), set(days[n_days // 2:])\n",
    "tr, cv = df.Day.isin(days_a), df.Day.isin(days_b)"
   ]
  },
  {
   "cell_type": "code",
   "execution_count": 26,
   "metadata": {},
   "outputs": [],
   "source": [
    "origdh = dh[['Market', 'Stock'] + xfeats]\n",
    "thedh = pd.concat([market, stock, weekday, origdh], axis=1)"
   ]
  },
  {
   "cell_type": "code",
   "execution_count": 27,
   "metadata": {
    "collapsed": true
   },
   "outputs": [],
   "source": [
    "xdf = thedh.iloc[:N_TRAIN]\n",
    "labels = list(xdf.columns)\n",
    "n = len(df)\n",
    "x = xdf.values\n",
    "y = df.y.values\n",
    "weight = df.Weight.values"
   ]
  },
  {
   "cell_type": "code",
   "execution_count": 31,
   "metadata": {
    "collapsed": true
   },
   "outputs": [],
   "source": [
    "n = len(df)\n",
    "a = list(range(n))\n",
    "random.shuffle(a)\n",
    "tr, cv = a[:n // 2], a[n // 2:]"
   ]
  },
  {
   "cell_type": "code",
   "execution_count": 32,
   "metadata": {},
   "outputs": [],
   "source": [
    "dmat = O()\n",
    "dmat.tr = xgb.DMatrix(x[tr], y[tr], feature_names=labels, weight=weight[tr])\n",
    "dmat.cv = xgb.DMatrix(x[cv], y[cv], feature_names=labels, weight=weight[cv])"
   ]
  },
  {
   "cell_type": "code",
   "execution_count": 33,
   "metadata": {
    "scrolled": true
   },
   "outputs": [
    {
     "name": "stdout",
     "output_type": "stream",
     "text": [
      "[0]\tCV-rmse:0.399989\n",
      "Will train until CV-rmse hasn't improved in 50 rounds.\n",
      "[1]\tCV-rmse:0.319991\n",
      "[2]\tCV-rmse:0.255993\n",
      "[3]\tCV-rmse:0.204794\n",
      "[4]\tCV-rmse:0.163836\n",
      "[5]\tCV-rmse:0.131069\n",
      "[6]\tCV-rmse:0.104855\n",
      "[7]\tCV-rmse:0.083884\n",
      "[8]\tCV-rmse:0.067108\n",
      "[9]\tCV-rmse:0.053686\n",
      "[10]\tCV-rmse:0.042949\n",
      "[11]\tCV-rmse:0.03436\n",
      "[12]\tCV-rmse:0.027488\n",
      "[13]\tCV-rmse:0.021991\n",
      "[14]\tCV-rmse:0.017594\n",
      "[15]\tCV-rmse:0.014076\n",
      "[16]\tCV-rmse:0.011262\n",
      "[17]\tCV-rmse:0.009011\n",
      "[18]\tCV-rmse:0.007211\n",
      "[19]\tCV-rmse:0.005771\n",
      "[20]\tCV-rmse:0.004619\n",
      "[21]\tCV-rmse:0.003699\n",
      "[22]\tCV-rmse:0.002964\n",
      "[23]\tCV-rmse:0.002376\n",
      "[24]\tCV-rmse:0.001908\n",
      "[25]\tCV-rmse:0.001535\n",
      "[26]\tCV-rmse:0.001238\n",
      "[27]\tCV-rmse:0.001003\n",
      "[28]\tCV-rmse:0.000818\n",
      "[29]\tCV-rmse:0.000674\n",
      "[30]\tCV-rmse:0.000562\n",
      "[31]\tCV-rmse:0.000477\n",
      "[32]\tCV-rmse:0.000413\n",
      "[33]\tCV-rmse:0.000367\n",
      "[34]\tCV-rmse:0.000334\n",
      "[35]\tCV-rmse:0.000311\n",
      "[36]\tCV-rmse:0.000296\n",
      "[37]\tCV-rmse:0.000285\n",
      "[38]\tCV-rmse:0.000278\n",
      "[39]\tCV-rmse:0.000273\n",
      "[40]\tCV-rmse:0.00027\n",
      "[41]\tCV-rmse:0.000269\n",
      "[42]\tCV-rmse:0.000267\n",
      "[43]\tCV-rmse:0.000267\n",
      "[44]\tCV-rmse:0.000266\n",
      "[45]\tCV-rmse:0.000266\n",
      "[46]\tCV-rmse:0.000266\n",
      "[47]\tCV-rmse:0.000265\n",
      "[48]\tCV-rmse:0.000265\n",
      "[49]\tCV-rmse:0.000265\n",
      "[50]\tCV-rmse:0.000265\n",
      "[51]\tCV-rmse:0.000265\n",
      "[52]\tCV-rmse:0.000265\n",
      "[53]\tCV-rmse:0.000265\n",
      "[54]\tCV-rmse:0.000265\n",
      "[55]\tCV-rmse:0.000265\n",
      "[56]\tCV-rmse:0.000265\n",
      "[57]\tCV-rmse:0.000265\n",
      "[58]\tCV-rmse:0.000265\n",
      "[59]\tCV-rmse:0.000265\n",
      "[60]\tCV-rmse:0.000265\n",
      "[61]\tCV-rmse:0.000265\n",
      "[62]\tCV-rmse:0.000265\n",
      "[63]\tCV-rmse:0.000265\n",
      "[64]\tCV-rmse:0.000265\n",
      "[65]\tCV-rmse:0.000265\n",
      "[66]\tCV-rmse:0.000265\n",
      "[67]\tCV-rmse:0.000265\n",
      "[68]\tCV-rmse:0.000265\n",
      "[69]\tCV-rmse:0.000265\n",
      "[70]\tCV-rmse:0.000265\n",
      "[71]\tCV-rmse:0.000265\n",
      "[72]\tCV-rmse:0.000265\n",
      "[73]\tCV-rmse:0.000265\n",
      "[74]\tCV-rmse:0.000265\n",
      "[75]\tCV-rmse:0.000265\n",
      "[76]\tCV-rmse:0.000265\n",
      "[77]\tCV-rmse:0.000265\n",
      "[78]\tCV-rmse:0.000265\n",
      "[79]\tCV-rmse:0.000265\n",
      "[80]\tCV-rmse:0.000265\n",
      "[81]\tCV-rmse:0.000265\n",
      "[82]\tCV-rmse:0.000265\n",
      "[83]\tCV-rmse:0.000265\n",
      "[84]\tCV-rmse:0.000265\n",
      "[85]\tCV-rmse:0.000265\n",
      "[86]\tCV-rmse:0.000265\n",
      "[87]\tCV-rmse:0.000265\n",
      "[88]\tCV-rmse:0.000265\n",
      "[89]\tCV-rmse:0.000265\n",
      "[90]\tCV-rmse:0.000265\n",
      "[91]\tCV-rmse:0.000265\n",
      "[92]\tCV-rmse:0.000265\n",
      "[93]\tCV-rmse:0.000265\n",
      "[94]\tCV-rmse:0.000265\n",
      "[95]\tCV-rmse:0.000265\n",
      "[96]\tCV-rmse:0.000265\n",
      "[97]\tCV-rmse:0.000265\n",
      "Stopping. Best iteration:\n",
      "[47]\tCV-rmse:0.000265\n",
      "\n"
     ]
    }
   ],
   "source": [
    "model = None\n",
    "boost_hp = dict(\n",
    "    objective = 'reg:linear',\n",
    "    booste = 'gbtree',\n",
    "    max_depth = 9,\n",
    "    subsample = 1,\n",
    "    colsample_bytree = 1,\n",
    "    colsample_bylevel = 1,\n",
    "    tree_method = 'exact',\n",
    "    gamma = 0,\n",
    "    min_child_weight = 0,\n",
    "    eta = 0.2,\n",
    "    seed = 0\n",
    ")\n",
    "cv_hp = dict(\n",
    "    num_boost_round = 500,\n",
    "    early_stopping_rounds = 50,\n",
    "    nfold = 10,\n",
    "    stratified = True,\n",
    "    seed = 0,\n",
    ")\n",
    "learn_hp = dict(\n",
    "    num_boost_round = 500,\n",
    "    early_stopping_rounds = 50,\n",
    "    evals = [[dmat.cv, 'CV']]\n",
    ")\n",
    "model = xgb.train(boost_hp, dmat.tr, **learn_hp)"
   ]
  },
  {
   "cell_type": "code",
   "execution_count": 14,
   "metadata": {},
   "outputs": [
    {
     "data": {
      "text/plain": [
       "[<matplotlib.lines.Line2D at 0x7f26bbc8e240>]"
      ]
     },
     "execution_count": 14,
     "metadata": {},
     "output_type": "execute_result"
    },
    {
     "data": {
      "image/png": "[encoded data removed]",
      "text/plain": [
       "<matplotlib.figure.Figure at 0x7f26c0257b00>"
      ]
     },
     "metadata": {},
     "output_type": "display_data"
    }
   ],
   "source": [
    "y_ = model.predict(dmat.cv)\n",
    "plt.plot(y_);"
   ]
  },
  {
   "cell_type": "code",
   "execution_count": 15,
   "metadata": {},
   "outputs": [
    {
     "data": {
      "image/png": "[encoded data removed]",
      "text/plain": [
       "<matplotlib.figure.Figure at 0x7f26c106fe80>"
      ]
     },
     "metadata": {},
     "output_type": "display_data"
    }
   ],
   "source": [
    "xtest = thedh.iloc[N_TRAIN:].values\n",
    "dmat.test = xgb.DMatrix(xtest, feature_names=labels)\n",
    "ytest_ = model.predict(dmat.test)\n",
    "plt.plot(ytest_);"
   ]
  },
  {
   "cell_type": "code",
   "execution_count": null,
   "metadata": {
    "collapsed": true
   },
   "outputs": [],
   "source": [
    "for i, tree in enumerate(model.get_dump()):\n",
    "    print('<{}>'.format(i))\n",
    "    print(tree)\n",
    "    if i >= 10:\n",
    "        break"
   ]
  },
  {
   "cell_type": "code",
   "execution_count": 16,
   "metadata": {},
   "outputs": [],
   "source": [
    "ypred = pd.Series(ytest_).rename('y')\n",
    "ypred.index.name = 'Index'\n",
    "ypred.to_csv('model1.csv', header=True)\n",
    "with open('days_order.txt', 'w') as file:\n",
    "    print('\\n'.join(str(x) for x in days), file=file)\n",
    "omodel = model\n",
    "odays = days"
   ]
  },
  {
   "cell_type": "code",
   "execution_count": 30,
   "metadata": {},
   "outputs": [
    {
     "data": {
      "text/plain": [
       "[('x0', 1078),\n",
       " ('x4', 994),\n",
       " ('x3A', 868),\n",
       " ('x1', 814),\n",
       " ('x2', 800),\n",
       " ('x5', 774),\n",
       " ('x3E', 696),\n",
       " ('x3D', 691),\n",
       " ('x3B', 564),\n",
       " ('x6', 499),\n",
       " ('x3C', 492),\n",
       " ('Tuesday', 174),\n",
       " ('Market_1', 163),\n",
       " ('Monday', 141),\n",
       " ('Wednesday', 140),\n",
       " ('Stock', 130),\n",
       " ('Thursday', 126),\n",
       " ('Friday', 121),\n",
       " ('Market_2', 62),\n",
       " ('Market_4', 41),\n",
       " ('Market_3', 39),\n",
       " ('Stock_51', 25),\n",
       " ('Stock_1540', 20),\n",
       " ('Stock_1099', 17),\n",
       " ('Stock_2251', 17),\n",
       " ('Stock_793', 15),\n",
       " ('Stock_499', 14),\n",
       " ('Stock_1393', 13),\n",
       " ('Stock_1045', 13),\n",
       " ('Stock_347', 12),\n",
       " ('Stock_2652', 10),\n",
       " ('Stock_507', 10),\n",
       " ('Stock_2865', 10),\n",
       " ('Stock_748', 10),\n",
       " ('Stock_829', 10),\n",
       " ('Stock_1696', 9),\n",
       " ('Stock_1316', 9),\n",
       " ('Stock_35', 9),\n",
       " ('Stock_0', 9),\n",
       " ('Stock_493', 8),\n",
       " ('Stock_2708', 8),\n",
       " ('Stock_1855', 8),\n",
       " ('Stock_959', 8),\n",
       " ('Stock_2470', 7),\n",
       " ('Stock_2372', 7),\n",
       " ('Stock_2793', 7),\n",
       " ('Stock_2596', 7),\n",
       " ('Stock_2304', 7),\n",
       " ('Stock_1805', 7),\n",
       " ('Stock_2432', 7),\n",
       " ('Stock_1302', 7),\n",
       " ('Stock_176', 7),\n",
       " ('Stock_1508', 6),\n",
       " ('Stock_819', 6),\n",
       " ('Stock_897', 6),\n",
       " ('Stock_1139', 6),\n",
       " ('Stock_245', 6),\n",
       " ('Stock_2326', 6),\n",
       " ('Stock_1017', 6),\n",
       " ('Stock_1397', 6),\n",
       " ('Stock_1931', 6),\n",
       " ('Stock_1116', 6),\n",
       " ('Stock_515', 6),\n",
       " ('Stock_1088', 6),\n",
       " ('Stock_1720', 6),\n",
       " ('Stock_2745', 6),\n",
       " ('Market', 6),\n",
       " ('Stock_106', 6),\n",
       " ('Stock_847', 5),\n",
       " ('Stock_1107', 5),\n",
       " ('Stock_852', 5),\n",
       " ('Stock_2620', 5),\n",
       " ('Stock_2949', 5),\n",
       " ('Stock_1552', 5),\n",
       " ('Stock_1514', 5),\n",
       " ('Stock_1185', 5),\n",
       " ('Stock_871', 5),\n",
       " ('Stock_1645', 5),\n",
       " ('Stock_2266', 5),\n",
       " ('Stock_1709', 5),\n",
       " ('Stock_1058', 5),\n",
       " ('Stock_571', 5),\n",
       " ('Stock_1769', 5),\n",
       " ('Stock_128', 5),\n",
       " ('Stock_2862', 5),\n",
       " ('Stock_1707', 5),\n",
       " ('Stock_2146', 5),\n",
       " ('Stock_2421', 5),\n",
       " ('Stock_2041', 5),\n",
       " ('Stock_2994', 5),\n",
       " ('Stock_1995', 5),\n",
       " ('Stock_2716', 5),\n",
       " ('Stock_2790', 5),\n",
       " ('Stock_1746', 5),\n",
       " ('Stock_1669', 5),\n",
       " ('Stock_1233', 5),\n",
       " ('Stock_1714', 5),\n",
       " ('Stock_1951', 5),\n",
       " ('Stock_2739', 5),\n",
       " ('Stock_1538', 5),\n",
       " ('Stock_1078', 5),\n",
       " ('Stock_2941', 5),\n",
       " ('Stock_2174', 4),\n",
       " ('Stock_532', 4),\n",
       " ('Stock_2422', 4),\n",
       " ('Stock_1400', 4),\n",
       " ('Stock_1849', 4),\n",
       " ('Stock_414', 4),\n",
       " ('Stock_1476', 4),\n",
       " ('Stock_1803', 4),\n",
       " ('Stock_2033', 4),\n",
       " ('Stock_2927', 4),\n",
       " ('Stock_2454', 4),\n",
       " ('Stock_2710', 4),\n",
       " ('Stock_1996', 4),\n",
       " ('Stock_3007', 4),\n",
       " ('Stock_136', 4),\n",
       " ('Stock_2069', 4),\n",
       " ('Stock_2316', 4),\n",
       " ('Stock_799', 4),\n",
       " ('Stock_1083', 4),\n",
       " ('Stock_593', 4),\n",
       " ('Stock_2207', 4),\n",
       " ('Stock_2133', 4),\n",
       " ('Stock_2543', 4),\n",
       " ('Stock_1410', 4),\n",
       " ('Stock_1660', 4),\n",
       " ('Stock_906', 4),\n",
       " ('Stock_1081', 4),\n",
       " ('Stock_942', 4),\n",
       " ('Stock_1141', 4),\n",
       " ('Stock_1239', 4),\n",
       " ('Stock_2698', 4),\n",
       " ('Stock_1832', 4),\n",
       " ('Stock_2160', 4),\n",
       " ('Stock_367', 4),\n",
       " ('Stock_610', 3),\n",
       " ('Stock_212', 3),\n",
       " ('Stock_2150', 3),\n",
       " ('Stock_719', 3),\n",
       " ('Stock_1496', 3),\n",
       " ('Stock_92', 3),\n",
       " ('Stock_1900', 3),\n",
       " ('Stock_1735', 3),\n",
       " ('Stock_999', 3),\n",
       " ('Stock_1127', 3),\n",
       " ('Stock_477', 3),\n",
       " ('Stock_2404', 3),\n",
       " ('Stock_2771', 3),\n",
       " ('Stock_1683', 3),\n",
       " ('Stock_1991', 3),\n",
       " ('Stock_1264', 3),\n",
       " ('Stock_739', 3),\n",
       " ('Stock_2198', 3),\n",
       " ('Stock_2501', 3),\n",
       " ('Stock_11', 3),\n",
       " ('Stock_1230', 3),\n",
       " ('Stock_2247', 3),\n",
       " ('Stock_1786', 3),\n",
       " ('Stock_1543', 3),\n",
       " ('Stock_1323', 3),\n",
       " ('Stock_265', 3),\n",
       " ('Stock_1231', 3),\n",
       " ('Stock_1607', 3),\n",
       " ('Stock_909', 3),\n",
       " ('Stock_2911', 3),\n",
       " ('Stock_2171', 3),\n",
       " ('Stock_1411', 3),\n",
       " ('Stock_2154', 3),\n",
       " ('Stock_2823', 3),\n",
       " ('Stock_397', 3),\n",
       " ('Stock_965', 3),\n",
       " ('Stock_2118', 3),\n",
       " ('Stock_299', 3),\n",
       " ('Stock_2011', 3),\n",
       " ('Stock_1592', 3),\n",
       " ('Stock_2040', 3),\n",
       " ('Stock_1357', 3),\n",
       " ('Stock_986', 3),\n",
       " ('Stock_1989', 3),\n",
       " ('Stock_1032', 3),\n",
       " ('Stock_2689', 3),\n",
       " ('Stock_39', 2),\n",
       " ('Stock_189', 2),\n",
       " ('Stock_1392', 2),\n",
       " ('Stock_1329', 2),\n",
       " ('Stock_835', 2),\n",
       " ('Stock_1325', 2),\n",
       " ('Stock_2340', 2),\n",
       " ('Stock_2999', 2),\n",
       " ('Stock_1269', 2),\n",
       " ('Stock_1804', 2),\n",
       " ('Stock_1520', 2),\n",
       " ('Stock_557', 2),\n",
       " ('Stock_1853', 2),\n",
       " ('Stock_2050', 2),\n",
       " ('Stock_2496', 2),\n",
       " ('Stock_1807', 2),\n",
       " ('Stock_850', 2),\n",
       " ('Stock_1736', 2),\n",
       " ('Stock_2697', 2),\n",
       " ('Stock_1852', 2),\n",
       " ('Stock_2500', 2),\n",
       " ('Stock_15', 2),\n",
       " ('Stock_2120', 2),\n",
       " ('Stock_379', 2),\n",
       " ('Stock_1467', 2),\n",
       " ('Stock_208', 2),\n",
       " ('Stock_634', 2),\n",
       " ('Stock_2301', 2),\n",
       " ('Stock_549', 2),\n",
       " ('Stock_2914', 2),\n",
       " ('Stock_346', 2),\n",
       " ('Stock_2190', 2),\n",
       " ('Stock_312', 2),\n",
       " ('Stock_1387', 2),\n",
       " ('Stock_1209', 2),\n",
       " ('Stock_2439', 2),\n",
       " ('Stock_960', 2),\n",
       " ('Stock_784', 2),\n",
       " ('Stock_475', 2),\n",
       " ('Stock_2671', 2),\n",
       " ('Stock_1534', 2),\n",
       " ('Stock_867', 2),\n",
       " ('Stock_398', 2),\n",
       " ('Stock_665', 2),\n",
       " ('Stock_441', 2),\n",
       " ('Stock_1409', 2),\n",
       " ('Stock_1471', 2),\n",
       " ('Stock_2320', 2),\n",
       " ('Stock_129', 2),\n",
       " ('Stock_2049', 2),\n",
       " ('Stock_1298', 2),\n",
       " ('Stock_156', 2),\n",
       " ('Stock_2833', 2),\n",
       " ('Stock_2308', 2),\n",
       " ('Stock_895', 2),\n",
       " ('Stock_159', 2),\n",
       " ('Stock_967', 2),\n",
       " ('Stock_2720', 2),\n",
       " ('Stock_2677', 2),\n",
       " ('Stock_1966', 2),\n",
       " ('Stock_60', 2),\n",
       " ('Stock_535', 2),\n",
       " ('Stock_390', 2),\n",
       " ('Stock_2269', 2),\n",
       " ('Stock_1525', 2),\n",
       " ('Stock_1380', 2),\n",
       " ('Stock_258', 2),\n",
       " ('Stock_262', 2),\n",
       " ('Stock_1910', 2),\n",
       " ('Stock_1368', 2),\n",
       " ('Stock_1986', 2),\n",
       " ('Stock_743', 2),\n",
       " ('Stock_2993', 2),\n",
       " ('Stock_1556', 2),\n",
       " ('Stock_2812', 2),\n",
       " ('Stock_22', 2),\n",
       " ('Stock_2584', 2),\n",
       " ('Stock_1561', 2),\n",
       " ('Stock_1490', 2),\n",
       " ('Stock_724', 2),\n",
       " ('Stock_1859', 2),\n",
       " ('Stock_2252', 2),\n",
       " ('Stock_2905', 2),\n",
       " ('Stock_2235', 2),\n",
       " ('Stock_2282', 2),\n",
       " ('Stock_2365', 2),\n",
       " ('Stock_2086', 2),\n",
       " ('Stock_803', 2),\n",
       " ('Stock_263', 2),\n",
       " ('Stock_2490', 2),\n",
       " ('Stock_1984', 2),\n",
       " ('Stock_1713', 2),\n",
       " ('Stock_2176', 2),\n",
       " ('Stock_2604', 2),\n",
       " ('Stock_2082', 2),\n",
       " ('Stock_1968', 2),\n",
       " ('Stock_2178', 1),\n",
       " ('Stock_2255', 1),\n",
       " ('Stock_555', 1),\n",
       " ('Stock_2668', 1),\n",
       " ('Stock_844', 1),\n",
       " ('Stock_646', 1),\n",
       " ('Stock_769', 1),\n",
       " ('Stock_255', 1),\n",
       " ('Stock_2886', 1),\n",
       " ('Stock_1327', 1),\n",
       " ('Stock_1901', 1),\n",
       " ('Stock_1998', 1),\n",
       " ('Stock_1355', 1),\n",
       " ('Stock_2642', 1),\n",
       " ('Stock_339', 1),\n",
       " ('Stock_66', 1),\n",
       " ('Stock_1733', 1),\n",
       " ('Stock_2879', 1),\n",
       " ('Stock_2634', 1),\n",
       " ('Stock_2615', 1),\n",
       " ('Stock_1133', 1),\n",
       " ('Stock_843', 1),\n",
       " ('Stock_228', 1),\n",
       " ('Stock_1401', 1),\n",
       " ('Stock_2894', 1),\n",
       " ('Stock_1053', 1),\n",
       " ('Stock_916', 1),\n",
       " ('Stock_1176', 1),\n",
       " ('Stock_2772', 1),\n",
       " ('Stock_1440', 1),\n",
       " ('Stock_1597', 1),\n",
       " ('Stock_1047', 1),\n",
       " ('Stock_164', 1),\n",
       " ('Stock_2461', 1),\n",
       " ('Stock_2212', 1),\n",
       " ('Stock_1328', 1),\n",
       " ('Stock_492', 1),\n",
       " ('Stock_2625', 1),\n",
       " ('Stock_1272', 1),\n",
       " ('Stock_1074', 1),\n",
       " ('Stock_38', 1),\n",
       " ('Stock_1964', 1),\n",
       " ('Stock_2686', 1),\n",
       " ('Stock_2295', 1),\n",
       " ('Stock_345', 1),\n",
       " ('Stock_3013', 1),\n",
       " ('Stock_1296', 1),\n",
       " ('Stock_2494', 1),\n",
       " ('Stock_386', 1),\n",
       " ('Stock_2263', 1),\n",
       " ('Stock_2837', 1),\n",
       " ('Stock_1066', 1),\n",
       " ('Stock_2070', 1),\n",
       " ('Stock_859', 1),\n",
       " ('Stock_605', 1),\n",
       " ('Stock_2854', 1),\n",
       " ('Stock_2662', 1),\n",
       " ('Stock_91', 1),\n",
       " ('Stock_1186', 1),\n",
       " ('Stock_781', 1),\n",
       " ('Stock_527', 1),\n",
       " ('Stock_306', 1),\n",
       " ('Stock_2595', 1),\n",
       " ('Stock_2542', 1),\n",
       " ('Stock_778', 1),\n",
       " ('Stock_231', 1),\n",
       " ('Stock_2885', 1),\n",
       " ('Stock_2779', 1),\n",
       " ('Stock_1021', 1),\n",
       " ('Stock_498', 1),\n",
       " ('Stock_2211', 1),\n",
       " ('Stock_2356', 1),\n",
       " ('Stock_1363', 1),\n",
       " ('Stock_2522', 1),\n",
       " ('Stock_1740', 1),\n",
       " ('Stock_1200', 1),\n",
       " ('Stock_2456', 1),\n",
       " ('Stock_476', 1),\n",
       " ('Stock_1294', 1),\n",
       " ('Stock_2300', 1),\n",
       " ('Stock_193', 1),\n",
       " ('Stock_293', 1),\n",
       " ('Stock_908', 1),\n",
       " ('Stock_1390', 1),\n",
       " ('Stock_2417', 1),\n",
       " ('Stock_2660', 1),\n",
       " ('Stock_1568', 1),\n",
       " ('Stock_1108', 1),\n",
       " ('Stock_1892', 1),\n",
       " ('Stock_1697', 1),\n",
       " ('Stock_2780', 1),\n",
       " ('Stock_998', 1),\n",
       " ('Stock_97', 1),\n",
       " ('Stock_2641', 1),\n",
       " ('Stock_105', 1),\n",
       " ('Stock_1727', 1),\n",
       " ('Stock_2939', 1),\n",
       " ('Stock_2728', 1),\n",
       " ('Stock_789', 1),\n",
       " ('Stock_2523', 1),\n",
       " ('Stock_1006', 1),\n",
       " ('Stock_155', 1),\n",
       " ('Stock_2436', 1),\n",
       " ('Stock_1265', 1),\n",
       " ('Stock_1458', 1),\n",
       " ('Stock_1583', 1),\n",
       " ('Stock_1513', 1),\n",
       " ('Stock_1245', 1),\n",
       " ('Stock_2831', 1),\n",
       " ('Stock_408', 1),\n",
       " ('Stock_1948', 1),\n",
       " ('Stock_619', 1),\n",
       " ('Stock_133', 1),\n",
       " ('Stock_1731', 1),\n",
       " ('Stock_2112', 1),\n",
       " ('Stock_638', 1),\n",
       " ('Stock_2601', 1),\n",
       " ('Stock_291', 1),\n",
       " ('Stock_2444', 1),\n",
       " ('Stock_1432', 1),\n",
       " ('Stock_78', 1),\n",
       " ('Stock_1095', 1),\n",
       " ('Stock_2155', 1),\n",
       " ('Stock_248', 1),\n",
       " ('Stock_2892', 1),\n",
       " ('Stock_2358', 1),\n",
       " ('Stock_2719', 1),\n",
       " ('Stock_2318', 1),\n",
       " ('Stock_2567', 1),\n",
       " ('Stock_569', 1),\n",
       " ('Stock_2540', 1),\n",
       " ('Stock_2272', 1),\n",
       " ('Stock_1750', 1),\n",
       " ('Stock_1086', 1),\n",
       " ('Stock_1076', 1),\n",
       " ('Stock_2738', 1),\n",
       " ('Stock_2217', 1),\n",
       " ('Stock_2590', 1),\n",
       " ('Stock_425', 1),\n",
       " ('Stock_851', 1),\n",
       " ('Stock_1775', 1),\n",
       " ('Stock_2468', 1),\n",
       " ('Stock_572', 1),\n",
       " ('Stock_1875', 1),\n",
       " ('Stock_2062', 1),\n",
       " ('Stock_2152', 1),\n",
       " ('Stock_2786', 1),\n",
       " ('Stock_1564', 1),\n",
       " ('Stock_2889', 1),\n",
       " ('Stock_2934', 1),\n",
       " ('Stock_868', 1),\n",
       " ('Stock_1025', 1),\n",
       " ('Stock_2809', 1),\n",
       " ('Stock_2846', 1),\n",
       " ('Stock_154', 1),\n",
       " ('Stock_1182', 1),\n",
       " ('Stock_714', 1),\n",
       " ('Stock_2714', 1),\n",
       " ('Stock_2457', 1),\n",
       " ('Stock_1378', 1),\n",
       " ('Stock_2761', 1),\n",
       " ('Stock_2332', 1),\n",
       " ('Stock_887', 1),\n",
       " ('Stock_1376', 1),\n",
       " ('Stock_2679', 1),\n",
       " ('Stock_2508', 1),\n",
       " ('Stock_2609', 1),\n",
       " ('Stock_840', 1),\n",
       " ('Stock_2842', 1),\n",
       " ('Stock_270', 1),\n",
       " ('Stock_2260', 1),\n",
       " ('Stock_1477', 1),\n",
       " ('Stock_624', 1),\n",
       " ('Stock_1680', 1),\n",
       " ('Stock_2077', 1),\n",
       " ('Stock_1877', 1),\n",
       " ('Stock_1922', 1),\n",
       " ('Stock_2349', 1),\n",
       " ('Stock_240', 1),\n",
       " ('Stock_1539', 1),\n",
       " ('Stock_1816', 1),\n",
       " ('Stock_1703', 1),\n",
       " ('Stock_823', 1),\n",
       " ('Stock_1407', 1),\n",
       " ('Stock_637', 1),\n",
       " ('Stock_2459', 1),\n",
       " ('Stock_508', 1),\n",
       " ('Stock_2006', 1),\n",
       " ('Stock_317', 1),\n",
       " ('Stock_1557', 1),\n",
       " ('Stock_2796', 1),\n",
       " ('Stock_1918', 1),\n",
       " ('Stock_329', 1),\n",
       " ('Stock_2683', 1),\n",
       " ('Stock_2328', 1),\n",
       " ('Stock_2259', 1),\n",
       " ('Stock_2616', 1),\n",
       " ('Stock_461', 1),\n",
       " ('Stock_2121', 1),\n",
       " ('Stock_42', 1),\n",
       " ('Stock_1725', 1),\n",
       " ('Stock_2533', 1),\n",
       " ('Stock_1080', 1),\n",
       " ('Stock_1468', 1),\n",
       " ('Stock_2818', 1),\n",
       " ('Stock_2902', 1),\n",
       " ('Stock_2827', 1),\n",
       " ('Stock_2497', 1),\n",
       " ('Stock_2061', 1),\n",
       " ('Stock_428', 1),\n",
       " ('Stock_501', 1),\n",
       " ('Stock_2878', 1),\n",
       " ('Stock_2189', 1),\n",
       " ('Stock_667', 1),\n",
       " ('Stock_1578', 1),\n",
       " ('Stock_2324', 1),\n",
       " ('Stock_1519', 1),\n",
       " ('Stock_1009', 1),\n",
       " ('Stock_1821', 1),\n",
       " ('Stock_2978', 1),\n",
       " ('Stock_5', 1),\n",
       " ('Stock_1911', 1),\n",
       " ('Stock_1630', 1),\n",
       " ('Stock_1666', 1),\n",
       " ('Stock_2764', 1),\n",
       " ('Stock_2979', 1),\n",
       " ('Stock_517', 1),\n",
       " ('Stock_878', 1),\n",
       " ('Stock_393', 1),\n",
       " ('Stock_2517', 1),\n",
       " ('Stock_1729', 1),\n",
       " ('Stock_2507', 1),\n",
       " ('Stock_303', 1),\n",
       " ('Stock_1959', 1),\n",
       " ('Stock_1345', 1),\n",
       " ('Stock_2218', 1),\n",
       " ('Stock_1891', 1),\n",
       " ('Stock_1977', 1),\n",
       " ('Stock_244', 1),\n",
       " ('Stock_89', 1),\n",
       " ('Stock_1760', 1),\n",
       " ('Stock_1717', 1),\n",
       " ('Stock_943', 1),\n",
       " ('Stock_1061', 1),\n",
       " ('Stock_1797', 1),\n",
       " ('Stock_46', 1),\n",
       " ('Stock_522', 1),\n",
       " ('Stock_660', 1),\n",
       " ('Stock_2311', 1),\n",
       " ('Stock_250', 1),\n",
       " ('Stock_333', 1)]"
      ]
     },
     "execution_count": 30,
     "metadata": {},
     "output_type": "execute_result"
    }
   ],
   "source": [
    "sorted(model.get_score().items(), key=lambda x: -x[1])"
   ]
  },
  {
   "cell_type": "code",
   "execution_count": 24,
   "metadata": {},
   "outputs": [
    {
     "data": {
      "text/plain": [
       "[('x0', 815),\n",
       " ('x4', 737),\n",
       " ('x1', 634),\n",
       " ('x3A', 614),\n",
       " ('x2', 582),\n",
       " ('x5', 563),\n",
       " ('x3D', 478),\n",
       " ('x3E', 446),\n",
       " ('Day rank', 435),\n",
       " ('x3C', 371),\n",
       " ('x3B', 366),\n",
       " ('x6', 313),\n",
       " ('x6 rank', 194),\n",
       " ('Market_1', 154),\n",
       " ('x3A rank', 146),\n",
       " ('x4 rank', 135),\n",
       " ('x3D rank', 126),\n",
       " ('x0 rank', 125),\n",
       " ('Tuesday', 123),\n",
       " ('Wednesday', 123),\n",
       " ('x3E rank', 115),\n",
       " ('x5 rank', 114),\n",
       " ('Monday', 114),\n",
       " ('x2 rank', 108),\n",
       " ('Thursday', 96),\n",
       " ('Stock', 93),\n",
       " ('x1 rank', 81),\n",
       " ('Friday', 80),\n",
       " ('x3B rank', 69),\n",
       " ('x3C rank', 68),\n",
       " ('Market_3', 51),\n",
       " ('Market_4', 47),\n",
       " ('Market_2', 42),\n",
       " ('Stock_51', 24),\n",
       " ('Stock_1099', 15),\n",
       " ('Stock_2652', 14),\n",
       " ('Stock_793', 13),\n",
       " ('Stock_2372', 13),\n",
       " ('Stock_347', 13),\n",
       " ('Stock_499', 12),\n",
       " ('Stock_1045', 12),\n",
       " ('Stock_2745', 12),\n",
       " ('Stock_1540', 11),\n",
       " ('Stock_0', 11),\n",
       " ('Stock_2251', 11),\n",
       " ('Stock_959', 11),\n",
       " ('Stock_414', 10),\n",
       " ('Stock_829', 10),\n",
       " ('Stock_1393', 9),\n",
       " ('Stock_1696', 9),\n",
       " ('Stock_507', 9),\n",
       " ('Stock_634', 9),\n",
       " ('Stock_1316', 8),\n",
       " ('Stock_1400', 8),\n",
       " ('Stock_2050', 8),\n",
       " ('Stock_2927', 8),\n",
       " ('Stock_493', 8),\n",
       " ('Stock_1805', 8),\n",
       " ('Stock_35', 7),\n",
       " ('Stock_2865', 7),\n",
       " ('Stock_2793', 7),\n",
       " ('Stock_2041', 7),\n",
       " ('Stock_1017', 7),\n",
       " ('Stock_2255', 7),\n",
       " ('Stock_2049', 7),\n",
       " ('Stock_1951', 7),\n",
       " ('Stock_532', 6),\n",
       " ('Stock_610', 6),\n",
       " ('Stock_1508', 6),\n",
       " ('Stock_1139', 6),\n",
       " ('Stock_1746', 6),\n",
       " ('Stock_1543', 6),\n",
       " ('Stock_1769', 6),\n",
       " ('Stock_1233', 6),\n",
       " ('Stock_2708', 6),\n",
       " ('Stock_1714', 6),\n",
       " ('Stock_176', 6),\n",
       " ('Stock_1088', 5),\n",
       " ('Stock_555', 5),\n",
       " ('Stock_2146', 5),\n",
       " ('Stock_2174', 5),\n",
       " ('Stock_2470', 5),\n",
       " ('Stock_2326', 5),\n",
       " ('Stock_1175', 5),\n",
       " ('Stock_871', 5),\n",
       " ('Stock_2422', 5),\n",
       " ('Stock_2069', 5),\n",
       " ('Stock_1397', 5),\n",
       " ('Stock_2207', 5),\n",
       " ('Stock_1185', 5),\n",
       " ('Stock_1995', 5),\n",
       " ('Market', 5),\n",
       " ('Stock_2198', 5),\n",
       " ('Stock_1432', 5),\n",
       " ('Stock_2862', 5),\n",
       " ('Stock_2790', 5),\n",
       " ('Stock_2543', 5),\n",
       " ('Stock_549', 5),\n",
       " ('Stock_1357', 5),\n",
       " ('Stock_106', 5),\n",
       " ('Stock_2739', 5),\n",
       " ('Stock_1966', 5),\n",
       " ('Stock_2941', 5),\n",
       " ('Stock_2993', 5),\n",
       " ('Stock_1325', 4),\n",
       " ('Stock_1616', 4),\n",
       " ('Stock_2771', 4),\n",
       " ('Stock_156', 4),\n",
       " ('Stock_2304', 4),\n",
       " ('Stock_739', 4),\n",
       " ('Stock_346', 4),\n",
       " ('Stock_2033', 4),\n",
       " ('Stock_1380', 4),\n",
       " ('Stock_1803', 4),\n",
       " ('Stock_390', 4),\n",
       " ('Stock_2620', 4),\n",
       " ('Stock_1720', 4),\n",
       " ('Stock_515', 4),\n",
       " ('Stock_1410', 4),\n",
       " ('Stock_835', 4),\n",
       " ('Stock_1521', 4),\n",
       " ('Stock_1409', 4),\n",
       " ('Stock_2894', 4),\n",
       " ('Stock_1078', 4),\n",
       " ('Stock_2716', 4),\n",
       " ('Stock_748', 4),\n",
       " ('Stock_2619', 4),\n",
       " ('Stock_2698', 4),\n",
       " ('Stock_2454', 4),\n",
       " ('Stock_1660', 4),\n",
       " ('Stock_942', 4),\n",
       " ('Stock_1302', 4),\n",
       " ('Stock_2316', 4),\n",
       " ('Stock_1991', 4),\n",
       " ('Stock_2133', 4),\n",
       " ('Stock_1859', 4),\n",
       " ('Stock_1697', 4),\n",
       " ('Stock_1108', 4),\n",
       " ('Stock_897', 4),\n",
       " ('Stock_2668', 3),\n",
       " ('Stock_557', 3),\n",
       " ('Stock_2720', 3),\n",
       " ('Stock_1514', 3),\n",
       " ('Stock_1329', 3),\n",
       " ('Stock_819', 3),\n",
       " ('Stock_852', 3),\n",
       " ('Stock_208', 3),\n",
       " ('Stock_1680', 3),\n",
       " ('Stock_240', 3),\n",
       " ('Stock_317', 3),\n",
       " ('Stock_847', 3),\n",
       " ('Stock_2886', 3),\n",
       " ('Stock_189', 3),\n",
       " ('Stock_1405', 3),\n",
       " ('Stock_1013', 3),\n",
       " ('Stock_1411', 3),\n",
       " ('Stock_92', 3),\n",
       " ('Stock_1552', 3),\n",
       " ('Stock_2432', 3),\n",
       " ('Stock_603', 3),\n",
       " ('Stock_1058', 3),\n",
       " ('Stock_1910', 3),\n",
       " ('Stock_1230', 3),\n",
       " ('Stock_593', 3),\n",
       " ('Stock_1984', 3),\n",
       " ('Stock_2263', 3),\n",
       " ('Stock_1931', 3),\n",
       " ('Stock_2846', 3),\n",
       " ('Stock_1107', 3),\n",
       " ('Stock_782', 3),\n",
       " ('Stock_1127', 3),\n",
       " ('Stock_301', 3),\n",
       " ('Stock_2994', 3),\n",
       " ('Stock_1009', 3),\n",
       " ('Stock_2507', 3),\n",
       " ('Stock_1645', 3),\n",
       " ('Stock_1538', 3),\n",
       " ('Stock_2006', 3),\n",
       " ('Stock_1476', 3),\n",
       " ('Stock_128', 3),\n",
       " ('Stock_2148', 3),\n",
       " ('Stock_999', 3),\n",
       " ('Stock_2118', 3),\n",
       " ('Stock_1141', 3),\n",
       " ('Stock_2260', 3),\n",
       " ('Stock_967', 3),\n",
       " ('Stock_1554', 3),\n",
       " ('Stock_906', 3),\n",
       " ('Stock_2714', 3),\n",
       " ('Stock_2040', 3),\n",
       " ('Stock_1996', 3),\n",
       " ('Stock_1323', 3),\n",
       " ('Stock_2171', 3),\n",
       " ('Stock_265', 3),\n",
       " ('Stock_803', 3),\n",
       " ('Stock_299', 3),\n",
       " ('Stock_1231', 3),\n",
       " ('Stock_743', 3),\n",
       " ('Stock_1592', 3),\n",
       " ('Stock_2252', 3),\n",
       " ('Stock_2609', 3),\n",
       " ('Stock_799', 3),\n",
       " ('Stock_1561', 3),\n",
       " ('Stock_475', 3),\n",
       " ('Stock_291', 3),\n",
       " ('Stock_2176', 3),\n",
       " ('Stock_2328', 3),\n",
       " ('Stock_1607', 3),\n",
       " ('Stock_2340', 3),\n",
       " ('Stock_2178', 2),\n",
       " ('Stock_228', 2),\n",
       " ('Stock_1328', 2),\n",
       " ('Stock_386', 2),\n",
       " ('Stock_2970', 2),\n",
       " ('Stock_1884', 2),\n",
       " ('Stock_477', 2),\n",
       " ('Stock_1482', 2),\n",
       " ('Stock_2889', 2),\n",
       " ('Stock_2404', 2),\n",
       " ('Stock_1791', 2),\n",
       " ('Stock_1980', 2),\n",
       " ('Stock_2408', 2),\n",
       " ('Stock_2926', 2),\n",
       " ('Stock_571', 2),\n",
       " ('Stock_2999', 2),\n",
       " ('Stock_38', 2),\n",
       " ('Stock_163', 2),\n",
       " ('Stock_904', 2),\n",
       " ('Stock_2780', 2),\n",
       " ('Stock_660', 2),\n",
       " ('Stock_1964', 2),\n",
       " ('Stock_1786', 2),\n",
       " ('Stock_2837', 2),\n",
       " ('Stock_2505', 2),\n",
       " ('Stock_1209', 2),\n",
       " ('Stock_2439', 2),\n",
       " ('Stock_948', 2),\n",
       " ('Stock_1496', 2),\n",
       " ('Stock_441', 2),\n",
       " ('Stock_1467', 2),\n",
       " ('Stock_2269', 2),\n",
       " ('Stock_769', 2),\n",
       " ('Stock_1083', 2),\n",
       " ('Stock_895', 2),\n",
       " ('Stock_2949', 2),\n",
       " ('Stock_2247', 2),\n",
       " ('Stock_1401', 2),\n",
       " ('Stock_397', 2),\n",
       " ('Stock_1669', 2),\n",
       " ('Stock_1254', 2),\n",
       " ('Stock_1415', 2),\n",
       " ('Stock_2812', 2),\n",
       " ('Stock_1298', 2),\n",
       " ('Stock_3007', 2),\n",
       " ('Stock_2126', 2),\n",
       " ('Stock_136', 2),\n",
       " ('Stock_724', 2),\n",
       " ('Stock_851', 2),\n",
       " ('Stock_1239', 2),\n",
       " ('Stock_1081', 2),\n",
       " ('Stock_2911', 2),\n",
       " ('Stock_1900', 2),\n",
       " ('Stock_1066', 2),\n",
       " ('Stock_2604', 2),\n",
       " ('Stock_1745', 2),\n",
       " ('Stock_2823', 2),\n",
       " ('Stock_1525', 2),\n",
       " ('Stock_1853', 2),\n",
       " ('Stock_22', 2),\n",
       " ('Stock_270', 2),\n",
       " ('Stock_1080', 2),\n",
       " ('Stock_1440', 2),\n",
       " ('Stock_78', 2),\n",
       " ('Stock_1142', 2),\n",
       " ('Stock_1471', 2),\n",
       " ('Stock_129', 2),\n",
       " ('Stock_2365', 2),\n",
       " ('Stock_2905', 2),\n",
       " ('Stock_714', 2),\n",
       " ('Stock_2590', 2),\n",
       " ('Stock_2062', 2),\n",
       " ('Stock_2490', 2),\n",
       " ('Stock_244', 2),\n",
       " ('Stock_2455', 2),\n",
       " ('Stock_1055', 2),\n",
       " ('Stock_1539', 2),\n",
       " ('Stock_1368', 2),\n",
       " ('Stock_2121', 2),\n",
       " ('Stock_1519', 2),\n",
       " ('Stock_60', 2),\n",
       " ('Stock_11', 2),\n",
       " ('Stock_1765', 2),\n",
       " ('Stock_2902', 2),\n",
       " ('Stock_1392', 1),\n",
       " ('Stock_39', 1),\n",
       " ('Stock_1852', 1),\n",
       " ('Stock_1524', 1),\n",
       " ('Stock_164', 1),\n",
       " ('Stock_1520', 1),\n",
       " ('Stock_2153', 1),\n",
       " ('Stock_719', 1),\n",
       " ('Stock_1133', 1),\n",
       " ('Stock_2634', 1),\n",
       " ('Stock_1849', 1),\n",
       " ('Stock_641', 1),\n",
       " ('Stock_1733', 1),\n",
       " ('Stock_201', 1),\n",
       " ('Stock_784', 1),\n",
       " ('Stock_2254', 1),\n",
       " ('Stock_964', 1),\n",
       " ('Stock_1327', 1),\n",
       " ('Stock_325', 1),\n",
       " ('Stock_2854', 1),\n",
       " ('Stock_950', 1),\n",
       " ('Stock_1804', 1),\n",
       " ('Stock_492', 1),\n",
       " ('Stock_924', 1),\n",
       " ('Stock_1597', 1),\n",
       " ('Stock_212', 1),\n",
       " ('Stock_781', 1),\n",
       " ('Stock_154', 1),\n",
       " ('Stock_2772', 1),\n",
       " ('Stock_2496', 1),\n",
       " ('Stock_2440', 1),\n",
       " ('Stock_2679', 1),\n",
       " ('Stock_66', 1),\n",
       " ('Stock_1176', 1),\n",
       " ('Stock_2625', 1),\n",
       " ('Stock_1959', 1),\n",
       " ('Stock_731', 1),\n",
       " ('Stock_2979', 1),\n",
       " ('Stock_1901', 1),\n",
       " ('Stock_1916', 1),\n",
       " ('Stock_1371', 1),\n",
       " ('Stock_562', 1),\n",
       " ('Stock_1947', 1),\n",
       " ('Stock_1564', 1),\n",
       " ('Stock_867', 1),\n",
       " ('Stock_2517', 1),\n",
       " ('Stock_1740', 1),\n",
       " ('Stock_1709', 1),\n",
       " ('Stock_1860', 1),\n",
       " ('Stock_2956', 1),\n",
       " ('Stock_1914', 1),\n",
       " ('Stock_2805', 1),\n",
       " ('Stock_698', 1),\n",
       " ('Stock_97', 1),\n",
       " ('Stock_1952', 1),\n",
       " ('Stock_2295', 1),\n",
       " ('Stock_2686', 1),\n",
       " ('Stock_2278', 1),\n",
       " ('Stock_592', 1),\n",
       " ('Stock_969', 1),\n",
       " ('Stock_2499', 1),\n",
       " ('Stock_2984', 1),\n",
       " ('Stock_2600', 1),\n",
       " ('Stock_2349', 1),\n",
       " ('Stock_2395', 1),\n",
       " ('Stock_469', 1),\n",
       " ('Stock_2382', 1),\n",
       " ('Stock_16', 1),\n",
       " ('Stock_1361', 1),\n",
       " ('Stock_2150', 1),\n",
       " ('Stock_1332', 1),\n",
       " ('Stock_1683', 1),\n",
       " ('Stock_332', 1),\n",
       " ('Stock_2189', 1),\n",
       " ('Stock_779', 1),\n",
       " ('Stock_193', 1),\n",
       " ('Stock_1515', 1),\n",
       " ('Stock_1346', 1),\n",
       " ('Stock_3013', 1),\n",
       " ('Stock_1268', 1),\n",
       " ('Stock_393', 1),\n",
       " ('Stock_303', 1),\n",
       " ('Stock_2972', 1),\n",
       " ('Stock_1345', 1),\n",
       " ('Stock_58', 1),\n",
       " ('Stock_1210', 1),\n",
       " ('Stock_2689', 1),\n",
       " ('Stock_1487', 1),\n",
       " ('Stock_165', 1),\n",
       " ('Stock_1116', 1),\n",
       " ('Stock_578', 1),\n",
       " ('Stock_1378', 1),\n",
       " ('Stock_1324', 1),\n",
       " ('Stock_1726', 1),\n",
       " ('Stock_1892', 1),\n",
       " ('Stock_2217', 1),\n",
       " ('Stock_605', 1),\n",
       " ('Stock_2465', 1),\n",
       " ('Stock_2813', 1),\n",
       " ('Stock_1025', 1),\n",
       " ('Stock_2438', 1),\n",
       " ('Stock_1902', 1),\n",
       " ('Stock_2752', 1),\n",
       " ('Stock_2974', 1),\n",
       " ('Stock_2779', 1),\n",
       " ('Stock_2226', 1),\n",
       " ('Stock_2584', 1),\n",
       " ('Stock_1735', 1),\n",
       " ('Stock_428', 1),\n",
       " ('Stock_2596', 1),\n",
       " ('Stock_2266', 1),\n",
       " ('Stock_1256', 1),\n",
       " ('Stock_478', 1),\n",
       " ('Stock_2464', 1),\n",
       " ('Stock_1150', 1),\n",
       " ('Stock_1725', 1),\n",
       " ('Stock_498', 1),\n",
       " ('Stock_91', 1),\n",
       " ('Stock_1477', 1),\n",
       " ('Stock_2212', 1),\n",
       " ('Stock_214', 1),\n",
       " ('Stock_1363', 1),\n",
       " ('Stock_764', 1),\n",
       " ('Stock_2695', 1),\n",
       " ('Stock_2384', 1),\n",
       " ('Stock_1574', 1),\n",
       " ('Stock_868', 1),\n",
       " ('Stock_1296', 1),\n",
       " ('Stock_1376', 1),\n",
       " ('Stock_814', 1),\n",
       " ('Stock_2320', 1),\n",
       " ('Stock_2160', 1),\n",
       " ('Stock_522', 1),\n",
       " ('Stock_2677', 1),\n",
       " ('Stock_262', 1),\n",
       " ('Stock_1059', 1),\n",
       " ('Stock_476', 1),\n",
       " ('Stock_2500', 1),\n",
       " ('Stock_960', 1),\n",
       " ('Stock_1386', 1),\n",
       " ('Stock_1419', 1),\n",
       " ('Stock_2769', 1),\n",
       " ('Stock_2449', 1),\n",
       " ('Stock_2842', 1),\n",
       " ('Stock_1051', 1),\n",
       " ('Stock_2655', 1),\n",
       " ('Stock_2190', 1),\n",
       " ('Stock_2533', 1),\n",
       " ('Stock_572', 1),\n",
       " ('Stock_2186', 1),\n",
       " ('Stock_2154', 1),\n",
       " ('Stock_1620', 1),\n",
       " ('Stock_530', 1),\n",
       " ('Stock_2859', 1),\n",
       " ('Stock_1321', 1),\n",
       " ('Stock_806', 1),\n",
       " ('Stock_2934', 1),\n",
       " ('Stock_2494', 1),\n",
       " ('Stock_430', 1),\n",
       " ('Stock_2809', 1),\n",
       " ('Stock_2165', 1),\n",
       " ('Stock_1707', 1),\n",
       " ('Stock_2508', 1),\n",
       " ('Stock_1264', 1),\n",
       " ('Stock_1123', 1),\n",
       " ('Stock_2045', 1),\n",
       " ('Stock_5', 1),\n",
       " ('Stock_2965', 1),\n",
       " ('Stock_1662', 1),\n",
       " ('Stock_986', 1),\n",
       " ('Stock_517', 1),\n",
       " ('Stock_2497', 1),\n",
       " ('Stock_2421', 1),\n",
       " ('Stock_1832', 1),\n",
       " ('Stock_2914', 1),\n",
       " ('Stock_2301', 1),\n",
       " ('Stock_379', 1),\n",
       " ('Stock_965', 1),\n",
       " ('Stock_2332', 1),\n",
       " ('Stock_1703', 1),\n",
       " ('Stock_887', 1),\n",
       " ('Stock_2163', 1),\n",
       " ('Stock_1989', 1),\n",
       " ('Stock_2324', 1),\n",
       " ('Stock_1053', 1),\n",
       " ('Stock_194', 1),\n",
       " ('Stock_2268', 1),\n",
       " ('Stock_159', 1),\n",
       " ('Stock_37', 1),\n",
       " ('Stock_2282', 1),\n",
       " ('Stock_850', 1),\n",
       " ('Stock_1713', 1),\n",
       " ('Stock_2259', 1),\n",
       " ('Stock_89', 1),\n",
       " ('Stock_2978', 1),\n",
       " ('Stock_823', 1),\n",
       " ('Stock_357', 1),\n",
       " ('Stock_312', 1)]"
      ]
     },
     "execution_count": 24,
     "metadata": {},
     "output_type": "execute_result"
    }
   ],
   "source": [
    "sorted(omodel.get_score().items(), key=lambda x: -x[1])"
   ]
  },
  {
   "cell_type": "markdown",
   "metadata": {},
   "source": [
    "## predict y-rank"
   ]
  },
  {
   "cell_type": "markdown",
   "metadata": {},
   "source": [
    "# Split model"
   ]
  },
  {
   "cell_type": "markdown",
   "metadata": {},
   "source": [
    "# Abs model"
   ]
  }
 ],
 "metadata": {
  "kernelspec": {
   "display_name": "Python 3",
   "language": "python",
   "name": "python3"
  },
  "language_info": {
   "codemirror_mode": {
    "name": "ipython",
    "version": 3
   },
   "file_extension": ".py",
   "mimetype": "text/x-python",
   "name": "python",
   "nbconvert_exporter": "python",
   "pygments_lexer": "ipython3",
   "version": "3.6.2"
  }
 },
 "nbformat": 4,
 "nbformat_minor": 2
}
