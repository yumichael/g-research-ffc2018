{
 "cells": [
  {
   "cell_type": "code",
   "execution_count": 1,
   "metadata": {},
   "outputs": [
    {
     "name": "stderr",
     "output_type": "stream",
     "text": [
      "C:\\WinPython-64bit-3.6.1.0Qt5\\python-3.6.1.amd64\\lib\\site-packages\\simplejson\\encoder.py:291: DeprecationWarning: Interpreting naive datetime as local 2018-01-30 23:27:58.538543. Please add timezone info to timestamps.\n",
      "  chunks = self.iterencode(o, _one_shot=True)\n"
     ]
    }
   ],
   "source": [
    "%matplotlib inline\n",
    "import numpy as np\n",
    "import pandas as pd\n",
    "import matplotlib.pyplot as plt\n",
    "#import seaborn as sns\n",
    "#import sklearn.linear_model\n",
    "import xgboost as xgb\n",
    "from pytil.object import Namespace as O\n",
    "from pytil.utility import *\n",
    "from helpers import *\n",
    "from pytil.quickvis import canvas\n",
    "\n",
    "ss = slice(None)\n",
    "canvas(16, 2)"
   ]
  },
  {
   "cell_type": "code",
   "execution_count": 2,
   "metadata": {},
   "outputs": [
    {
     "name": "stderr",
     "output_type": "stream",
     "text": [
      "C:\\WinPython-64bit-3.6.1.0Qt5\\python-3.6.1.amd64\\lib\\site-packages\\simplejson\\encoder.py:291: DeprecationWarning: Interpreting naive datetime as local 2018-01-30 23:28:52.120307. Please add timezone info to timestamps.\n",
      "  chunks = self.iterencode(o, _one_shot=True)\n"
     ]
    }
   ],
   "source": [
    "N_TRAIN, N_TEST = 623817, 640430\n",
    "df = pd.read_csv('train.csv', index_col=0)\n",
    "df.index = df.index - N_TRAIN\n",
    "dg = pd.read_csv('test.csv', index_col=0)"
   ]
  },
  {
   "cell_type": "markdown",
   "metadata": {},
   "source": [
    "# Explore"
   ]
  },
  {
   "cell_type": "code",
   "execution_count": 3,
   "metadata": {},
   "outputs": [
    {
     "name": "stderr",
     "output_type": "stream",
     "text": [
      "C:\\WinPython-64bit-3.6.1.0Qt5\\python-3.6.1.amd64\\lib\\site-packages\\simplejson\\encoder.py:291: DeprecationWarning: Interpreting naive datetime as local 2018-01-30 23:29:26.127518. Please add timezone info to timestamps.\n",
      "  chunks = self.iterencode(o, _one_shot=True)\n"
     ]
    }
   ],
   "source": [
    "xfeats = 'x0 x1 x2 x3A x3B x3C x3D x3E x4 x5 x6'.split()"
   ]
  },
  {
   "cell_type": "code",
   "execution_count": 292,
   "metadata": {
    "collapsed": true
   },
   "outputs": [
    {
     "name": "stderr",
     "output_type": "stream",
     "text": [
      "C:\\WinPython-64bit-3.6.1.0Qt5\\python-3.6.1.amd64\\lib\\site-packages\\simplejson\\encoder.py:291: DeprecationWarning: Interpreting naive datetime as local 2018-01-29 22:22:11.674487. Please add timezone info to timestamps.\n",
      "  chunks = self.iterencode(o, _one_shot=True)\n"
     ]
    }
   ],
   "source": [
    "grp = df.groupby(['Market', 'Stock'])\n",
    "desc = grp.describe()"
   ]
  },
  {
   "cell_type": "code",
   "execution_count": 724,
   "metadata": {
    "collapsed": true
   },
   "outputs": [
    {
     "name": "stderr",
     "output_type": "stream",
     "text": [
      "C:\\WinPython-64bit-3.6.1.0Qt5\\python-3.6.1.amd64\\lib\\site-packages\\simplejson\\encoder.py:291: DeprecationWarning: Interpreting naive datetime as local 2018-01-30 21:06:16.747078. Please add timezone info to timestamps.\n",
      "  chunks = self.iterencode(o, _one_shot=True)\n"
     ]
    }
   ],
   "source": [
    "agrp = np.abs(df).groupby('Market Stock'.split())\n",
    "wycorr = agrp.corr().loc[(slice(None), slice(None), 'Weight',), ('y',)]"
   ]
  },
  {
   "cell_type": "code",
   "execution_count": 725,
   "metadata": {
    "collapsed": true
   },
   "outputs": [
    {
     "data": {
      "text/plain": [
       "<matplotlib.axes._subplots.AxesSubplot at 0x1f29adc3550>"
      ]
     },
     "execution_count": 725,
     "metadata": {},
     "output_type": "execute_result"
    },
    {
     "data": {
      "image/png": "[encoded data removed]",
      "text/plain": [
       "<matplotlib.figure.Figure at 0x1f56f8c55f8>"
      ]
     },
     "metadata": {},
     "output_type": "display_data"
    },
    {
     "name": "stderr",
     "output_type": "stream",
     "text": [
      "C:\\WinPython-64bit-3.6.1.0Qt5\\python-3.6.1.amd64\\lib\\site-packages\\simplejson\\encoder.py:291: DeprecationWarning: Interpreting naive datetime as local 2018-01-30 21:06:31.051520. Please add timezone info to timestamps.\n",
      "  chunks = self.iterencode(o, _one_shot=True)\n"
     ]
    }
   ],
   "source": [
    "res = agrp.corr().loc[(ss, ss, 'y'), 'x4']\n",
    "res.hist(bins=120)"
   ]
  },
  {
   "cell_type": "code",
   "execution_count": 341,
   "metadata": {
    "collapsed": true
   },
   "outputs": [
    {
     "data": {
      "text/plain": [
       "<matplotlib.axes._subplots.AxesSubplot at 0x1f27ea42cf8>"
      ]
     },
     "execution_count": 341,
     "metadata": {},
     "output_type": "execute_result"
    },
    {
     "data": {
      "image/png": "[encoded data removed]",
      "text/plain": [
       "<matplotlib.figure.Figure at 0x1f27eb59da0>"
      ]
     },
     "metadata": {},
     "output_type": "display_data"
    },
    {
     "name": "stderr",
     "output_type": "stream",
     "text": [
      "C:\\WinPython-64bit-3.6.1.0Qt5\\python-3.6.1.amd64\\lib\\site-packages\\simplejson\\encoder.py:291: DeprecationWarning: Interpreting naive datetime as local 2018-01-30 09:11:33.695777. Please add timezone info to timestamps.\n",
      "  chunks = self.iterencode(o, _one_shot=True)\n"
     ]
    }
   ],
   "source": [
    "hist(grp.sum().Weight, bins=120, normed=True, cumulative=True)\n",
    "hist(grp.sum().Weight, weighted=True, bins=120, normed=True, cumulative=True)"
   ]
  },
  {
   "cell_type": "code",
   "execution_count": 394,
   "metadata": {
    "collapsed": true
   },
   "outputs": [
    {
     "name": "stderr",
     "output_type": "stream",
     "text": [
      "C:\\WinPython-64bit-3.6.1.0Qt5\\python-3.6.1.amd64\\lib\\site-packages\\simplejson\\encoder.py:291: DeprecationWarning: Interpreting naive datetime as local 2018-01-30 10:21:28.672423. Please add timezone info to timestamps.\n",
      "  chunks = self.iterencode(o, _one_shot=True)\n"
     ]
    }
   ],
   "source": [
    "listthing = [int(x[0]) for x in sorted(df[['Stock', col]].values, key=lambda x: x[1])[::-1][-1000:-500]]\n",
    "thing = list(set(listthing))"
   ]
  },
  {
   "cell_type": "code",
   "execution_count": 744,
   "metadata": {
    "collapsed": true
   },
   "outputs": [
    {
     "data": {
      "image/png": "[encoded data removed]",
      "text/plain": [
       "<matplotlib.figure.Figure at 0x1f3184ecc88>"
      ]
     },
     "metadata": {},
     "output_type": "display_data"
    },
    {
     "name": "stdout",
     "output_type": "stream",
     "text": [
      "247 0.000397538089951\n"
     ]
    },
    {
     "data": {
      "image/png": "[encoded data removed]",
      "text/plain": [
       "<matplotlib.figure.Figure at 0x1f3184ec518>"
      ]
     },
     "metadata": {},
     "output_type": "display_data"
    },
    {
     "name": "stdout",
     "output_type": "stream",
     "text": [
      "251 0.0867626267151\n"
     ]
    },
    {
     "data": {
      "image/png": "[encoded data removed]",
      "text/plain": [
       "<matplotlib.figure.Figure at 0x1f2ed833358>"
      ]
     },
     "metadata": {},
     "output_type": "display_data"
    },
    {
     "name": "stdout",
     "output_type": "stream",
     "text": [
      "251 0.204674285411\n"
     ]
    },
    {
     "data": {
      "image/png": "[encoded data removed]",
      "text/plain": [
       "<matplotlib.figure.Figure at 0x1f3192b2f28>"
      ]
     },
     "metadata": {},
     "output_type": "display_data"
    },
    {
     "name": "stdout",
     "output_type": "stream",
     "text": [
      "247 1.42622882884e-05\n"
     ]
    },
    {
     "data": {
      "image/png": "[encoded data removed]",
      "text/plain": [
       "<matplotlib.figure.Figure at 0x1f2961ea710>"
      ]
     },
     "metadata": {},
     "output_type": "display_data"
    },
    {
     "name": "stdout",
     "output_type": "stream",
     "text": [
      "247 1.6676556502e-31\n"
     ]
    },
    {
     "data": {
      "image/png": "[encoded data removed]",
      "text/plain": [
       "<matplotlib.figure.Figure at 0x1f5453db7b8>"
      ]
     },
     "metadata": {},
     "output_type": "display_data"
    },
    {
     "name": "stdout",
     "output_type": "stream",
     "text": [
      "247 9.22979973834e-14\n"
     ]
    },
    {
     "data": {
      "image/png": "[encoded data removed]",
      "text/plain": [
       "<matplotlib.figure.Figure at 0x1f5453c9320>"
      ]
     },
     "metadata": {},
     "output_type": "display_data"
    },
    {
     "name": "stdout",
     "output_type": "stream",
     "text": [
      "249 9.59286090927e-06\n"
     ]
    },
    {
     "data": {
      "image/png": "[encoded data removed]",
      "text/plain": [
       "<matplotlib.figure.Figure at 0x1f542e4def0>"
      ]
     },
     "metadata": {},
     "output_type": "display_data"
    },
    {
     "name": "stdout",
     "output_type": "stream",
     "text": [
      "247 0.0197578412492\n"
     ]
    },
    {
     "name": "stderr",
     "output_type": "stream",
     "text": [
      "C:\\WinPython-64bit-3.6.1.0Qt5\\python-3.6.1.amd64\\lib\\site-packages\\simplejson\\encoder.py:291: DeprecationWarning: Interpreting naive datetime as local 2018-01-30 21:25:03.178891. Please add timezone info to timestamps.\n",
      "  chunks = self.iterencode(o, _one_shot=True)\n"
     ]
    }
   ],
   "source": [
    "col = 'y'\n",
    "from scipy import stats\n",
    "ii = list(range(df.Stock.min(), df.Stock.max() + 1))\n",
    "random.shuffle(ii)\n",
    "ii = ii[:8]\n",
    "#ii = thing\n",
    "for i in range(len(ii)):\n",
    "    q = df.query('Stock == ' + str(ii[i]))\n",
    "    trans = q[col]\n",
    "    trans.hist(bins=120, weights=q.Weight, normed=True, alpha=.8)\n",
    "    trans.hist(bins=120, normed=True, alpha=.8)\n",
    "    plt.show()\n",
    "    print(len(trans), stats.normaltest(trans).pvalue)"
   ]
  },
  {
   "cell_type": "markdown",
   "metadata": {},
   "source": [
    "# Simple model"
   ]
  },
  {
   "cell_type": "code",
   "execution_count": 4,
   "metadata": {},
   "outputs": [
    {
     "name": "stderr",
     "output_type": "stream",
     "text": [
      "C:\\WinPython-64bit-3.6.1.0Qt5\\python-3.6.1.amd64\\lib\\site-packages\\simplejson\\encoder.py:291: DeprecationWarning: Interpreting naive datetime as local 2018-01-30 23:29:38.159804. Please add timezone info to timestamps.\n",
      "  chunks = self.iterencode(o, _one_shot=True)\n"
     ]
    }
   ],
   "source": [
    "ident = pd.get_dummies(df[['Market', 'Stock']], columns=['Market', 'Stock'])"
   ]
  },
  {
   "cell_type": "code",
   "execution_count": 740,
   "metadata": {},
   "outputs": [
    {
     "name": "stderr",
     "output_type": "stream",
     "text": [
      "C:\\WinPython-64bit-3.6.1.0Qt5\\python-3.6.1.amd64\\lib\\site-packages\\simplejson\\encoder.py:291: DeprecationWarning: Interpreting naive datetime as local 2018-01-30 21:21:07.102413. Please add timezone info to timestamps.\n",
      "  chunks = self.iterencode(o, _one_shot=True)\n"
     ]
    }
   ],
   "source": [
    "dh = pd.concat([df, dg])"
   ]
  },
  {
   "cell_type": "code",
   "execution_count": null,
   "metadata": {
    "collapsed": true
   },
   "outputs": [],
   "source": [
    "wkdfeats = 'Monday Tuesday Wednesday Thursday Friday'.split()\n",
    "weekday = ((dh.Day + 2) % 7)\n",
    "weekday = weekday.map({i: s for i, s in enumerate(wkdfeats)})\n",
    "weekday = pd.get_dummies(weekday)\n",
    "weekday = weekday[wkdfeats]"
   ]
  },
  {
   "cell_type": "code",
   "execution_count": 746,
   "metadata": {},
   "outputs": [
    {
     "name": "stderr",
     "output_type": "stream",
     "text": [
      "C:\\WinPython-64bit-3.6.1.0Qt5\\python-3.6.1.amd64\\lib\\site-packages\\simplejson\\encoder.py:291: DeprecationWarning: Interpreting naive datetime as local 2018-01-30 21:29:16.422723. Please add timezone info to timestamps.\n",
      "  chunks = self.iterencode(o, _one_shot=True)\n"
     ]
    }
   ],
   "source": [
    "ranked = 1 - dh.groupby(['Market', 'Stock']).transform(lambda x: x.rank(pct=True, method='max', ascending=False))\n",
    "ranked = ranked[[c for c in ranked.columns if c != 'Weight' and c != 'y']]\n",
    "ranked.columns = [c + ' rank' for c in ranked.columns]"
   ]
  },
  {
   "cell_type": "code",
   "execution_count": null,
   "metadata": {
    "collapsed": true
   },
   "outputs": [],
   "source": []
  },
  {
   "cell_type": "code",
   "execution_count": null,
   "metadata": {
    "collapsed": true
   },
   "outputs": [],
   "source": [
    "#thedf = pd.concat([df, ident], axis=1)"
   ]
  },
  {
   "cell_type": "code",
   "execution_count": 815,
   "metadata": {},
   "outputs": [
    {
     "name": "stderr",
     "output_type": "stream",
     "text": [
      "C:\\WinPython-64bit-3.6.1.0Qt5\\python-3.6.1.amd64\\lib\\site-packages\\simplejson\\encoder.py:291: DeprecationWarning: Interpreting naive datetime as local 2018-01-30 23:16:31.535116. Please add timezone info to timestamps.\n",
      "  chunks = self.iterencode(o, _one_shot=True)\n"
     ]
    }
   ],
   "source": [
    "thedf = dh[['Day'] + xfeats]\n",
    "thedf = pd.concat([thedf, weekday], axis=1)"
   ]
  },
  {
   "cell_type": "code",
   "execution_count": 816,
   "metadata": {},
   "outputs": [
    {
     "name": "stderr",
     "output_type": "stream",
     "text": [
      "C:\\WinPython-64bit-3.6.1.0Qt5\\python-3.6.1.amd64\\lib\\site-packages\\simplejson\\encoder.py:291: DeprecationWarning: Interpreting naive datetime as local 2018-01-30 23:16:32.927891. Please add timezone info to timestamps.\n",
      "  chunks = self.iterencode(o, _one_shot=True)\n"
     ]
    }
   ],
   "source": [
    "import random\n",
    "xdf = thedf.iloc[:N_TRAIN]\n",
    "labels = list(xdf.columns)\n",
    "n = len(df)\n",
    "perm = list(range(n))\n",
    "random.shuffle(perm)\n",
    "tr, cv = perm[:n // 2], perm[n // 2:]\n",
    "x = xdf.values\n",
    "y = df.y.values\n",
    "weight = df.Weight.values"
   ]
  },
  {
   "cell_type": "code",
   "execution_count": 817,
   "metadata": {},
   "outputs": [
    {
     "name": "stderr",
     "output_type": "stream",
     "text": [
      "C:\\WinPython-64bit-3.6.1.0Qt5\\python-3.6.1.amd64\\lib\\site-packages\\simplejson\\encoder.py:291: DeprecationWarning: Interpreting naive datetime as local 2018-01-30 23:16:37.612476. Please add timezone info to timestamps.\n",
      "  chunks = self.iterencode(o, _one_shot=True)\n"
     ]
    }
   ],
   "source": [
    "dmat = O()\n",
    "dmat.tr = xgb.DMatrix(x[tr], y[tr], feature_names=labels, weight=weight[tr])\n",
    "dmat.cv = xgb.DMatrix(x[cv], y[cv], feature_names=labels, weight=weight[cv])"
   ]
  },
  {
   "cell_type": "code",
   "execution_count": 818,
   "metadata": {},
   "outputs": [
    {
     "name": "stdout",
     "output_type": "stream",
     "text": [
      "[0]\tCV-rmse:0.449987\n",
      "Will train until CV-rmse hasn't improved in 50 rounds.\n",
      "[1]\tCV-rmse:0.404988\n",
      "[2]\tCV-rmse:0.364489\n",
      "[3]\tCV-rmse:0.32804\n",
      "[4]\tCV-rmse:0.295236\n",
      "[5]\tCV-rmse:0.265712\n",
      "[6]\tCV-rmse:0.239141\n",
      "[7]\tCV-rmse:0.215227\n",
      "[8]\tCV-rmse:0.193704\n",
      "[9]\tCV-rmse:0.174334\n",
      "[10]\tCV-rmse:0.1569\n",
      "[11]\tCV-rmse:0.14121\n",
      "[12]\tCV-rmse:0.127089\n",
      "[13]\tCV-rmse:0.11438\n",
      "[14]\tCV-rmse:0.102942\n",
      "[15]\tCV-rmse:0.092648\n",
      "[16]\tCV-rmse:0.083383\n",
      "[17]\tCV-rmse:0.075045\n",
      "[18]\tCV-rmse:0.06754\n",
      "[19]\tCV-rmse:0.060786\n",
      "[20]\tCV-rmse:0.054708\n",
      "[21]\tCV-rmse:0.049237\n",
      "[22]\tCV-rmse:0.044313\n",
      "[23]\tCV-rmse:0.039882\n",
      "[24]\tCV-rmse:0.035894\n",
      "[25]\tCV-rmse:0.032305\n",
      "[26]\tCV-rmse:0.029074\n",
      "[27]\tCV-rmse:0.026167\n",
      "[28]\tCV-rmse:0.023551\n",
      "[29]\tCV-rmse:0.021196\n",
      "[30]\tCV-rmse:0.019077\n",
      "[31]\tCV-rmse:0.017169\n",
      "[32]\tCV-rmse:0.015453\n",
      "[33]\tCV-rmse:0.013908\n",
      "[34]\tCV-rmse:0.012517\n",
      "[35]\tCV-rmse:0.011266\n",
      "[36]\tCV-rmse:0.01014\n",
      "[37]\tCV-rmse:0.009127\n",
      "[38]\tCV-rmse:0.008215\n",
      "[39]\tCV-rmse:0.007394\n",
      "[40]\tCV-rmse:0.006656\n",
      "[41]\tCV-rmse:0.005991\n",
      "[42]\tCV-rmse:0.005393\n",
      "[43]\tCV-rmse:0.004855\n",
      "[44]\tCV-rmse:0.004371\n",
      "[45]\tCV-rmse:0.003936\n",
      "[46]\tCV-rmse:0.003544\n",
      "[47]\tCV-rmse:0.003192\n",
      "[48]\tCV-rmse:0.002875\n",
      "[49]\tCV-rmse:0.00259\n",
      "[50]\tCV-rmse:0.002334\n",
      "[51]\tCV-rmse:0.002104\n",
      "[52]\tCV-rmse:0.001897\n",
      "[53]\tCV-rmse:0.001711\n",
      "[54]\tCV-rmse:0.001544\n",
      "[55]\tCV-rmse:0.001395\n",
      "[56]\tCV-rmse:0.001261\n",
      "[57]\tCV-rmse:0.001141\n",
      "[58]\tCV-rmse:0.001033\n",
      "[59]\tCV-rmse:0.000937\n",
      "[60]\tCV-rmse:0.000851\n",
      "[61]\tCV-rmse:0.000775\n",
      "[62]\tCV-rmse:0.000707\n",
      "[63]\tCV-rmse:0.000647\n",
      "[64]\tCV-rmse:0.000594\n",
      "[65]\tCV-rmse:0.000547\n",
      "[66]\tCV-rmse:0.000506\n",
      "[67]\tCV-rmse:0.00047\n",
      "[68]\tCV-rmse:0.000439\n",
      "[69]\tCV-rmse:0.000412\n",
      "[70]\tCV-rmse:0.000389\n",
      "[71]\tCV-rmse:0.000369\n",
      "[72]\tCV-rmse:0.000352\n",
      "[73]\tCV-rmse:0.000338\n",
      "[74]\tCV-rmse:0.000326\n",
      "[75]\tCV-rmse:0.000316\n",
      "[76]\tCV-rmse:0.000307\n",
      "[77]\tCV-rmse:0.0003\n",
      "[78]\tCV-rmse:0.000294\n",
      "[79]\tCV-rmse:0.00029\n",
      "[80]\tCV-rmse:0.000286\n",
      "[81]\tCV-rmse:0.000283\n",
      "[82]\tCV-rmse:0.00028\n",
      "[83]\tCV-rmse:0.000278\n",
      "[84]\tCV-rmse:0.000276\n",
      "[85]\tCV-rmse:0.000275\n",
      "[86]\tCV-rmse:0.000273\n",
      "[87]\tCV-rmse:0.000272\n",
      "[88]\tCV-rmse:0.000271\n",
      "[89]\tCV-rmse:0.000271\n",
      "[90]\tCV-rmse:0.00027\n",
      "[91]\tCV-rmse:0.00027\n",
      "[92]\tCV-rmse:0.00027\n",
      "[93]\tCV-rmse:0.000269\n",
      "[94]\tCV-rmse:0.000269\n",
      "[95]\tCV-rmse:0.000269\n",
      "[96]\tCV-rmse:0.000269\n",
      "[97]\tCV-rmse:0.000269\n",
      "[98]\tCV-rmse:0.000268\n",
      "[99]\tCV-rmse:0.000268\n",
      "[100]\tCV-rmse:0.000268\n",
      "[101]\tCV-rmse:0.000268\n",
      "[102]\tCV-rmse:0.000268\n",
      "[103]\tCV-rmse:0.000268\n",
      "[104]\tCV-rmse:0.000268\n",
      "[105]\tCV-rmse:0.000268\n",
      "[106]\tCV-rmse:0.000268\n",
      "[107]\tCV-rmse:0.000268\n",
      "[108]\tCV-rmse:0.000268\n",
      "[109]\tCV-rmse:0.000268\n",
      "[110]\tCV-rmse:0.000268\n",
      "[111]\tCV-rmse:0.000268\n",
      "[112]\tCV-rmse:0.000268\n",
      "[113]\tCV-rmse:0.000268\n",
      "[114]\tCV-rmse:0.000268\n",
      "[115]\tCV-rmse:0.000268\n",
      "[116]\tCV-rmse:0.000268\n",
      "[117]\tCV-rmse:0.000268\n",
      "[118]\tCV-rmse:0.000268\n",
      "[119]\tCV-rmse:0.000268\n",
      "[120]\tCV-rmse:0.000268\n",
      "[121]\tCV-rmse:0.000268\n",
      "[122]\tCV-rmse:0.000268\n",
      "[123]\tCV-rmse:0.000268\n",
      "[124]\tCV-rmse:0.000268\n",
      "[125]\tCV-rmse:0.000268\n",
      "[126]\tCV-rmse:0.000268\n",
      "[127]\tCV-rmse:0.000268\n",
      "[128]\tCV-rmse:0.000268\n",
      "[129]\tCV-rmse:0.000268\n",
      "[130]\tCV-rmse:0.000268\n",
      "[131]\tCV-rmse:0.000268\n",
      "[132]\tCV-rmse:0.000268\n",
      "[133]\tCV-rmse:0.000268\n",
      "[134]\tCV-rmse:0.000268\n",
      "[135]\tCV-rmse:0.000268\n",
      "[136]\tCV-rmse:0.000268\n",
      "[137]\tCV-rmse:0.000268\n",
      "[138]\tCV-rmse:0.000268\n",
      "[139]\tCV-rmse:0.000268\n",
      "[140]\tCV-rmse:0.000268\n",
      "[141]\tCV-rmse:0.000268\n",
      "[142]\tCV-rmse:0.000268\n",
      "[143]\tCV-rmse:0.000268\n",
      "[144]\tCV-rmse:0.000268\n",
      "[145]\tCV-rmse:0.000267\n",
      "[146]\tCV-rmse:0.000268\n",
      "[147]\tCV-rmse:0.000267\n",
      "[148]\tCV-rmse:0.000267\n",
      "[149]\tCV-rmse:0.000267\n",
      "[150]\tCV-rmse:0.000267\n",
      "[151]\tCV-rmse:0.000267\n",
      "[152]\tCV-rmse:0.000267\n",
      "[153]\tCV-rmse:0.000267\n",
      "[154]\tCV-rmse:0.000267\n",
      "[155]\tCV-rmse:0.000267\n",
      "[156]\tCV-rmse:0.000267\n",
      "[157]\tCV-rmse:0.000267\n",
      "[158]\tCV-rmse:0.000267\n",
      "[159]\tCV-rmse:0.000267\n",
      "[160]\tCV-rmse:0.000267\n",
      "[161]\tCV-rmse:0.000267\n",
      "[162]\tCV-rmse:0.000267\n",
      "[163]\tCV-rmse:0.000267\n",
      "[164]\tCV-rmse:0.000267\n",
      "[165]\tCV-rmse:0.000267\n",
      "[166]\tCV-rmse:0.000267\n",
      "[167]\tCV-rmse:0.000267\n",
      "[168]\tCV-rmse:0.000267\n",
      "[169]\tCV-rmse:0.000267\n",
      "[170]\tCV-rmse:0.000267\n",
      "[171]\tCV-rmse:0.000267\n",
      "[172]\tCV-rmse:0.000267\n",
      "[173]\tCV-rmse:0.000267\n",
      "[174]\tCV-rmse:0.000267\n",
      "[175]\tCV-rmse:0.000267\n",
      "[176]\tCV-rmse:0.000267\n",
      "[177]\tCV-rmse:0.000267\n",
      "[178]\tCV-rmse:0.000267\n",
      "[179]\tCV-rmse:0.000267\n",
      "[180]\tCV-rmse:0.000267\n",
      "[181]\tCV-rmse:0.000267\n",
      "[182]\tCV-rmse:0.000267\n",
      "[183]\tCV-rmse:0.000267\n",
      "[184]\tCV-rmse:0.000267\n",
      "[185]\tCV-rmse:0.000267\n",
      "[186]\tCV-rmse:0.000267\n",
      "[187]\tCV-rmse:0.000267\n",
      "[188]\tCV-rmse:0.000267\n",
      "[189]\tCV-rmse:0.000267\n",
      "[190]\tCV-rmse:0.000267\n",
      "[191]\tCV-rmse:0.000267\n",
      "[192]\tCV-rmse:0.000267\n",
      "[193]\tCV-rmse:0.000268\n",
      "[194]\tCV-rmse:0.000267\n",
      "[195]\tCV-rmse:0.000267\n",
      "Stopping. Best iteration:\n",
      "[145]\tCV-rmse:0.000267\n",
      "\n"
     ]
    },
    {
     "name": "stderr",
     "output_type": "stream",
     "text": [
      "C:\\WinPython-64bit-3.6.1.0Qt5\\python-3.6.1.amd64\\lib\\site-packages\\simplejson\\encoder.py:291: DeprecationWarning: Interpreting naive datetime as local 2018-01-30 23:16:40.503664. Please add timezone info to timestamps.\n",
      "  chunks = self.iterencode(o, _one_shot=True)\n"
     ]
    }
   ],
   "source": [
    "model = None\n",
    "boost_hp = dict(\n",
    "    objective = 'reg:linear',\n",
    "    booste = 'gbtree',\n",
    "    max_depth = 9,\n",
    "    subsample = 1,\n",
    "    colsample_bytree = 1,\n",
    "    colsample_bylevel = 1,\n",
    "    tree_method = 'exact',\n",
    "    gamma = 0,\n",
    "    min_child_weight = 0,\n",
    "    eta = 0.1,\n",
    "    seed = 0\n",
    ")\n",
    "cv_hp = dict(\n",
    "    num_boost_round = 500,\n",
    "    early_stopping_rounds = 50,\n",
    "    nfold = 10,\n",
    "    stratified = True,\n",
    "    seed = 0,\n",
    ")\n",
    "learn_hp = dict(\n",
    "    num_boost_round = 500,\n",
    "    early_stopping_rounds = 50,\n",
    "    evals = [[dmat.cv, 'CV']]\n",
    ")\n",
    "model = xgb.train(boost_hp, dmat.tr, **learn_hp)"
   ]
  },
  {
   "cell_type": "code",
   "execution_count": 819,
   "metadata": {},
   "outputs": [
    {
     "data": {
      "text/plain": [
       "[<matplotlib.lines.Line2D at 0x1f280c7f588>]"
      ]
     },
     "execution_count": 819,
     "metadata": {},
     "output_type": "execute_result"
    },
    {
     "data": {
      "image/png": "[encoded data removed]",
      "text/plain": [
       "<matplotlib.figure.Figure at 0x1f54396fc50>"
      ]
     },
     "metadata": {},
     "output_type": "display_data"
    },
    {
     "name": "stderr",
     "output_type": "stream",
     "text": [
      "C:\\WinPython-64bit-3.6.1.0Qt5\\python-3.6.1.amd64\\lib\\site-packages\\simplejson\\encoder.py:291: DeprecationWarning: Interpreting naive datetime as local 2018-01-30 23:18:31.410113. Please add timezone info to timestamps.\n",
      "  chunks = self.iterencode(o, _one_shot=True)\n"
     ]
    }
   ],
   "source": [
    "y_ = model.predict(dmat.cv)\n",
    "plt.plot(y_)"
   ]
  },
  {
   "cell_type": "code",
   "execution_count": 820,
   "metadata": {},
   "outputs": [
    {
     "data": {
      "image/png": "[encoded data removed]",
      "text/plain": [
       "<matplotlib.figure.Figure at 0x1f208b67ac8>"
      ]
     },
     "metadata": {},
     "output_type": "display_data"
    },
    {
     "name": "stderr",
     "output_type": "stream",
     "text": [
      "C:\\WinPython-64bit-3.6.1.0Qt5\\python-3.6.1.amd64\\lib\\site-packages\\simplejson\\encoder.py:291: DeprecationWarning: Interpreting naive datetime as local 2018-01-30 23:18:33.302845. Please add timezone info to timestamps.\n",
      "  chunks = self.iterencode(o, _one_shot=True)\n"
     ]
    }
   ],
   "source": [
    "xtest = thedf.iloc[N_TRAIN:].values\n",
    "dmat.test = xgb.DMatrix(xtest, feature_names=labels)\n",
    "ytest_ = model.predict(dmat.test)\n",
    "plt.plot(ytest_); plt.show()"
   ]
  },
  {
   "cell_type": "code",
   "execution_count": null,
   "metadata": {
    "collapsed": true
   },
   "outputs": [],
   "source": [
    "for i, tree in enumerate(model.get_dump()):\n",
    "    print('<{}>'.format(i))\n",
    "    print(tree)\n",
    "    if i >= 10:\n",
    "        break"
   ]
  },
  {
   "cell_type": "code",
   "execution_count": 821,
   "metadata": {},
   "outputs": [
    {
     "name": "stderr",
     "output_type": "stream",
     "text": [
      "C:\\WinPython-64bit-3.6.1.0Qt5\\python-3.6.1.amd64\\lib\\site-packages\\simplejson\\encoder.py:291: DeprecationWarning: Interpreting naive datetime as local 2018-01-30 23:18:50.629356. Please add timezone info to timestamps.\n",
      "  chunks = self.iterencode(o, _one_shot=True)\n"
     ]
    }
   ],
   "source": [
    "ypred = pd.Series(ytest_).rename('y')\n",
    "ypred.index.name = 'Index'\n",
    "ypred.to_csv('model1.csv', header=True)\n",
    "omodel = model"
   ]
  },
  {
   "cell_type": "markdown",
   "metadata": {},
   "source": [
    "## predict y-rank"
   ]
  },
  {
   "cell_type": "markdown",
   "metadata": {},
   "source": [
    "# Split model"
   ]
  },
  {
   "cell_type": "markdown",
   "metadata": {},
   "source": [
    "# Abs model"
   ]
  }
 ],
 "metadata": {
  "kernelspec": {
   "display_name": "Python 3",
   "language": "python",
   "name": "python3"
  },
  "language_info": {
   "codemirror_mode": {
    "name": "ipython",
    "version": 3
   },
   "file_extension": ".py",
   "mimetype": "text/x-python",
   "name": "python",
   "nbconvert_exporter": "python",
   "pygments_lexer": "ipython3",
   "version": "3.6.1"
  }
 },
 "nbformat": 4,
 "nbformat_minor": 2
}
