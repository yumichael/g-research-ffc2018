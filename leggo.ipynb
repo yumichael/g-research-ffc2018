{
 "cells": [
  {
   "cell_type": "code",
   "execution_count": 1,
   "metadata": {},
   "outputs": [],
   "source": [
    "%matplotlib inline\n",
    "import numpy as np\n",
    "import pandas as pd\n",
    "import matplotlib.pyplot as plt\n",
    "#import seaborn as sns\n",
    "#import sklearn.linear_model\n",
    "import xgboost as xgb\n",
    "from pytil.object import Namespace as O\n",
    "from pytil.utility import *\n",
    "from helpers import *\n",
    "from pytil.quickvis import canvas\n",
    "\n",
    "import random\n",
    "ss = slice(None)\n",
    "canvas(16, 2)"
   ]
  },
  {
   "cell_type": "code",
   "execution_count": 2,
   "metadata": {},
   "outputs": [],
   "source": [
    "N_TRAIN, N_TEST = 623817, 640430\n",
    "df = pd.read_csv('train.csv', index_col=0)\n",
    "df.index = df.index - N_TRAIN\n",
    "dg = pd.read_csv('test.csv', index_col=0)\n",
    "dh = pd.concat([df, dg])\n",
    "n_stock = len(set(dh.Stock))"
   ]
  },
  {
   "cell_type": "markdown",
   "metadata": {},
   "source": [
    "# Explore"
   ]
  },
  {
   "cell_type": "code",
   "execution_count": 3,
   "metadata": {},
   "outputs": [],
   "source": [
    "xfeats = 'x0 x1 x2 x3A x3B x3C x3D x3E x4 x5 x6'.split()\n",
    "idfeats = 'Market Stock'.split()"
   ]
  },
  {
   "cell_type": "code",
   "execution_count": null,
   "metadata": {
    "collapsed": true
   },
   "outputs": [],
   "source": [
    "raise Exception(\"Don't go on blindly!\")"
   ]
  },
  {
   "cell_type": "markdown",
   "metadata": {},
   "source": [
    "## feature explore"
   ]
  },
  {
   "cell_type": "code",
   "execution_count": null,
   "metadata": {
    "collapsed": true
   },
   "outputs": [],
   "source": [
    "sortdh = dh.sort_values('Day')\n",
    "res = [None] * n_stock\n",
    "for idx, ((markt, stock), td) in enumerate(sortdh.groupby(['Market', 'Stock'])):\n",
    "    data = [np.inf]\n",
    "    for i in range(1, 200):\n",
    "        roll = td.rolling(i, center=True, min_periods=1)\n",
    "        est = (roll.y.sum() - td.y) / (roll.y.count() - 1)\n",
    "        data.append((td.Weight * (est - td.y) ** 2).sum())\n",
    "    res[stock] = min(range(len(data)), key=lambda x: data[x])\n",
    "    if idx % 100 == 0:\n",
    "        print(idx)"
   ]
  },
  {
   "cell_type": "code",
   "execution_count": 542,
   "metadata": {
    "collapsed": true
   },
   "outputs": [
    {
     "data": {
      "image/png": "[encoded data removed]",
      "text/plain": [
       "<matplotlib.figure.Figure at 0x1ffa3ab6748>"
      ]
     },
     "metadata": {},
     "output_type": "display_data"
    },
    {
     "name": "stderr",
     "output_type": "stream",
     "text": [
      "C:\\WinPython-64bit-3.6.1.0Qt5\\python-3.6.1.amd64\\lib\\site-packages\\simplejson\\encoder.py:291: DeprecationWarning: Interpreting naive datetime as local 2018-02-01 19:18:24.639794. Please add timezone info to timestamps.\n",
      "  chunks = self.iterencode(o, _one_shot=True)\n"
     ]
    }
   ],
   "source": [
    "plt.hist(res, bins=200);"
   ]
  },
  {
   "cell_type": "code",
   "execution_count": null,
   "metadata": {
    "collapsed": true
   },
   "outputs": [],
   "source": [
    "13, 25, 33, 57"
   ]
  },
  {
   "cell_type": "markdown",
   "metadata": {},
   "source": [
    "## old things"
   ]
  },
  {
   "cell_type": "code",
   "execution_count": 724,
   "metadata": {
    "collapsed": true
   },
   "outputs": [
    {
     "name": "stderr",
     "output_type": "stream",
     "text": [
      "C:\\WinPython-64bit-3.6.1.0Qt5\\python-3.6.1.amd64\\lib\\site-packages\\simplejson\\encoder.py:291: DeprecationWarning: Interpreting naive datetime as local 2018-01-30 21:06:16.747078. Please add timezone info to timestamps.\n",
      "  chunks = self.iterencode(o, _one_shot=True)\n"
     ]
    }
   ],
   "source": [
    "agrp = np.abs(df).groupby('Market Stock'.split())\n",
    "wycorr = agrp.corr().loc[(slice(None), slice(None), 'Weight',), ('y',)]"
   ]
  },
  {
   "cell_type": "code",
   "execution_count": 725,
   "metadata": {
    "collapsed": true
   },
   "outputs": [
    {
     "data": {
      "text/plain": [
       "<matplotlib.axes._subplots.AxesSubplot at 0x1f29adc3550>"
      ]
     },
     "execution_count": 725,
     "metadata": {},
     "output_type": "execute_result"
    },
    {
     "data": {
      "image/png": "[encoded data removed]",
      "text/plain": [
       "<matplotlib.figure.Figure at 0x1f56f8c55f8>"
      ]
     },
     "metadata": {},
     "output_type": "display_data"
    },
    {
     "name": "stderr",
     "output_type": "stream",
     "text": [
      "C:\\WinPython-64bit-3.6.1.0Qt5\\python-3.6.1.amd64\\lib\\site-packages\\simplejson\\encoder.py:291: DeprecationWarning: Interpreting naive datetime as local 2018-01-30 21:06:31.051520. Please add timezone info to timestamps.\n",
      "  chunks = self.iterencode(o, _one_shot=True)\n"
     ]
    }
   ],
   "source": [
    "res = agrp.corr().loc[(ss, ss, 'y'), 'x4']\n",
    "res.hist(bins=120)"
   ]
  },
  {
   "cell_type": "code",
   "execution_count": 341,
   "metadata": {
    "collapsed": true
   },
   "outputs": [
    {
     "data": {
      "text/plain": [
       "<matplotlib.axes._subplots.AxesSubplot at 0x1f27ea42cf8>"
      ]
     },
     "execution_count": 341,
     "metadata": {},
     "output_type": "execute_result"
    },
    {
     "data": {
      "image/png": "[encoded data removed]",
      "text/plain": [
       "<matplotlib.figure.Figure at 0x1f27eb59da0>"
      ]
     },
     "metadata": {},
     "output_type": "display_data"
    },
    {
     "name": "stderr",
     "output_type": "stream",
     "text": [
      "C:\\WinPython-64bit-3.6.1.0Qt5\\python-3.6.1.amd64\\lib\\site-packages\\simplejson\\encoder.py:291: DeprecationWarning: Interpreting naive datetime as local 2018-01-30 09:11:33.695777. Please add timezone info to timestamps.\n",
      "  chunks = self.iterencode(o, _one_shot=True)\n"
     ]
    }
   ],
   "source": [
    "hist(grp.sum().Weight, bins=120, normed=True, cumulative=True)\n",
    "hist(grp.sum().Weight, weighted=True, bins=120, normed=True, cumulative=True)"
   ]
  },
  {
   "cell_type": "code",
   "execution_count": 394,
   "metadata": {
    "collapsed": true
   },
   "outputs": [
    {
     "name": "stderr",
     "output_type": "stream",
     "text": [
      "C:\\WinPython-64bit-3.6.1.0Qt5\\python-3.6.1.amd64\\lib\\site-packages\\simplejson\\encoder.py:291: DeprecationWarning: Interpreting naive datetime as local 2018-01-30 10:21:28.672423. Please add timezone info to timestamps.\n",
      "  chunks = self.iterencode(o, _one_shot=True)\n"
     ]
    }
   ],
   "source": [
    "listthing = [int(x[0]) for x in sorted(df[['Stock', col]].values, key=lambda x: x[1])[::-1][-1000:-500]]\n",
    "thing = list(set(listthing))"
   ]
  },
  {
   "cell_type": "code",
   "execution_count": 744,
   "metadata": {
    "collapsed": true
   },
   "outputs": [
    {
     "data": {
      "image/png": "[encoded data removed]",
      "text/plain": [
       "<matplotlib.figure.Figure at 0x1f3184ecc88>"
      ]
     },
     "metadata": {},
     "output_type": "display_data"
    },
    {
     "name": "stdout",
     "output_type": "stream",
     "text": [
      "247 0.000397538089951\n"
     ]
    },
    {
     "data": {
      "image/png": "[encoded data removed]",
      "text/plain": [
       "<matplotlib.figure.Figure at 0x1f3184ec518>"
      ]
     },
     "metadata": {},
     "output_type": "display_data"
    },
    {
     "name": "stdout",
     "output_type": "stream",
     "text": [
      "251 0.0867626267151\n"
     ]
    },
    {
     "data": {
      "image/png": "[encoded data removed]",
      "text/plain": [
       "<matplotlib.figure.Figure at 0x1f2ed833358>"
      ]
     },
     "metadata": {},
     "output_type": "display_data"
    },
    {
     "name": "stdout",
     "output_type": "stream",
     "text": [
      "251 0.204674285411\n"
     ]
    },
    {
     "data": {
      "image/png": "[encoded data removed]",
      "text/plain": [
       "<matplotlib.figure.Figure at 0x1f3192b2f28>"
      ]
     },
     "metadata": {},
     "output_type": "display_data"
    },
    {
     "name": "stdout",
     "output_type": "stream",
     "text": [
      "247 1.42622882884e-05\n"
     ]
    },
    {
     "data": {
      "image/png": "[encoded data removed]",
      "text/plain": [
       "<matplotlib.figure.Figure at 0x1f2961ea710>"
      ]
     },
     "metadata": {},
     "output_type": "display_data"
    },
    {
     "name": "stdout",
     "output_type": "stream",
     "text": [
      "247 1.6676556502e-31\n"
     ]
    },
    {
     "data": {
      "image/png": "[encoded data removed]",
      "text/plain": [
       "<matplotlib.figure.Figure at 0x1f5453db7b8>"
      ]
     },
     "metadata": {},
     "output_type": "display_data"
    },
    {
     "name": "stdout",
     "output_type": "stream",
     "text": [
      "247 9.22979973834e-14\n"
     ]
    },
    {
     "data": {
      "image/png": "[encoded data removed]",
      "text/plain": [
       "<matplotlib.figure.Figure at 0x1f5453c9320>"
      ]
     },
     "metadata": {},
     "output_type": "display_data"
    },
    {
     "name": "stdout",
     "output_type": "stream",
     "text": [
      "249 9.59286090927e-06\n"
     ]
    },
    {
     "data": {
      "image/png": "[encoded data removed]",
      "text/plain": [
       "<matplotlib.figure.Figure at 0x1f542e4def0>"
      ]
     },
     "metadata": {},
     "output_type": "display_data"
    },
    {
     "name": "stdout",
     "output_type": "stream",
     "text": [
      "247 0.0197578412492\n"
     ]
    },
    {
     "name": "stderr",
     "output_type": "stream",
     "text": [
      "C:\\WinPython-64bit-3.6.1.0Qt5\\python-3.6.1.amd64\\lib\\site-packages\\simplejson\\encoder.py:291: DeprecationWarning: Interpreting naive datetime as local 2018-01-30 21:25:03.178891. Please add timezone info to timestamps.\n",
      "  chunks = self.iterencode(o, _one_shot=True)\n"
     ]
    }
   ],
   "source": [
    "col = 'y'\n",
    "from scipy import stats\n",
    "ii = list(range(df.Stock.min(), df.Stock.max() + 1))\n",
    "random.shuffle(ii)\n",
    "ii = ii[:8]\n",
    "#ii = thing\n",
    "for i in range(len(ii)):\n",
    "    q = df.query('Stock == ' + str(ii[i]))\n",
    "    trans = q[col]\n",
    "    trans.hist(bins=120, weights=q.Weight, normed=True, alpha=.8)\n",
    "    trans.hist(bins=120, normed=True, alpha=.8)\n",
    "    plt.show()\n",
    "    print(len(trans), stats.normaltest(trans).pvalue)"
   ]
  },
  {
   "cell_type": "markdown",
   "metadata": {},
   "source": [
    "## cv days selection"
   ]
  },
  {
   "cell_type": "code",
   "execution_count": 84,
   "metadata": {
    "collapsed": true
   },
   "outputs": [
    {
     "data": {
      "image/png": "[encoded data removed]",
      "text/plain": [
       "<matplotlib.figure.Figure at 0x7f444192d6d8>"
      ]
     },
     "metadata": {},
     "output_type": "display_data"
    }
   ],
   "source": [
    "days = sorted(set(df.Day))\n",
    "weights = [df.query('Day == ' + str(day)).Weight.sum() for day in days]\n",
    "plt.plot(weights); plt.show()"
   ]
  },
  {
   "cell_type": "markdown",
   "metadata": {},
   "source": [
    "# Simple model"
   ]
  },
  {
   "cell_type": "code",
   "execution_count": null,
   "metadata": {
    "collapsed": true
   },
   "outputs": [],
   "source": [
    "# +2 to day to get 0 % 7 == Monday"
   ]
  },
  {
   "cell_type": "code",
   "execution_count": 4,
   "metadata": {},
   "outputs": [],
   "source": [
    "market = pd.get_dummies(dh[['Market']], columns=['Market'])\n",
    "#stock = pd.get_dummies(dh[['Stock']], columns=['Stock'])\n",
    "#day = pd.get_dummies(dh[['Day']], columns=['Day'])"
   ]
  },
  {
   "cell_type": "code",
   "execution_count": 5,
   "metadata": {},
   "outputs": [],
   "source": [
    "dayseg = dh['Day']\n",
    "off0 = (dayseg + 2) // 14\n",
    "off0.name = 'Biweek0'\n",
    "off1 = (dayseg + 2 + 7) // 14\n",
    "off1.name = 'Biweek1'\n",
    "dayseg = pd.concat([off0, off1], axis=1)"
   ]
  },
  {
   "cell_type": "code",
   "execution_count": 6,
   "metadata": {},
   "outputs": [],
   "source": [
    "wkdfeats = 'Monday Tuesday Wednesday Thursday Friday'.split()\n",
    "weekday = ((dh.Day + 2) % 7)\n",
    "weekday = weekday.map({i: s for i, s in enumerate(wkdfeats)})\n",
    "weekday = pd.get_dummies(weekday)\n",
    "weekday = weekday[wkdfeats]"
   ]
  },
  {
   "cell_type": "code",
   "execution_count": 198,
   "metadata": {},
   "outputs": [],
   "source": [
    "rank = 1 - dh.groupby(['Market', 'Stock']).transform(lambda x: x.rank(pct=True, method='max', ascending=False))\n",
    "rank = rank[[c for c in rank.columns if c != 'Weight' and c != 'y' and c != 'Day']]\n",
    "rank.columns = [c + ' rank' for c in rank.columns]"
   ]
  },
  {
   "cell_type": "code",
   "execution_count": 276,
   "metadata": {
    "collapsed": true
   },
   "outputs": [],
   "source": [
    "trfilt = dh.Day.isin(days_a)"
   ]
  },
  {
   "cell_type": "code",
   "execution_count": null,
   "metadata": {
    "collapsed": true
   },
   "outputs": [],
   "source": [
    "# TODO below code inefficient due to the unoptimized y[trfilt]"
   ]
  },
  {
   "cell_type": "code",
   "execution_count": 277,
   "metadata": {},
   "outputs": [],
   "source": [
    "def helper(y):\n",
    "    thing = y + np.nan\n",
    "    thing.loc[trfilt] = y[trfilt]\n",
    "    return thing\n",
    "ymean = dh.groupby(['Market', 'Stock']).y.transform(lambda y: helper(y).mean())\n",
    "ymean = ymean.fillna(0)\n",
    "ymean.name = 'y mean'"
   ]
  },
  {
   "cell_type": "code",
   "execution_count": 278,
   "metadata": {},
   "outputs": [],
   "source": [
    "def get_rolling_average(x, window, *args, **kw):\n",
    "    roll = x.rolling(window, min_periods=1, *args, **kw)\n",
    "    est = (roll.sum() - x) / (roll.count() - 1)\n",
    "    return est\n",
    "def helper(y):\n",
    "    thing = y + np.nan\n",
    "    thing.loc[trfilt] = y[trfilt]\n",
    "    return thing\n",
    "timedh = dh.sort_values('Day')\n",
    "timey = timedh.groupby(['Market', 'Stock']).y\n",
    "yrolls = []\n",
    "for w in range(5, 58, 4): #[13, 25, 33, 57]:\n",
    "    roll = timey.transform(lambda y: get_rolling_average(helper(y), w, center=True))\n",
    "    roll.name = 'y mean((' + str(w) + '))center'\n",
    "    yrolls.append(roll)\n",
    "    #roll = timey.transform(lambda y: get_rolling_average(y[::-1], w, center=False)[::-1])\n",
    "    #roll.name = 'y mean((' + str(w) + '))after'\n",
    "    #yrolls.append(roll)\n",
    "    #roll = timey.transform(lambda y: get_rolling_average(y, w, center=False))\n",
    "    #roll.name = 'y mean((' + str(w) + '))before'\n",
    "    #yrolls.append(roll)"
   ]
  },
  {
   "cell_type": "code",
   "execution_count": 292,
   "metadata": {},
   "outputs": [
    {
     "data": {
      "text/plain": [
       "(2, 5, 7, 13)"
      ]
     },
     "execution_count": 292,
     "metadata": {},
     "output_type": "execute_result"
    }
   ],
   "source": [
    "aa = list(range(5, 58, 4))\n",
    "aa.index(13), aa.index(25), aa.index(33), aa.index(57)"
   ]
  },
  {
   "cell_type": "code",
   "execution_count": 199,
   "metadata": {
    "collapsed": true
   },
   "outputs": [],
   "source": [
    "windowdh = pd.concat([dh[idfeats], weekday, dh[xfeats], rank], axis=1)\n",
    "windowgrp = windowdh.groupby(idfeats)\n",
    "shifts = []\n",
    "plains = []\n",
    "for i in [-1, 1]: # <-- the shifts\n",
    "    shifted = windowgrp.shift(i)\n",
    "    if i:\n",
    "        shifted.columns = [x + ' (' + str(-i) + ')' for x in shifted.columns]\n",
    "    shifts.append(shifted)"
   ]
  },
  {
   "cell_type": "code",
   "execution_count": 104,
   "metadata": {},
   "outputs": [],
   "source": [
    "#stockparts = []\n",
    "#for i in range(80):\n",
    "#    randmap = list(range(n_stock))\n",
    "#    random.shuffle(randmap)\n",
    "#    stockpart = dh.Stock.map(lambda x: randmap[x])\n",
    "#    stockpart.name = 'Stock ~' + str(i) + '~'\n",
    "#    stockparts.append(stockpart)"
   ]
  },
  {
   "cell_type": "code",
   "execution_count": 13,
   "metadata": {},
   "outputs": [],
   "source": [
    "# "
   ]
  },
  {
   "cell_type": "code",
   "execution_count": 245,
   "metadata": {},
   "outputs": [],
   "source": [
    "#\n",
    "try:\n",
    "    with open('days_order.txt', 'r') as file:\n",
    "        days = [int(x) for x in file.read().splitlines()]\n",
    "except FileNotFoundError:\n",
    "    days = sorted(set(df.Day))\n",
    "    random.shuffle(days)\n",
    "    print('new days')\n",
    "#\n",
    "n_days = len(days)\n",
    "#days_a, days_b, days_c = set(days[:n_days // 3]), set(days[n_days // 3:(2 * n_days) // 3]), set(days[(2 * n_days) // 3:])\n",
    "days_a, days_b = set(days[:n_days // 2]), set(days[n_days // 2:])\n",
    "#tr, cv, sc = df.Day.isin(days_a), df.Day.isin(days_b), df.Day.isin(days_c)\n",
    "tr, cv = df.Day.isin(days_a), df.Day.isin(days_b)"
   ]
  },
  {
   "cell_type": "code",
   "execution_count": 320,
   "metadata": {},
   "outputs": [],
   "source": [
    "#origdh = dh[['Market'] + xfeats]\n",
    "#thedh = pd.concat([market, stock, weekday, origdh], axis=1)\n",
    "thedh = pd.concat([dh[xfeats], market, dayseg, weekday, rank] + shifts, axis=1)"
   ]
  },
  {
   "cell_type": "code",
   "execution_count": 321,
   "metadata": {},
   "outputs": [],
   "source": [
    "xdf = thedh.iloc[:N_TRAIN]\n",
    "labels = list(xdf.columns)\n",
    "n = len(df)\n",
    "x = xdf.values\n",
    "y = df.y.values #(df.y - ymean).values\n",
    "weight = df.Weight.values"
   ]
  },
  {
   "cell_type": "code",
   "execution_count": 322,
   "metadata": {},
   "outputs": [],
   "source": [
    "#n = len(df)\n",
    "#a = list(range(n))\n",
    "#random.shuffle(a)\n",
    "#tr, cv = a[:n // 2], a[n // 2:]"
   ]
  },
  {
   "cell_type": "code",
   "execution_count": 323,
   "metadata": {},
   "outputs": [],
   "source": [
    "dmat = O()\n",
    "dmat.tr = xgb.DMatrix(x[tr], y[tr], feature_names=labels, weight=weight[tr])\n",
    "dmat.cv = xgb.DMatrix(x[cv], y[cv], feature_names=labels, weight=weight[cv])\n",
    "#dmat.sc = xgb.DMatrix(x[sc], y[sc], feature_names=labels, weight=weight[sc])\n",
    "dmat.given = xgb.DMatrix(x, y, feature_names=labels, weight=weight)"
   ]
  },
  {
   "cell_type": "code",
   "execution_count": 337,
   "metadata": {
    "scrolled": true
   },
   "outputs": [
    {
     "name": "stdout",
     "output_type": "stream",
     "text": [
      "[0]\tTrain-rmse:0.449988\tCV-rmse:0.449987\n",
      "Multiple eval metrics have been passed: 'CV-rmse' will be used for early stopping.\n",
      "\n",
      "Will train until CV-rmse hasn't improved in 100 rounds.\n",
      "[1]\tTrain-rmse:0.404989\tCV-rmse:0.404988\n",
      "[2]\tTrain-rmse:0.36449\tCV-rmse:0.36449\n",
      "[3]\tTrain-rmse:0.328041\tCV-rmse:0.328041\n",
      "[4]\tTrain-rmse:0.295237\tCV-rmse:0.295237\n",
      "[5]\tTrain-rmse:0.265713\tCV-rmse:0.265713\n",
      "[6]\tTrain-rmse:0.239142\tCV-rmse:0.239142\n",
      "[7]\tTrain-rmse:0.215228\tCV-rmse:0.215227\n",
      "[8]\tTrain-rmse:0.193705\tCV-rmse:0.193705\n",
      "[9]\tTrain-rmse:0.174335\tCV-rmse:0.174334\n",
      "[10]\tTrain-rmse:0.156901\tCV-rmse:0.156901\n",
      "[11]\tTrain-rmse:0.141211\tCV-rmse:0.141211\n",
      "[12]\tTrain-rmse:0.12709\tCV-rmse:0.12709\n",
      "[13]\tTrain-rmse:0.114381\tCV-rmse:0.114381\n",
      "[14]\tTrain-rmse:0.102943\tCV-rmse:0.102943\n",
      "[15]\tTrain-rmse:0.092649\tCV-rmse:0.092649\n",
      "[16]\tTrain-rmse:0.083384\tCV-rmse:0.083384\n",
      "[17]\tTrain-rmse:0.075046\tCV-rmse:0.075045\n",
      "[18]\tTrain-rmse:0.067542\tCV-rmse:0.067541\n",
      "[19]\tTrain-rmse:0.060788\tCV-rmse:0.060787\n",
      "[20]\tTrain-rmse:0.054709\tCV-rmse:0.054708\n",
      "[21]\tTrain-rmse:0.049238\tCV-rmse:0.049238\n",
      "[22]\tTrain-rmse:0.044315\tCV-rmse:0.044314\n",
      "[23]\tTrain-rmse:0.039883\tCV-rmse:0.039883\n",
      "[24]\tTrain-rmse:0.035895\tCV-rmse:0.035895\n",
      "[25]\tTrain-rmse:0.032306\tCV-rmse:0.032306\n",
      "[26]\tTrain-rmse:0.029076\tCV-rmse:0.029075\n",
      "[27]\tTrain-rmse:0.026168\tCV-rmse:0.026168\n",
      "[28]\tTrain-rmse:0.023552\tCV-rmse:0.023552\n",
      "[29]\tTrain-rmse:0.021197\tCV-rmse:0.021197\n",
      "[30]\tTrain-rmse:0.019078\tCV-rmse:0.019078\n",
      "[31]\tTrain-rmse:0.01717\tCV-rmse:0.01717\n",
      "[32]\tTrain-rmse:0.015454\tCV-rmse:0.015454\n",
      "[33]\tTrain-rmse:0.013909\tCV-rmse:0.013909\n",
      "[34]\tTrain-rmse:0.012519\tCV-rmse:0.012519\n",
      "[35]\tTrain-rmse:0.011267\tCV-rmse:0.011267\n",
      "[36]\tTrain-rmse:0.010141\tCV-rmse:0.010141\n",
      "[37]\tTrain-rmse:0.009128\tCV-rmse:0.009128\n",
      "[38]\tTrain-rmse:0.008216\tCV-rmse:0.008216\n",
      "[39]\tTrain-rmse:0.007395\tCV-rmse:0.007395\n",
      "[40]\tTrain-rmse:0.006657\tCV-rmse:0.006657\n",
      "[41]\tTrain-rmse:0.005992\tCV-rmse:0.005992\n",
      "[42]\tTrain-rmse:0.005394\tCV-rmse:0.005394\n",
      "[43]\tTrain-rmse:0.004856\tCV-rmse:0.004856\n",
      "[44]\tTrain-rmse:0.004372\tCV-rmse:0.004372\n",
      "[45]\tTrain-rmse:0.003937\tCV-rmse:0.003937\n",
      "[46]\tTrain-rmse:0.003545\tCV-rmse:0.003545\n",
      "[47]\tTrain-rmse:0.003192\tCV-rmse:0.003193\n",
      "[48]\tTrain-rmse:0.002876\tCV-rmse:0.002876\n",
      "[49]\tTrain-rmse:0.002591\tCV-rmse:0.002591\n",
      "[50]\tTrain-rmse:0.002334\tCV-rmse:0.002335\n",
      "[51]\tTrain-rmse:0.002104\tCV-rmse:0.002105\n",
      "[52]\tTrain-rmse:0.001897\tCV-rmse:0.001898\n",
      "[53]\tTrain-rmse:0.001711\tCV-rmse:0.001712\n",
      "[54]\tTrain-rmse:0.001544\tCV-rmse:0.001545\n",
      "[55]\tTrain-rmse:0.001395\tCV-rmse:0.001396\n",
      "[56]\tTrain-rmse:0.00126\tCV-rmse:0.001261\n",
      "[57]\tTrain-rmse:0.00114\tCV-rmse:0.001141\n",
      "[58]\tTrain-rmse:0.001032\tCV-rmse:0.001033\n",
      "[59]\tTrain-rmse:0.000936\tCV-rmse:0.000937\n",
      "[60]\tTrain-rmse:0.00085\tCV-rmse:0.000851\n",
      "[61]\tTrain-rmse:0.000773\tCV-rmse:0.000775\n",
      "[62]\tTrain-rmse:0.000705\tCV-rmse:0.000706\n",
      "[63]\tTrain-rmse:0.000645\tCV-rmse:0.000646\n",
      "[64]\tTrain-rmse:0.000591\tCV-rmse:0.000592\n",
      "[65]\tTrain-rmse:0.000544\tCV-rmse:0.000545\n",
      "[66]\tTrain-rmse:0.000503\tCV-rmse:0.000504\n",
      "[67]\tTrain-rmse:0.000466\tCV-rmse:0.000467\n",
      "[68]\tTrain-rmse:0.000435\tCV-rmse:0.000436\n",
      "[69]\tTrain-rmse:0.000407\tCV-rmse:0.000408\n",
      "[70]\tTrain-rmse:0.000384\tCV-rmse:0.000384\n",
      "[71]\tTrain-rmse:0.000363\tCV-rmse:0.000364\n",
      "[72]\tTrain-rmse:0.000346\tCV-rmse:0.000347\n",
      "[73]\tTrain-rmse:0.000331\tCV-rmse:0.000332\n",
      "[74]\tTrain-rmse:0.000318\tCV-rmse:0.000319\n",
      "[75]\tTrain-rmse:0.000308\tCV-rmse:0.000309\n",
      "[76]\tTrain-rmse:0.000299\tCV-rmse:0.0003\n",
      "[77]\tTrain-rmse:0.000292\tCV-rmse:0.000293\n",
      "[78]\tTrain-rmse:0.000286\tCV-rmse:0.000287\n",
      "[79]\tTrain-rmse:0.000281\tCV-rmse:0.000281\n",
      "[80]\tTrain-rmse:0.000277\tCV-rmse:0.000277\n",
      "[81]\tTrain-rmse:0.000273\tCV-rmse:0.000274\n",
      "[82]\tTrain-rmse:0.00027\tCV-rmse:0.000271\n",
      "[83]\tTrain-rmse:0.000268\tCV-rmse:0.000269\n",
      "[84]\tTrain-rmse:0.000266\tCV-rmse:0.000267\n",
      "[85]\tTrain-rmse:0.000265\tCV-rmse:0.000265\n",
      "[86]\tTrain-rmse:0.000263\tCV-rmse:0.000264\n",
      "[87]\tTrain-rmse:0.000262\tCV-rmse:0.000263\n",
      "[88]\tTrain-rmse:0.000261\tCV-rmse:0.000262\n",
      "[89]\tTrain-rmse:0.00026\tCV-rmse:0.000261\n",
      "[90]\tTrain-rmse:0.00026\tCV-rmse:0.000261\n",
      "[91]\tTrain-rmse:0.000259\tCV-rmse:0.00026\n",
      "[92]\tTrain-rmse:0.000259\tCV-rmse:0.00026\n",
      "[93]\tTrain-rmse:0.000259\tCV-rmse:0.00026\n",
      "[94]\tTrain-rmse:0.000258\tCV-rmse:0.000259\n",
      "[95]\tTrain-rmse:0.000258\tCV-rmse:0.000259\n",
      "[96]\tTrain-rmse:0.000258\tCV-rmse:0.000259\n",
      "[97]\tTrain-rmse:0.000257\tCV-rmse:0.000259\n",
      "[98]\tTrain-rmse:0.000257\tCV-rmse:0.000259\n",
      "[99]\tTrain-rmse:0.000257\tCV-rmse:0.000259\n",
      "[100]\tTrain-rmse:0.000257\tCV-rmse:0.000258\n",
      "[101]\tTrain-rmse:0.000257\tCV-rmse:0.000258\n",
      "[102]\tTrain-rmse:0.000257\tCV-rmse:0.000258\n",
      "[103]\tTrain-rmse:0.000256\tCV-rmse:0.000258\n",
      "[104]\tTrain-rmse:0.000256\tCV-rmse:0.000258\n",
      "[105]\tTrain-rmse:0.000256\tCV-rmse:0.000258\n",
      "[106]\tTrain-rmse:0.000256\tCV-rmse:0.000258\n",
      "[107]\tTrain-rmse:0.000256\tCV-rmse:0.000258\n",
      "[108]\tTrain-rmse:0.000256\tCV-rmse:0.000258\n",
      "[109]\tTrain-rmse:0.000256\tCV-rmse:0.000258\n",
      "[110]\tTrain-rmse:0.000256\tCV-rmse:0.000258\n",
      "[111]\tTrain-rmse:0.000256\tCV-rmse:0.000258\n",
      "[112]\tTrain-rmse:0.000256\tCV-rmse:0.000258\n",
      "[113]\tTrain-rmse:0.000256\tCV-rmse:0.000258\n",
      "[114]\tTrain-rmse:0.000256\tCV-rmse:0.000258\n",
      "[115]\tTrain-rmse:0.000256\tCV-rmse:0.000258\n",
      "[116]\tTrain-rmse:0.000255\tCV-rmse:0.000258\n",
      "[117]\tTrain-rmse:0.000255\tCV-rmse:0.000258\n",
      "[118]\tTrain-rmse:0.000255\tCV-rmse:0.000258\n",
      "[119]\tTrain-rmse:0.000255\tCV-rmse:0.000258\n",
      "[120]\tTrain-rmse:0.000255\tCV-rmse:0.000258\n",
      "[121]\tTrain-rmse:0.000255\tCV-rmse:0.000258\n",
      "[122]\tTrain-rmse:0.000255\tCV-rmse:0.000258\n",
      "[123]\tTrain-rmse:0.000255\tCV-rmse:0.000258\n",
      "[124]\tTrain-rmse:0.000255\tCV-rmse:0.000258\n",
      "[125]\tTrain-rmse:0.000255\tCV-rmse:0.000257\n",
      "[126]\tTrain-rmse:0.000255\tCV-rmse:0.000258\n",
      "[127]\tTrain-rmse:0.000254\tCV-rmse:0.000257\n",
      "[128]\tTrain-rmse:0.000254\tCV-rmse:0.000257\n",
      "[129]\tTrain-rmse:0.000254\tCV-rmse:0.000257\n",
      "[130]\tTrain-rmse:0.000254\tCV-rmse:0.000257\n",
      "[131]\tTrain-rmse:0.000254\tCV-rmse:0.000257\n",
      "[132]\tTrain-rmse:0.000254\tCV-rmse:0.000257\n",
      "[133]\tTrain-rmse:0.000254\tCV-rmse:0.000257\n",
      "[134]\tTrain-rmse:0.000254\tCV-rmse:0.000257\n",
      "[135]\tTrain-rmse:0.000254\tCV-rmse:0.000257\n",
      "[136]\tTrain-rmse:0.000254\tCV-rmse:0.000257\n",
      "[137]\tTrain-rmse:0.000254\tCV-rmse:0.000257\n",
      "[138]\tTrain-rmse:0.000254\tCV-rmse:0.000257\n",
      "[139]\tTrain-rmse:0.000254\tCV-rmse:0.000257\n",
      "[140]\tTrain-rmse:0.000254\tCV-rmse:0.000257\n",
      "[141]\tTrain-rmse:0.000254\tCV-rmse:0.000257\n",
      "[142]\tTrain-rmse:0.000254\tCV-rmse:0.000257\n",
      "[143]\tTrain-rmse:0.000253\tCV-rmse:0.000257\n",
      "[144]\tTrain-rmse:0.000253\tCV-rmse:0.000257\n",
      "[145]\tTrain-rmse:0.000253\tCV-rmse:0.000257\n",
      "[146]\tTrain-rmse:0.000253\tCV-rmse:0.000257\n",
      "[147]\tTrain-rmse:0.000253\tCV-rmse:0.000257\n",
      "[148]\tTrain-rmse:0.000253\tCV-rmse:0.000257\n",
      "[149]\tTrain-rmse:0.000253\tCV-rmse:0.000257\n",
      "[150]\tTrain-rmse:0.000253\tCV-rmse:0.000257\n",
      "[151]\tTrain-rmse:0.000253\tCV-rmse:0.000257\n",
      "[152]\tTrain-rmse:0.000253\tCV-rmse:0.000257\n",
      "[153]\tTrain-rmse:0.000253\tCV-rmse:0.000257\n",
      "[154]\tTrain-rmse:0.000253\tCV-rmse:0.000257\n",
      "[155]\tTrain-rmse:0.000253\tCV-rmse:0.000257\n",
      "[156]\tTrain-rmse:0.000253\tCV-rmse:0.000257\n",
      "[157]\tTrain-rmse:0.000253\tCV-rmse:0.000257\n",
      "[158]\tTrain-rmse:0.000253\tCV-rmse:0.000257\n",
      "[159]\tTrain-rmse:0.000253\tCV-rmse:0.000257\n",
      "[160]\tTrain-rmse:0.000253\tCV-rmse:0.000257\n",
      "[161]\tTrain-rmse:0.000253\tCV-rmse:0.000257\n",
      "[162]\tTrain-rmse:0.000253\tCV-rmse:0.000257\n",
      "[163]\tTrain-rmse:0.000253\tCV-rmse:0.000257\n",
      "[164]\tTrain-rmse:0.000253\tCV-rmse:0.000257\n",
      "[165]\tTrain-rmse:0.000253\tCV-rmse:0.000257\n",
      "[166]\tTrain-rmse:0.000253\tCV-rmse:0.000257\n",
      "[167]\tTrain-rmse:0.000252\tCV-rmse:0.000257\n",
      "[168]\tTrain-rmse:0.000252\tCV-rmse:0.000257\n",
      "[169]\tTrain-rmse:0.000252\tCV-rmse:0.000257\n",
      "[170]\tTrain-rmse:0.000252\tCV-rmse:0.000257\n",
      "[171]\tTrain-rmse:0.000252\tCV-rmse:0.000257\n",
      "[172]\tTrain-rmse:0.000252\tCV-rmse:0.000257\n",
      "[173]\tTrain-rmse:0.000252\tCV-rmse:0.000257\n",
      "[174]\tTrain-rmse:0.000252\tCV-rmse:0.000257\n",
      "[175]\tTrain-rmse:0.000252\tCV-rmse:0.000257\n",
      "[176]\tTrain-rmse:0.000252\tCV-rmse:0.000257\n",
      "[177]\tTrain-rmse:0.000252\tCV-rmse:0.000257\n",
      "[178]\tTrain-rmse:0.000252\tCV-rmse:0.000257\n",
      "[179]\tTrain-rmse:0.000252\tCV-rmse:0.000257\n",
      "[180]\tTrain-rmse:0.000252\tCV-rmse:0.000257\n",
      "[181]\tTrain-rmse:0.000251\tCV-rmse:0.000257\n",
      "[182]\tTrain-rmse:0.000251\tCV-rmse:0.000257\n",
      "[183]\tTrain-rmse:0.000251\tCV-rmse:0.000257\n",
      "[184]\tTrain-rmse:0.000251\tCV-rmse:0.000257\n",
      "[185]\tTrain-rmse:0.000251\tCV-rmse:0.000257\n",
      "[186]\tTrain-rmse:0.000251\tCV-rmse:0.000257\n",
      "[187]\tTrain-rmse:0.000251\tCV-rmse:0.000257\n",
      "[188]\tTrain-rmse:0.000251\tCV-rmse:0.000257\n",
      "[189]\tTrain-rmse:0.000251\tCV-rmse:0.000257\n",
      "[190]\tTrain-rmse:0.000251\tCV-rmse:0.000257\n"
     ]
    },
    {
     "name": "stdout",
     "output_type": "stream",
     "text": [
      "[191]\tTrain-rmse:0.000251\tCV-rmse:0.000257\n",
      "[192]\tTrain-rmse:0.000251\tCV-rmse:0.000257\n",
      "[193]\tTrain-rmse:0.000251\tCV-rmse:0.000257\n",
      "[194]\tTrain-rmse:0.00025\tCV-rmse:0.000257\n",
      "[195]\tTrain-rmse:0.00025\tCV-rmse:0.000257\n",
      "[196]\tTrain-rmse:0.00025\tCV-rmse:0.000257\n",
      "[197]\tTrain-rmse:0.00025\tCV-rmse:0.000257\n",
      "[198]\tTrain-rmse:0.00025\tCV-rmse:0.000257\n",
      "[199]\tTrain-rmse:0.00025\tCV-rmse:0.000257\n",
      "[200]\tTrain-rmse:0.00025\tCV-rmse:0.000257\n",
      "[201]\tTrain-rmse:0.00025\tCV-rmse:0.000257\n",
      "[202]\tTrain-rmse:0.00025\tCV-rmse:0.000257\n",
      "[203]\tTrain-rmse:0.00025\tCV-rmse:0.000257\n",
      "[204]\tTrain-rmse:0.00025\tCV-rmse:0.000257\n",
      "[205]\tTrain-rmse:0.00025\tCV-rmse:0.000257\n",
      "[206]\tTrain-rmse:0.00025\tCV-rmse:0.000257\n",
      "[207]\tTrain-rmse:0.00025\tCV-rmse:0.000257\n",
      "[208]\tTrain-rmse:0.00025\tCV-rmse:0.000257\n",
      "[209]\tTrain-rmse:0.00025\tCV-rmse:0.000257\n",
      "[210]\tTrain-rmse:0.00025\tCV-rmse:0.000257\n",
      "[211]\tTrain-rmse:0.00025\tCV-rmse:0.000257\n",
      "[212]\tTrain-rmse:0.00025\tCV-rmse:0.000257\n",
      "[213]\tTrain-rmse:0.00025\tCV-rmse:0.000257\n",
      "[214]\tTrain-rmse:0.00025\tCV-rmse:0.000257\n",
      "[215]\tTrain-rmse:0.00025\tCV-rmse:0.000257\n",
      "[216]\tTrain-rmse:0.000249\tCV-rmse:0.000257\n",
      "[217]\tTrain-rmse:0.000249\tCV-rmse:0.000257\n",
      "[218]\tTrain-rmse:0.000249\tCV-rmse:0.000257\n",
      "[219]\tTrain-rmse:0.000249\tCV-rmse:0.000257\n",
      "[220]\tTrain-rmse:0.000249\tCV-rmse:0.000257\n",
      "[221]\tTrain-rmse:0.000249\tCV-rmse:0.000257\n",
      "[222]\tTrain-rmse:0.000249\tCV-rmse:0.000257\n",
      "[223]\tTrain-rmse:0.000249\tCV-rmse:0.000257\n",
      "[224]\tTrain-rmse:0.000249\tCV-rmse:0.000257\n",
      "[225]\tTrain-rmse:0.000249\tCV-rmse:0.000257\n",
      "Stopping. Best iteration:\n",
      "[125]\tTrain-rmse:0.000255\tCV-rmse:0.000257\n",
      "\n"
     ]
    }
   ],
   "source": [
    "model = None\n",
    "boost_hp = dict(\n",
    "    objective = 'reg:linear',\n",
    "    booste = 'gbtree',\n",
    "    max_depth = 9, #12,\n",
    "    subsample = 1,\n",
    "    colsample_bytree = 1,\n",
    "    colsample_bylevel = 1,\n",
    "    tree_method = 'exact',\n",
    "    gamma = 0.00003,\n",
    "    min_child_weight = 1000,\n",
    "    eta = 0.1,\n",
    "    seed = 0\n",
    ")\n",
    "cv_hp = dict(\n",
    "    num_boost_round = 300,\n",
    "    early_stopping_rounds = 30,\n",
    "    nfold = 10,\n",
    "    stratified = True,\n",
    "    seed = 0\n",
    ")\n",
    "learn_hp = dict(\n",
    "    num_boost_round = 500,\n",
    "    early_stopping_rounds = 100,\n",
    "    evals = [[dmat.tr, 'Train'], [dmat.cv, 'CV']]\n",
    ")\n",
    "model = xgb.train(boost_hp, dmat.tr, **learn_hp)"
   ]
  },
  {
   "cell_type": "code",
   "execution_count": null,
   "metadata": {
    "collapsed": true
   },
   "outputs": [],
   "source": [
    "254 258 ?\n",
    "260 259\n",
    "257 259\n",
    "eta 0.1\n",
    "258 258\n",
    "258 258"
   ]
  },
  {
   "cell_type": "code",
   "execution_count": 340,
   "metadata": {},
   "outputs": [
    {
     "data": {
      "text/plain": [
       "0.3081640614803961"
      ]
     },
     "execution_count": 340,
     "metadata": {},
     "output_type": "execute_result"
    }
   ],
   "source": [
    ".000257 ** 2 * (weight[cv].sum())"
   ]
  },
  {
   "cell_type": "code",
   "execution_count": 328,
   "metadata": {},
   "outputs": [
    {
     "data": {
      "image/png": "[encoded data removed]",
      "text/plain": [
       "<matplotlib.figure.Figure at 0x7f579fb85cf8>"
      ]
     },
     "metadata": {},
     "output_type": "display_data"
    }
   ],
   "source": [
    "y_ = model.predict(dmat.given)\n",
    "plt.plot(y_);"
   ]
  },
  {
   "cell_type": "code",
   "execution_count": 329,
   "metadata": {},
   "outputs": [
    {
     "data": {
      "image/png": "[encoded data removed]",
      "text/plain": [
       "<matplotlib.figure.Figure at 0x7f5742f186d8>"
      ]
     },
     "metadata": {},
     "output_type": "display_data"
    }
   ],
   "source": [
    "xtest = thedh.iloc[N_TRAIN:].values\n",
    "dmat.test = xgb.DMatrix(xtest, feature_names=labels)\n",
    "ytest_ = model.predict(dmat.test)\n",
    "plt.plot(ytest_);"
   ]
  },
  {
   "cell_type": "code",
   "execution_count": 332,
   "metadata": {},
   "outputs": [],
   "source": [
    "ypred = pd.Series(ytest_).rename('y')\n",
    "ypred.index.name = 'Index'\n",
    "ypred.to_csv('model1.csv', header=True)\n",
    "with open('days_order.txt', 'w') as file:\n",
    "    print('\\n'.join(str(x) for x in days), file=file)\n",
    "omodel = model\n",
    "odays = days"
   ]
  },
  {
   "cell_type": "code",
   "execution_count": 330,
   "metadata": {},
   "outputs": [
    {
     "data": {
      "text/plain": [
       "[('x4', 220),\n",
       " ('x3D', 169),\n",
       " ('x3E', 161),\n",
       " ('x4 (-1)', 150),\n",
       " ('x0', 111),\n",
       " ('x4 (1)', 107),\n",
       " ('x3A rank', 102),\n",
       " ('x3D rank', 85),\n",
       " ('x3E rank', 73),\n",
       " ('x5', 66),\n",
       " ('x3A', 65),\n",
       " ('x5 (1)', 48),\n",
       " ('Market_3', 47),\n",
       " ('Market_1', 43),\n",
       " ('Market_4', 42),\n",
       " ('x3B', 42),\n",
       " ('x3C', 38),\n",
       " ('x3E (-1)', 36),\n",
       " ('x3A (-1)', 36),\n",
       " ('x5 rank', 32),\n",
       " ('x0 rank', 30),\n",
       " ('x5 (-1)', 30),\n",
       " ('x0 (-1)', 29),\n",
       " ('Biweek0', 28),\n",
       " ('x3E (1)', 28),\n",
       " ('x6', 26),\n",
       " ('x3A (1)', 25),\n",
       " ('Market_2', 22),\n",
       " ('x3D (-1)', 22),\n",
       " ('x1', 20),\n",
       " ('x6 (-1)', 19),\n",
       " ('x3B (-1)', 17),\n",
       " ('x3D (1)', 17),\n",
       " ('x2 rank', 16),\n",
       " ('x1 (-1)', 15),\n",
       " ('x3B (1)', 14),\n",
       " ('x0 (1)', 14),\n",
       " ('x2 (1)', 13),\n",
       " ('x4 rank', 13),\n",
       " ('x6 (1)', 12),\n",
       " ('x3C (-1)', 12),\n",
       " ('x2 (-1)', 11),\n",
       " ('x3C (1)', 11),\n",
       " ('x2', 9),\n",
       " ('x1 (1)', 9),\n",
       " ('x6 rank', 8),\n",
       " ('x3A rank (-1)', 7),\n",
       " ('x0 rank (-1)', 6),\n",
       " ('x4 rank (-1)', 4),\n",
       " ('x3D rank (-1)', 4),\n",
       " ('x3E rank (-1)', 4),\n",
       " ('x3B rank (-1)', 4),\n",
       " ('x1 rank (1)', 4),\n",
       " ('x1 rank', 4),\n",
       " ('x3A rank (1)', 3),\n",
       " ('x3B rank', 3),\n",
       " ('x5 rank (1)', 3),\n",
       " ('x3C rank (-1)', 3),\n",
       " ('x6 rank (1)', 3),\n",
       " ('x3C rank', 2),\n",
       " ('Biweek1', 2),\n",
       " ('x2 rank (1)', 2),\n",
       " ('x1 rank (-1)', 2),\n",
       " ('x3C rank (1)', 2),\n",
       " ('x3E rank (1)', 2),\n",
       " ('x2 rank (-1)', 2),\n",
       " ('Monday (1)', 1),\n",
       " ('x0 rank (1)', 1),\n",
       " ('x3D rank (1)', 1)]"
      ]
     },
     "execution_count": 330,
     "metadata": {},
     "output_type": "execute_result"
    }
   ],
   "source": [
    "sorted(model.get_score().items(), key=lambda x: -x[1])"
   ]
  },
  {
   "cell_type": "code",
   "execution_count": 77,
   "metadata": {
    "collapsed": true
   },
   "outputs": [
    {
     "name": "stdout",
     "output_type": "stream",
     "text": [
      "<0>\n",
      "0:leaf=-0.0999974\n",
      "\n",
      "<1>\n",
      "0:leaf=-0.0799979\n",
      "\n",
      "<2>\n",
      "0:leaf=-0.0639983\n",
      "\n",
      "<3>\n",
      "0:leaf=-0.0511987\n",
      "\n",
      "<4>\n",
      "0:[Market_1<-1e-06] yes=1,no=2,missing=1\n",
      "\t1:leaf=-0\n",
      "\t2:[Market_1<-1e-06] yes=3,no=4,missing=3\n",
      "\t\t3:leaf=-0\n",
      "\t\t4:[Market_1<-1e-06] yes=5,no=6,missing=5\n",
      "\t\t\t5:leaf=-0\n",
      "\t\t\t6:[Market_1<-1e-06] yes=7,no=8,missing=7\n",
      "\t\t\t\t7:leaf=-0\n",
      "\t\t\t\t8:[Market_1<-1e-06] yes=9,no=10,missing=9\n",
      "\t\t\t\t\t9:leaf=-0\n",
      "\t\t\t\t\t10:[Market_1<-1e-06] yes=11,no=12,missing=11\n",
      "\t\t\t\t\t\t11:leaf=-0\n",
      "\t\t\t\t\t\t12:[Market_1<-1e-06] yes=13,no=14,missing=13\n",
      "\t\t\t\t\t\t\t13:leaf=-0\n",
      "\t\t\t\t\t\t\t14:[Market_1<-1e-06] yes=15,no=16,missing=15\n",
      "\t\t\t\t\t\t\t\t15:leaf=-0\n",
      "\t\t\t\t\t\t\t\t16:[Market_1<-1e-06] yes=17,no=18,missing=17\n",
      "\t\t\t\t\t\t\t\t\t17:leaf=-0\n",
      "\t\t\t\t\t\t\t\t\t18:leaf=-0.0409589\n",
      "\n",
      "<5>\n",
      "0:[Market_1<-1e-06] yes=1,no=2,missing=1\n",
      "\t1:leaf=-0\n",
      "\t2:[Market_1<-1e-06] yes=3,no=4,missing=3\n",
      "\t\t3:leaf=-0\n",
      "\t\t4:[Market_1<-1e-06] yes=5,no=6,missing=5\n",
      "\t\t\t5:leaf=-0\n",
      "\t\t\t6:[Market_1<-1e-06] yes=7,no=8,missing=7\n",
      "\t\t\t\t7:leaf=-0\n",
      "\t\t\t\t8:[Market_1<-1e-06] yes=9,no=10,missing=9\n",
      "\t\t\t\t\t9:leaf=-0\n",
      "\t\t\t\t\t10:[Market_1<-1e-06] yes=11,no=12,missing=11\n",
      "\t\t\t\t\t\t11:leaf=-0\n",
      "\t\t\t\t\t\t12:[Market_1<-1e-06] yes=13,no=14,missing=13\n",
      "\t\t\t\t\t\t\t13:leaf=-0\n",
      "\t\t\t\t\t\t\t14:[Market_1<-1e-06] yes=15,no=16,missing=15\n",
      "\t\t\t\t\t\t\t\t15:leaf=-0\n",
      "\t\t\t\t\t\t\t\t16:[Market_1<-1e-06] yes=17,no=18,missing=17\n",
      "\t\t\t\t\t\t\t\t\t17:leaf=-0\n",
      "\t\t\t\t\t\t\t\t\t18:leaf=-0.0327671\n",
      "\n",
      "<6>\n",
      "0:[x4<0.0063692] yes=1,no=2,missing=1\n",
      "\t1:[Market_1<-1e-06] yes=3,no=4,missing=3\n",
      "\t\t3:leaf=-0\n",
      "\t\t4:[Market_1<-1e-06] yes=7,no=8,missing=7\n",
      "\t\t\t7:leaf=-0\n",
      "\t\t\t8:[Market_1<-1e-06] yes=11,no=12,missing=11\n",
      "\t\t\t\t11:leaf=-0\n",
      "\t\t\t\t12:[Market_1<-1e-06] yes=15,no=16,missing=15\n",
      "\t\t\t\t\t15:leaf=-0\n",
      "\t\t\t\t\t16:[Market_1<-1e-06] yes=19,no=20,missing=19\n",
      "\t\t\t\t\t\t19:leaf=-0\n",
      "\t\t\t\t\t\t20:[Market_1<-1e-06] yes=23,no=24,missing=23\n",
      "\t\t\t\t\t\t\t23:leaf=-0\n",
      "\t\t\t\t\t\t\t24:[Market_1<-1e-06] yes=27,no=28,missing=27\n",
      "\t\t\t\t\t\t\t\t27:leaf=-0\n",
      "\t\t\t\t\t\t\t\t28:[Market_1<-1e-06] yes=31,no=32,missing=31\n",
      "\t\t\t\t\t\t\t\t\t31:leaf=-0\n",
      "\t\t\t\t\t\t\t\t\t32:leaf=-0.0262149\n",
      "\t2:[Market_1<-1e-06] yes=5,no=6,missing=5\n",
      "\t\t5:leaf=-0\n",
      "\t\t6:[Market_1<-1e-06] yes=9,no=10,missing=9\n",
      "\t\t\t9:leaf=-0\n",
      "\t\t\t10:[Market_1<-1e-06] yes=13,no=14,missing=13\n",
      "\t\t\t\t13:leaf=-0\n",
      "\t\t\t\t14:[Market_1<-1e-06] yes=17,no=18,missing=17\n",
      "\t\t\t\t\t17:leaf=-0\n",
      "\t\t\t\t\t18:[Market_1<-1e-06] yes=21,no=22,missing=21\n",
      "\t\t\t\t\t\t21:leaf=-0\n",
      "\t\t\t\t\t\t22:[Market_1<-1e-06] yes=25,no=26,missing=25\n",
      "\t\t\t\t\t\t\t25:leaf=-0\n",
      "\t\t\t\t\t\t\t26:[Market_1<-1e-06] yes=29,no=30,missing=29\n",
      "\t\t\t\t\t\t\t\t29:leaf=-0\n",
      "\t\t\t\t\t\t\t\t30:[Market_1<-1e-06] yes=33,no=34,missing=33\n",
      "\t\t\t\t\t\t\t\t\t33:leaf=-0\n",
      "\t\t\t\t\t\t\t\t\t34:leaf=-0.0259822\n",
      "\n",
      "<7>\n",
      "0:[x4<0.00374785] yes=1,no=2,missing=1\n",
      "\t1:leaf=-0.0209728\n",
      "\t2:[x0<0.00143822] yes=3,no=4,missing=3\n",
      "\t\t3:leaf=-0.0207586\n",
      "\t\t4:leaf=-0.020998\n",
      "\n",
      "<8>\n",
      "0:[x4 (-1)<0.00330195] yes=1,no=2,missing=1\n",
      "\t1:[Market_1<-1e-06] yes=3,no=4,missing=3\n",
      "\t\t3:leaf=-0\n",
      "\t\t4:[Market_1<-1e-06] yes=7,no=8,missing=7\n",
      "\t\t\t7:leaf=-0\n",
      "\t\t\t8:[Market_1<-1e-06] yes=13,no=14,missing=13\n",
      "\t\t\t\t13:leaf=-0\n",
      "\t\t\t\t14:[Market_1<-1e-06] yes=19,no=20,missing=19\n",
      "\t\t\t\t\t19:leaf=-0\n",
      "\t\t\t\t\t20:[Market_1<-1e-06] yes=25,no=26,missing=25\n",
      "\t\t\t\t\t\t25:leaf=-0\n",
      "\t\t\t\t\t\t26:[Market_1<-1e-06] yes=31,no=32,missing=31\n",
      "\t\t\t\t\t\t\t31:leaf=-0\n",
      "\t\t\t\t\t\t\t32:[Market_1<-1e-06] yes=37,no=38,missing=37\n",
      "\t\t\t\t\t\t\t\t37:leaf=-0\n",
      "\t\t\t\t\t\t\t\t38:[Market_1<-1e-06] yes=43,no=44,missing=43\n",
      "\t\t\t\t\t\t\t\t\t43:leaf=-0\n",
      "\t\t\t\t\t\t\t\t\t44:leaf=-0.0167785\n",
      "\t2:[Market_1<0.5] yes=5,no=6,missing=5\n",
      "\t\t5:[Market_1<-1e-06] yes=9,no=10,missing=9\n",
      "\t\t\t9:leaf=-0\n",
      "\t\t\t10:[Market_1<-1e-06] yes=15,no=16,missing=15\n",
      "\t\t\t\t15:leaf=-0\n",
      "\t\t\t\t16:[Market_1<-1e-06] yes=21,no=22,missing=21\n",
      "\t\t\t\t\t21:leaf=-0\n",
      "\t\t\t\t\t22:[Market_1<-1e-06] yes=27,no=28,missing=27\n",
      "\t\t\t\t\t\t27:leaf=-0\n",
      "\t\t\t\t\t\t28:[Market_1<-1e-06] yes=33,no=34,missing=33\n",
      "\t\t\t\t\t\t\t33:leaf=-0\n",
      "\t\t\t\t\t\t\t34:[Market_1<-1e-06] yes=39,no=40,missing=39\n",
      "\t\t\t\t\t\t\t\t39:leaf=-0\n",
      "\t\t\t\t\t\t\t\t40:[Market_1<-1e-06] yes=45,no=46,missing=45\n",
      "\t\t\t\t\t\t\t\t\t45:leaf=-0\n",
      "\t\t\t\t\t\t\t\t\t46:leaf=-0.0167672\n",
      "\t\t6:[Market_1<-9.53674e-07] yes=11,no=12,missing=11\n",
      "\t\t\t11:leaf=-0\n",
      "\t\t\t12:[Market_1<-9.53674e-07] yes=17,no=18,missing=17\n",
      "\t\t\t\t17:leaf=-0\n",
      "\t\t\t\t18:[Market_1<-9.53674e-07] yes=23,no=24,missing=23\n",
      "\t\t\t\t\t23:leaf=-0\n",
      "\t\t\t\t\t24:[Market_1<-9.53674e-07] yes=29,no=30,missing=29\n",
      "\t\t\t\t\t\t29:leaf=-0\n",
      "\t\t\t\t\t\t30:[Market_1<-9.53674e-07] yes=35,no=36,missing=35\n",
      "\t\t\t\t\t\t\t35:leaf=-0\n",
      "\t\t\t\t\t\t\t36:[Market_1<-9.53674e-07] yes=41,no=42,missing=41\n",
      "\t\t\t\t\t\t\t\t41:leaf=-0\n",
      "\t\t\t\t\t\t\t\t42:[Market_1<-9.53674e-07] yes=47,no=48,missing=47\n",
      "\t\t\t\t\t\t\t\t\t47:leaf=-0\n",
      "\t\t\t\t\t\t\t\t\t48:leaf=-0.0165743\n",
      "\n",
      "<9>\n",
      "0:[x4<0.00765265] yes=1,no=2,missing=1\n",
      "\t1:[x3E<0.000259271] yes=3,no=4,missing=3\n",
      "\t\t3:[x4<0.0026057] yes=7,no=8,missing=7\n",
      "\t\t\t7:[Market_4<0.5] yes=11,no=12,missing=11\n",
      "\t\t\t\t11:leaf=-0.0134203\n",
      "\t\t\t\t12:leaf=-0.0134477\n",
      "\t\t\t8:[x0<0.0028477] yes=13,no=14,missing=13\n",
      "\t\t\t\t13:[Market_1<-1e-06] yes=17,no=18,missing=17\n",
      "\t\t\t\t\t17:leaf=-0\n",
      "\t\t\t\t\t18:[Market_1<-1e-06] yes=23,no=24,missing=23\n",
      "\t\t\t\t\t\t23:leaf=-0\n",
      "\t\t\t\t\t\t24:[Market_1<-1e-06] yes=29,no=30,missing=29\n",
      "\t\t\t\t\t\t\t29:leaf=-0\n",
      "\t\t\t\t\t\t\t30:[Market_1<-1e-06] yes=35,no=36,missing=35\n",
      "\t\t\t\t\t\t\t\t35:leaf=-0\n",
      "\t\t\t\t\t\t\t\t36:[Market_1<-1e-06] yes=41,no=42,missing=41\n",
      "\t\t\t\t\t\t\t\t\t41:leaf=-0\n",
      "\t\t\t\t\t\t\t\t\t42:leaf=-0.0133203\n",
      "\t\t\t\t14:[Market_1<-1e-06] yes=19,no=20,missing=19\n",
      "\t\t\t\t\t19:leaf=-0\n",
      "\t\t\t\t\t20:[Market_1<-1e-06] yes=25,no=26,missing=25\n",
      "\t\t\t\t\t\t25:leaf=-0\n",
      "\t\t\t\t\t\t26:[Market_1<-1e-06] yes=31,no=32,missing=31\n",
      "\t\t\t\t\t\t\t31:leaf=-0\n",
      "\t\t\t\t\t\t\t32:[Market_1<-1e-06] yes=37,no=38,missing=37\n",
      "\t\t\t\t\t\t\t\t37:leaf=-0\n",
      "\t\t\t\t\t\t\t\t38:[Market_1<-1e-06] yes=43,no=44,missing=43\n",
      "\t\t\t\t\t\t\t\t\t43:leaf=-0\n",
      "\t\t\t\t\t\t\t\t\t44:leaf=-0.013433\n",
      "\t\t4:leaf=-0.0136347\n",
      "\t2:[x3E<0.000181847] yes=5,no=6,missing=5\n",
      "\t\t5:[Market_1<-1e-06] yes=9,no=10,missing=9\n",
      "\t\t\t9:leaf=-0\n",
      "\t\t\t10:[Market_1<-1e-06] yes=15,no=16,missing=15\n",
      "\t\t\t\t15:leaf=-0\n",
      "\t\t\t\t16:[Market_1<-1e-06] yes=21,no=22,missing=21\n",
      "\t\t\t\t\t21:leaf=-0\n",
      "\t\t\t\t\t22:[Market_1<-1e-06] yes=27,no=28,missing=27\n",
      "\t\t\t\t\t\t27:leaf=-0\n",
      "\t\t\t\t\t\t28:[Market_1<-1e-06] yes=33,no=34,missing=33\n",
      "\t\t\t\t\t\t\t33:leaf=-0\n",
      "\t\t\t\t\t\t\t34:[Market_1<-1e-06] yes=39,no=40,missing=39\n",
      "\t\t\t\t\t\t\t\t39:leaf=-0\n",
      "\t\t\t\t\t\t\t\t40:[Market_1<-1e-06] yes=45,no=46,missing=45\n",
      "\t\t\t\t\t\t\t\t\t45:leaf=-0\n",
      "\t\t\t\t\t\t\t\t\t46:leaf=-0.0131499\n",
      "\t\t6:leaf=-0.0134921\n",
      "\n",
      "<10>\n",
      "0:[x3E<0.000492394] yes=1,no=2,missing=1\n",
      "\t1:[x4<0.00704452] yes=3,no=4,missing=3\n",
      "\t\t3:[x3E<0.000107622] yes=7,no=8,missing=7\n",
      "\t\t\t7:[x4<0.0023872] yes=11,no=12,missing=11\n",
      "\t\t\t\t11:[Market_4<0.5] yes=15,no=16,missing=15\n",
      "\t\t\t\t\t15:leaf=-0.0107361\n",
      "\t\t\t\t\t16:leaf=-0.0107582\n",
      "\t\t\t\t12:[Market_1<0.5] yes=17,no=18,missing=17\n",
      "\t\t\t\t\t17:[Market_1<-1e-06] yes=21,no=22,missing=21\n",
      "\t\t\t\t\t\t21:leaf=-0\n",
      "\t\t\t\t\t\t22:[Market_1<-1e-06] yes=25,no=26,missing=25\n",
      "\t\t\t\t\t\t\t25:leaf=-0\n",
      "\t\t\t\t\t\t\t26:[Market_1<-1e-06] yes=27,no=28,missing=27\n",
      "\t\t\t\t\t\t\t\t27:leaf=-0\n",
      "\t\t\t\t\t\t\t\t28:[Market_1<-1e-06] yes=29,no=30,missing=29\n",
      "\t\t\t\t\t\t\t\t\t29:leaf=-0\n",
      "\t\t\t\t\t\t\t\t\t30:leaf=-0.0107178\n",
      "\t\t\t\t\t18:leaf=-0.01062\n",
      "\t\t\t8:leaf=-0.0108084\n",
      "\t\t4:[Market_3<0.5] yes=9,no=10,missing=9\n",
      "\t\t\t9:[x0<4.74983e-33] yes=13,no=14,missing=13\n",
      "\t\t\t\t13:[x2 (-1)<40.4744] yes=19,no=20,missing=19\n",
      "\t\t\t\t\t19:[x4<0.0455795] yes=23,no=24,missing=23\n",
      "\t\t\t\t\t\t23:leaf=-0.0088963\n",
      "\t\t\t\t\t\t24:leaf=-0.0020494\n",
      "\t\t\t\t\t20:leaf=-0.00224089\n",
      "\t\t\t\t14:leaf=-0.0105198\n",
      "\t\t\t10:leaf=-0.0107969\n",
      "\t2:[x1 (-1)<0.0195989] yes=5,no=6,missing=6\n",
      "\t\t5:leaf=-0.00210798\n",
      "\t\t6:leaf=-0.0110395\n",
      "\n"
     ]
    },
    {
     "name": "stderr",
     "output_type": "stream",
     "text": [
      "C:\\WinPython-64bit-3.6.1.0Qt5\\python-3.6.1.amd64\\lib\\site-packages\\simplejson\\encoder.py:291: DeprecationWarning: Interpreting naive datetime as local 2018-01-31 22:32:44.135640. Please add timezone info to timestamps.\n",
      "  chunks = self.iterencode(o, _one_shot=True)\n"
     ]
    }
   ],
   "source": [
    "for i, tree in enumerate(model.get_dump()):\n",
    "    print('<{}>'.format(i))\n",
    "    print(tree)\n",
    "    if i >= 10:\n",
    "        break"
   ]
  },
  {
   "cell_type": "markdown",
   "metadata": {},
   "source": [
    "## predict y-rank"
   ]
  },
  {
   "cell_type": "markdown",
   "metadata": {},
   "source": [
    "# Split model"
   ]
  },
  {
   "cell_type": "markdown",
   "metadata": {},
   "source": [
    "# Abs model"
   ]
  }
 ],
 "metadata": {
  "kernelspec": {
   "display_name": "Python 3",
   "language": "python",
   "name": "python3"
  },
  "language_info": {
   "codemirror_mode": {
    "name": "ipython",
    "version": 3
   },
   "file_extension": ".py",
   "mimetype": "text/x-python",
   "name": "python",
   "nbconvert_exporter": "python",
   "pygments_lexer": "ipython3",
   "version": "3.6.2"
  }
 },
 "nbformat": 4,
 "nbformat_minor": 2
}
