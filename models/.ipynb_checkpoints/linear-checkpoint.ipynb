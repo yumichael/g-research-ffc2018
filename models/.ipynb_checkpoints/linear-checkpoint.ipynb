{
 "cells": [
  {
   "cell_type": "code",
   "execution_count": 11,
   "metadata": {},
   "outputs": [],
   "source": [
    "from common import *\n",
    "from matrix import *\n",
    "from helper.weighted import *\n",
    "%matplotlib inline\n",
    "canvas(16, 12)"
   ]
  },
  {
   "cell_type": "code",
   "execution_count": 12,
   "metadata": {
    "collapsed": true
   },
   "outputs": [],
   "source": [
    "from sklearn.linear_model import LinearRegression as LR\n",
    "from numba import jit"
   ]
  },
  {
   "cell_type": "code",
   "execution_count": 13,
   "metadata": {
    "collapsed": true
   },
   "outputs": [],
   "source": [
    "with open(top_dir + 'data/chance/days_order.txt', 'r') as file:\n",
    "    days = [int(x) for x in file.read().splitlines()]\n",
    "n_days = len(days)\n",
    "#days_a, days_b, days_c = set(days[:n_days // 3]), set(days[n_days // 3:(2 * n_days) // 3]), set(days[(2 * n_days) // 3:])\n",
    "days_a, days_b = set(days[:n_days // 2]), set(days[n_days // 2:])\n",
    "#tr, cv, sc = df.Day.isin(days_a), df.Day.isin(days_b), df.Day.isin(days_c)\n",
    "#tr, cv = df.Day.isin(days_a), df.Day.isin(days_b)"
   ]
  },
  {
   "cell_type": "code",
   "execution_count": 14,
   "metadata": {
    "collapsed": true
   },
   "outputs": [],
   "source": [
    "duse = dfh"
   ]
  },
  {
   "cell_type": "code",
   "execution_count": 15,
   "metadata": {
    "collapsed": true
   },
   "outputs": [],
   "source": [
    "def_matrices(globals(), duse, 10000)"
   ]
  },
  {
   "cell_type": "code",
   "execution_count": 16,
   "metadata": {},
   "outputs": [],
   "source": [
    "for xname in xfeats:\n",
    "    X = duse.pivot('Day', 'Stock', xname)\n",
    "    Xa = X.fillna(0)\n",
    "    Xm = X.fillna(X.mean())\n",
    "    Xpct = X.pct(positive=True)\n",
    "    Xpcta = Xpct.fillna(0)\n",
    "    Xpctm = Xpct.fillna(0.5)\n",
    "    for ext in ['', 'a', 'm', 'pct', 'pcta', 'pctm']:\n",
    "        globals()[xname.upper() + ext] = locals()['X' + ext]"
   ]
  },
  {
   "cell_type": "code",
   "execution_count": 17,
   "metadata": {
    "collapsed": true
   },
   "outputs": [],
   "source": [
    "tr, cv = Y.index.isin(days_a), Y.index.isin(days_b)"
   ]
  },
  {
   "cell_type": "code",
   "execution_count": 18,
   "metadata": {},
   "outputs": [],
   "source": [
    "def mse(Y_, st):\n",
    "    return (W[st] * (Y_ - Y[st]) ** 2).sum().sum() / W[st].sum().sum()\n",
    "\n",
    "def rmse(Y_, st):\n",
    "    return np.sqrt(mse(Y_, st))\n",
    "\n",
    "def prss(Y_, st):\n",
    "    return mse(Y_, st) / mse(0, st)\n",
    "\n",
    "def lbss(Y_, st):\n",
    "    return prss(Y_, st) * 0.500944\n",
    "\n",
    "def metric(Y_, st):\n",
    "    print('(' + ', '.join('{:.6f}'.format(round(func(Y_, st), 6)) for func in [rmse, prss, lbss]) + ')')"
   ]
  },
  {
   "cell_type": "code",
   "execution_count": 19,
   "metadata": {},
   "outputs": [],
   "source": [
    "Xa = pd.concat({x: globals()[x.upper() + 'a'] for x in xfeats}, axis=1).swaplevel(axis=1)\n",
    "Xpcta = pd.concat({x: globals()[x.upper() + 'pcta'] for x in xfeats}, axis=1).swaplevel(axis=1)"
   ]
  },
  {
   "cell_type": "code",
   "execution_count": 49,
   "metadata": {},
   "outputs": [],
   "source": [
    "Xuse = Xpcta.loc[:, (ss, 'x4')]"
   ]
  },
  {
   "cell_type": "code",
   "execution_count": 50,
   "metadata": {},
   "outputs": [],
   "source": [
    "def do_lr(X, Y, W):\n",
    "    lr_list = []\n",
    "    # assert the columns of the input can be indexed by range(0, 3023)\n",
    "    for k in range(N_STOCK):\n",
    "        x, y, w = X[k], Y[k], W[k]\n",
    "        if w.sum() == 0:\n",
    "            lr_list += [None]\n",
    "            continue\n",
    "        lr = LR(fit_intercept=True)\n",
    "        # don't forget x1 and x2 have NaNs for valid y. try setting W=0 for when y and W does not exist and then filling in NaNs\n",
    "        lr = lr.fit(x, y, w)\n",
    "        lr_list += [lr]\n",
    "    return lr_list\n",
    "\n",
    "lr_list = do_lr(Xuse[tr], Ya[tr], Wa[tr])"
   ]
  },
  {
   "cell_type": "markdown",
   "metadata": {},
   "source": [
    "##### small"
   ]
  },
  {
   "cell_type": "code",
   "execution_count": 51,
   "metadata": {
    "collapsed": true
   },
   "outputs": [],
   "source": [
    "Yx = np.stack([(lr.predict(Xuse[k]) if lr is not None else np.zeros(Y.shape[0]))\n",
    "               for lr, k in zip(lr_list, range(N_STOCK))], axis=1)\n",
    "Yx = Yx + Y * 0"
   ]
  },
  {
   "cell_type": "code",
   "execution_count": 52,
   "metadata": {
    "collapsed": true
   },
   "outputs": [],
   "source": [
    "st = cv\n",
    "Yxm = Yx.where(Y[tr].count() > 50, Y[tr].mean().fillna(0), axis=1)"
   ]
  },
  {
   "cell_type": "markdown",
   "metadata": {},
   "source": [
    "##### big"
   ]
  },
  {
   "cell_type": "code",
   "execution_count": 20,
   "metadata": {
    "collapsed": true
   },
   "outputs": [],
   "source": [
    "bigX = Xpcta.stack(level=0)\n",
    "bigY = Ya.stack(level=0)\n",
    "bigW = Wa.stack(level=0)"
   ]
  },
  {
   "cell_type": "code",
   "execution_count": 24,
   "metadata": {},
   "outputs": [],
   "source": [
    "lr = LR()\n",
    "lr = lr.fit(bigX, bigY, bigW)"
   ]
  },
  {
   "cell_type": "code",
   "execution_count": 28,
   "metadata": {
    "collapsed": true
   },
   "outputs": [],
   "source": [
    "Yx = np.stack([(lr.predict(Xpcta[k]) if lr is not None else np.zeros(Y.shape[0]))\n",
    "               for k in range(N_STOCK)], axis=1)\n",
    "Yxm = Yx + Y * 0"
   ]
  },
  {
   "cell_type": "markdown",
   "metadata": {},
   "source": [
    "### metric"
   ]
  },
  {
   "cell_type": "code",
   "execution_count": null,
   "metadata": {
    "collapsed": true
   },
   "outputs": [],
   "source": []
  },
  {
   "cell_type": "code",
   "execution_count": 53,
   "metadata": {},
   "outputs": [
    {
     "name": "stdout",
     "output_type": "stream",
     "text": [
      "(2.869601, 0.748053, 0.374732)\n"
     ]
    }
   ],
   "source": [
    "metric(Yxm[tr], tr)"
   ]
  },
  {
   "cell_type": "code",
   "execution_count": 54,
   "metadata": {},
   "outputs": [
    {
     "name": "stdout",
     "output_type": "stream",
     "text": [
      "(2.927475, 0.795920, 0.398711)\n"
     ]
    }
   ],
   "source": [
    "metric(Yxm[cv], cv)"
   ]
  },
  {
   "cell_type": "code",
   "execution_count": 21,
   "metadata": {},
   "outputs": [
    {
     "name": "stdout",
     "output_type": "stream",
     "text": [
      "(2.951820, 0.809212, 0.405370)\n"
     ]
    }
   ],
   "source": [
    "metric(Y[tr].wmean(W[tr]), cv)"
   ]
  },
  {
   "cell_type": "code",
   "execution_count": 22,
   "metadata": {},
   "outputs": [
    {
     "name": "stdout",
     "output_type": "stream",
     "text": [
      "(2.961588, 0.814577, 0.408057)\n"
     ]
    }
   ],
   "source": [
    "metric(Y[tr].mean(), cv)"
   ]
  },
  {
   "cell_type": "code",
   "execution_count": 19,
   "metadata": {},
   "outputs": [
    {
     "name": "stdout",
     "output_type": "stream",
     "text": [
      "(3.281396, 1.000000, 0.500944)\n"
     ]
    }
   ],
   "source": [
    "metric(0, cv)"
   ]
  },
  {
   "cell_type": "code",
   "execution_count": 18,
   "metadata": {},
   "outputs": [
    {
     "name": "stdout",
     "output_type": "stream",
     "text": [
      "(2.543082, 0.600625, 0.300879)\n"
     ]
    }
   ],
   "source": [
    "metric(Y[cv]*.225, cv)"
   ]
  },
  {
   "cell_type": "markdown",
   "metadata": {},
   "source": [
    "### stop"
   ]
  },
  {
   "cell_type": "code",
   "execution_count": null,
   "metadata": {},
   "outputs": [],
   "source": [
    "raise Stop"
   ]
  },
  {
   "cell_type": "code",
   "execution_count": null,
   "metadata": {
    "collapsed": true
   },
   "outputs": [],
   "source": [
    "k = 2\n",
    "plt.scatter(Xuse[k], Ya[k]);\n",
    "plt.plot(Xuse[k], Yx[k]);\n",
    "plt.xlim(-0.0001, 0.0004);\n",
    "plt.ylim(-0.0002, 0.0001);"
   ]
  }
 ],
 "metadata": {
  "kernelspec": {
   "display_name": "Python 3",
   "language": "python",
   "name": "python3"
  },
  "language_info": {
   "codemirror_mode": {
    "name": "ipython",
    "version": 3
   },
   "file_extension": ".py",
   "mimetype": "text/x-python",
   "name": "python",
   "nbconvert_exporter": "python",
   "pygments_lexer": "ipython3",
   "version": "3.6.2"
  }
 },
 "nbformat": 4,
 "nbformat_minor": 2
}
