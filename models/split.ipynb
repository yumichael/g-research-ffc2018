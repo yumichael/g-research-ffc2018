{
 "cells": [
  {
   "cell_type": "code",
   "execution_count": 2,
   "metadata": {},
   "outputs": [
    {
     "name": "stderr",
     "output_type": "stream",
     "text": [
      "/home/ec2-user/anaconda3/lib/python3.6/site-packages/pandas/core/common.py:701: RuntimeWarning: divide by zero encountered in log\n",
      "  return func(obj, *args, **kwargs)\n"
     ]
    }
   ],
   "source": [
    "from common import *"
   ]
  },
  {
   "cell_type": "code",
   "execution_count": 3,
   "metadata": {
    "collapsed": true
   },
   "outputs": [],
   "source": [
    "with open(top_dir + 'data/chance/days_order.txt', 'r') as file:\n",
    "    days = pd.Series([int(x) for x in file.read().splitlines()], name='Day')\n",
    "n_days = len(days)\n",
    "days_z = dg.Day.unique()"
   ]
  },
  {
   "cell_type": "code",
   "execution_count": 4,
   "metadata": {},
   "outputs": [
    {
     "data": {
      "text/plain": [
       "258"
      ]
     },
     "execution_count": 4,
     "metadata": {},
     "output_type": "execute_result"
    }
   ],
   "source": [
    "n_days"
   ]
  },
  {
   "cell_type": "code",
   "execution_count": 114,
   "metadata": {},
   "outputs": [
    {
     "name": "stdout",
     "output_type": "stream",
     "text": [
      "86 86 86\n"
     ]
    }
   ],
   "source": [
    "if __name__ == '__main__':\n",
    "    days_a, days_b, days_c = days[:n_days // 3], days[n_days // 3:(2 * n_days) // 3], days[(2 * n_days) // 3:]\n",
    "    print(len(days_a), len(days_b), len(days_c))"
   ]
  },
  {
   "cell_type": "code",
   "execution_count": 44,
   "metadata": {
    "collapsed": true
   },
   "outputs": [],
   "source": [
    "def split2(dh, ho=True, repeat=1):\n",
    "    if not isinstance(dh.columns, pd.MultiIndex) and 'Day' in dh:\n",
    "        index = dh.Day\n",
    "    elif isinstance(dh, pd.Series) and dh.name == 'Day':\n",
    "        index = dh\n",
    "    else:\n",
    "        assert dh.index.name == 'Day'\n",
    "        index = dh.index\n",
    "    if ho:\n",
    "        tc, ho = days[:176], days[176:]\n",
    "    else:\n",
    "        tc = days\n",
    "    t0c1 = [(tc.index // (1 << i) % 2).values.astype(bool) for i in range(repeat)]\n",
    "    #\n",
    "    indexify = lambda a: index.isin(set(a)) if isinstance(index, pd.Series) else pd.Series(index.isin(set(a)), index=index)\n",
    "    s = O(type=2, repeat=repeat)\n",
    "    s.tc = indexify(tc)\n",
    "    s.trcv = [(indexify(tc[~x]), indexify(tc[x])) for x in t0c1]\n",
    "    if repeat == 1:\n",
    "        s.tr = indexify(tc[~t0c1[0]])\n",
    "        s.cv = indexify(tc[t0c1[0]])\n",
    "    if ho is not None and ho is not False and ho is not 0:\n",
    "        s.ho = indexify(ho)\n",
    "    s.fn = indexify(days_z)\n",
    "    return s"
   ]
  },
  {
   "cell_type": "code",
   "execution_count": 45,
   "metadata": {
    "collapsed": true
   },
   "outputs": [],
   "source": [
    "def split3(dh, repeat=1):\n",
    "    if not isinstance(dh.columns, pd.MultiIndex) and 'Day' in dh:\n",
    "        index = dh.Day\n",
    "    elif isinstance(dh, pd.Series) and dh.name == 'Day':\n",
    "        index = dh\n",
    "    else:\n",
    "        assert dh.index.name == 'Day'\n",
    "        index = dh.index\n",
    "    tc, ho = days[:180], days[180:]\n",
    "    tc3 = [(tc.index // 3 ** i % 3).values for i in range(repeat)]\n",
    "    #\n",
    "    indexify = lambda a: index.isin(set(a)) if isinstance(index, pd.Series) else pd.Series(index.isin(set(a)), index=index)\n",
    "    s = O(type=3, repeat=repeat)\n",
    "    s.tc = indexify(tc)\n",
    "    s.trcv = [] #(indexify(tc[x < 2]), indexify(tc[x == 2])) for x in tc3]\n",
    "    for r in range(repeat):\n",
    "        s.trcv += [(indexify(tc[tc3[r] != i]), indexify(tc[tc3[r] == i])) for i in range(3)]\n",
    "    s.ho = indexify(ho)\n",
    "    s.fn = indexify(days_z)\n",
    "    return s"
   ]
  }
 ],
 "metadata": {
  "kernelspec": {
   "display_name": "Python 3",
   "language": "python",
   "name": "python3"
  },
  "language_info": {
   "codemirror_mode": {
    "name": "ipython",
    "version": 3
   },
   "file_extension": ".py",
   "mimetype": "text/x-python",
   "name": "python",
   "nbconvert_exporter": "python",
   "pygments_lexer": "ipython3",
   "version": "3.6.2"
  }
 },
 "nbformat": 4,
 "nbformat_minor": 2
}
