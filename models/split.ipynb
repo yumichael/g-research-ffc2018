{
 "cells": [
  {
   "cell_type": "code",
   "execution_count": 1,
   "metadata": {},
   "outputs": [
    {
     "name": "stderr",
     "output_type": "stream",
     "text": [
      "/home/ec2-user/anaconda3/lib/python3.6/site-packages/pandas/core/common.py:701: RuntimeWarning: divide by zero encountered in log\n",
      "  return func(obj, *args, **kwargs)\n"
     ]
    }
   ],
   "source": [
    "from common import *"
   ]
  },
  {
   "cell_type": "code",
   "execution_count": 2,
   "metadata": {
    "collapsed": true
   },
   "outputs": [],
   "source": [
    "with open(top_dir + 'data/chance/days_order.txt', 'r') as file:\n",
    "    days = pd.Series([int(x) for x in file.read().splitlines()], name='Day')\n",
    "with open(top_dir + 'data/chance/days_order.txt', 'r') as file:\n",
    "    daysr = pd.Series([int(x) for x in file.read().splitlines()][::-1], name='Day')\n",
    "n_days = len(days)\n",
    "days_z = dg.Day.unique()"
   ]
  },
  {
   "cell_type": "code",
   "execution_count": 3,
   "metadata": {},
   "outputs": [
    {
     "data": {
      "text/plain": [
       "258"
      ]
     },
     "execution_count": 3,
     "metadata": {},
     "output_type": "execute_result"
    }
   ],
   "source": [
    "n_days"
   ]
  },
  {
   "cell_type": "code",
   "execution_count": 4,
   "metadata": {},
   "outputs": [
    {
     "name": "stdout",
     "output_type": "stream",
     "text": [
      "86 86 86\n"
     ]
    }
   ],
   "source": [
    "if __name__ == '__main__':\n",
    "    days_a, days_b, days_c = days[:n_days // 3], days[n_days // 3:(2 * n_days) // 3], days[(2 * n_days) // 3:]\n",
    "    print(len(days_a), len(days_b), len(days_c))"
   ]
  },
  {
   "cell_type": "code",
   "execution_count": 5,
   "metadata": {
    "collapsed": true
   },
   "outputs": [],
   "source": [
    "def split2(dh, ho=True, repeat=1, reverse=False):\n",
    "    dord = daysr if reverse else days\n",
    "    if not isinstance(dh.columns, pd.MultiIndex) and 'Day' in dh:\n",
    "        index = dh.Day\n",
    "    elif isinstance(dh, pd.Series) and dh.name == 'Day':\n",
    "        index = dh\n",
    "    else:\n",
    "        assert dh.index.name == 'Day'\n",
    "        index = dh.index\n",
    "    if ho:\n",
    "        tc, ho = dord[:176], dord[176:]\n",
    "    else:\n",
    "        tc = dord\n",
    "    t0c1 = [(tc.index // (1 << i) % 2).values.astype(bool) for i in range(repeat)]\n",
    "    #\n",
    "    indexify = lambda a: index.isin(set(a)) if isinstance(index, pd.Series) else pd.Series(index.isin(set(a)), index=index)\n",
    "    s = O(type=2, repeat=repeat, n_folds=2)\n",
    "    s.tc = indexify(tc)\n",
    "    s.trcv = [(indexify(tc[~x]), indexify(tc[x])) for x in t0c1]\n",
    "    if repeat == 1:\n",
    "        s.tr = indexify(tc[~t0c1[0]])\n",
    "        s.cv = indexify(tc[t0c1[0]])\n",
    "    if ho is not None and ho is not False and ho is not 0:\n",
    "        s.ho = indexify(ho)\n",
    "    s.lb = indexify(days_z)\n",
    "    s.aw = dh.Day > -1\n",
    "    return s"
   ]
  },
  {
   "cell_type": "code",
   "execution_count": 6,
   "metadata": {
    "collapsed": true
   },
   "outputs": [],
   "source": [
    "def split3(dh, ho=True, repeat=1, reverse=False):\n",
    "    dord = daysr if reverse else days\n",
    "    if not isinstance(dh.columns, pd.MultiIndex) and 'Day' in dh:\n",
    "        index = dh.Day\n",
    "    elif isinstance(dh, pd.Series) and dh.name == 'Day':\n",
    "        index = dh\n",
    "    else:\n",
    "        assert dh.index.name == 'Day'\n",
    "        index = dh.index\n",
    "    if ho:\n",
    "        tc, ho = dord[:180], dord[180:]\n",
    "    else:\n",
    "        tc = dord\n",
    "    tc3 = [(tc.index // 3 ** i % 3).values for i in range(repeat)]\n",
    "    #\n",
    "    indexify = lambda a: index.isin(set(a)) if isinstance(index, pd.Series) else pd.Series(index.isin(set(a)), index=index)\n",
    "    s = O(type=3, repeat=repeat, n_folds=3)\n",
    "    s.tc = indexify(tc)\n",
    "    s.trcv = [] #(indexify(tc[x < 2]), indexify(tc[x == 2])) for x in tc3]\n",
    "    for r in range(repeat):\n",
    "        s.trcv += [(indexify(tc[tc3[r] != i]), indexify(tc[tc3[r] == i])) for i in range(3)]\n",
    "    s.ho = indexify(ho)\n",
    "    s.lb = indexify(days_z)\n",
    "    s.aw = dh.Day > -1\n",
    "    return s"
   ]
  },
  {
   "cell_type": "code",
   "execution_count": 163,
   "metadata": {
    "collapsed": true
   },
   "outputs": [],
   "source": [
    "def split_label(index, n_folds, rep=0):\n",
    "    assert len(index) >= n_folds ** rep, 'Deterministic cv-splitting algorithm repeated too much on same random order'\n",
    "    assert not isinstance(index, pd.Series) and not isinstance(index, pd.DataFrame)\n",
    "    guy = pd.DataFrame({'Order': np.arange(len(index))}) #'Index': index\n",
    "    guy['Label'] = guy.Order // n_folds ** rep % n_folds\n",
    "    guy = guy.chain.sort_values(['Label', 'Order'], inplace=True)\n",
    "    guy['Label'] = (np.arange(len(index)) * n_folds) // len(index)\n",
    "    guy = guy.chain.sort_values('Order', inplace=True)\n",
    "    #assert all(index == guy.Index)\n",
    "    return pd.Series(guy.Label.values, index=index)"
   ]
  },
  {
   "cell_type": "code",
   "execution_count": 219,
   "metadata": {
    "collapsed": true
   },
   "outputs": [],
   "source": [
    "def splitf(dh, n_folds, ho=258-180, repeat=1, reverse=False):\n",
    "    hoint = int(ho)\n",
    "    dord = daysr if reverse else days\n",
    "    if not isinstance(dh.columns, pd.MultiIndex) and 'Day' in dh:\n",
    "        index = dh.Day\n",
    "    elif isinstance(dh, pd.Series) and dh.name == 'Day':\n",
    "        index = dh\n",
    "    else:\n",
    "        assert dh.index.name == 'Day'\n",
    "        index = dh.index\n",
    "    tc, ho = dord[:258 - ho], dord[258 - ho:]\n",
    "    assert len(tc) % n_folds == 0, 'Needs perfectly divisible fold on TrCV set of size {}'.format(len(tc))\n",
    "    tc_label = [split_label(tc.index, n_folds, r) for r in range(repeat)]\n",
    "    #\n",
    "    indexify = lambda a: index.isin(set(a)) if isinstance(index, pd.Series) else pd.Series(index.isin(set(a)), index=index)\n",
    "    repr = 'split(a={},f={},r={},h={},v={})'.format('f', n_folds, repeat, hoint, int(reverse))\n",
    "    s = O(type='f', repeat=repeat, n_folds=n_folds, repr=repr)\n",
    "    s.tc = indexify(tc)\n",
    "    s.trcv = []\n",
    "    for r in range(repeat):\n",
    "        s.trcv += [(indexify(tc[tc_label[r] != f]), indexify(tc[tc_label[r] == f])) for f in range(n_folds)]\n",
    "    if n_folds == 2 and repeat == 1:\n",
    "        s.tr, s.cv = s.trcv[0][0], s.trcv[0][1]\n",
    "    s.ho = indexify(ho)\n",
    "    s.lb = indexify(days_z)\n",
    "    s.aw = dh.Day > -1\n",
    "    return s"
   ]
  }
 ],
 "metadata": {
  "kernelspec": {
   "display_name": "Python 3",
   "language": "python",
   "name": "python3"
  },
  "language_info": {
   "codemirror_mode": {
    "name": "ipython",
    "version": 3
   },
   "file_extension": ".py",
   "mimetype": "text/x-python",
   "name": "python",
   "nbconvert_exporter": "python",
   "pygments_lexer": "ipython3",
   "version": "3.6.2"
  }
 },
 "nbformat": 4,
 "nbformat_minor": 2
}
