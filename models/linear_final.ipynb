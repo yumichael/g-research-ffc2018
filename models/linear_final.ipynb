{
 "cells": [
  {
   "cell_type": "code",
   "execution_count": 1,
   "metadata": {},
   "outputs": [
    {
     "name": "stderr",
     "output_type": "stream",
     "text": [
      "/home/ec2-user/anaconda3/lib/python3.6/site-packages/pandas/core/common.py:701: RuntimeWarning: divide by zero encountered in log\n",
      "  return func(obj, *args, **kwargs)\n"
     ]
    }
   ],
   "source": [
    "from common import *\n",
    "from matrix import *\n",
    "from helper.weighted import *\n",
    "%matplotlib inline\n",
    "canvas(16, 12)\n",
    "import pickle\n",
    "import gc"
   ]
  },
  {
   "cell_type": "code",
   "execution_count": 2,
   "metadata": {
    "collapsed": true
   },
   "outputs": [],
   "source": [
    "from models.thealg import TheAlg\n",
    "from models.split import splitf"
   ]
  },
  {
   "cell_type": "code",
   "execution_count": 3,
   "metadata": {
    "collapsed": true
   },
   "outputs": [],
   "source": [
    "o = O()\n",
    "def_W(o); W = o.Wa.astype(np.float32)\n",
    "def_Y(o); Y = o.Ya.astype(np.float32)"
   ]
  },
  {
   "cell_type": "markdown",
   "metadata": {},
   "source": [
    "#### x features {"
   ]
  },
  {
   "cell_type": "code",
   "execution_count": 4,
   "metadata": {
    "collapsed": true
   },
   "outputs": [],
   "source": [
    "temp = '5zombie'\n",
    "#X.to_hdf('/big/data/ready/algrun' + temp, key='X')\n",
    "X = pd.read_hdf(top_dir + 'data/ready/algrun' + temp, key='X')"
   ]
  },
  {
   "cell_type": "code",
   "execution_count": 5,
   "metadata": {
    "collapsed": true
   },
   "outputs": [],
   "source": [
    "mvalid = o.Y.count()"
   ]
  },
  {
   "cell_type": "code",
   "execution_count": 6,
   "metadata": {},
   "outputs": [
    {
     "data": {
      "text/plain": [
       "0"
      ]
     },
     "execution_count": 6,
     "metadata": {},
     "output_type": "execute_result"
    }
   ],
   "source": [
    "try:\n",
    "    dict.clear(o)\n",
    "    del o\n",
    "except NameError:\n",
    "    pass\n",
    "gc.collect()\n",
    "try:\n",
    "    dict.clear(of)\n",
    "    del of\n",
    "except NameError:\n",
    "    pass\n",
    "gc.collect()"
   ]
  },
  {
   "cell_type": "markdown",
   "metadata": {},
   "source": [
    "#### } x features end"
   ]
  },
  {
   "cell_type": "code",
   "execution_count": 7,
   "metadata": {
    "collapsed": true
   },
   "outputs": [],
   "source": [
    "oW, oX, oY, omvalid = W, X, Y, mvalid"
   ]
  },
  {
   "cell_type": "markdown",
   "metadata": {},
   "source": [
    "##### data analysis"
   ]
  },
  {
   "cell_type": "code",
   "execution_count": null,
   "metadata": {
    "collapsed": true
   },
   "outputs": [],
   "source": [
    "# NEEDS thnigs below to be defined firsT!"
   ]
  },
  {
   "cell_type": "code",
   "execution_count": null,
   "metadata": {
    "collapsed": true
   },
   "outputs": [],
   "source": [
    "k, m = X.columns.get_level_values(0).nunique(), X.columns.get_level_values(1).nunique()\n",
    "featnames = [str(X.columns[m * f][0]) for f in range(k)]\n",
    "namesf = lambda k: tuple(featnames[j] for j in k)"
   ]
  },
  {
   "cell_type": "code",
   "execution_count": null,
   "metadata": {
    "collapsed": true
   },
   "outputs": [],
   "source": [
    "ii = 0\n",
    "scores, fbnums = scores__[ii], fbnums__[ii]\n",
    "sub = lambda scores, j: [(tc / scores[None][0], ho / scores[None][1], k)\n",
    "        for k, (tc, ho) in scores.items() if k is not None if len(k) == j]\n",
    "subf = lambda scores, fbnums, j: [(tc / scores[None][0], ho / scores[None][1],) + ((fbnums[k],) if fbnums else ()) +  (k,)\n",
    "        for k, (tc, ho) in scores.items() if k is not None if len(k) == j]\n",
    "#_ = [(print(line), print(namesf(line[-1])), print()) for line in sorted(sub)[:100]]"
   ]
  },
  {
   "cell_type": "code",
   "execution_count": 15,
   "metadata": {},
   "outputs": [
    {
     "name": "stdout",
     "output_type": "stream",
     "text": [
      "[0, 14, 14, 14, 14, 14, 3, 0, 0, 0, 0] ,\n",
      "[0, 14, 12, 12, 12, 10, 10, 5, 0, 0, 0] ,\n",
      "[0, 17, 16, 15, 15, 15, 14, 13, 9, 3, 0] ,\n",
      "[0, 17, 16, 16, 15, 9, 5, 3, 1, 1, 0] ,\n"
     ]
    }
   ],
   "source": [
    "for group, (sfilt, alg, scores, fbnums, look) in enumerate(zip(sfilt__, alg__, scores__, fbnums__, look__)):\n",
    "    a = [sub(scores, j) for j in range(0, 11)]\n",
    "    jlen = [len(b) for b in a]\n",
    "    tcavg = [round(sum(e[0] for e in b) / (len(b) + (len(b) == 0)) * 1e6) / 1e6 for b in a]\n",
    "    hoavg = [round(sum(e[0] for e in b) / (len(b) + (len(b) == 0)) * 1e6) / 1e6 for b in a]\n",
    "    print(jlen, ',')#, '\\n', tcavg, '\\n', hoavg)"
   ]
  },
  {
   "cell_type": "markdown",
   "metadata": {},
   "source": [
    "##### search average algorithm"
   ]
  },
  {
   "cell_type": "code",
   "execution_count": 8,
   "metadata": {
    "collapsed": true
   },
   "outputs": [],
   "source": [
    "sub = lambda scores, j: [(tc / scores[None][0], ho / scores[None][1], k)\n",
    "        for k, (tc, ho) in scores.items() if k is not None if len(k) == j]\n",
    "subf = lambda scores, fbnums, j: [(tc / scores[None][0], ho / scores[None][1],) + ((fbnums[k],) if fbnums else ()) +  (k,)\n",
    "        for k, (tc, ho) in scores.items() if k is not None if len(k) == j]"
   ]
  },
  {
   "cell_type": "code",
   "execution_count": 9,
   "metadata": {
    "collapsed": true
   },
   "outputs": [],
   "source": [
    "def _filter_search(scores):\n",
    "    filted = {}\n",
    "    bases = sorted(sub(scores, 1))\n",
    "    for s1, _, k1 in bases:\n",
    "        inclist = []\n",
    "        s, k = s1, k1\n",
    "        completed = False\n",
    "        for j in range(2, 20):\n",
    "            front = [tup for tup in sub(scores, j) if set(tup[-1]) > set(k)]\n",
    "            front.sort()\n",
    "            snew = front[0][0] / scores[None][0] if front else None\n",
    "            if front and snew >= s:\n",
    "                completed = True\n",
    "                break\n",
    "            elif not front:\n",
    "                break\n",
    "            inclist.append(k)\n",
    "            k = front[0][-1]\n",
    "            s = snew\n",
    "        if completed:\n",
    "            filted.update({k: scores[k] for k in inclist})\n",
    "        else:\n",
    "            break\n",
    "    filted[None] = scores[None]\n",
    "    return filted"
   ]
  },
  {
   "cell_type": "code",
   "execution_count": 10,
   "metadata": {
    "collapsed": true
   },
   "outputs": [],
   "source": [
    "temp = 'ghost'\n",
    "savenames = ['[246&m3]{}', '[~246&m3]{}(0,2,4,8,16)(0,25,50,75,100)',\n",
    "             '[249&~m3]{}', '[~249&~m3]{}(0,2,4,8,16)(0,25,50,75,100)']\n",
    "featnames__, scores__, fbnums__ = [], [], []\n",
    "for group, save in enumerate(savenames):\n",
    "    with open(top_dir + 'data/progress/linsearch/{}/'.format(temp) + save.format(temp) + '.pkl', 'rb') as file:\n",
    "        guys = pickle.load(file)\n",
    "        featnames__.append(guys[0])\n",
    "        scores__.append({(tuple(sorted(f)) if isinstance(f, tuple) else None): v for f, v in guys[1].items()})\n",
    "        fbnums__.append({(tuple(sorted(f)) if isinstance(f, tuple) else None): v for f, v in guys[2].items()}\n",
    "                        if len(guys) == 3 else None)\n",
    "oscores__ = scores__\n",
    "scores__ = [_filter_search(x) for x in oscores__]"
   ]
  },
  {
   "cell_type": "code",
   "execution_count": 11,
   "metadata": {
    "collapsed": true
   },
   "outputs": [],
   "source": [
    "lenfilter = lambda scores, k: sorted((tc, ho, f) for f, (tc, ho) in scores.items() if f and len(f) == k)\n",
    "#lenfilterho = lambda scores, k: sorted((tc / 4 + ho, f) for f, (tc, ho) in scores.items() if f and len(f) == k)"
   ]
  },
  {
   "cell_type": "code",
   "execution_count": 12,
   "metadata": {
    "collapsed": true
   },
   "outputs": [],
   "source": [
    "def search_average(scores, look, use_ho=False):\n",
    "    _lenfilter = lenfilter if not use_ho else lenfilterho\n",
    "    from collections import Counter\n",
    "    items = []\n",
    "    if isinstance(look, list):\n",
    "        look = {i: v for i, v in enumerate(look) if v != 0}\n",
    "    for lenf, topn in look.items():\n",
    "        items += _lenfilter(scores, lenf)[:topn]\n",
    "    count = Counter()\n",
    "    for things in items:\n",
    "        f = things[-1]\n",
    "        for j in f:\n",
    "            count[j] += 1\n",
    "    for things in items:\n",
    "        f = things[-1]\n",
    "        yield f, sum(1 / count[j] for j in f) / len(f)"
   ]
  },
  {
   "cell_type": "code",
   "execution_count": 13,
   "metadata": {
    "collapsed": true
   },
   "outputs": [],
   "source": [
    "sfilt__ = [\n",
    "    stock_nvdf(dh, 246) & (stockmarket == 3),\n",
    "    ~stock_nvdf(dh, 246) & (stockmarket == 3),\n",
    "    stock_nvdf(dh, 249) & (stockmarket != 3),\n",
    "    ~stock_nvdf(dh, 249) & (stockmarket != 3),\n",
    "]\n",
    "alg__ = ['canon', 'expfb', 'canon', 'expfb']\n",
    "look__ = [\n",
    "    [0, 14, 14, 14, 12, 0, 0, 0, 0, 0, 0],\n",
    "    [0, 14, 13, 13, 12, 10, 5, 1, 0, 0, 0],\n",
    "    [0, 16, 16, 15, 15, 15, 13, 4, 0, 0, 0],\n",
    "    [0, 19, 18, 18, 13, 6, 0, 0, 0, 0, 0],\n",
    "]\n",
    "# ^ old subset data\n",
    "look__ = [\n",
    "    [0, 14, 14, 14, 14, 14,  3,  0, 0, 0, 0] ,\n",
    "    [0, 14, 12, 12, 12, 10, 10,  5, 0, 0, 0] ,\n",
    "    [0, 17, 16, 15, 15, 15, 14, 13, 9, 3, 0] ,\n",
    "    [0, 17, 16, 16, 15,  9,  5,  3, 1, 1, 0] ,\n",
    "]\n",
    "look__ = [\n",
    "    [0,  0,  0,  0,  0, 10,  0, 0, 0, 0, 0] ,\n",
    "    [0,  0,  0,  0,  0,  0, 10, 0, 0, 0, 0] ,\n",
    "    [0,  0,  0,  0,  0,  0,  0, 2, 9, 0, 0] ,\n",
    "    [0,  0,  0,  0,  0,  9,  5, 0, 0, 0, 0] ,\n",
    "]"
   ]
  },
  {
   "cell_type": "code",
   "execution_count": 14,
   "metadata": {
    "collapsed": true
   },
   "outputs": [],
   "source": [
    "DRY = False\n",
    "SET = 'tc'"
   ]
  },
  {
   "cell_type": "markdown",
   "metadata": {},
   "source": [
    "loop"
   ]
  },
  {
   "cell_type": "code",
   "execution_count": 15,
   "metadata": {},
   "outputs": [
    {
     "name": "stdout",
     "output_type": "stream",
     "text": [
      "0\n"
     ]
    },
    {
     "name": "stderr",
     "output_type": "stream",
     "text": [
      "/home/ec2-user/anaconda3/lib/python3.6/site-packages/pandas/core/frame.py:3035: SettingWithCopyWarning: \n",
      "A value is trying to be set on a copy of a slice from a DataFrame\n",
      "\n",
      "See the caveats in the documentation: http://pandas.pydata.org/pandas-docs/stable/indexing.html#indexing-view-versus-copy\n",
      "  downcast=downcast, **kwargs)\n"
     ]
    },
    {
     "name": "stdout",
     "output_type": "stream",
     "text": [
      "<10> 0.........\n",
      "1\n"
     ]
    },
    {
     "name": "stderr",
     "output_type": "stream",
     "text": [
      "/home/ec2-user/anaconda3/lib/python3.6/site-packages/pandas/core/frame.py:3035: SettingWithCopyWarning: \n",
      "A value is trying to be set on a copy of a slice from a DataFrame\n",
      "\n",
      "See the caveats in the documentation: http://pandas.pydata.org/pandas-docs/stable/indexing.html#indexing-view-versus-copy\n",
      "  downcast=downcast, **kwargs)\n"
     ]
    },
    {
     "name": "stdout",
     "output_type": "stream",
     "text": [
      "<10> 0.........\n",
      "2\n"
     ]
    },
    {
     "name": "stderr",
     "output_type": "stream",
     "text": [
      "/home/ec2-user/anaconda3/lib/python3.6/site-packages/pandas/core/frame.py:3035: SettingWithCopyWarning: \n",
      "A value is trying to be set on a copy of a slice from a DataFrame\n",
      "\n",
      "See the caveats in the documentation: http://pandas.pydata.org/pandas-docs/stable/indexing.html#indexing-view-versus-copy\n",
      "  downcast=downcast, **kwargs)\n"
     ]
    },
    {
     "name": "stdout",
     "output_type": "stream",
     "text": [
      "<11> 0.........10\n",
      "3\n",
      "<14> 0.........10...\n"
     ]
    }
   ],
   "source": [
    "yx__ = []\n",
    "for group, (sfilt, alg, scores, fbnums, look) in enumerate(zip(sfilt__, alg__, scores__, fbnums__, look__)):\n",
    "    print(group)\n",
    "    W, X, Y, mvalid = oW, oX, oY, omvalid\n",
    "    #\n",
    "    W = W.T[sfilt].T\n",
    "    Y = Y.T[sfilt].T\n",
    "    X = X.wide_filter(sfilt).chain.fillna(0, inplace=True)\n",
    "    mvalid = mvalid[sfilt]\n",
    "    #\n",
    "    s = splitf(X, 2, ho=False)\n",
    "    ta = TheAlg(X, Y, W, s, mvalid, algorithm=alg, alltrain=True)\n",
    "    #\n",
    "    fw = list(search_average(scores, look, use_ho=False))\n",
    "    feats_, args_, weight_ = [f for f, w in fw], [(fbnums[f] if fbnums else ()) for f, w in fw], [w for f, w in fw]\n",
    "    yx = ta.final(feats_, args_, weight_, dry=DRY, average=True)\n",
    "    yx__.append(yx + Y * 0)\n",
    "Yx = pd.concat(yx__, axis=1).sort_index(axis=1)\n",
    "W, X, Y, mvalid = oW, oX, oY, omvalid"
   ]
  },
  {
   "cell_type": "markdown",
   "metadata": {},
   "source": [
    "fitting a nonnegative linear regression on the ys"
   ]
  },
  {
   "cell_type": "code",
   "execution_count": null,
   "metadata": {
    "collapsed": true
   },
   "outputs": [],
   "source": [
    "wideref = (dh.y.fillna(0) * 0 + 1 - 1).makesw().fillna(0)\n",
    "def _make_matrix(y, sfilt):\n",
    "    ret = wideref.copy()\n",
    "    ret.loc[:, sfilt] = y\n",
    "    return ret\n",
    "    \n",
    "yx__ = []\n",
    "for group, (sfilt, alg, scores, fbnums, look) in enumerate(zip(sfilt__, alg__, scores__, fbnums__, look__)):\n",
    "    print(group)\n",
    "    W, X, Y, mvalid = oW, oX, oY, omvalid\n",
    "    #\n",
    "    W = W.T[sfilt].T\n",
    "    Y = Y.T[sfilt].T\n",
    "    X = X.wide_filter(sfilt).chain.fillna(0, inplace=True)\n",
    "    mvalid = mvalid[sfilt]\n",
    "    #\n",
    "    s = split3(X, repeat=2, reverse=True)\n",
    "    ta = TheAlg(X, Y, W, s, mvalid, algorithm=alg)\n",
    "    #\n",
    "    fw = list(search_average(scores, look, use_ho=False))\n",
    "    feats_, args_, weight_ = [f for f, w in fw], [(fbnums[f][1] if fbnums else ()) for f, w in fw], [w for f, w in fw]\n",
    "    yx = ta.final(feats_, args_, weight_, dry=DRY, average=False)\n",
    "    #!#yx__.append(yx + Y * 0)\n",
    "    yx__.append(pd.concat([_make_matrix(y).makeil_like(dh) for y in yx], axis=1))\n",
    "#!#Yx = pd.concat(yx__, axis=1).sort_index(axis=1)\n",
    "#!#W, X, Y, mvalid = oW, oX, oY, omvalid"
   ]
  },
  {
   "cell_type": "code",
   "execution_count": 155,
   "metadata": {},
   "outputs": [
    {
     "name": "stdout",
     "output_type": "stream",
     "text": [
      "0\n",
      "1\n",
      "2\n",
      "3\n"
     ]
    }
   ],
   "source": [
    "yy__ = []\n",
    "for i__, (yx, sfilt) in enumerate(zip(yx__, sfilt__)):\n",
    "    print(i__)\n",
    "    #for i in range(len(yx)):\n",
    "    #    yx[i] = yx[i].makeil_like(dh)\n",
    "    #yx__[i__] = pd.concat(yx, axis=1)\n",
    "    ifilt = ifilt__[i__]\n",
    "    yx = yx__[i__]\n",
    "    s = split3(dh, repeat=2, reverse=True)\n",
    "    from scipy.optimize import nnls\n",
    "    beta, _ = nnls(yx[ifilt & s.tc].values * dh.w[ifilt & s.tc][:, np.newaxis] ** .5,\n",
    "                   dh.y[ifilt & s.tc] * dh.w[ifilt & s.tc] ** .5)\n",
    "    yy = yx @ beta\n",
    "    yy[~ifilt] = 0\n",
    "    yy__.append(yy)\n",
    "iYy = sum(yy__)"
   ]
  },
  {
   "cell_type": "code",
   "execution_count": 156,
   "metadata": {},
   "outputs": [
    {
     "data": {
      "text/plain": [
       "0.63784580597848828"
      ]
     },
     "execution_count": 156,
     "metadata": {},
     "output_type": "execute_result"
    }
   ],
   "source": [
    "iYy0, iY0, iW0 = (iYy[s[SET]], oY.makeil_like(dh)[s[SET]], oW.makeil_like(dh)[s[SET]])\n",
    "((iYy0 - iY0) ** 2 * iW0).sum() / (iY0 ** 2 * iW0).sum()"
   ]
  },
  {
   "cell_type": "code",
   "execution_count": null,
   "metadata": {
    "collapsed": true
   },
   "outputs": [],
   "source": []
  },
  {
   "cell_type": "markdown",
   "metadata": {},
   "source": [
    "back to the classic averaging method"
   ]
  },
  {
   "cell_type": "code",
   "execution_count": 17,
   "metadata": {},
   "outputs": [
    {
     "data": {
      "text/plain": [
       "0.56437814"
      ]
     },
     "execution_count": 17,
     "metadata": {},
     "output_type": "execute_result"
    }
   ],
   "source": [
    "# conservatively deep 10\n",
    "Yx0, Y0, W0 = Yx[s[SET]], Y[s[SET]], W[s[SET]]\n",
    "((Yx0 - Y0) ** 2 * W0).sum().sum() / (Y0 ** 2 * W0).sum().sum()"
   ]
  },
  {
   "cell_type": "code",
   "execution_count": 19,
   "metadata": {},
   "outputs": [
    {
     "data": {
      "text/plain": [
       "(1264247,)"
      ]
     },
     "execution_count": 19,
     "metadata": {},
     "output_type": "execute_result"
    }
   ],
   "source": [
    "iYx = Yx.makeil_like(dh)"
   ]
  },
  {
   "cell_type": "code",
   "execution_count": 22,
   "metadata": {},
   "outputs": [],
   "source": [
    "#np.save(top_dir + 'data/progress/linfinal/firstpick.npy', iYx)"
   ]
  },
  {
   "cell_type": "markdown",
   "metadata": {},
   "source": [
    "final above, reverse split below"
   ]
  },
  {
   "cell_type": "code",
   "execution_count": null,
   "metadata": {
    "collapsed": true
   },
   "outputs": [],
   "source": []
  },
  {
   "cell_type": "code",
   "execution_count": 82,
   "metadata": {},
   "outputs": [
    {
     "data": {
      "text/plain": [
       "0.63487983"
      ]
     },
     "execution_count": 82,
     "metadata": {},
     "output_type": "execute_result"
    }
   ],
   "source": [
    "# deepest 20\n",
    "Yx0, Y0, W0 = Yx[s[SET]], Y[s[SET]], W[s[SET]]\n",
    "((Yx0 - Y0) ** 2 * W0).sum().sum() / (Y0 ** 2 * W0).sum().sum()"
   ]
  },
  {
   "cell_type": "code",
   "execution_count": 78,
   "metadata": {},
   "outputs": [
    {
     "data": {
      "text/plain": [
       "0.63469827"
      ]
     },
     "execution_count": 78,
     "metadata": {},
     "output_type": "execute_result"
    }
   ],
   "source": [
    "# deepest 10 non extremal (correct)\n",
    "Yx0, Y0, W0 = Yx[s[SET]], Y[s[SET]], W[s[SET]]\n",
    "((Yx0 - Y0) ** 2 * W0).sum().sum() / (Y0 ** 2 * W0).sum().sum()"
   ]
  },
  {
   "cell_type": "code",
   "execution_count": 75,
   "metadata": {},
   "outputs": [
    {
     "data": {
      "text/plain": [
       "0.63433874"
      ]
     },
     "execution_count": 75,
     "metadata": {},
     "output_type": "execute_result"
    }
   ],
   "source": [
    "# deepest 10 + 1 extremal guy on group 1  (MISTAKE on group 3!)\n",
    "Yx0, Y0, W0 = Yx[s[SET]], Y[s[SET]], W[s[SET]]\n",
    "((Yx0 - Y0) ** 2 * W0).sum().sum() / (Y0 ** 2 * W0).sum().sum()"
   ]
  },
  {
   "cell_type": "code",
   "execution_count": 71,
   "metadata": {},
   "outputs": [
    {
     "data": {
      "text/plain": [
       "0.63485128"
      ]
     },
     "execution_count": 71,
     "metadata": {},
     "output_type": "execute_result"
    }
   ],
   "source": [
    "# deepest 8 non extremal  (MISTAKE on group 3?)\n",
    "Yx0, Y0, W0 = Yx[s[SET]], Y[s[SET]], W[s[SET]]\n",
    "((Yx0 - Y0) ** 2 * W0).sum().sum() / (Y0 ** 2 * W0).sum().sum()"
   ]
  },
  {
   "cell_type": "code",
   "execution_count": 67,
   "metadata": {},
   "outputs": [
    {
     "data": {
      "text/plain": [
       "0.63429654"
      ]
     },
     "execution_count": 67,
     "metadata": {},
     "output_type": "execute_result"
    }
   ],
   "source": [
    "# deepest 10 non extremal (MISTAKE on group 3!)\n",
    "Yx0, Y0, W0 = Yx[s[SET]], Y[s[SET]], W[s[SET]]\n",
    "((Yx0 - Y0) ** 2 * W0).sum().sum() / (Y0 ** 2 * W0).sum().sum()"
   ]
  },
  {
   "cell_type": "code",
   "execution_count": 63,
   "metadata": {},
   "outputs": [
    {
     "data": {
      "text/plain": [
       "0.63526487"
      ]
     },
     "execution_count": 63,
     "metadata": {},
     "output_type": "execute_result"
    }
   ],
   "source": [
    "# deepest with at least 10 and 10 on the left beside it\n",
    "Yx0, Y0, W0 = Yx[s[SET]], Y[s[SET]], W[s[SET]]\n",
    "((Yx0 - Y0) ** 2 * W0).sum().sum() / (Y0 ** 2 * W0).sum().sum()"
   ]
  },
  {
   "cell_type": "code",
   "execution_count": 59,
   "metadata": {},
   "outputs": [
    {
     "data": {
      "text/plain": [
       "0.63497686"
      ]
     },
     "execution_count": 59,
     "metadata": {},
     "output_type": "execute_result"
    }
   ],
   "source": [
    "# deepest with at least 10\n",
    "Yx0, Y0, W0 = Yx[s[SET]], Y[s[SET]], W[s[SET]]\n",
    "((Yx0 - Y0) ** 2 * W0).sum().sum() / (Y0 ** 2 * W0).sum().sum()"
   ]
  },
  {
   "cell_type": "code",
   "execution_count": 55,
   "metadata": {},
   "outputs": [
    {
     "data": {
      "text/plain": [
       "0.63804036"
      ]
     },
     "execution_count": 55,
     "metadata": {},
     "output_type": "execute_result"
    }
   ],
   "source": [
    "# ~5 deepest\n",
    "Yx0, Y0, W0 = Yx[s[SET]], Y[s[SET]], W[s[SET]]\n",
    "((Yx0 - Y0) ** 2 * W0).sum().sum() / (Y0 ** 2 * W0).sum().sum()"
   ]
  },
  {
   "cell_type": "code",
   "execution_count": 52,
   "metadata": {},
   "outputs": [
    {
     "data": {
      "text/plain": [
       "0.63486272"
      ]
     },
     "execution_count": 52,
     "metadata": {},
     "output_type": "execute_result"
    }
   ],
   "source": [
    "# not more than 20 deepest\n",
    "Yx0, Y0, W0 = Yx[s[SET]], Y[s[SET]], W[s[SET]]\n",
    "((Yx0 - Y0) ** 2 * W0).sum().sum() / (Y0 ** 2 * W0).sum().sum()"
   ]
  },
  {
   "cell_type": "code",
   "execution_count": 49,
   "metadata": {},
   "outputs": [
    {
     "data": {
      "text/plain": [
       "0.63538206"
      ]
     },
     "execution_count": 49,
     "metadata": {},
     "output_type": "execute_result"
    }
   ],
   "source": [
    "# all (but no k=1,2,3)\n",
    "Yx0, Y0, W0 = Yx[s[SET]], Y[s[SET]], W[s[SET]]\n",
    "((Yx0 - Y0) ** 2 * W0).sum().sum() / (Y0 ** 2 * W0).sum().sum()"
   ]
  },
  {
   "cell_type": "code",
   "execution_count": 46,
   "metadata": {},
   "outputs": [
    {
     "data": {
      "text/plain": [
       "0.63602185"
      ]
     },
     "execution_count": 46,
     "metadata": {},
     "output_type": "execute_result"
    }
   ],
   "source": [
    "# all (but no k=1,2)\n",
    "Yx0, Y0, W0 = Yx[s[SET]], Y[s[SET]], W[s[SET]]\n",
    "((Yx0 - Y0) ** 2 * W0).sum().sum() / (Y0 ** 2 * W0).sum().sum()"
   ]
  },
  {
   "cell_type": "code",
   "execution_count": 43,
   "metadata": {},
   "outputs": [
    {
     "data": {
      "text/plain": [
       "0.63711482"
      ]
     },
     "execution_count": 43,
     "metadata": {},
     "output_type": "execute_result"
    }
   ],
   "source": [
    "# all (but no k=1)\n",
    "Yx0, Y0, W0 = Yx[s[SET]], Y[s[SET]], W[s[SET]]\n",
    "((Yx0 - Y0) ** 2 * W0).sum().sum() / (Y0 ** 2 * W0).sum().sum()"
   ]
  },
  {
   "cell_type": "code",
   "execution_count": 40,
   "metadata": {},
   "outputs": [
    {
     "data": {
      "text/plain": [
       "0.64153665"
      ]
     },
     "execution_count": 40,
     "metadata": {},
     "output_type": "execute_result"
    }
   ],
   "source": [
    "# all\n",
    "Yx0, Y0, W0 = Yx[s[SET]], Y[s[SET]], W[s[SET]]\n",
    "((Yx0 - Y0) ** 2 * W0).sum().sum() / (Y0 ** 2 * W0).sum().sum()"
   ]
  },
  {
   "cell_type": "code",
   "execution_count": 37,
   "metadata": {},
   "outputs": [
    {
     "data": {
      "text/plain": [
       "0.64866221"
      ]
     },
     "execution_count": 37,
     "metadata": {},
     "output_type": "execute_result"
    }
   ],
   "source": [
    "# one of k=(max)\n",
    "Yx0, Y0, W0 = Yx[s[SET]], Y[s[SET]], W[s[SET]]\n",
    "((Yx0 - Y0) ** 2 * W0).sum().sum() / (Y0 ** 2 * W0).sum().sum()"
   ]
  },
  {
   "cell_type": "code",
   "execution_count": 33,
   "metadata": {},
   "outputs": [
    {
     "data": {
      "text/plain": [
       "0.64920402"
      ]
     },
     "execution_count": 33,
     "metadata": {},
     "output_type": "execute_result"
    }
   ],
   "source": [
    "# one of k=4\n",
    "Yx0, Y0, W0 = Yx[s[SET]], Y[s[SET]], W[s[SET]]\n",
    "((Yx0 - Y0) ** 2 * W0).sum().sum() / (Y0 ** 2 * W0).sum().sum()"
   ]
  },
  {
   "cell_type": "code",
   "execution_count": null,
   "metadata": {
    "collapsed": true
   },
   "outputs": [],
   "source": []
  },
  {
   "cell_type": "code",
   "execution_count": null,
   "metadata": {
    "collapsed": true
   },
   "outputs": [],
   "source": []
  },
  {
   "cell_type": "code",
   "execution_count": 75,
   "metadata": {},
   "outputs": [
    {
     "data": {
      "text/plain": [
       "0.67326117250855633"
      ]
     },
     "execution_count": 75,
     "metadata": {},
     "output_type": "execute_result"
    }
   ],
   "source": [
    "Y0, W0 = Y[s[SET]], W[s[SET]]\n",
    "((Yx__combine - Y0) ** 2 * W0).sum().sum() / (Y0 ** 2 * W0).sum().sum()"
   ]
  },
  {
   "cell_type": "code",
   "execution_count": 68,
   "metadata": {},
   "outputs": [
    {
     "data": {
      "text/plain": [
       "0.67388656690142368"
      ]
     },
     "execution_count": 68,
     "metadata": {},
     "output_type": "execute_result"
    }
   ],
   "source": [
    "Y0, W0 = Y[s[SET]], W[s[SET]]\n",
    "(((Yx__3of3 + Yx__bigtwo) / 2 - Y0) ** 2 * W0).sum().sum() / (Y0 ** 2 * W0).sum().sum()"
   ]
  },
  {
   "cell_type": "code",
   "execution_count": 61,
   "metadata": {},
   "outputs": [
    {
     "data": {
      "text/plain": [
       "0.68432404158565274"
      ]
     },
     "execution_count": 61,
     "metadata": {},
     "output_type": "execute_result"
    }
   ],
   "source": [
    "Y0, W0 = Y[s[SET]], W[s[SET]]\n",
    "((Yx__bigtwo - Y0) ** 2 * W0).sum().sum() / (Y0 ** 2 * W0).sum().sum()"
   ]
  },
  {
   "cell_type": "code",
   "execution_count": 67,
   "metadata": {},
   "outputs": [
    {
     "data": {
      "text/plain": [
       "0.67563324448134887"
      ]
     },
     "execution_count": 67,
     "metadata": {},
     "output_type": "execute_result"
    }
   ],
   "source": [
    "Y0, W0 = Y[s[SET]], W[s[SET]]\n",
    "((Yx__3of3 - Y0) ** 2 * W0).sum().sum() / (Y0 ** 2 * W0).sum().sum()"
   ]
  },
  {
   "cell_type": "code",
   "execution_count": 43,
   "metadata": {},
   "outputs": [
    {
     "data": {
      "text/plain": [
       "0.68734226667352849"
      ]
     },
     "execution_count": 43,
     "metadata": {},
     "output_type": "execute_result"
    }
   ],
   "source": [
    "Y0, W0 = Y[s[SET]], W[s[SET]]\n",
    "((Yx__best - Y0) ** 2 * W0).sum().sum() / (Y0 ** 2 * W0).sum().sum()"
   ]
  },
  {
   "cell_type": "code",
   "execution_count": null,
   "metadata": {
    "collapsed": true
   },
   "outputs": [],
   "source": []
  },
  {
   "cell_type": "code",
   "execution_count": null,
   "metadata": {
    "collapsed": true
   },
   "outputs": [],
   "source": []
  },
  {
   "cell_type": "code",
   "execution_count": null,
   "metadata": {
    "collapsed": true
   },
   "outputs": [],
   "source": []
  },
  {
   "cell_type": "code",
   "execution_count": null,
   "metadata": {
    "collapsed": true
   },
   "outputs": [],
   "source": []
  },
  {
   "cell_type": "code",
   "execution_count": null,
   "metadata": {
    "collapsed": true
   },
   "outputs": [],
   "source": []
  },
  {
   "cell_type": "code",
   "execution_count": 15,
   "metadata": {
    "collapsed": true
   },
   "outputs": [],
   "source": [
    "assert ta.columns.get_level_values(0).nunique() * ta.columns.get_level_values(1).nunique() == ta.columns.shape[0]\n",
    "assert ta.k * ta.m == ta.columns.shape[0]"
   ]
  },
  {
   "cell_type": "code",
   "execution_count": null,
   "metadata": {
    "collapsed": true
   },
   "outputs": [],
   "source": []
  },
  {
   "cell_type": "code",
   "execution_count": null,
   "metadata": {
    "collapsed": true
   },
   "outputs": [],
   "source": []
  },
  {
   "cell_type": "code",
   "execution_count": null,
   "metadata": {
    "collapsed": true
   },
   "outputs": [],
   "source": [
    "submit(Yx, 'lineartest__combine')\n",
    "old = pd.read_csv(top_dir + 'data/submit/model3.csv', index_col=0, dtype={'y': str})\n",
    "old.y = (old.y.map(Decimal) * 10000).astype(float)\n",
    "Old = old.makesw().fillna(0)\n",
    "Old.columns = Old.columns.levels[1]\n",
    "cut = lambda y_: y_[dg.y.makesw().columns]\n",
    "submit(cut(Yx) * .5 + Old * .5, 'lineartest__combine_5050_model3___dec')"
   ]
  },
  {
   "cell_type": "code",
   "execution_count": null,
   "metadata": {
    "collapsed": true
   },
   "outputs": [],
   "source": []
  },
  {
   "cell_type": "code",
   "execution_count": null,
   "metadata": {
    "collapsed": true
   },
   "outputs": [],
   "source": []
  },
  {
   "cell_type": "code",
   "execution_count": null,
   "metadata": {
    "collapsed": true
   },
   "outputs": [],
   "source": []
  },
  {
   "cell_type": "code",
   "execution_count": null,
   "metadata": {
    "collapsed": true
   },
   "outputs": [],
   "source": []
  },
  {
   "cell_type": "code",
   "execution_count": null,
   "metadata": {
    "collapsed": true
   },
   "outputs": [],
   "source": []
  },
  {
   "cell_type": "code",
   "execution_count": null,
   "metadata": {
    "collapsed": true
   },
   "outputs": [],
   "source": []
  },
  {
   "cell_type": "code",
   "execution_count": null,
   "metadata": {
    "collapsed": true
   },
   "outputs": [],
   "source": []
  },
  {
   "cell_type": "code",
   "execution_count": null,
   "metadata": {
    "collapsed": true
   },
   "outputs": [],
   "source": []
  },
  {
   "cell_type": "code",
   "execution_count": null,
   "metadata": {
    "collapsed": true
   },
   "outputs": [],
   "source": []
  },
  {
   "cell_type": "code",
   "execution_count": null,
   "metadata": {
    "collapsed": true
   },
   "outputs": [],
   "source": []
  },
  {
   "cell_type": "code",
   "execution_count": null,
   "metadata": {
    "collapsed": true
   },
   "outputs": [],
   "source": []
  },
  {
   "cell_type": "code",
   "execution_count": null,
   "metadata": {
    "collapsed": true
   },
   "outputs": [],
   "source": []
  },
  {
   "cell_type": "code",
   "execution_count": 39,
   "metadata": {
    "collapsed": true
   },
   "outputs": [],
   "source": [
    "sfilt__ = [\n",
    "    stock_nvdf(dh, 246) & (stockmarket == 3),\n",
    "    ~stock_nvdf(dh, 246) & (stockmarket == 3),\n",
    "    stock_nvdf(dh, 249) & (stockmarket != 3),\n",
    "    ~stock_nvdf(dh, 249) & (stockmarket != 3),\n",
    "]\n",
    "ifilt__ = [\n",
    "    index_nvdf(dh, 246) & (dh.Market == 3),\n",
    "    ~index_nvdf(dh, 246) & (dh.Market == 3),\n",
    "    index_nvdf(dh, 249) & (dh.Market != 3),\n",
    "    ~index_nvdf(dh, 249) & (dh.Market != 3),\n",
    "]\n",
    "feats__ = [ #combine\n",
    "    [(356, 54, 972, 185, 1), (340, 652, 119), (356, 54, 815)],\n",
    "    [(652, 119, 980, 157), (652, 152, 356, 603), (656, 359, 152), (652, 152, 35), (656, 359, 49)],\n",
    "    [(407, 1, 356, 291, 653, 651, 1006), (141, 356, 653, 651, 1), (407, 653, 192, 983, 1),\n",
    "     (356, 653, 455), (35, 653, 196), (455, 653, 983)],\n",
    "    [(407, 698, 196, 1, 327), (407, 698, 523, 977, 1), (455, 327, 1199), (407, 698, 1130), (1006, 698, 356)],\n",
    "]\n",
    "args__ = [ #combine\n",
    "    [()] * len(feats__[0]),\n",
    "    [(4, 75), (0, 100), (4, 75), (0, 100), (4, 75)],\n",
    "    [()] * len(feats__[2]),\n",
    "    [(0, 75), (0, 75), (0, 75), (0, 50), (0, 50)],\n",
    "]\n",
    "alg__ = ['canon', 'expfb', 'canon', 'expfb']\n",
    "look__ = [\n",
    "    {2:15, 3:30, 4:30, 5:15, 6:10, 7:5},\n",
    "    {2:15, 3:30, 4:30, 5:15, 6:10, 7:5},\n",
    "    {2:15, 3:30, 4:30, 5:15, 6:10, 7:5},\n",
    "    {2:15, 3:30, 4:30, 5:15, 6:10, 7:5},\n",
    "]"
   ]
  },
  {
   "cell_type": "code",
   "execution_count": null,
   "metadata": {
    "collapsed": true
   },
   "outputs": [],
   "source": []
  },
  {
   "cell_type": "markdown",
   "metadata": {},
   "source": [
    "## diagnosis analysis"
   ]
  },
  {
   "cell_type": "code",
   "execution_count": 31,
   "metadata": {
    "collapsed": true
   },
   "outputs": [],
   "source": [
    "pname = '[~249&~m3]zombs(0,4,14,32)(25,50,75,100,125,150)'\n",
    "featnames = [str(ta.columns[ta.m * f][0]) for f in range(ta.k)]"
   ]
  },
  {
   "cell_type": "code",
   "execution_count": 32,
   "metadata": {
    "collapsed": true
   },
   "outputs": [],
   "source": [
    "with open(top_dir + 'data/progress/linsearch/' + pname + '.pkl', 'wb') as file:\n",
    "    pickle.dump((featnames, ta.scores, ta.fbnums), file, protocol=-1)"
   ]
  },
  {
   "cell_type": "code",
   "execution_count": 33,
   "metadata": {},
   "outputs": [
    {
     "name": "stdout",
     "output_type": "stream",
     "text": [
      "(0.652535685895395, 0.7004064900116118, ('xg.log.zc(-93).sgnint(03/44).wnrm', 'x3A.wnrm', 'x3E.log.z(1).window(<20>*!-).wnrm.pos', 'xg.log.zc(-93).sgnint(12/33).wnrm.neg'))\n",
      "(0.6529830325397746, 0.6889513593543053, ('xg.log.zc(-93).sgnint(03/44).wnrm', 'x3A.wnrm', 'xg.log.zc(-93).sgnint(25/33).wnrm.neg', 'x3.log.zc(-93).sgnint(1/4).window(<20>*!-).wnrm.neg'))\n",
      "(0.6530042363420493, 0.6926842767326568, ('xg.log.zc(-93).sgnint(03/44).wnrm', 'x3A.wnrm', 'x3.log.zc(-93).sgnint(0/4).window(<20>*!-).wnrm.neg', 'xg.log.zc(-93).sgnint(12/33).wnrm.neg'))\n",
      "(0.6532938175117425, 0.6915756647607065, ('xg.log.zc(-93).sgnint(03/44).wnrm', 'x3A.wnrm', 'x3.log.zc(-93).sgnint(0/4).window(<20>*!-).wnrm.neg', 'xg.log.zc(-93).sgnint(03/12).wnrm.pos'))\n",
      "(0.6534188969807563, 0.6888000588946109, ('xg.log.zc(-93).sgnint(03/44).wnrm', 'x3A.wnrm', 'x3.log.zc(-93).sgnint(0/4).window(<20>*!-).wnrm.neg', 'xg.log.zc(-93).sgnint(25/33).wnrm.neg'))\n",
      "(0.6534188969807563, 0.6888000588946109, ('xg.log.zc(-93).sgnint(03/44).wnrm', 'x3A.wnrm', 'xg.log.zc(-93).sgnint(25/33).wnrm.neg', 'x3.log.zc(-93).sgnint(0/4).window(<20>*!-).wnrm.neg'))\n",
      "(0.6534301495400862, 0.6984101775428535, ('xg.log.zc(-93).sgnint(03/44).wnrm', 'x3A.wnrm', 'x3E.log.z(1).window(<20>*!-).wnrm.pos', 'xg.log.zc(-93).sgnint(03/12).wnrm.pos'))\n",
      "(0.6534531139468818, 0.6940655709717403, ('xg.log.zc(-93).sgnint(03/44).wnrm', 'x3A.wnrm', 'xg.log.zc(-93).sgnint(25/33).wnrm.neg', 'x3E.log.z(1).window(<20>*!-).wnrm'))\n",
      "(0.6535169549977737, 0.6984955801436571, ('xg.log.zc(-93).sgnint(03/44).wnrm', 'x3A.wnrm', 'x3E.log.z(1).window(<20>*!-).wnrm.pos', 'xg.log.zc(-93).sgnint(0/5).window(<5>*!-).wnrm'))\n",
      "(0.6540406965687602, 0.692714878264279, ('xg.log.zc(-93).sgnint(03/44).wnrm', 'x3A.wnrm', 'xg.log.zc(-93).sgnint(25/33).wnrm.neg', 'x3.log.zc(-93).sgnint(2/4).window(!*<5>-).wnrm.neg'))\n",
      "(0.6540605225066272, 0.6955807522466663, ('xg.log.zc(-93).sgnint(03/44).wnrm', 'x3A.wnrm', 'xg.log.zc(-93).sgnint(25/33).wnrm.neg', 'x3D.log.z(1).window(<20>*!-).wnrm'))\n",
      "(0.6540616707269669, 0.6973036995689245, ('xg.log.zc(-93).sgnint(03/44).wnrm', 'x3A.wnrm', 'x3E.log.z(1).window(<20>*!-).wnrm.pos', 'Day'))\n",
      "(0.6542361236705913, 0.6895567745928852, ('xg.log.zc(-93).sgnint(03/44).wnrm', 'x3A.wnrm', 'xg.log.zc(-93).sgnint(25/33).wnrm.neg', 'x3.log.zc(-93).sgnint(12/34).wnrm.neg'))\n",
      "(0.6542368126027952, 0.6960629504395092, ('xg.log.zc(-93).sgnint(03/44).wnrm', 'x3A.wnrm', 'x3E.log.z(1).window(<20>*!-).wnrm.pos', 'xg.log.zc(-93).sgnint(25/33).wnrm.neg'))\n",
      "(0.6542368126027952, 0.6960629504395092, ('xg.log.zc(-93).sgnint(03/44).wnrm', 'x3A.wnrm', 'xg.log.zc(-93).sgnint(25/33).wnrm.neg', 'x3E.log.z(1).window(<20>*!-).wnrm.pos'))\n",
      "(0.6542451563372642, 0.6955126777097939, ('xg.log.zc(-93).sgnint(03/44).wnrm', 'x3A.wnrm', 'x3E.log.z(1).window(<20>*!-).wnrm.pos', 'xg.log.zc(-93).sgnint(03/12).wnrm'))\n",
      "(0.65435615097011, 0.6926561079587785, ('xg.log.zc(-93).sgnint(03/44).wnrm', 'xg.log.zc(-93).sgnint(12/33).wnrm', 'x3.log.zc(-93).sgnint(01/34).wnrm', 'xg.log.zc(-93).sgnint(35/44).wnrm.neg'))\n",
      "(0.6544445639362733, 0.7005949647168335, ('xg.log.zc(-93).sgnint(03/44).wnrm', 'xg.log.zc(-93).sgnint(35/44).wnrm.neg', 'x3E.log.z(1).window(<20>*!-).wnrm', 'xg.log.zc(-93).sgnint(12/33).wnrm.neg'))\n",
      "(0.6544659208345932, 0.6942119632359862, ('xg.log.zc(-93).sgnint(03/44).wnrm', 'xg.log.zc(-93).sgnint(35/44).wnrm.neg', 'x3.log.zc(-93).sgnint(0/4).window(<20>*!-).wnrm', 'xg.log.zc(-93).sgnint(12/33).wnrm.neg'))\n",
      "(0.6544817662752822, 0.6985900308960701, ('xg.log.zc(-93).sgnint(03/44).wnrm', 'x3A.wnrm', 'x3E.log.z(1).window(<20>*!-).wnrm.pos'))\n",
      "(0.6545126151284111, 0.691690004374676, ('xg.log.zc(-93).sgnint(03/44).wnrm', 'xg.log.zc(-93).sgnint(35/44).wnrm.neg', 'x3.log.zc(-93).sgnint(0/4).window(<20>*!-).wnrm', 'xg.log.zc(-93).sgnint(25/33).wnrm.neg'))\n",
      "(0.6545168252696569, 0.7016594029297474, ('xg.log.zc(-93).sgnint(03/44).wnrm', 'x3A.wnrm', 'x3E.log.z(1).window(<20>*!-).wnrm.pos', 'xg.log.zc(-93).sgnint(0/5).window(!*<20>-).wnrm'))\n",
      "(0.6545596156143195, 0.6915463009479366, ('xg.log.zc(-93).sgnint(03/44).wnrm', 'x3A.wnrm', 'xg.log.zc(-93).sgnint(25/33).wnrm.neg', 'x3a.log.z(1).window(<20>*!-).wnrm'))\n",
      "(0.6546017170267783, 0.691155651270198, ('xg.log.zc(-93).sgnint(03/44).wnrm', 'x3A.wnrm', 'xg.log.zc(-93).sgnint(25/33).wnrm.neg', 'x3.log.zc(-93).sgnint(1/4).wnrm.neg'))\n",
      "(0.6547019949364526, 0.6895035100022792, ('xg.log.zc(-93).sgnint(03/44).wnrm', 'x3A.wnrm', 'x3.log.zc(-93).sgnint(0/4).window(<20>*!-).wnrm.neg', 'xg.log.zc(-93).sgnint(33/45).wnrm.pos'))\n",
      "(0.6547100324788312, 0.6993738483692121, ('xg.log.zc(-93).sgnint(03/44).wnrm', 'x3A.wnrm', 'xg.log.zc(-93).sgnint(25/33).wnrm.neg', 'x3D.log.z(1).window(<20>*!-).wnrm.pos'))\n",
      "(0.6547241938630218, 0.6975649862866253, ('xg.log.zc(-93).sgnint(03/44).wnrm', 'x3A.wnrm', 'x3E.log.z(1).window(<20>*!-).wnrm.pos', 'xg.log.zc(-93).sgnint(12/34).wnrm.neg'))\n",
      "(0.6547313128291284, 0.6906455403832393, ('xg.log.zc(-93).sgnint(03/44).wnrm', 'xg.log.zc(-93).sgnint(12/33).wnrm', 'x3.log.zc(-93).sgnint(01/34).wnrm', 'x3E.wnrm.neg'))\n",
      "(0.6547721894732247, 0.6960433176577152, ('xg.log.zc(-93).sgnint(03/44).wnrm', 'xg.log.zc(-93).sgnint(35/44).wnrm.neg', 'x3E.log.z(1).window(<20>*!-).wnrm', 'x4.wnrm.pos'))\n",
      "(0.6547790787952634, 0.690074695912601, ('xg.log.zc(-93).sgnint(03/44).wnrm', 'x3A.wnrm', 'x3.log.zc(-93).sgnint(0/4).window(<20>*!-).wnrm.neg'))\n",
      "(0.6547917857670237, 0.6895265998608672, ('xg.log.zc(-93).sgnint(03/44).wnrm', 'xg.log.zc(-93).sgnint(35/44).wnrm.neg', 'x3.log.zc(-93).sgnint(0/4).window(<20>*!-).wnrm', 'Day'))\n",
      "(0.6547930105353862, 0.6946843877178925, ('xg.log.zc(-93).sgnint(03/44).wnrm', 'xg.log.zc(-93).sgnint(35/44).wnrm.neg', 'x3.log.zc(-93).sgnint(0/4).window(<20>*!-).wnrm', 'xg.log.zc(-93).sgnint(03/12).wnrm.pos'))\n",
      "(0.6548930588009926, 0.6948302678226135, ('xg.log.zc(-93).sgnint(03/44).wnrm', 'xg.log.zc(-93).sgnint(35/44).wnrm.neg', 'x3.log.zc(-93).sgnint(0/4).window(<20>*!-).wnrm', 'xg.log.zc(-93).sgnint(12/33).wnrm'))\n",
      "(0.6549003308631446, 0.6890186229719297, ('xg.log.zc(-93).sgnint(03/44).wnrm', 'x3A.wnrm', 'xg.log.zc(-93).sgnint(25/33).wnrm.neg', 'Day'))\n",
      "(0.6549305673320922, 0.6896202823739925, ('xg.log.zc(-93).sgnint(03/44).wnrm', 'x3A.wnrm', 'xg.log.zc(-93).sgnint(25/33).wnrm.neg', 'x3.log.zc(-93).sgnint(0/4).window(<20>*!-).wnrm'))\n",
      "(0.654955675083522, 0.6956358947555309, ('xg.log.zc(-93).sgnint(03/44).wnrm', 'x3A.wnrm', 'x3E.log.z(1).window(<20>*!-).wnrm.pos', 'xg.log.zc(-93).sgnint(25/34).wnrm'))\n",
      "(0.6549636360778779, 0.6903098198145633, ('xg.log.zc(-93).sgnint(03/44).wnrm', 'x3A.wnrm', 'xg.log.zc(-93).sgnint(25/33).wnrm.neg', 'x3.log.zc(-93).sgnint(1/4).window(<5>*!-).wnrm.neg'))\n",
      "(0.6549766492417288, 0.6937431238707553, ('xg.log.zc(-93).sgnint(03/44).wnrm', 'xg.log.zc(-93).sgnint(35/44).wnrm.neg', 'x3.log.zc(-93).sgnint(0/4).window(<20>*!-).wnrm', 'xg.log.zc(-93).sgnint(25/34).wnrm'))\n",
      "(0.6549766492417288, 0.6937431238707553, ('xg.log.zc(-93).sgnint(03/44).wnrm', 'xg.log.zc(-93).sgnint(35/44).wnrm.neg', 'xg.log.zc(-93).sgnint(25/34).wnrm', 'x3.log.zc(-93).sgnint(0/4).window(<20>*!-).wnrm'))\n",
      "(0.6549901216937156, 0.6959292768034688, ('xg.log.zc(-93).sgnint(03/44).wnrm', 'x3A.wnrm', 'x3E.log.z(1).window(<20>*!-).wnrm.pos', 'xg.log.zc(-93).sgnint(25/33).wnrm'))\n",
      "(0.6549921884903271, 0.6964737450585667, ('xg.log.zc(-93).sgnint(03/44).wnrm', 'x3A.wnrm', 'x3E.log.z(1).window(<20>*!-).wnrm.pos', 'x5.log.z(1).window(<20>*!-).wnrm.neg'))\n",
      "(0.6550004556767737, 0.6883534131087992, ('xg.log.zc(-93).sgnint(03/44).wnrm', 'x3A.wnrm', 'x3.log.zc(-93).sgnint(0/4).window(<20>*!-).wnrm.neg', 'Day'))\n",
      "(0.6550313045299024, 0.6906268892405352, ('xg.log.zc(-93).sgnint(03/44).wnrm', 'x3A.wnrm', 'xg.log.zc(-93).sgnint(25/33).wnrm.neg', 'x3.log.zc(-93).sgnint(2/4).window(<20>*!-).wnrm.neg'))\n",
      "(0.6550355146711484, 0.6998652227535456, ('xg.log.zc(-93).sgnint(03/44).wnrm', 'x3A.wnrm', 'x3E.log.z(1).window(<20>*!-).wnrm.pos', 'xg.log.zc(-93).sgnint(04/12).wnrm.pos'))\n",
      "(0.6550790704960374, 0.6967958933998287, ('xg.log.zc(-93).sgnint(03/44).wnrm', 'x3A.wnrm', 'x3E.log.z(1).window(<20>*!-).wnrm.pos', 'xg.log.zc(-93).sgnint(33/45).wnrm'))\n",
      "(0.6550835102813513, 0.694597662038316, ('xg.log.zc(-93).sgnint(03/44).wnrm', 'x3A.wnrm', 'x3E.log.z(1).window(<20>*!-).wnrm.pos', 'xg.log.zc(-93).sgnint(3/5).wnrm'))\n",
      "(0.6551329603039846, 0.6948353467379036, ('xg.log.zc(-93).sgnint(03/44).wnrm', 'xg.log.zc(-93).sgnint(35/44).wnrm.neg', 'x3.log.zc(-93).sgnint(0/4).window(<20>*!-).wnrm', 'xg.log.zc(-93).sgnint(03/12).wnrm'))\n",
      "(0.6551391606938194, 0.6999596735059584, ('xg.log.zc(-93).sgnint(03/44).wnrm', 'xg.log.zc(-93).sgnint(35/44).wnrm.neg', 'x3E.log.z(1).window(<20>*!-).wnrm', 'xg.log.zc(-93).sgnint(03/12).wnrm.pos'))\n",
      "(0.6551431411909974, 0.6977719840946699, ('xg.log.zc(-93).sgnint(03/44).wnrm', 'x3A.wnrm', 'x3E.log.z(1).window(<20>*!-).wnrm.pos', 'x5.log.z(1).window(<5>*!-).wnrm.neg'))\n",
      "(0.6551598286599355, 0.6993497768715343, ('xg.log.zc(-93).sgnint(03/44).wnrm', 'xg.log.zc(-93).sgnint(35/44).wnrm.neg', 'xg.log.zc(-93).sgnint(25/34).wnrm', 'x3E.log.z(1).window(<20>*!-).wnrm.pos'))\n",
      "(0.6551723825356505, 0.6913181765594832, ('xg.log.zc(-93).sgnint(03/44).wnrm', 'x3A.wnrm', 'x3.log.zc(-93).sgnint(0/4).window(<20>*!-).wnrm.neg', 'xg.log.zc(-93).sgnint(25/34).wnrm'))\n",
      "(0.655176439580851, 0.6967841137307523, ('xg.log.zc(-93).sgnint(03/44).wnrm', 'x3A.wnrm', 'xg.log.zc(-93).sgnint(25/33).wnrm.neg', 'xg.log.zc(-93).sgnint(3/4).window(<20>*!-).wnrm'))\n",
      "(0.655176669224919, 0.6926625526328022, ('xg.log.zc(-93).sgnint(03/44).wnrm', 'xg.log.zc(-93).sgnint(12/33).wnrm', 'x3.log.zc(-93).sgnint(01/34).wnrm', 'x3D.wnrm.neg'))\n",
      "(0.6551797311458251, 0.6896241662503909, ('xg.log.zc(-93).sgnint(03/44).wnrm', 'x3A.wnrm', 'xg.log.zc(-93).sgnint(25/33).wnrm.neg', 'x3.log.zc(-93).sgnint(02/34).wnrm.neg'))\n",
      "(0.655180420078029, 0.6925599073279883, ('xg.log.zc(-93).sgnint(03/44).wnrm', 'xg.log.zc(-93).sgnint(12/33).wnrm', 'x3.log.zc(-93).sgnint(01/34).wnrm', 'x3a.wnrm.neg'))\n",
      "(0.6551884576204074, 0.6980391606469089, ('xg.log.zc(-93).sgnint(03/44).wnrm', 'xg.log.zc(-93).sgnint(35/44).wnrm.neg', 'x3E.log.z(1).window(<20>*!-).wnrm', 'xg.log.zc(-93).sgnint(02/55).wnrm.neg'))\n",
      "(0.655212110959407, 0.6972578612914317, ('xg.log.zc(-93).sgnint(03/44).wnrm', 'xg.log.zc(-93).sgnint(35/44).wnrm.neg', 'x3.log.zc(-93).sgnint(0/4).window(<20>*!-).wnrm', 'xg.log.zc(-93).sgnint(25/34).wnrm.neg'))\n",
      "(0.655215861812517, 0.6975541455766782, ('xg.log.zc(-93).sgnint(03/44).wnrm', 'x3A.wnrm', 'x3E.log.z(1).window(<20>*!-).wnrm.pos', 'xg.log.zc(-93).sgnint(25/34).wnrm.neg'))\n",
      "(0.6552315541571606, 0.6969748077939159, ('xg.log.zc(-93).sgnint(03/44).wnrm', 'x3A.wnrm', 'x3E.log.z(1).window(<20>*!-).wnrm.pos', 'xg.log.zc(-93).sgnint(4/5).window(<20>*!-).wnrm.pos'))\n",
      "(0.6552448735131021, 0.6983349754525907, ('xg.log.zc(-93).sgnint(03/44).wnrm', 'x3A.wnrm', 'x3E.log.z(1).window(<20>*!-).wnrm.pos', 'xg.log.zc(-93).sgnint(4/5).window(<5>*!-).wnrm.pos'))\n",
      "(0.6552503084227105, 0.6979649828756962, ('xg.log.zc(-93).sgnint(03/44).wnrm', 'xg.log.zc(-93).sgnint(35/44).wnrm.neg', 'x3E.log.z(1).window(<20>*!-).wnrm', 'xg.log.zc(-93).sgnint(0/5).window(!*<20>-).wnrm'))\n",
      "(0.6553048106148388, 0.6926270855856919, ('xg.log.zc(-93).sgnint(03/44).wnrm', 'xg.log.zc(-93).sgnint(12/33).wnrm', 'x3.log.zc(-93).sgnint(01/34).wnrm', 'x3g.wnrm.neg'))\n",
      "(0.6553352767278544, 0.6976914896893148, ('xg.log.zc(-93).sgnint(03/44).wnrm', 'xg.log.zc(-93).sgnint(12/33).wnrm', 'x3.log.zc(-93).sgnint(01/34).wnrm', 'xg.log.zc(-93).sgnint(2/3).window(<20>*!-).wnrm.neg'))\n",
      "(0.6553592362589445, 0.6930845294014901, ('xg.log.zc(-93).sgnint(03/44).wnrm', 'x3A.wnrm', 'xg.log.zc(-93).sgnint(25/33).wnrm.neg', 'x3.log.zc(-93).sgnint(1/4).window(!*<5>-).wnrm.neg'))\n",
      "(0.6553642118804169, 0.6929051882077988, ('xg.log.zc(-93).sgnint(03/44).wnrm', 'xg.log.zc(-93).sgnint(35/44).wnrm.neg', 'x3.log.zc(-93).sgnint(0/4).window(<20>*!-).wnrm', 'xg.log.zc(-93).sgnint(25/33).wnrm'))\n",
      "(0.6553716370386142, 0.6892308704151062, ('xg.log.zc(-93).sgnint(03/44).wnrm', 'x3A.wnrm', 'xg.log.zc(-93).sgnint(25/33).wnrm.neg', 'x3.log.zc(-93).sgnint(2/3).window(<20>*!-).wnrm.neg'))\n",
      "(0.655372555614886, 0.6952892907969475, ('xg.log.zc(-93).sgnint(03/44).wnrm', 'xg.log.zc(-93).sgnint(35/44).wnrm.neg', 'x3E.log.z(1).window(<20>*!-).wnrm', 'Day'))\n",
      "(0.6553799807730833, 0.6979590503611977, ('xg.log.zc(-93).sgnint(03/44).wnrm', 'x3A.wnrm', 'x3E.log.z(1).window(<20>*!-).wnrm.pos', 'xg.log.zc(-93).sgnint(3/5).window(!*<20>-).wnrm'))\n",
      "(0.6553834254341027, 0.6995505860853178, ('xg.log.zc(-93).sgnint(03/44).wnrm', 'xg.log.zc(-93).sgnint(35/44).wnrm.neg', 'x3E.log.z(1).window(<20>*!-).wnrm', 'xg.log.zc(-93).sgnint(12/33).wnrm'))\n",
      "(0.6554008783832673, 0.7006808367972017, ('xg.log.zc(-93).sgnint(03/44).wnrm', 'xg.log.zc(-93).sgnint(35/44).wnrm.neg', 'x3E.log.z(1).window(<20>*!-).wnrm', 'xg.log.zc(-93).sgnint(25/34).wnrm.neg'))\n",
      "(0.6554179485923188, 0.6957329489855296, ('xg.log.zc(-93).sgnint(03/44).wnrm', 'x3A.wnrm', 'x3E.log.z(1).window(<20>*!-).wnrm.pos', 'xg.log.zc(-93).sgnint(04/12).wnrm'))\n",
      "(0.6554737521008323, 0.6936155961490157, ('xg.log.zc(-93).sgnint(03/44).wnrm', 'xg.log.zc(-93).sgnint(12/33).wnrm', 'x3.log.zc(-93).sgnint(02/34).wnrm', 'xg.log.zc(-93).sgnint(35/44).wnrm.neg'))\n",
      "(0.6555106482477506, 0.6977146222278633, ('xg.log.zc(-93).sgnint(03/44).wnrm', 'xg.log.zc(-93).sgnint(35/44).wnrm.neg', 'x3E.log.z(1).window(<20>*!-).wnrm', 'xg.log.zc(-93).sgnint(14/35).wnrm'))\n",
      "(0.6555287135810965, 0.6905421695190983, ('xg.log.zc(-93).sgnint(03/44).wnrm', 'x3A.wnrm', 'xg.log.zc(-93).sgnint(25/33).wnrm.neg', 'x3.log.zc(-93).sgnint(1/4).window(!*<20>-).wnrm.neg'))\n",
      "(0.655554816456821, 0.6981205940113933, ('xg.log.zc(-93).sgnint(03/44).wnrm', 'x3A.wnrm', 'x3E.log.z(1).window(<20>*!-).wnrm.pos', 'x5.log.z(1).window(<5>*!-).wnrm'))\n",
      "(0.6555613995867691, 0.6982209345983443, ('xg.log.zc(-93).sgnint(03/44).wnrm', 'xg.log.zc(-93).sgnint(35/44).wnrm.neg', 'x3E.log.z(1).window(<20>*!-).wnrm', 'x3A.wnrm'))\n",
      "(0.6555643849596525, 0.690424500868216, ('xg.log.zc(-93).sgnint(03/44).wnrm', 'x3A.wnrm', 'x3.log.zc(-93).sgnint(0/4).window(<20>*!-).wnrm.neg', 'xg.log.zc(-93).sgnint(25/33).wnrm'))\n",
      "(0.655566451756264, 0.6921895733114104, ('xg.log.zc(-93).sgnint(03/44).wnrm', 'x3A.wnrm', 'x3.log.zc(-93).sgnint(0/4).window(<20>*!-).wnrm.neg', 'xg.log.zc(-93).sgnint(3/4).window(<20>*!-).wnrm'))\n",
      "(0.6555896458071278, 0.6965324300041463, ('xg.log.zc(-93).sgnint(03/44).wnrm', 'xg.log.zc(-93).sgnint(35/44).wnrm.neg', 'x3E.log.z(1).window(<20>*!-).wnrm', 'xg.log.zc(-93).sgnint(13/45).wnrm.neg'))\n",
      "(0.6555949276206907, 0.6912112632586273, ('xg.log.zc(-93).sgnint(03/44).wnrm', 'x3A.wnrm', 'xg.log.zc(-93).sgnint(25/33).wnrm.neg', 'x3.log.zc(-93).sgnint(0/4).window(<5>*!-).wnrm.neg'))\n",
      "(0.655609165552904, 0.6969032761802494, ('xg.log.zc(-93).sgnint(03/44).wnrm', 'x3A.wnrm', 'x3E.log.z(1).window(<20>*!-).wnrm.pos', 'xg.log.zc(-93).sgnint(12/33).wnrm'))\n",
      "(0.6556332016320168, 0.7026462062946544, ('xg.log.zc(-93).sgnint(03/44).wnrm', 'x3A.wnrm', 'x3E.log.z(1).window(<20>*!-).wnrm.pos', 'x3A.log.z(1).window(<20>*!-).wnrm.neg'))\n",
      "(0.6556429997789163, 0.700627913646279, ('xg.log.zc(-93).sgnint(03/44).wnrm', 'xg.log.zc(-93).sgnint(35/44).wnrm.neg', 'x3E.log.z(1).window(<20>*!-).wnrm', 'xg.log.zc(-93).sgnint(14/33).wnrm'))\n",
      "(0.6556452962195959, 0.6951922365669487, ('xg.log.zc(-93).sgnint(03/44).wnrm', 'xg.log.zc(-93).sgnint(35/44).wnrm.neg', 'x3E.log.z(1).window(<20>*!-).wnrm', 'xg.log.zc(-93).sgnint(01/45).wnrm.neg'))\n",
      "(0.6556462147958677, 0.6908220220195825, ('xg.log.zc(-93).sgnint(03/44).wnrm', 'x3A.wnrm', 'x3.log.zc(-93).sgnint(0/4).window(<20>*!-).wnrm.neg', 'xg.log.zc(-93).sgnint(03/12).wnrm'))\n",
      "(0.6556840295190579, 0.6914553926322385, ('xg.log.zc(-93).sgnint(03/44).wnrm', 'xg.log.zc(-93).sgnint(12/33).wnrm', 'x3.log.zc(-93).sgnint(01/34).wnrm', 'xg.log.zc(-93).sgnint(25/33).wnrm.neg'))\n",
      "(0.6556849480953297, 0.6954501088878159, ('xg.log.zc(-93).sgnint(03/44).wnrm', 'x3A.wnrm', 'xg.log.zc(-93).sgnint(25/33).wnrm.neg', 'xg.log.zc(-93).sgnint(03/12).wnrm'))\n",
      "(0.6556850246433523, 0.6936804270088961, ('xg.log.zc(-93).sgnint(03/44).wnrm', 'xg.log.zc(-93).sgnint(12/33).wnrm', 'x3.log.zc(-93).sgnint(01/34).wnrm'))\n",
      "(0.6556866321518281, 0.6926709179050448, ('xg.log.zc(-93).sgnint(03/44).wnrm', 'xg.log.zc(-93).sgnint(35/44).wnrm.neg', 'xg.log.zc(-93).sgnint(25/34).wnrm', 'x3.log.zc(-93).sgnint(1/4).window(<20>*!-).wnrm.neg'))\n",
      "(0.655706687733763, 0.6963730203519718, ('xg.log.zc(-93).sgnint(03/44).wnrm', 'xg.log.zc(-93).sgnint(35/44).wnrm.neg', 'x3E.log.z(1).window(<20>*!-).wnrm', 'xg.log.zc(-93).sgnint(14/35).wnrm.neg'))\n",
      "(0.6557170982648436, 0.6931290446002099, ('xg.log.zc(-93).sgnint(03/44).wnrm', 'x3A.wnrm', 'xg.log.zc(-93).sgnint(25/33).wnrm.neg', 'x3a.log.z(1).window(<20>*!-)'))\n",
      "(0.6557180168411155, 0.6935141458830937, ('xg.log.zc(-93).sgnint(03/44).wnrm', 'xg.log.zc(-93).sgnint(35/44).wnrm.neg', 'x3E.log.z(1).window(<20>*!-).wnrm', 'xg.log.zc(-93).sgnint(04/55).wnrm.neg'))\n",
      "(0.6557184761292514, 0.6909576162538419, ('xg.log.zc(-93).sgnint(03/44).wnrm', 'xg.log.zc(-93).sgnint(35/44).wnrm.neg', 'x3E.log.z(1).window(<20>*!-).wnrm', 'x5.wnrm.pos'))\n",
      "(0.655736158722484, 0.691214378895738, ('xg.log.zc(-93).sgnint(03/44).wnrm', 'x3A.wnrm', 'xg.log.zc(-93).sgnint(25/33).wnrm.neg', 'x3.log.zc(-93).sgnint(01/34).wnrm.neg'))\n",
      "(0.6557431245925454, 0.6921590571397089, ('xg.log.zc(-93).sgnint(03/44).wnrm', 'x3A.wnrm', 'x3.log.zc(-93).sgnint(0/4).window(<20>*!-).wnrm.neg', 'xg.log.zc(-93).sgnint(35/44).wnrm.neg'))\n",
      "(0.6557453444852023, 0.6916645244383043, ('xg.log.zc(-93).sgnint(03/44).wnrm', 'xg.log.zc(-93).sgnint(12/33).wnrm', 'x3.log.zc(-93).sgnint(02/34).wnrm', 'x3E.wnrm.neg'))\n",
      "(0.6557670841236355, 0.7007267177546549, ('xg.log.zc(-93).sgnint(03/44).wnrm', 'x3A.wnrm', 'x3E.log.z(1).window(<20>*!-).wnrm.pos', 'x5.wnrm.neg'))\n",
      "(0.6557737438016062, 0.6929717689460564, ('xg.log.zc(-93).sgnint(03/44).wnrm', 'x3A.wnrm', 'x3.log.zc(-93).sgnint(0/4).window(<20>*!-).wnrm.neg', 'xg.log.zc(-93).sgnint(24/33).wnrm.neg'))\n",
      "(0.6557820875360754, 0.6974493662738432, ('xg.log.zc(-93).sgnint(03/44).wnrm', 'xg.log.zc(-93).sgnint(35/44).wnrm.neg', 'x3E.log.z(1).window(<20>*!-).wnrm', 'xg.log.zc(-93).sgnint(25/33).wnrm.neg'))\n",
      "(0.6557902781744992, 0.6960876621365932, ('xg.log.zc(-93).sgnint(03/44).wnrm', 'xg.log.zc(-93).sgnint(35/44).wnrm.neg', 'x3.log.zc(-93).sgnint(0/4).window(<20>*!-).wnrm', 'xg.log.zc(-93).sgnint(24/33).wnrm'))\n"
     ]
    }
   ],
   "source": [
    "see = {tuple(featnames[j] for j in k): s for k, s in ta.scores.items() if k is not None}\n",
    "tc0, ho0 = ta.scores[None]\n",
    "sub = [(tc / tc0, ho / ho0, k) for k, (tc, ho) in see.items()\n",
    "       if k is not None]\n",
    "_ = [print(line) for line in sorted(sub)[:100]]"
   ]
  },
  {
   "cell_type": "code",
   "execution_count": null,
   "metadata": {
    "collapsed": true
   },
   "outputs": [],
   "source": []
  }
 ],
 "metadata": {
  "kernelspec": {
   "display_name": "Python 3",
   "language": "python",
   "name": "python3"
  },
  "language_info": {
   "codemirror_mode": {
    "name": "ipython",
    "version": 3
   },
   "file_extension": ".py",
   "mimetype": "text/x-python",
   "name": "python",
   "nbconvert_exporter": "python",
   "pygments_lexer": "ipython3",
   "version": "3.6.2"
  }
 },
 "nbformat": 4,
 "nbformat_minor": 2
}
