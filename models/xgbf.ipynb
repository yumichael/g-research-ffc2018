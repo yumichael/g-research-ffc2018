{
 "cells": [
  {
   "cell_type": "code",
   "execution_count": 1,
   "metadata": {},
   "outputs": [
    {
     "name": "stderr",
     "output_type": "stream",
     "text": [
      "/home/ec2-user/anaconda3/lib/python3.6/site-packages/pandas/core/common.py:701: RuntimeWarning: divide by zero encountered in log\n",
      "  return func(obj, *args, **kwargs)\n"
     ]
    }
   ],
   "source": [
    "from common import *\n",
    "import gc"
   ]
  },
  {
   "cell_type": "code",
   "execution_count": 2,
   "metadata": {
    "collapsed": true
   },
   "outputs": [],
   "source": [
    "def make_aggs(o, tags, aggs, names=None):\n",
    "    if names is None:\n",
    "        names = tags\n",
    "    ##\n",
    "    def _helper(guy, a, w=None, name=None):\n",
    "        args = (w,) if w is not None else ()\n",
    "        temp = guy.__getattribute__(a)(*args).makeil_like(dh)\n",
    "        return temp.colname_append('.' + a) if isinstance(temp, pd.DataFrame) else temp.rename(name + '.' + a)\n",
    "    ##\n",
    "    tags = tags.split() if isinstance(tags, str) else tags\n",
    "    aggs = aggs.split() if isinstance(aggs, str) else aggs\n",
    "    names = names.split() if isinstance(names, str) else names\n",
    "    assert len(names) == len(tags)\n",
    "    waggs, aggs = [a for a in aggs if a[0] == 'w'], [a for a in aggs if a[0] != 'w']\n",
    "    tots = []\n",
    "    for tag, x in zip(tags, names):\n",
    "        if aggs:\n",
    "            tots.append(\n",
    "                pd.concat([_helper(o[tag], a, name=x) for a in aggs], axis=1))\n",
    "        if waggs:\n",
    "            tots.append(\n",
    "                pd.concat([_helper(o[tag], a, w=o.W, name=x) for a in waggs], axis=1))\n",
    "    ret = pd.concat(tots, axis=1)\n",
    "    ret.columns = ['$.' + c for c in ret.columns]\n",
    "    return ret"
   ]
  },
  {
   "cell_type": "markdown",
   "metadata": {},
   "source": [
    "# really begin"
   ]
  },
  {
   "cell_type": "code",
   "execution_count": 5,
   "metadata": {
    "collapsed": true
   },
   "outputs": [],
   "source": [
    "f = O()"
   ]
  },
  {
   "cell_type": "markdown",
   "metadata": {},
   "source": [
    "#### misc (easy)"
   ]
  },
  {
   "cell_type": "code",
   "execution_count": 6,
   "metadata": {
    "collapsed": true
   },
   "outputs": [],
   "source": [
    "f.asis = lambda: dh[xofeats].astype(np.float32)"
   ]
  },
  {
   "cell_type": "code",
   "execution_count": 7,
   "metadata": {
    "collapsed": true
   },
   "outputs": [],
   "source": [
    "f.wqtl = lambda: pd.read_hdf(top_dir + 'data/features/il32/wqtl', key='a')"
   ]
  },
  {
   "cell_type": "code",
   "execution_count": 8,
   "metadata": {
    "collapsed": true
   },
   "outputs": [],
   "source": [
    "f.basic = lambda: pd.read_hdf(top_dir + 'data/features/il32/leggo/basic', key='a')"
   ]
  },
  {
   "cell_type": "code",
   "execution_count": 9,
   "metadata": {
    "collapsed": true
   },
   "outputs": [],
   "source": [
    "f.day = lambda: pd.read_hdf(top_dir + 'data/features/il32/leggo/day', key='a')"
   ]
  },
  {
   "cell_type": "markdown",
   "metadata": {},
   "source": [
    "###### x features"
   ]
  },
  {
   "cell_type": "code",
   "execution_count": 10,
   "metadata": {
    "collapsed": true
   },
   "outputs": [],
   "source": [
    "f.frac = lambda: pd.read_hdf(top_dir + 'data/features/il32/frac', key='a')"
   ]
  },
  {
   "cell_type": "markdown",
   "metadata": {},
   "source": [
    "log interaction"
   ]
  },
  {
   "cell_type": "markdown",
   "metadata": {},
   "source": [
    "*just notes {*"
   ]
  },
  {
   "cell_type": "code",
   "execution_count": 11,
   "metadata": {},
   "outputs": [
    {
     "data": {
      "text/plain": [
       "('x3easy', (141, 6))"
      ]
     },
     "execution_count": 11,
     "metadata": {},
     "output_type": "execute_result"
    }
   ],
   "source": [
    "'x3easy', combos.union(combos.mintco(6, 2, 1), combos.mintco0(6, 4, 1), combos.mintco0(6, 3, 2)).shape # x3 [x3g] ==>"
   ]
  },
  {
   "cell_type": "code",
   "execution_count": 12,
   "metadata": {},
   "outputs": [
    {
     "data": {
      "text/plain": [
       "('x3hard', (442, 8))"
      ]
     },
     "execution_count": 12,
     "metadata": {},
     "output_type": "execute_result"
    }
   ],
   "source": [
    "'x3hard', combos.union(combos.mintco(8, 2, 1), combos.mintco0(8, 4, 1), combos.mintco0(8, 3, 2)).shape # x3 [x3a x3g x3h]"
   ]
  },
  {
   "cell_type": "code",
   "execution_count": 13,
   "metadata": {},
   "outputs": [
    {
     "data": {
      "text/plain": [
       "('xgeasy', (224, 7))"
      ]
     },
     "execution_count": 13,
     "metadata": {},
     "output_type": "execute_result"
    }
   ],
   "source": [
    "'xgeasy', combos.union(combos.mintco(7, 2, 1), combos.mintco0(7, 6, 1)).shape # xg [x6] ==>"
   ]
  },
  {
   "cell_type": "code",
   "execution_count": 14,
   "metadata": {},
   "outputs": [
    {
     "data": {
      "text/plain": [
       "('xghard', (644, 7))"
      ]
     },
     "execution_count": 14,
     "metadata": {},
     "output_type": "execute_result"
    }
   ],
   "source": [
    "'xghard', combos.union(combos.mintco(7, 4, 1), combos.mintco0(7, 6, 1), combos.mintco0(7, 3, 2)).shape # xg [x6]"
   ]
  },
  {
   "cell_type": "markdown",
   "metadata": {},
   "source": [
    "*} just notes end*"
   ]
  },
  {
   "cell_type": "code",
   "execution_count": 15,
   "metadata": {
    "collapsed": true
   },
   "outputs": [],
   "source": [
    "f.x3easy = lambda: pd.read_hdf(big_dir + 'data/features/xgbf/il32/x3__easy', key='a')\n",
    "f.x3easywqtl = lambda: pd.read_hdf(big_dir + 'data/features/xgbf/il32/x3__easy.wqtl', key='a')\n",
    "f.x3easywnrm = lambda: pd.read_hdf(big_dir + 'data/features/xgbf/il32/x3__easy.wnrm', key='a')\n",
    "f.x3hard = lambda: pd.read_hdf(big_dir + 'data/features/xgbf/il32/x3__hard', key='a')\n",
    "f.x3hardwqtl = lambda: pd.read_hdf(big_dir + 'data/features/xgbf/il32/x3__hard.wqtl', key='a')\n",
    "f.xgeasy = lambda: pd.read_hdf(big_dir + 'data/features/xgbf/il32/xg__easy', key='a')\n",
    "f.xgeasywqtl = lambda: pd.read_hdf(big_dir + 'data/features/xgbf/il32/xg__easy.wqtl', key='a')\n",
    "f.xgeasywnrm = lambda: pd.read_hdf(big_dir + 'data/features/xgbf/il32/xg__easy.wnrm', key='a')\n",
    "f.xghard = lambda: pd.read_hdf(big_dir + 'data/features/xgbf/il32/xg__hard', key='a')\n",
    "f.xghardwqtl = lambda: pd.read_hdf(big_dir + 'data/features/xgbf/il32/xg__hard.wqtl', key='a')"
   ]
  },
  {
   "cell_type": "markdown",
   "metadata": {},
   "source": [
    "time window interactions"
   ]
  },
  {
   "cell_type": "code",
   "execution_count": 16,
   "metadata": {
    "collapsed": true
   },
   "outputs": [],
   "source": [
    "f.xowindiff = lambda: pd.read_hdf('/big/data/features/window/il32/xo.log.z(1).windiff', key='a')\n",
    "f.xowindiffwqtl = lambda: pd.read_hdf('/big/data/features/window/il32/xo.log.z(1).windiff.wqtl', key='a')\n",
    "f.x3windiff = lambda: pd.read_hdf('/big/data/features/window/il32/x3.log.zc(-93).mintco0[2,1].windiff', key='a')\n",
    "f.x3windiffwqtl = lambda: pd.read_hdf('/big/data/features/window/il32/x3.log.zc(-93).mintco0[2,1].windiff.wqtl', key='a')\n",
    "f.xgwindiff = lambda: pd.read_hdf('/big/data/features/window/il32/xg.log.zc(-93).mintco0[2,1].windiff', key='a')\n",
    "f.xgwindiffwqtl = lambda: pd.read_hdf('/big/data/features/window/il32/xg.log.zc(-93).mintco0[2,1].windiff.wqtl', key='a')\n",
    "#\n",
    "f.xonrmdiff = lambda: pd.read_hdf('/big/data/features/window/il32/xo.log.z(1).nrmdiff', key='a')\n",
    "f.xonrmdiffwqtl = lambda: pd.read_hdf('/big/data/features/window/il32/xo.log.z(1).nrmdiff.wqtl', key='a')\n",
    "f.x3nrmdiff = lambda: pd.read_hdf('/big/data/features/window/il32/x3.log.zc(-93).mintco0[2,1].nrmdiff', key='a')\n",
    "f.x3nrmdiffwqtl = lambda: pd.read_hdf('/big/data/features/window/il32/x3.log.zc(-93).mintco0[2,1].nrmdiff.wqtl', key='a')\n",
    "f.xgnrmdiff = lambda: pd.read_hdf('/big/data/features/window/il32/xg.log.zc(-93).mintco0[2,1].nrmdiff', key='a')\n",
    "f.xgnrmdiffwqtl = lambda: pd.read_hdf('/big/data/features/window/il32/xg.log.zc(-93).mintco0[2,1].nrmdiff.wqtl', key='a')\n",
    "#\n",
    "f.xonrmplus = lambda: pd.read_hdf('/big/data/features/window/il32/xo.log.z(1).nrmplus', key='a')\n",
    "f.xonrmpluswqtl = lambda: pd.read_hdf('/big/data/features/window/il32/xo.log.z(1).nrmplus.wqtl', key='a')\n",
    "f.x3nrmplus = lambda: pd.read_hdf('/big/data/features/window/il32/x3.log.zc(-93).mintco0[2,1].nrmplus', key='a')\n",
    "f.x3nrmpluswqtl = lambda: pd.read_hdf('/big/data/features/window/il32/x3.log.zc(-93).mintco0[2,1].nrmplus.wqtl', key='a')\n",
    "f.xgnrmplus = lambda: pd.read_hdf('/big/data/features/window/il32/xg.log.zc(-93).mintco0[2,1].nrmplus', key='a')\n",
    "f.xgnrmpluswqtl = lambda: pd.read_hdf('/big/data/features/window/il32/xg.log.zc(-93).mintco0[2,1].nrmplus.wqtl', key='a')"
   ]
  },
  {
   "cell_type": "markdown",
   "metadata": {},
   "source": [
    "###### stock structural features"
   ]
  },
  {
   "cell_type": "markdown",
   "metadata": {},
   "source": [
    "x aggregates"
   ]
  },
  {
   "cell_type": "markdown",
   "metadata": {},
   "source": [
    "pca"
   ]
  },
  {
   "cell_type": "code",
   "execution_count": 17,
   "metadata": {
    "collapsed": true
   },
   "outputs": [],
   "source": [
    "f.pca = lambda: pd.read_hdf(top_dir + 'data/features/il32/pca', key='a')"
   ]
  },
  {
   "cell_type": "markdown",
   "metadata": {},
   "source": [
    "tsne groups"
   ]
  },
  {
   "cell_type": "code",
   "execution_count": 18,
   "metadata": {
    "collapsed": true
   },
   "outputs": [],
   "source": [
    "f.tsne = lambda: pd.read_hdf(top_dir + 'data/features/il32/tsne', key='a')"
   ]
  },
  {
   "cell_type": "code",
   "execution_count": 19,
   "metadata": {
    "collapsed": true
   },
   "outputs": [],
   "source": [
    "f.featenc = lambda: pd.read_hdf(top_dir + 'data/features/il32/leggo/featenc', key='a')"
   ]
  },
  {
   "cell_type": "markdown",
   "metadata": {},
   "source": [
    "###### y features (use tr/cv subset)"
   ]
  },
  {
   "cell_type": "markdown",
   "metadata": {},
   "source": [
    "y aggregates"
   ]
  },
  {
   "cell_type": "code",
   "execution_count": 20,
   "metadata": {
    "collapsed": true
   },
   "outputs": [],
   "source": [
    "def ymean(s):\n",
    "    o = O()\n",
    "    def_W(o, dh[s.tc])\n",
    "    def_Y(o, dh[s.tc])\n",
    "    return o.Y_wmean.makeil_like(dh)\n",
    "f.ymean = ymean"
   ]
  },
  {
   "cell_type": "code",
   "execution_count": 21,
   "metadata": {
    "collapsed": true
   },
   "outputs": [],
   "source": [
    "def targenc(s):\n",
    "    o = O()\n",
    "    def_W(o, dh[s.tc], include='agg')\n",
    "    def_Y(o, dh[s.tc], include='std scl')\n",
    "    def_misc(o, dh[s.tc])\n",
    "    wagg = make_aggs(o, 'W Wlog importance zimportance',\n",
    "                     names='w w.log importance zimportance', aggs='sum mean median min max var mad skew kurtosis')\n",
    "    waagg = make_aggs(o, 'Wloga1', names='w.log.a(1)', aggs='sum mean median var mad skew kurtosis')\n",
    "    yagg = make_aggs(o, 'Y Ya', names='y y.a', aggs='wmean wmedian wvar var min max mad skew kurtosis')\n",
    "    extagg = make_aggs(o, 'Wlogstd Wlogmscl Wloga1std Wloga1mscl Yscl Ystd',\n",
    "                       names = 'w.log.std w.log.mscl w.log.a(1).std w.log.a(1).mscl y.scl y.std', aggs='min max mean median')\n",
    "    return pd.concat([wagg, waagg, yagg, extagg], axis=1).astype(np.float32)\n",
    "f.targenc = targenc"
   ]
  },
  {
   "cell_type": "markdown",
   "metadata": {},
   "source": [
    "y time windows"
   ]
  },
  {
   "cell_type": "markdown",
   "metadata": {},
   "source": [
    "# Names"
   ]
  },
  {
   "cell_type": "code",
   "execution_count": 64,
   "metadata": {
    "collapsed": true
   },
   "outputs": [],
   "source": [
    "class packname(O()):\n",
    "    simple = 'asis wqtl basic day pca tsne ymean'.split()\n",
    "    goeasy = ('asis wqtl basic day pca tsne featenc x3easy x3easywqtl xgeasy xgeasywqtl xowindiff x3windiff xgwindiff ' +\n",
    "              'xonrmdiff x3nrmdiff xgnrmdiff xonrmplus x3nrmplus xgnrmplus targenc frac').split()\n",
    "    gohard = ('asis wqtl basic day pca tsne featenc x3hard x3hardwqtl xghard xghardwqtl xowindiff x3windiff xgwindiff ' +\n",
    "              'xonrmdiff x3nrmdiff xgnrmdiff xonrmplus x3nrmplus xgnrmplus targenc frac').split()\n",
    "    stcktm = ('asis wqtl basic day pca tsne featenc xowindiff xonrmdiff xonrmplus targenc frac').split()\n",
    "    ctsint = ('asis wqtl basic day pca tsne x3easy x3easywqtl xgeasy xgeasywqtl xowindiff x3windiff xgwindiff ' +\n",
    "              'xonrmdiff x3nrmdiff xgnrmdiff xonrmplus x3nrmplus xgnrmplus').split()\n",
    "assert all(len(packname[x]) == len(set(packname[x])) for x in packname)"
   ]
  },
  {
   "cell_type": "code",
   "execution_count": 52,
   "metadata": {
    "collapsed": true
   },
   "outputs": [],
   "source": [
    "class _Pack():\n",
    "    @classmethod\n",
    "    def __getattr__(cls, attr):\n",
    "        def generate_pack(s=None):\n",
    "            print('pack.' + attr + '{', end=' ', flush=True)\n",
    "            fnames = packname[attr]\n",
    "            tots = []\n",
    "            if __name__ == '__main__':\n",
    "                globals()['tots'] = tots\n",
    "            for fname in fnames:\n",
    "                print(fname, end=' ', flush=True)\n",
    "                try:\n",
    "                    feat = f[fname]()\n",
    "                except TypeError:\n",
    "                    assert s is not None, 'Feature group requires cv split information'\n",
    "                    feat = f[fname](s)\n",
    "                tots.append(feat)\n",
    "            print('}', flush=True)\n",
    "            return pd.concat(tots, axis=1)\n",
    "        return generate_pack\n",
    "pack = _Pack()"
   ]
  },
  {
   "cell_type": "markdown",
   "metadata": {},
   "source": [
    "# Testing"
   ]
  },
  {
   "cell_type": "code",
   "execution_count": 41,
   "metadata": {
    "collapsed": true
   },
   "outputs": [
    {
     "ename": "Stop",
     "evalue": "",
     "output_type": "error",
     "traceback": [
      "\u001b[0;31m---------------------------------------------------------------------------\u001b[0m",
      "\u001b[0;31mStop\u001b[0m                                      Traceback (most recent call last)",
      "\u001b[0;32m<ipython-input-41-dace70b707a9>\u001b[0m in \u001b[0;36m<module>\u001b[0;34m()\u001b[0m\n\u001b[1;32m      1\u001b[0m \u001b[0;32mif\u001b[0m \u001b[0m__name__\u001b[0m \u001b[0;34m==\u001b[0m \u001b[0;34m'__main__'\u001b[0m\u001b[0;34m:\u001b[0m\u001b[0;34m\u001b[0m\u001b[0m\n\u001b[0;32m----> 2\u001b[0;31m     \u001b[0;32mraise\u001b[0m \u001b[0mStop\u001b[0m\u001b[0;34m\u001b[0m\u001b[0m\n\u001b[0m",
      "\u001b[0;31mStop\u001b[0m: "
     ]
    }
   ],
   "source": [
    "if __name__ == '__main__':\n",
    "    raise Stop"
   ]
  },
  {
   "cell_type": "code",
   "execution_count": 54,
   "metadata": {
    "collapsed": true
   },
   "outputs": [],
   "source": [
    "if __name__ == '__main__':\n",
    "    from models.split import splitf\n",
    "    #\n",
    "    s = splitf(dh, 2)\n",
    "    X = pack.goeasy(s)"
   ]
  },
  {
   "cell_type": "code",
   "execution_count": null,
   "metadata": {
    "collapsed": true
   },
   "outputs": [],
   "source": []
  },
  {
   "cell_type": "code",
   "execution_count": null,
   "metadata": {
    "collapsed": true
   },
   "outputs": [],
   "source": []
  },
  {
   "cell_type": "code",
   "execution_count": null,
   "metadata": {
    "collapsed": true
   },
   "outputs": [],
   "source": []
  },
  {
   "cell_type": "code",
   "execution_count": null,
   "metadata": {
    "collapsed": true
   },
   "outputs": [],
   "source": []
  },
  {
   "cell_type": "code",
   "execution_count": null,
   "metadata": {
    "collapsed": true
   },
   "outputs": [],
   "source": []
  },
  {
   "cell_type": "code",
   "execution_count": null,
   "metadata": {
    "collapsed": true
   },
   "outputs": [],
   "source": []
  },
  {
   "cell_type": "code",
   "execution_count": null,
   "metadata": {
    "collapsed": true
   },
   "outputs": [],
   "source": []
  },
  {
   "cell_type": "code",
   "execution_count": null,
   "metadata": {
    "collapsed": true
   },
   "outputs": [],
   "source": []
  },
  {
   "cell_type": "markdown",
   "metadata": {},
   "source": [
    "## Old scripts"
   ]
  },
  {
   "cell_type": "code",
   "execution_count": null,
   "metadata": {
    "collapsed": true
   },
   "outputs": [],
   "source": [
    "if __name__ == '__main__':\n",
    "    raise Stop('skip this!')\n",
    "    xmap = dict(\n",
    "        xowindiff = '/big/data/features/window/sw32/xo.log.z(1).windiff',\n",
    "        xowindiffwqtl = '/big/data/features/window/sw32/xo.log.z(1).windiff.wqtl',\n",
    "        x3windiff = '/big/data/features/window/sw32/x3.log.zc(-93).mintco0[2,1].windiff',\n",
    "        x3windiffwqtl = '/big/data/features/window/sw32/x3.log.zc(-93).mintco0[2,1].windiff.wqtl',\n",
    "        xgwindiff = '/big/data/features/window/sw32/xg.log.zc(-93).mintco0[2,1].windiff',\n",
    "        xgwindiffwqtl = '/big/data/features/window/sw32/xg.log.zc(-93).mintco0[2,1].windiff.wqtl',\n",
    "    )\n",
    "    for x, path in list(xmap.items()):\n",
    "        print(x)\n",
    "        wide = pd.read_hdf(path)\n",
    "        wide.makeil_like(dh).astype(np.float32, copy=False).to_hdf(path.replace('sw32', 'il32'), mode='w', key='a')\n",
    "        del xmap[x]\n",
    "        gc.collect()"
   ]
  },
  {
   "cell_type": "code",
   "execution_count": null,
   "metadata": {
    "collapsed": true
   },
   "outputs": [],
   "source": [
    "if __name__ == '__main__':\n",
    "    o = O()\n",
    "    def_W(o)\n",
    "    def_X(o, include='wqtl', feats=['Index', 'Day'] + xofeats)\n",
    "    o.Xwqtl.makeil_like(dh).astype(np.float32).to_hdf(top_dir + 'data/features/il32/wqtl', mode='w', key='a')"
   ]
  }
 ],
 "metadata": {
  "kernelspec": {
   "display_name": "Python 3",
   "language": "python",
   "name": "python3"
  },
  "language_info": {
   "codemirror_mode": {
    "name": "ipython",
    "version": 3
   },
   "file_extension": ".py",
   "mimetype": "text/x-python",
   "name": "python",
   "nbconvert_exporter": "python",
   "pygments_lexer": "ipython3",
   "version": "3.6.2"
  }
 },
 "nbformat": 4,
 "nbformat_minor": 2
}
