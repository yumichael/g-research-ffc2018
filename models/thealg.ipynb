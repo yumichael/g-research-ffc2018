{
 "cells": [
  {
   "cell_type": "code",
   "execution_count": 1,
   "metadata": {},
   "outputs": [
    {
     "name": "stderr",
     "output_type": "stream",
     "text": [
      "/home/ec2-user/anaconda3/lib/python3.6/site-packages/pandas/core/common.py:701: RuntimeWarning: divide by zero encountered in log\n",
      "  return func(obj, *args, **kwargs)\n"
     ]
    }
   ],
   "source": [
    "from common import *\n",
    "from numba import jit"
   ]
  },
  {
   "cell_type": "markdown",
   "metadata": {},
   "source": [
    "### high level redesign"
   ]
  },
  {
   "cell_type": "code",
   "execution_count": 2,
   "metadata": {
    "collapsed": true
   },
   "outputs": [],
   "source": [
    "class TheAlg():\n",
    "    def __init__(a, X, Y, W, s):\n",
    "        a.s = s\n",
    "        a._alg_evaluate = {2: _alg_evaluate_2, 3: _alg_evaluate_3}[s.type]\n",
    "        a.k = X.columns.get_level_values(0).nunique() # features\n",
    "        a.m = X.columns.get_level_values(1).nunique() # stocks/groups\n",
    "        a.columns = X.columns\n",
    "        a._def_matrices(X, Y, W, s) # Y not demeaned yet to get the no mean baseline score\n",
    "        a._setup()\n",
    "        \n",
    "    def _setup(a):\n",
    "        a.scores = {}\n",
    "        a.scores[None] = a._calc_baseline()\n",
    "        a.meandata = (a.Y.tc * a.W.tc).sum(axis=0) / _replace_0_1(a.W.tc.sum(axis=0))\n",
    "        for sp in a.Y: # loop to demean Y\n",
    "            a.Y[sp] -= a.meandata\n",
    "        a.scores[()] = a._calc_baseline()\n",
    "        a.models = {None: 0, (): a.meandata}\n",
    "        \n",
    "    def _def_matrices(a, X, Y, W, s):\n",
    "        a.X, a.Y, a.W = O(), O(), O()\n",
    "        for aZ, Z in zip([a.X, a.Y, a.W], [X, Y, W]):\n",
    "            aZ.tc = Z[s.tc].values\n",
    "            aZ.d0 = np.stack([Z[tr].values for tr, cv in s.trcv])\n",
    "            aZ.d1 = np.stack([Z[cv].values for tr, cv in s.trcv])\n",
    "            aZ.ho = Z[s.ho].values\n",
    "            aZ.fn = Z[s.fn].values\n",
    "        \n",
    "    def _calc_baseline(a):\n",
    "        return (sum(_lr_rss(y, np.zeros_like(y), w) for y, w in zip(a.Y.tc, a.W.tc)) * a.s.repeat,\n",
    "                sum(_lr_rss(y, np.zeros_like(y), w) for y, w in zip(a.Y.ho, a.W.ho)))\n",
    "\n",
    "    def alg1(a, start=(), branch=1, branch_at_depth=None, max_depth=4, print=print, dot=1, numdot=10):\n",
    "        a._alg1 = O(branch=branch, branch_at_depth=branch_at_depth, max_depth=max_depth, print=print, dot=dot, numdot=numdot)\n",
    "        a._alg1_recur(start, depth=0)\n",
    "        \n",
    "    def _alg1_recur(a, feats, depth):\n",
    "        thefeats, o, print = feats, a._alg1, a._alg1.print\n",
    "        print(a.scores[feats][0] / a.scores[None][0], a.scores[feats][1] / a.scores[None][1], len(feats))\n",
    "        print('[' + ', '.join(str(a.columns[a.m * f][0]) for f in feats) + '] ' + str(feats))\n",
    "        print(flush=True)\n",
    "        if depth >= o.max_depth:\n",
    "            return\n",
    "        print('<{}>'.format(a.k - len(feats)), end=' ')\n",
    "        heap = []\n",
    "        for i, f in enumerate(set(range(a.k)) - set(thefeats)):\n",
    "            print('.' if i // o.dot % o.numdot else i, end='') if i % o.dot == 0 else None\n",
    "            newfeats = tuple(sorted(thefeats + (f,)))\n",
    "            if newfeats not in a.scores:\n",
    "                newscore, newmodel = a._alg_evaluate(a.X.d0, a.Y.d0, a.W.d0,\n",
    "                                                     a.X.d1, a.Y.d1, a.W.d1,\n",
    "                                                     a.X.tc, a.Y.tc, a.W.tc,\n",
    "                                                     a.X.ho, a.Y.ho, a.W.ho, a.m, a.k, np.array(newfeats, dtype=np.int64))\n",
    "                a.scores[newfeats] = newscore\n",
    "                a.models[newfeats] = newmodel\n",
    "            heap.append((a.scores[newfeats][0], newfeats))\n",
    "        print(flush=True)\n",
    "        heap.sort()\n",
    "        for score0, feats in heap[:o.branch_at_depth(depth) if o.branch_at_depth else o.branch]:\n",
    "            a._alg1_recur(feats, depth + 1)"
   ]
  },
  {
   "cell_type": "code",
   "execution_count": 3,
   "metadata": {
    "collapsed": true
   },
   "outputs": [],
   "source": [
    "def _replace_0_1(a):\n",
    "    a[a == 0] = 1\n",
    "    return a"
   ]
  },
  {
   "cell_type": "code",
   "execution_count": 4,
   "metadata": {
    "collapsed": true
   },
   "outputs": [],
   "source": [
    "@jit(nopython=True)\n",
    "def _alg_evaluate_3(X0, Y0, W0, X1, Y1, W1, Xt, Yt, Wt, Xh, Yh, Wh, m, k, subk):\n",
    "    tc = np.empty(m, dtype=Yt.dtype) + np.nan\n",
    "    ho = np.empty(m, dtype=Yh.dtype) + np.nan\n",
    "    model = np.empty((m, subk.shape[0]), dtype=Xt.dtype) + np.nan\n",
    "    repeat3 = X0.shape[0]\n",
    "    for g in range(m):\n",
    "        X0g, Y0g, W0g, X1g, Y1g, W1g, xt, yt, wt, xh, yh, wh = (\n",
    "            X0[:, :, g::m][:, :, subk], Y0[:, :, g], W0[:, :, g],\n",
    "            X1[:, :, g::m][:, :, subk], Y1[:, :, g], W1[:, :, g],\n",
    "            Xt[:, g::m][:, subk], Yt[:, g], Wt[:, g],\n",
    "            Xh[:, g::m][:, subk], Yh[:, g], Wh[:, g])\n",
    "        tcg = np.empty(repeat3, dtype=Y0g.dtype) + np.nan\n",
    "        for i in range(repeat3):\n",
    "            x0, y0, w0, x1, y1, w1 = X0g[i], Y0g[i], W0g[i], X1g[i], Y1g[i], W1g[i]\n",
    "            beta = _lr_fit(x0, y0, w0)\n",
    "            y1_ = _lr_predict(x1, beta)\n",
    "            tcg[i] = _lr_rss(y1, y1_, w1)\n",
    "        tcg.sort()\n",
    "        tc[g] = tcg.sum()\n",
    "        beta = _lr_fit(xt, yt, wt)\n",
    "        model[g] = beta\n",
    "        yh_ = _lr_predict(xh, beta)\n",
    "        ho[g] = _lr_rss(yh, yh_, wh)\n",
    "    tc.sort()\n",
    "    ho.sort()\n",
    "    return (tc.sum(), ho.sum()), model"
   ]
  },
  {
   "cell_type": "code",
   "execution_count": 5,
   "metadata": {
    "collapsed": true
   },
   "outputs": [],
   "source": [
    "@jit(nopython=True)\n",
    "def _alg_evaluate_2(X0, Y0, W0, X1, Y1, W1, Xt, Yt, Wt, Xh, Yh, Wh, m, k, subk):\n",
    "    tc = np.empty(m, dtype=Yt.dtype) + np.nan\n",
    "    ho = np.empty(m, dtype=Yh.dtype) + np.nan\n",
    "    model = np.empty((m, subk.shape[0]), dtype=Xt.dtype) + np.nan\n",
    "    repeat = X0.shape[0]\n",
    "    for g in range(m):\n",
    "        X0g, Y0g, W0g, X1g, Y1g, W1g, xt, yt, wt, xh, yh, wh = (\n",
    "            X0[:, :, g::m][:, :, subk], Y0[:, :, g], W0[:, :, g],\n",
    "            X1[:, :, g::m][:, :, subk], Y1[:, :, g], W1[:, :, g],\n",
    "            Xt[:, g::m][:, subk], Yt[:, g], Wt[:, g],\n",
    "            Xh[:, g::m][:, subk], Yh[:, g], Wh[:, g])\n",
    "        tcg = np.empty(repeat * 2, dtype=Y0g.dtype) + np.nan\n",
    "        for i in range(repeat):\n",
    "            x0, y0, w0, x1, y1, w1 = X0g[i], Y0g[i], W0g[i], X1g[i], Y1g[i], W1g[i]\n",
    "            beta0, beta1 = _lr_fit(x0, y0, w0), _lr_fit(x1, y1, w1)\n",
    "            y1_, y0_ = _lr_predict(x1, beta0), _lr_predict(x0, beta1)\n",
    "            tcg[2 * i], tcg[2 * i + 1] = _lr_rss(y1, y1_, w1), _lr_rss(y0, y0_, w0)\n",
    "        tcg.sort()\n",
    "        tc[g] = tcg.sum()\n",
    "        beta = _lr_fit(xt, yt, wt)\n",
    "        model[g] = beta\n",
    "        yh_ = _lr_predict(xh, beta)\n",
    "        ho[g] = _lr_rss(yh, yh_, wh)\n",
    "    tc.sort()\n",
    "    ho.sort()\n",
    "    return (tc.sum(), ho.sum()), model"
   ]
  },
  {
   "cell_type": "code",
   "execution_count": 6,
   "metadata": {
    "collapsed": true
   },
   "outputs": [],
   "source": [
    "@jit(nopython=True)\n",
    "def _lr_add_intercept(x): # NOT USED\n",
    "    return np.concatenate((np.ones((x.shape[0], 1)), x), axis=1)\n",
    "\n",
    "@jit(nopython=True)\n",
    "def _lr_fit(x, y, w):\n",
    "    wsqrt = w ** 0.5\n",
    "    thing = np.linalg.lstsq(np.expand_dims(wsqrt, 1) * x, wsqrt * y)\n",
    "    return thing[0]\n",
    "\n",
    "@jit(nopython=True)\n",
    "def _lr_predict(x, beta):\n",
    "    return x @ beta.astype(x.dtype)\n",
    "\n",
    "@jit(nopython=True)\n",
    "def _lr_rss(y, y_, w):\n",
    "    res = (y_ - y) ** 2 * w\n",
    "    res.sort()\n",
    "    return res.sum()"
   ]
  },
  {
   "cell_type": "code",
   "execution_count": 16,
   "metadata": {},
   "outputs": [
    {
     "name": "stdout",
     "output_type": "stream",
     "text": [
      "1.0 1.0 0\n",
      "[] ()\n",
      "\n",
      "<13> 0\n",
      "1.0288687417628994 0.9984496220555278 1\n",
      "[x4] (8,)\n",
      "\n",
      "<12> 0\n",
      "1.6107278811722803 1.0470519319703233 2\n",
      "[x4, x5] (8, 9)\n",
      "\n",
      "<11> 0\n",
      "4.280990805481705 1.4171353539242328 3\n",
      "[x2, x4, x5] (2, 8, 9)\n",
      "\n",
      "<10> 0\n",
      "4.841844442439121 2.036917539934384 4\n",
      "[x2, x4, x5, x6] (2, 8, 9, 10)\n",
      "\n",
      "<9> 0\n",
      "5.318702137596149 5.774650711803322 5\n",
      "[x0, x2, x4, x5, x6] (0, 2, 8, 9, 10)\n",
      "\n"
     ]
    }
   ],
   "source": [
    "if __name__ == '__main__':\n",
    "    o = O()\n",
    "    def_W(o)\n",
    "    def_Y(o)\n",
    "    def_X(o)\n",
    "    from models.split import split\n",
    "    s = split2(o.X)\n",
    "    ta = TheAlg(o.Xa, o.Ya, o.Wa, s)\n",
    "    ta._setup()\n",
    "    ta.alg1()"
   ]
  },
  {
   "cell_type": "code",
   "execution_count": null,
   "metadata": {
    "collapsed": true
   },
   "outputs": [],
   "source": []
  }
 ],
 "metadata": {
  "kernelspec": {
   "display_name": "Python 3",
   "language": "python",
   "name": "python3"
  },
  "language_info": {
   "codemirror_mode": {
    "name": "ipython",
    "version": 3
   },
   "file_extension": ".py",
   "mimetype": "text/x-python",
   "name": "python",
   "nbconvert_exporter": "python",
   "pygments_lexer": "ipython3",
   "version": "3.6.2"
  }
 },
 "nbformat": 4,
 "nbformat_minor": 2
}
