{
 "cells": [
  {
   "cell_type": "code",
   "execution_count": 2,
   "metadata": {
    "collapsed": true
   },
   "outputs": [],
   "source": [
    "from common import *\n",
    "from matrix import *\n",
    "from helper.weighted import *\n",
    "%matplotlib inline\n",
    "canvas(16, 12)"
   ]
  },
  {
   "cell_type": "code",
   "execution_count": 4,
   "metadata": {},
   "outputs": [],
   "source": [
    "from models.thealg import alg"
   ]
  },
  {
   "cell_type": "code",
   "execution_count": 5,
   "metadata": {
    "collapsed": true
   },
   "outputs": [],
   "source": [
    "with open(top_dir + 'data/chance/days_order.txt', 'r') as file:\n",
    "    days = pd.Series([int(x) for x in file.read().splitlines()], name='Day')\n",
    "n_days = len(days)\n",
    "days_a, days_b, days_c = days[:n_days // 3], days[n_days // 3:(2 * n_days) // 3], days[(2 * n_days) // 3:]\n",
    "#days_a, days_b = set(days[:n_days // 2]), set(days[n_days // 2:])\n",
    "tr, cv, ep = df.Day.isin(days_a), df.Day.isin(days_b), df.Day.isin(days_c)\n",
    "#tr, cv = df.Day.isin(days_a), df.Day.isin(days_b)"
   ]
  },
  {
   "cell_type": "code",
   "execution_count": null,
   "metadata": {
    "collapsed": true
   },
   "outputs": [],
   "source": [
    "raise Stop"
   ]
  },
  {
   "cell_type": "code",
   "execution_count": 7,
   "metadata": {
    "collapsed": true
   },
   "outputs": [],
   "source": [
    "duse = dfh # <=============\n",
    "rawfeats = x_feats # <============\n",
    "def_matrices(globals(), duse, 10000)\n",
    "for xname in rawfeats:\n",
    "    X = duse.pivot('Day', 'Stock', xname)\n",
    "    Xa = X.fillna(0)\n",
    "    Xm = X.fillna(X.mean())\n",
    "    Xpct = X.pct()\n",
    "    Xpcta = Xpct.fillna(0)\n",
    "    Xpctm = Xpct.fillna(0.5)\n",
    "    for ext in ['', 'a', 'm', 'pct', 'pcta', 'pctm']:\n",
    "        globals()[xname.upper() + ext] = locals()['X' + ext]"
   ]
  },
  {
   "cell_type": "code",
   "execution_count": 8,
   "metadata": {
    "collapsed": true
   },
   "outputs": [],
   "source": [
    "def mse(Y_, st):\n",
    "    return (W[st] * (Y_ - Y[st]) ** 2).sum().sum() / W[st].sum().sum()\n",
    "def rmse(Y_, st):\n",
    "    return np.sqrt(mse(Y_, st))\n",
    "def prss(Y_, st):\n",
    "    return mse(Y_, st) / mse(0, st)\n",
    "def lbss(Y_, st):\n",
    "    return prss(Y_, st) * 0.500944\n",
    "def metric(Y_, st):\n",
    "    print('(' + ', '.join('{:.6f}'.format(round(func(Y_, st), 6)) for func in [rmse, prss, lbss]) + ')')"
   ]
  },
  {
   "cell_type": "code",
   "execution_count": 9,
   "metadata": {
    "collapsed": true
   },
   "outputs": [],
   "source": [
    "Xa = pd.concat({x: globals()[x.upper() + 'a'] for x in rawfeats}, axis=1)#.swaplevel(axis=1).sort_index(axis=1)\n",
    "Xpcta = pd.concat({x: globals()[x.upper() + 'pcta'] for x in rawfeats}, axis=1)#.swaplevel(axis=1).sort_index(axis=1)"
   ]
  },
  {
   "cell_type": "code",
   "execution_count": 10,
   "metadata": {
    "collapsed": true
   },
   "outputs": [],
   "source": [
    "Xuse = Xpcta #.loc[:, (ss, 'x4')]"
   ]
  },
  {
   "cell_type": "markdown",
   "metadata": {},
   "source": [
    "#### my alg (old, reference)"
   ]
  },
  {
   "cell_type": "code",
   "execution_count": 10,
   "metadata": {},
   "outputs": [
    {
     "name": "stdout",
     "output_type": "stream",
     "text": [
      "x_.sgnint x_.log.sgnint x3.sgnint x3.log.sgnint "
     ]
    }
   ],
   "source": [
    "save_dir = big_dir # <===============\n",
    "fnames = 'x_.sgnint x_.log.sgnint x3.sgnint x3.log.sgnint'.split() # <==============\n",
    "Xfeats = []\n",
    "for fname in fnames:\n",
    "    print(fname, end=' ')\n",
    "    _Xfeat = pd.read_hdf(save_dir + '/data/features/' + fname + '.hdf5')\n",
    "    Xfeats.append(_Xfeat)\n",
    "Xfeat = pd.concat(Xfeats, axis=1)"
   ]
  },
  {
   "cell_type": "code",
   "execution_count": 11,
   "metadata": {
    "collapsed": true
   },
   "outputs": [],
   "source": [
    "#keep = [i for i, s in enumerate(Xfeat.columns) if len(s) <= len('x_.sgnint(0000/)')] # <================\n",
    "filt = index_nvdf(dh, 246) # <==============\n",
    "Xfeat = Xfeat[filt]\n",
    "#Xfeat = Xfeat.iloc[:, keep]"
   ]
  },
  {
   "cell_type": "code",
   "execution_count": 12,
   "metadata": {
    "collapsed": true
   },
   "outputs": [],
   "source": [
    "Xfeat = make_stock_wide(Xfeat)"
   ]
  },
  {
   "cell_type": "code",
   "execution_count": 13,
   "metadata": {
    "collapsed": true
   },
   "outputs": [],
   "source": [
    "#Xfeat.fillna(0, inplace=True)\n",
    "Xfeat = Xfeat.pct()\n",
    "Xfeat.fillna(0.5, inplace=True)\n",
    "Xfeat *= 2\n",
    "Xfeat -= 1"
   ]
  },
  {
   "cell_type": "code",
   "execution_count": 14,
   "metadata": {
    "collapsed": true
   },
   "outputs": [],
   "source": [
    "Ya = make_stock_wide(dh.y).fillna(0)\n",
    "Wa = make_stock_wide(dh.Weight).fillna(0)"
   ]
  },
  {
   "cell_type": "markdown",
   "metadata": {},
   "source": [
    "### testing! / easy"
   ]
  },
  {
   "cell_type": "code",
   "execution_count": 6,
   "metadata": {},
   "outputs": [],
   "source": [
    "import gc\n",
    "def colname_append(df, suffix):\n",
    "    df.columns += suffix\n",
    "    return df\n",
    "pd.DataFrame.colname_append = colname_append\n",
    "makesw = make_stock_wide"
   ]
  },
  {
   "cell_type": "code",
   "execution_count": 7,
   "metadata": {
    "collapsed": true
   },
   "outputs": [],
   "source": [
    "Ya = make_stock_wide(dh.y).fillna(0)\n",
    "Wa = make_stock_wide(dh.Weight).fillna(0)"
   ]
  },
  {
   "cell_type": "code",
   "execution_count": 10,
   "metadata": {
    "collapsed": true
   },
   "outputs": [],
   "source": [
    "_demean = lambda x: x - x.wmean(Wa)"
   ]
  },
  {
   "cell_type": "markdown",
   "metadata": {},
   "source": [
    "#### features"
   ]
  },
  {
   "cell_type": "code",
   "execution_count": 11,
   "metadata": {},
   "outputs": [],
   "source": [
    "_day = dh[['Day']]\n",
    "Xfd = dh[['Day']].pipe(lambda d: (d - d.min()) / (d.max() - d.min())).pipe(makesw).pipe(_demean)"
   ]
  },
  {
   "cell_type": "code",
   "execution_count": null,
   "metadata": {},
   "outputs": [
    {
     "name": "stdout",
     "output_type": "stream",
     "text": [
      "x_.mmsgnco "
     ]
    }
   ],
   "source": [
    "save_dir = big_dir + '/data/features/'\n",
    "fnames = 'x_.mmsgnco x_.log.mmsgnco x3.mmsgnco x3.log.mmsgnco'.split()\n",
    "raw_, pct_ = [1, 1, 1, 1], [1] * 4\n",
    "_Xfsi = []\n",
    "for fname, r_, p_ in zip(fnames, raw_, pct_):\n",
    "    print(fname, end=' ')\n",
    "    _X = pd.read_hdf(save_dir + '64/' + fname + '.hdf5').pipe(make_stock_wide)\n",
    "    if r_:\n",
    "        _Xfsi.append(_X.astype(np.float32))\n",
    "    _X = _X.wpct(Wa, [-1, 1]).colname_append('.wpct')\n",
    "    if p_:\n",
    "        _Xfsi.append(_X.astype(np.float32))\n",
    "    del _X\n",
    "Xfsi = pd.concat(_Xfsi, axis=1)\n",
    "del _Xfsi\n",
    "gc.collect()"
   ]
  },
  {
   "cell_type": "code",
   "execution_count": 7,
   "metadata": {},
   "outputs": [
    {
     "name": "stderr",
     "output_type": "stream",
     "text": [
      "/home/ec2-user/Notebooks/g-research-ffc2018/helper/weighted.ipynb:13: RuntimeWarning: invalid value encountered in true_divide\n",
      "  },\n"
     ]
    }
   ],
   "source": [
    "#keep = [i for i, s in enumerate(Xfeat.columns) if len(s) <= len('x_.sgnint(0000/)')] # <================\n",
    "#xf1 = dh[x_feats + x3feats]\n",
    "#xf2 = dh[x_feats + x3feats].replace(0, np.exp(-200)).pipe(np.log)\n",
    "xf1 = pd.read_hdf(big_dir + '/data/features/' + 'x_.mintco[2,1]' + '.hdf5')\n",
    "xf2 = pd.read_hdf(big_dir + '/data/features/' + 'x_.log.mintco[2,1]' + '.hdf5')\n",
    "#Xfeat = Xfeat.iloc[:, keep]\n",
    "xf1.columns += '.wpct'\n",
    "xf2.columns += '.wpct'\n",
    "Xf1 = make_stock_wide(xf1).wpct(W.fillna(0)) * 2 - 1\n",
    "Xf2 = make_stock_wide(xf2).wpct(W.fillna(0)) * 2 - 1"
   ]
  },
  {
   "cell_type": "code",
   "execution_count": 12,
   "metadata": {
    "collapsed": true
   },
   "outputs": [],
   "source": [
    "Xa = pd.concat([Xfd, Xf1, Xf2], axis=1).fillna(0)"
   ]
  },
  {
   "cell_type": "code",
   "execution_count": 16,
   "metadata": {},
   "outputs": [
    {
     "name": "stdout",
     "output_type": "stream",
     "text": [
      "0.8149930222812283 0.8543656304886941 0\n",
      "()()\n",
      "\n",
      "[99]0.........10.........20.........30.........40.........50.........60.........70.........80.........90........\n",
      "0.7487223508398001 0.7784317114231387 1\n",
      "(x_.log.sgnint(0/4).wpct)(63,)\n",
      "\n",
      "[98]0.........10.........20.........30.........40.........50.........60.........70.........80.........90.......\n",
      "0.748661501543552 0.7806330917919561 2\n",
      "(x_.log.sgnint(0/4).wpct, x_.log.sgnint(3/4).wpct)(63, 87)\n",
      "\n",
      "[97]0.........10.........20.........30.........40.........50.........60.........70.........80.........90......\n"
     ]
    }
   ],
   "source": [
    "sfilt = ~stock_nvdf(dh, 246) # <==============\n",
    "Xtest = Xa.iloc[:, np.concatenate([sfilt] * Xa.columns.levels[0].shape[0])]\n",
    "Ytest = Ya.T[sfilt].T\n",
    "Wtest = Wa.T[sfilt].T\n",
    "tr, cv, ep = Ytest.index.isin(days_a), Ytest.index.isin(days_b), Ytest.index.isin(days_c)\n",
    "scores_, models_ = alg(Xtest[tr], Ytest[tr], Wtest[tr],\n",
    "                     Xtest[cv], Ytest[cv], Wtest[cv],\n",
    "                     Xtest[ep], Ytest[ep], Wtest[ep], intercept=False)"
   ]
  },
  {
   "cell_type": "code",
   "execution_count": 46,
   "metadata": {
    "collapsed": true
   },
   "outputs": [],
   "source": [
    "np.save(top_dir + 'data/progress/niceee.npy', models[0,])"
   ]
  },
  {
   "cell_type": "markdown",
   "metadata": {},
   "source": [
    "#### small"
   ]
  },
  {
   "cell_type": "code",
   "execution_count": null,
   "metadata": {
    "collapsed": true
   },
   "outputs": [],
   "source": [
    "from sklearn.linear_model import LinearRegression as LR\n",
    "\n",
    "def do_lr(X, Y, W):\n",
    "    lr_list = []\n",
    "    # assert the columns of the input can be indexed by range(0, 3023)\n",
    "    for k in range(N_STOCK):\n",
    "        x, y, w = X[k], Y[k], W[k]\n",
    "        if w.sum() == 0:\n",
    "            lr_list += [None]\n",
    "            continue\n",
    "        lr = LR(fit_intercept=True)\n",
    "        # don't forget x1 and x2 have NaNs for valid y. try setting W=0 for when y and W does not exist and then filling in NaNs\n",
    "        lr = lr.fit(x, y, w)\n",
    "        lr_list += [lr]\n",
    "    return lr_list"
   ]
  },
  {
   "cell_type": "code",
   "execution_count": 66,
   "metadata": {
    "collapsed": true
   },
   "outputs": [],
   "source": [
    "lr_list = do_lr(Xuse[tr], Ya[tr], Wa[tr])"
   ]
  },
  {
   "cell_type": "code",
   "execution_count": 51,
   "metadata": {
    "collapsed": true
   },
   "outputs": [],
   "source": [
    "Yx = np.stack([(lr.predict(Xuse[k]) if lr is not None else np.zeros(Y.shape[0]))\n",
    "               for lr, k in zip(lr_list, range(N_STOCK))], axis=1)\n",
    "Yx = Yx + Y * 0"
   ]
  },
  {
   "cell_type": "code",
   "execution_count": 52,
   "metadata": {
    "collapsed": true
   },
   "outputs": [],
   "source": [
    "st = cv\n",
    "Yxm = Yx.where(Y[tr].count() > 50, Y[tr].mean().fillna(0), axis=1)"
   ]
  },
  {
   "cell_type": "markdown",
   "metadata": {},
   "source": [
    "#### big"
   ]
  },
  {
   "cell_type": "code",
   "execution_count": 20,
   "metadata": {
    "collapsed": true
   },
   "outputs": [],
   "source": [
    "bigX = Xpcta.stack(level=0)\n",
    "bigY = Ya.stack(level=0)\n",
    "bigW = Wa.stack(level=0)"
   ]
  },
  {
   "cell_type": "code",
   "execution_count": 24,
   "metadata": {
    "collapsed": true
   },
   "outputs": [],
   "source": [
    "lr = LR()\n",
    "lr = lr.fit(bigX, bigY, bigW)"
   ]
  },
  {
   "cell_type": "code",
   "execution_count": 28,
   "metadata": {
    "collapsed": true
   },
   "outputs": [],
   "source": [
    "Yx = np.stack([(lr.predict(Xpcta[k]) if lr is not None else np.zeros(Y.shape[0]))\n",
    "               for k in range(N_STOCK)], axis=1)\n",
    "Yxm = Yx + Y * 0"
   ]
  },
  {
   "cell_type": "markdown",
   "metadata": {},
   "source": [
    "### metric test sees"
   ]
  },
  {
   "cell_type": "code",
   "execution_count": 53,
   "metadata": {},
   "outputs": [
    {
     "name": "stdout",
     "output_type": "stream",
     "text": [
      "(2.869601, 0.748053, 0.374732)\n"
     ]
    }
   ],
   "source": [
    "metric(Yxm[tr], tr)"
   ]
  },
  {
   "cell_type": "code",
   "execution_count": 54,
   "metadata": {},
   "outputs": [
    {
     "name": "stdout",
     "output_type": "stream",
     "text": [
      "(2.927475, 0.795920, 0.398711)\n"
     ]
    }
   ],
   "source": [
    "metric(Yxm[cv], cv)"
   ]
  },
  {
   "cell_type": "code",
   "execution_count": 21,
   "metadata": {},
   "outputs": [
    {
     "name": "stdout",
     "output_type": "stream",
     "text": [
      "(2.951820, 0.809212, 0.405370)\n"
     ]
    }
   ],
   "source": [
    "metric(Y[tr].wmean(W[tr]), cv)"
   ]
  },
  {
   "cell_type": "code",
   "execution_count": 22,
   "metadata": {},
   "outputs": [
    {
     "name": "stdout",
     "output_type": "stream",
     "text": [
      "(2.961588, 0.814577, 0.408057)\n"
     ]
    }
   ],
   "source": [
    "metric(Y[tr].mean(), cv)"
   ]
  },
  {
   "cell_type": "code",
   "execution_count": 19,
   "metadata": {},
   "outputs": [
    {
     "name": "stdout",
     "output_type": "stream",
     "text": [
      "(3.281396, 1.000000, 0.500944)\n"
     ]
    }
   ],
   "source": [
    "metric(0, cv)"
   ]
  },
  {
   "cell_type": "code",
   "execution_count": 18,
   "metadata": {},
   "outputs": [
    {
     "name": "stdout",
     "output_type": "stream",
     "text": [
      "(2.543082, 0.600625, 0.300879)\n"
     ]
    }
   ],
   "source": [
    "metric(Y[cv]*.225, cv)"
   ]
  },
  {
   "cell_type": "markdown",
   "metadata": {},
   "source": [
    "### stop"
   ]
  },
  {
   "cell_type": "code",
   "execution_count": null,
   "metadata": {
    "collapsed": true
   },
   "outputs": [],
   "source": [
    "raise Stop"
   ]
  },
  {
   "cell_type": "code",
   "execution_count": null,
   "metadata": {
    "collapsed": true
   },
   "outputs": [],
   "source": [
    "k = 2\n",
    "plt.scatter(Xuse[k], Ya[k]);\n",
    "plt.plot(Xuse[k], Yx[k]);\n",
    "plt.xlim(-0.0001, 0.0004);\n",
    "plt.ylim(-0.0002, 0.0001);"
   ]
  }
 ],
 "metadata": {
  "kernelspec": {
   "display_name": "Python 3",
   "language": "python",
   "name": "python3"
  },
  "language_info": {
   "codemirror_mode": {
    "name": "ipython",
    "version": 3
   },
   "file_extension": ".py",
   "mimetype": "text/x-python",
   "name": "python",
   "nbconvert_exporter": "python",
   "pygments_lexer": "ipython3",
   "version": "3.6.2"
  }
 },
 "nbformat": 4,
 "nbformat_minor": 2
}
