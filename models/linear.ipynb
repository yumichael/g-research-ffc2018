{
 "cells": [
  {
   "cell_type": "code",
   "execution_count": 1,
   "metadata": {},
   "outputs": [
    {
     "name": "stderr",
     "output_type": "stream",
     "text": [
      "/home/ec2-user/anaconda3/lib/python3.6/site-packages/pandas/core/common.py:701: RuntimeWarning: divide by zero encountered in log\n",
      "  return func(obj, *args, **kwargs)\n"
     ]
    }
   ],
   "source": [
    "from common import *\n",
    "from matrix import *\n",
    "from helper.weighted import *\n",
    "%matplotlib inline\n",
    "canvas(16, 12)\n",
    "import pickle\n",
    "import gc"
   ]
  },
  {
   "cell_type": "code",
   "execution_count": 2,
   "metadata": {
    "collapsed": true
   },
   "outputs": [],
   "source": [
    "from models.thealg import TheAlg\n",
    "from models.split import split3"
   ]
  },
  {
   "cell_type": "code",
   "execution_count": 3,
   "metadata": {
    "collapsed": true
   },
   "outputs": [],
   "source": [
    "o = O()\n",
    "def_W(o); W = o.Wa.astype(np.float32)\n",
    "def_Y(o); Y = o.Ya.astype(np.float32)"
   ]
  },
  {
   "cell_type": "markdown",
   "metadata": {},
   "source": [
    "#### x features {"
   ]
  },
  {
   "cell_type": "code",
   "execution_count": 4,
   "metadata": {
    "collapsed": true
   },
   "outputs": [],
   "source": [
    "of = O()"
   ]
  },
  {
   "cell_type": "code",
   "execution_count": 5,
   "metadata": {},
   "outputs": [
    {
     "name": "stderr",
     "output_type": "stream",
     "text": [
      "/home/ec2-user/anaconda3/lib/python3.6/site-packages/pandas/core/common.py:701: RuntimeWarning: divide by zero encountered in log\n",
      "  return func(obj, *args, **kwargs)\n",
      "/home/ec2-user/Notebooks/g-research-ffc2018/helper/weighted.ipynb:11: RuntimeWarning: invalid value encountered in true_divide\n",
      "  \"import notebook_import_hook\\n\",\n",
      "/home/ec2-user/anaconda3/lib/python3.6/site-packages/scipy/stats/_distn_infrastructure.py:1901: RuntimeWarning: invalid value encountered in greater\n",
      "  cond1 = (0 < q) & (q < 1)\n",
      "/home/ec2-user/anaconda3/lib/python3.6/site-packages/scipy/stats/_distn_infrastructure.py:1901: RuntimeWarning: invalid value encountered in less\n",
      "  cond1 = (0 < q) & (q < 1)\n"
     ]
    }
   ],
   "source": [
    "def_X(o, include='logs z1 wqtl wnrm')\n",
    "of.Xwnrm = o.Xwnrm\n",
    "of.Xlogz1s = o.Xlogz1s.astype(np.float32)"
   ]
  },
  {
   "cell_type": "code",
   "execution_count": 6,
   "metadata": {
    "collapsed": true
   },
   "outputs": [],
   "source": [
    "of.bias = dh[['Count']].makesw().fillna(1).astype(np.float32)\n",
    "of.bias.columns = pd.MultiIndex.from_product([['bias'], range(3023)], names=['Feature', 'Stock'])"
   ]
  },
  {
   "cell_type": "code",
   "execution_count": 7,
   "metadata": {
    "collapsed": true
   },
   "outputs": [],
   "source": [
    "of.xfd = dh[['Day']]\n",
    "of.xfdw = ((of.xfd + 2) % 7).colname_append('.wkd')\n",
    "of.Xfdt = pd.concat([of.xfd, of.xfdw], axis=1).pipe(makesw).pipe(o._dewmean).astype(np.float32)"
   ]
  },
  {
   "cell_type": "code",
   "execution_count": 8,
   "metadata": {
    "collapsed": true
   },
   "outputs": [],
   "source": [
    "save_dir = '/big/data/features/'\n",
    "pathname = save_dir + '{}sw32/{}'\n",
    "xabcs = dict(\n",
    "    X3int = ('', 'x3.log.zc(-93).mintco0[4,1]'),\n",
    "    Xgint = ('', 'xg.log.zc(-93).mintco0[6,1][3,2]'),\n",
    "    #X3intwqtl = ('', 'x3.log.zc(-93).mintco0[4,1].wqtl'),\n",
    "    #Xgintwqtl = ('', 'xg.log.zc(-93).mintco0[6,1][3,2].wqtl'),\n",
    "    X3intwnrm = ('', 'x3.log.zc(-93).mintco0[4,1].wnrm'),\n",
    "    Xgintwnrm = ('', 'xg.log.zc(-93).mintco0[6,1][3,2].wnrm'),\n",
    "    Xowind = ('window/', 'xo.log.z(1).windiff'),\n",
    "    X3wind = ('window/', 'x3.log.zc(-93).mintco0[2,1].windiff'),\n",
    "    Xgwind = ('window/', 'xg.log.zc(-93).mintco0[2,1].windiff'),\n",
    "    #Xowindwqtl = ('window/', 'xo.log.z(1).windiff.wqtl'),\n",
    "    #X3windwqtl = ('window/', 'x3.log.zc(-93).mintco0[2,1].windiff.wqtl'),\n",
    "    #Xgwindwqtl = ('window/', 'xg.log.zc(-93).mintco0[2,1].windiff.wqtl'),\n",
    "    Xowindwnrm = ('window/', 'xo.log.z(1).windiff.wnrm'),\n",
    "    X3windwnrm = ('window/', 'x3.log.zc(-93).mintco0[2,1].windiff.wnrm'),\n",
    "    Xgwindwnrm = ('window/', 'xg.log.zc(-93).mintco0[2,1].windiff.wnrm'),\n",
    ")\n",
    "for xname, abc in xabcs.items():\n",
    "    of[xname] = pd.read_hdf(pathname.format(*abc))\n",
    "xabcs['Xwnrm'] = ('', 'xo.log.z(1).wnrm')\n",
    "for xname in 'X3int Xgint Xowind Xgwind X3wind'.split():\n",
    "    of[xname] = of[xname].pipe(o._dewmean)"
   ]
  },
  {
   "cell_type": "markdown",
   "metadata": {},
   "source": [
    "optional {"
   ]
  },
  {
   "cell_type": "code",
   "execution_count": 11,
   "metadata": {
    "collapsed": true
   },
   "outputs": [],
   "source": [
    "makepos = lambda X: X.clip(lower=0).colname_append('.pos', level=0).pipe(o._dewmean).astype(np.float32)\n",
    "makeneg = lambda X: X.clip(upper=0).colname_append('.neg', level=0).pipe(o._dewmean).astype(np.float32)"
   ]
  },
  {
   "cell_type": "code",
   "execution_count": 19,
   "metadata": {},
   "outputs": [
    {
     "name": "stdout",
     "output_type": "stream",
     "text": [
      "X3intwnrm\n",
      "Xgintwnrm\n",
      "Xowindwnrm\n",
      "X3windwnrm\n",
      "Xgwindwnrm\n"
     ]
    }
   ],
   "source": [
    "for x in 'Xwnrm X3intwnrm Xgintwnrm Xowindwnrm X3windwnrm Xgwindwnrm'.split():\n",
    "    print(x)\n",
    "    xp = of[x].pipe(makepos)\n",
    "    xp.to_hdf(pathname.format(*xabcs[x]) + '.pos', key='a')\n",
    "    xn = of[x].pipe(makeneg)\n",
    "    xn.to_hdf(pathname.format(*xabcs[x]) + '.neg', key='a')\n",
    "    del of[x]"
   ]
  },
  {
   "cell_type": "markdown",
   "metadata": {},
   "source": [
    "} optional end"
   ]
  },
  {
   "cell_type": "code",
   "execution_count": 9,
   "metadata": {
    "collapsed": true
   },
   "outputs": [],
   "source": [
    "xraw = 'bias Xfdt Xlogz1s X3int Xgint Xowind X3wind Xgwind'.split()\n",
    "xq = 'Xwnrm X3intwnrm Xgintwnrm Xowindwnrm X3windwnrm Xgwindwnrm'.split()\n",
    "xpn = 'Xwnrm X3intwnrm Xgintwnrm Xowindwnrm X3windwnrm Xgwindwnrm'.split()"
   ]
  },
  {
   "cell_type": "code",
   "execution_count": 10,
   "metadata": {
    "collapsed": true
   },
   "outputs": [],
   "source": [
    "for x in xpn:\n",
    "    of[x + 'p'] = pd.read_hdf(pathname.format(*xabcs[x]) + '.pos')\n",
    "    of[x + 'n'] = pd.read_hdf(pathname.format(*xabcs[x]) + '.neg')"
   ]
  },
  {
   "cell_type": "code",
   "execution_count": 22,
   "metadata": {
    "collapsed": true
   },
   "outputs": [],
   "source": [
    "X = pd.concat([of[x] for x in xraw] + [of[x] for x in xq],# + [of[x + 'p'] for x in xpn] + [of[x + 'n'] for x in xpn],\n",
    "              axis=1, copy=False).astype(np.float32, copy=False)"
   ]
  },
  {
   "cell_type": "code",
   "execution_count": 23,
   "metadata": {
    "collapsed": true
   },
   "outputs": [],
   "source": [
    "assert X.columns.levels[0].shape[0] * 3023 == X.columns.__len__()\n",
    "assert X.columns.levels[1].shape[0] == 3023"
   ]
  },
  {
   "cell_type": "code",
   "execution_count": null,
   "metadata": {
    "collapsed": true
   },
   "outputs": [],
   "source": [
    "temp = '5zombie'\n",
    "#X.to_hdf('/big/data/ready/algrun' + temp, key='X')\n",
    "X = pd.read_hdf(top_dir + 'data/ready/algrun' + temp, key='X')"
   ]
  },
  {
   "cell_type": "code",
   "execution_count": null,
   "metadata": {
    "collapsed": true
   },
   "outputs": [],
   "source": [
    "mvalid = o.Y.count()"
   ]
  },
  {
   "cell_type": "code",
   "execution_count": 6,
   "metadata": {},
   "outputs": [
    {
     "data": {
      "text/plain": [
       "0"
      ]
     },
     "execution_count": 6,
     "metadata": {},
     "output_type": "execute_result"
    }
   ],
   "source": [
    "try:\n",
    "    dict.clear(o)\n",
    "    del o\n",
    "except NameError:\n",
    "    pass\n",
    "gc.collect()\n",
    "try:\n",
    "    dict.clear(of)\n",
    "    del of\n",
    "except NameError:\n",
    "    pass\n",
    "gc.collect()"
   ]
  },
  {
   "cell_type": "markdown",
   "metadata": {},
   "source": [
    "#### } x features end"
   ]
  },
  {
   "cell_type": "code",
   "execution_count": 7,
   "metadata": {
    "collapsed": true
   },
   "outputs": [],
   "source": [
    "sfilt = ~stock_nvdf(dh, 249) & (stockmarket != 3)"
   ]
  },
  {
   "cell_type": "code",
   "execution_count": 24,
   "metadata": {
    "collapsed": true
   },
   "outputs": [],
   "source": [
    "oW, oX, oY, omvalid = W, X, Y, mvalid"
   ]
  },
  {
   "cell_type": "code",
   "execution_count": 25,
   "metadata": {},
   "outputs": [
    {
     "name": "stderr",
     "output_type": "stream",
     "text": [
      "/home/ec2-user/anaconda3/lib/python3.6/site-packages/pandas/core/frame.py:3035: SettingWithCopyWarning: \n",
      "A value is trying to be set on a copy of a slice from a DataFrame\n",
      "\n",
      "See the caveats in the documentation: http://pandas.pydata.org/pandas-docs/stable/indexing.html#indexing-view-versus-copy\n",
      "  downcast=downcast, **kwargs)\n"
     ]
    },
    {
     "data": {
      "text/plain": [
       "0"
      ]
     },
     "execution_count": 25,
     "metadata": {},
     "output_type": "execute_result"
    }
   ],
   "source": [
    "W = W.T[sfilt].T\n",
    "Y = Y.T[sfilt].T\n",
    "X = X.wide_filter(sfilt).chain.fillna(0, inplace=True)\n",
    "mvalid = mvalid[sfilt]\n",
    "gc.collect()"
   ]
  },
  {
   "cell_type": "code",
   "execution_count": 26,
   "metadata": {
    "collapsed": true
   },
   "outputs": [],
   "source": [
    "s = split3(X, repeat=2)\n",
    "ta = TheAlg(X, Y, W, s, mvalid, algorithm='expfb')\n",
    "ta._args = ([0, 4, 14, 32], [25, 50, 75, 100, 125, 150])"
   ]
  },
  {
   "cell_type": "code",
   "execution_count": 27,
   "metadata": {},
   "outputs": [
    {
     "data": {
      "text/plain": [
       "60"
      ]
     },
     "execution_count": 27,
     "metadata": {},
     "output_type": "execute_result"
    }
   ],
   "source": [
    "try:\n",
    "    del X, Y, W\n",
    "except NameError:\n",
    "    pass\n",
    "gc.collect()"
   ]
  },
  {
   "cell_type": "code",
   "execution_count": 28,
   "metadata": {
    "collapsed": true
   },
   "outputs": [],
   "source": [
    "assert ta.columns.get_level_values(0).nunique() * ta.columns.get_level_values(1).nunique() == ta.columns.shape[0]\n",
    "assert ta.k * ta.m == ta.columns.shape[0]"
   ]
  },
  {
   "cell_type": "code",
   "execution_count": 30,
   "metadata": {},
   "outputs": [
    {
     "name": "stdout",
     "output_type": "stream",
     "text": [
      "(0.7769072846197803, 0.8182800823947572) None 0\n",
      "[] ()\n",
      "\n",
      "<1285> 0.........100.........200.........300.........400.........500.........600.........700.........800.........900.........1000.........1100.........1200........\n",
      "\n",
      "(0.6689772825848184, 0.705450450414193) ((0, 50), (14, 25)) 1\n",
      "[xg.log.zc(-93).sgnint(03/44).wnrm] (455,)\n",
      "\n",
      "<1284> 0.........100.........200.........300.........400.........500.........600.........700.........800.........900.........1000.........1100.........1200........\n",
      "\n",
      "(0.6615748591502816, 0.7031368551196607) ((4, 50), (0, 50)) 2\n",
      "[xg.log.zc(-93).sgnint(03/44).wnrm, xg.log.zc(-93).sgnint(35/44).wnrm.neg] (455, 1130)\n",
      "\n",
      "<1283> 0.........100.........200.........300.........400.........500.........600.........700.........800.........900.........1000.........1100.........1200........\n",
      "\n",
      "(0.656378396632536, 0.7010856135418398) ((4, 75), (0, 75)) 3\n",
      "[xg.log.zc(-93).sgnint(03/44).wnrm, xg.log.zc(-93).sgnint(35/44).wnrm.neg, x3E.log.z(1).window(<20>*!-).wnrm] (455, 1130, 523)\n",
      "\n",
      "<1282> 0.........100.........200.........300.........400.........500.........600.........700.........800.........900.........1000.........1100.........1200........\n",
      "\n",
      "(0.6544445639362733, 0.7005949647168335) ((4, 75), (0, 75)) 4\n",
      "[xg.log.zc(-93).sgnint(03/44).wnrm, xg.log.zc(-93).sgnint(35/44).wnrm.neg, x3E.log.z(1).window(<20>*!-).wnrm, xg.log.zc(-93).sgnint(12/33).wnrm.neg] (455, 1130, 523, 1104)\n",
      "\n",
      "(0.6566963005706108, 0.6953232213654825) ((4, 75), (4, 50)) 3\n",
      "[xg.log.zc(-93).sgnint(03/44).wnrm, xg.log.zc(-93).sgnint(35/44).wnrm.neg, x3.log.zc(-93).sgnint(0/4).window(<20>*!-).wnrm] (455, 1130, 559)\n",
      "\n",
      "<1282> 0.........100.........200.........300.........400.........500.........600.........700.........800.........900.........1000.........1100.........1200........\n",
      "\n",
      "(0.6544659208345932, 0.6942119632359862) ((14, 75), (0, 75)) 4\n",
      "[xg.log.zc(-93).sgnint(03/44).wnrm, xg.log.zc(-93).sgnint(35/44).wnrm.neg, x3.log.zc(-93).sgnint(0/4).window(<20>*!-).wnrm, xg.log.zc(-93).sgnint(12/33).wnrm.neg] (455, 1130, 559, 1104)\n",
      "\n",
      "(0.6571000148420785, 0.7001323139458637) ((0, 75), (0, 75)) 3\n",
      "[xg.log.zc(-93).sgnint(03/44).wnrm, xg.log.zc(-93).sgnint(35/44).wnrm.neg, xg.log.zc(-93).sgnint(25/34).wnrm] (455, 1130, 420)\n",
      "\n",
      "<1282> 0.........100.........200.........300.........400.........500.........600.........700.........800.........900.........1000.........1100.........1200........\n",
      "\n",
      "(0.6549766492417288, 0.6937431238707553) ((4, 75), (0, 75)) 4\n",
      "[xg.log.zc(-93).sgnint(03/44).wnrm, xg.log.zc(-93).sgnint(35/44).wnrm.neg, xg.log.zc(-93).sgnint(25/34).wnrm, x3.log.zc(-93).sgnint(0/4).window(<20>*!-).wnrm] (455, 1130, 420, 559)\n",
      "\n",
      "(0.6620227416308196, 0.7009469890303905) ((4, 50), (0, 50)) 2\n",
      "[xg.log.zc(-93).sgnint(03/44).wnrm, x3A.wnrm] (455, 327)\n",
      "\n",
      "<1283> 0.........100.........200.........300.........400.........500.........600.........700.........800.........900.........1000.........1100.........1200........\n",
      "\n",
      "(0.6544817662752822, 0.6985900308960701) ((0, 75), (0, 75)) 3\n",
      "[xg.log.zc(-93).sgnint(03/44).wnrm, x3A.wnrm, x3E.log.z(1).window(<20>*!-).wnrm.pos] (455, 327, 843)\n",
      "\n",
      "<1282> 0.........100.........200.........300.........400.........500.........600.........700.........800.........900.........1000.........1100.........1200........\n",
      "\n",
      "(0.652535685895395, 0.7004064900116118) ((4, 75), (0, 75)) 4\n",
      "[xg.log.zc(-93).sgnint(03/44).wnrm, x3A.wnrm, x3E.log.z(1).window(<20>*!-).wnrm.pos, xg.log.zc(-93).sgnint(12/33).wnrm.neg] (455, 327, 843, 1104)\n",
      "\n",
      "(0.6547790787952634, 0.690074695912601) ((4, 75), (0, 75)) 3\n",
      "[xg.log.zc(-93).sgnint(03/44).wnrm, x3A.wnrm, x3.log.zc(-93).sgnint(0/4).window(<20>*!-).wnrm.neg] (455, 327, 1199)\n",
      "\n",
      "<1282> 0.........100.........200.........300.........400.........500.........600.........700.........800.........900.........1000.........1100.........1200........\n",
      "\n",
      "(0.6530042363420493, 0.6926842767326568) ((0, 100), (0, 75)) 4\n",
      "[xg.log.zc(-93).sgnint(03/44).wnrm, x3A.wnrm, x3.log.zc(-93).sgnint(0/4).window(<20>*!-).wnrm.neg, xg.log.zc(-93).sgnint(12/33).wnrm.neg] (455, 327, 1199, 1104)\n",
      "\n",
      "(0.6558374317564529, 0.693953578755594) ((0, 75), (0, 50)) 3\n",
      "[xg.log.zc(-93).sgnint(03/44).wnrm, x3A.wnrm, xg.log.zc(-93).sgnint(25/33).wnrm.neg] (455, 327, 1124)\n",
      "\n",
      "<1282> 0.........100.........200.........300.........400.........500.........600.........700.........800.........900.........1000.........1100.........1200........\n",
      "\n",
      "(0.6529830325397746, 0.6889513593543053) ((14, 75), (0, 75)) 4\n",
      "[xg.log.zc(-93).sgnint(03/44).wnrm, x3A.wnrm, xg.log.zc(-93).sgnint(25/33).wnrm.neg, x3.log.zc(-93).sgnint(1/4).window(<20>*!-).wnrm.neg] (455, 327, 1124, 1211)\n",
      "\n",
      "(0.6620584895573982, 0.704550927568348) ((4, 50), (0, 50)) 2\n",
      "[xg.log.zc(-93).sgnint(03/44).wnrm, xg.log.zc(-93).sgnint(12/33).wnrm] (455, 464)\n",
      "\n",
      "<1283> 0.........100.........200.........300.........400.........500.........600.........700.........800.........900.........1000.........1100.........1200........\n",
      "\n",
      "(0.6556850246433523, 0.6936804270088961) ((14, 50), (0, 75)) 3\n",
      "[xg.log.zc(-93).sgnint(03/44).wnrm, xg.log.zc(-93).sgnint(12/33).wnrm, x3.log.zc(-93).sgnint(01/34).wnrm] (455, 464, 356)\n",
      "\n",
      "<1282> 0.........100.........200.........300.........400.........500.........600.........700.........800.........900.........1000.........1100.........1200........\n",
      "\n",
      "(0.65435615097011, 0.6926561079587785) ((14, 75), (0, 75)) 4\n",
      "[xg.log.zc(-93).sgnint(03/44).wnrm, xg.log.zc(-93).sgnint(12/33).wnrm, x3.log.zc(-93).sgnint(01/34).wnrm, xg.log.zc(-93).sgnint(35/44).wnrm.neg] (455, 464, 356, 1130)\n",
      "\n",
      "(0.6566758622485626, 0.6948233536690251) ((4, 75), (0, 75)) 3\n",
      "[xg.log.zc(-93).sgnint(03/44).wnrm, xg.log.zc(-93).sgnint(12/33).wnrm, x3.log.zc(-93).sgnint(02/34).wnrm] (455, 464, 359)\n",
      "\n",
      "<1282> 0.........100.........200.........300.........400.........500.........600.........700.........800.........900.........1000.........1100.........1200........\n",
      "\n",
      "(0.6554737521008323, 0.6936155961490157) ((14, 75), (0, 75)) 4\n",
      "[xg.log.zc(-93).sgnint(03/44).wnrm, xg.log.zc(-93).sgnint(12/33).wnrm, x3.log.zc(-93).sgnint(02/34).wnrm, xg.log.zc(-93).sgnint(35/44).wnrm.neg] (455, 464, 359, 1130)\n",
      "\n",
      "(0.65685559700575, 0.6957755862659907) ((14, 50), (0, 75)) 3\n",
      "[xg.log.zc(-93).sgnint(03/44).wnrm, xg.log.zc(-93).sgnint(12/33).wnrm, x3.log.zc(-93).sgnint(01/24).wnrm] (455, 464, 353)\n",
      "\n",
      "<1282> 0.........100.........200.........300.........400.........500..."
     ]
    },
    {
     "ename": "KeyboardInterrupt",
     "evalue": "",
     "output_type": "error",
     "traceback": [
      "\u001b[0;31m---------------------------------------------------------------------------\u001b[0m",
      "\u001b[0;31mKeyboardInterrupt\u001b[0m                         Traceback (most recent call last)",
      "\u001b[0;32m<ipython-input-30-ba89ff12f44f>\u001b[0m in \u001b[0;36m<module>\u001b[0;34m()\u001b[0m\n\u001b[1;32m      1\u001b[0m \u001b[0mbranch_at_depth\u001b[0m \u001b[0;34m=\u001b[0m \u001b[0;32mlambda\u001b[0m \u001b[0md\u001b[0m\u001b[0;34m:\u001b[0m \u001b[0;34m[\u001b[0m\u001b[0;36m15\u001b[0m\u001b[0;34m,\u001b[0m \u001b[0;36m5\u001b[0m\u001b[0;34m,\u001b[0m \u001b[0;36m3\u001b[0m\u001b[0;34m,\u001b[0m \u001b[0;36m1\u001b[0m\u001b[0;34m]\u001b[0m\u001b[0;34m[\u001b[0m\u001b[0md\u001b[0m\u001b[0;34m]\u001b[0m \u001b[0;32mif\u001b[0m \u001b[0md\u001b[0m \u001b[0;34m<\u001b[0m \u001b[0;36m4\u001b[0m \u001b[0;32melse\u001b[0m \u001b[0;36m1\u001b[0m\u001b[0;34m\u001b[0m\u001b[0m\n\u001b[0;32m----> 2\u001b[0;31m \u001b[0mta\u001b[0m\u001b[0;34m.\u001b[0m\u001b[0malg1\u001b[0m\u001b[0;34m(\u001b[0m\u001b[0mbranch_at_depth\u001b[0m\u001b[0;34m=\u001b[0m\u001b[0mbranch_at_depth\u001b[0m\u001b[0;34m,\u001b[0m \u001b[0mmax_depth\u001b[0m\u001b[0;34m=\u001b[0m\u001b[0;36m4\u001b[0m\u001b[0;34m,\u001b[0m \u001b[0mdot\u001b[0m\u001b[0;34m=\u001b[0m\u001b[0;36m10\u001b[0m\u001b[0;34m,\u001b[0m \u001b[0mnumdot\u001b[0m\u001b[0;34m=\u001b[0m\u001b[0;36m10\u001b[0m\u001b[0;34m)\u001b[0m\u001b[0;34m\u001b[0m\u001b[0m\n\u001b[0m",
      "\u001b[0;32m~/Notebooks/g-research-ffc2018/models/thealg.ipynb\u001b[0m in \u001b[0;36malg1\u001b[0;34m(a, start, branch, branch_at_depth, max_depth, print, dot, numdot)\u001b[0m\n",
      "\u001b[0;32m~/Notebooks/g-research-ffc2018/models/thealg.ipynb\u001b[0m in \u001b[0;36m_alg1_recur\u001b[0;34m(a, feats, depth)\u001b[0m\n",
      "\u001b[0;32m~/Notebooks/g-research-ffc2018/models/thealg.ipynb\u001b[0m in \u001b[0;36m_alg1_recur\u001b[0;34m(a, feats, depth)\u001b[0m\n",
      "\u001b[0;32m~/Notebooks/g-research-ffc2018/models/thealg.ipynb\u001b[0m in \u001b[0;36m_alg1_recur\u001b[0;34m(a, feats, depth)\u001b[0m\n",
      "\u001b[0;32m~/Notebooks/g-research-ffc2018/models/thealg.ipynb\u001b[0m in \u001b[0;36m_alg1_recur\u001b[0;34m(a, feats, depth)\u001b[0m\n",
      "\u001b[0;31mKeyboardInterrupt\u001b[0m: "
     ]
    }
   ],
   "source": [
    "branch_at_depth = lambda d: [15, 5, 3, 1][d] if d < 4 else 1\n",
    "ta.alg1(branch_at_depth=branch_at_depth, max_depth=4, dot=10, numdot=10)"
   ]
  },
  {
   "cell_type": "markdown",
   "metadata": {},
   "source": [
    "## diagnosis analysis"
   ]
  },
  {
   "cell_type": "code",
   "execution_count": 31,
   "metadata": {
    "collapsed": true
   },
   "outputs": [],
   "source": [
    "pname = '[~249&~m3]zombs(0,4,14,32)(25,50,75,100,125,150)'\n",
    "featnames = [str(ta.columns[ta.m * f][0]) for f in range(ta.k)]"
   ]
  },
  {
   "cell_type": "code",
   "execution_count": 32,
   "metadata": {
    "collapsed": true
   },
   "outputs": [],
   "source": [
    "with open(top_dir + 'data/progress/linsearch/' + pname + '.pkl', 'wb') as file:\n",
    "    pickle.dump((featnames, ta.scores, ta.fbnums), file, protocol=-1)"
   ]
  },
  {
   "cell_type": "code",
   "execution_count": 33,
   "metadata": {},
   "outputs": [
    {
     "name": "stdout",
     "output_type": "stream",
     "text": [
      "(0.652535685895395, 0.7004064900116118, ('xg.log.zc(-93).sgnint(03/44).wnrm', 'x3A.wnrm', 'x3E.log.z(1).window(<20>*!-).wnrm.pos', 'xg.log.zc(-93).sgnint(12/33).wnrm.neg'))\n",
      "(0.6529830325397746, 0.6889513593543053, ('xg.log.zc(-93).sgnint(03/44).wnrm', 'x3A.wnrm', 'xg.log.zc(-93).sgnint(25/33).wnrm.neg', 'x3.log.zc(-93).sgnint(1/4).window(<20>*!-).wnrm.neg'))\n",
      "(0.6530042363420493, 0.6926842767326568, ('xg.log.zc(-93).sgnint(03/44).wnrm', 'x3A.wnrm', 'x3.log.zc(-93).sgnint(0/4).window(<20>*!-).wnrm.neg', 'xg.log.zc(-93).sgnint(12/33).wnrm.neg'))\n",
      "(0.6532938175117425, 0.6915756647607065, ('xg.log.zc(-93).sgnint(03/44).wnrm', 'x3A.wnrm', 'x3.log.zc(-93).sgnint(0/4).window(<20>*!-).wnrm.neg', 'xg.log.zc(-93).sgnint(03/12).wnrm.pos'))\n",
      "(0.6534188969807563, 0.6888000588946109, ('xg.log.zc(-93).sgnint(03/44).wnrm', 'x3A.wnrm', 'x3.log.zc(-93).sgnint(0/4).window(<20>*!-).wnrm.neg', 'xg.log.zc(-93).sgnint(25/33).wnrm.neg'))\n",
      "(0.6534188969807563, 0.6888000588946109, ('xg.log.zc(-93).sgnint(03/44).wnrm', 'x3A.wnrm', 'xg.log.zc(-93).sgnint(25/33).wnrm.neg', 'x3.log.zc(-93).sgnint(0/4).window(<20>*!-).wnrm.neg'))\n",
      "(0.6534301495400862, 0.6984101775428535, ('xg.log.zc(-93).sgnint(03/44).wnrm', 'x3A.wnrm', 'x3E.log.z(1).window(<20>*!-).wnrm.pos', 'xg.log.zc(-93).sgnint(03/12).wnrm.pos'))\n",
      "(0.6534531139468818, 0.6940655709717403, ('xg.log.zc(-93).sgnint(03/44).wnrm', 'x3A.wnrm', 'xg.log.zc(-93).sgnint(25/33).wnrm.neg', 'x3E.log.z(1).window(<20>*!-).wnrm'))\n",
      "(0.6535169549977737, 0.6984955801436571, ('xg.log.zc(-93).sgnint(03/44).wnrm', 'x3A.wnrm', 'x3E.log.z(1).window(<20>*!-).wnrm.pos', 'xg.log.zc(-93).sgnint(0/5).window(<5>*!-).wnrm'))\n",
      "(0.6540406965687602, 0.692714878264279, ('xg.log.zc(-93).sgnint(03/44).wnrm', 'x3A.wnrm', 'xg.log.zc(-93).sgnint(25/33).wnrm.neg', 'x3.log.zc(-93).sgnint(2/4).window(!*<5>-).wnrm.neg'))\n",
      "(0.6540605225066272, 0.6955807522466663, ('xg.log.zc(-93).sgnint(03/44).wnrm', 'x3A.wnrm', 'xg.log.zc(-93).sgnint(25/33).wnrm.neg', 'x3D.log.z(1).window(<20>*!-).wnrm'))\n",
      "(0.6540616707269669, 0.6973036995689245, ('xg.log.zc(-93).sgnint(03/44).wnrm', 'x3A.wnrm', 'x3E.log.z(1).window(<20>*!-).wnrm.pos', 'Day'))\n",
      "(0.6542361236705913, 0.6895567745928852, ('xg.log.zc(-93).sgnint(03/44).wnrm', 'x3A.wnrm', 'xg.log.zc(-93).sgnint(25/33).wnrm.neg', 'x3.log.zc(-93).sgnint(12/34).wnrm.neg'))\n",
      "(0.6542368126027952, 0.6960629504395092, ('xg.log.zc(-93).sgnint(03/44).wnrm', 'x3A.wnrm', 'x3E.log.z(1).window(<20>*!-).wnrm.pos', 'xg.log.zc(-93).sgnint(25/33).wnrm.neg'))\n",
      "(0.6542368126027952, 0.6960629504395092, ('xg.log.zc(-93).sgnint(03/44).wnrm', 'x3A.wnrm', 'xg.log.zc(-93).sgnint(25/33).wnrm.neg', 'x3E.log.z(1).window(<20>*!-).wnrm.pos'))\n",
      "(0.6542451563372642, 0.6955126777097939, ('xg.log.zc(-93).sgnint(03/44).wnrm', 'x3A.wnrm', 'x3E.log.z(1).window(<20>*!-).wnrm.pos', 'xg.log.zc(-93).sgnint(03/12).wnrm'))\n",
      "(0.65435615097011, 0.6926561079587785, ('xg.log.zc(-93).sgnint(03/44).wnrm', 'xg.log.zc(-93).sgnint(12/33).wnrm', 'x3.log.zc(-93).sgnint(01/34).wnrm', 'xg.log.zc(-93).sgnint(35/44).wnrm.neg'))\n",
      "(0.6544445639362733, 0.7005949647168335, ('xg.log.zc(-93).sgnint(03/44).wnrm', 'xg.log.zc(-93).sgnint(35/44).wnrm.neg', 'x3E.log.z(1).window(<20>*!-).wnrm', 'xg.log.zc(-93).sgnint(12/33).wnrm.neg'))\n",
      "(0.6544659208345932, 0.6942119632359862, ('xg.log.zc(-93).sgnint(03/44).wnrm', 'xg.log.zc(-93).sgnint(35/44).wnrm.neg', 'x3.log.zc(-93).sgnint(0/4).window(<20>*!-).wnrm', 'xg.log.zc(-93).sgnint(12/33).wnrm.neg'))\n",
      "(0.6544817662752822, 0.6985900308960701, ('xg.log.zc(-93).sgnint(03/44).wnrm', 'x3A.wnrm', 'x3E.log.z(1).window(<20>*!-).wnrm.pos'))\n",
      "(0.6545126151284111, 0.691690004374676, ('xg.log.zc(-93).sgnint(03/44).wnrm', 'xg.log.zc(-93).sgnint(35/44).wnrm.neg', 'x3.log.zc(-93).sgnint(0/4).window(<20>*!-).wnrm', 'xg.log.zc(-93).sgnint(25/33).wnrm.neg'))\n",
      "(0.6545168252696569, 0.7016594029297474, ('xg.log.zc(-93).sgnint(03/44).wnrm', 'x3A.wnrm', 'x3E.log.z(1).window(<20>*!-).wnrm.pos', 'xg.log.zc(-93).sgnint(0/5).window(!*<20>-).wnrm'))\n",
      "(0.6545596156143195, 0.6915463009479366, ('xg.log.zc(-93).sgnint(03/44).wnrm', 'x3A.wnrm', 'xg.log.zc(-93).sgnint(25/33).wnrm.neg', 'x3a.log.z(1).window(<20>*!-).wnrm'))\n",
      "(0.6546017170267783, 0.691155651270198, ('xg.log.zc(-93).sgnint(03/44).wnrm', 'x3A.wnrm', 'xg.log.zc(-93).sgnint(25/33).wnrm.neg', 'x3.log.zc(-93).sgnint(1/4).wnrm.neg'))\n",
      "(0.6547019949364526, 0.6895035100022792, ('xg.log.zc(-93).sgnint(03/44).wnrm', 'x3A.wnrm', 'x3.log.zc(-93).sgnint(0/4).window(<20>*!-).wnrm.neg', 'xg.log.zc(-93).sgnint(33/45).wnrm.pos'))\n",
      "(0.6547100324788312, 0.6993738483692121, ('xg.log.zc(-93).sgnint(03/44).wnrm', 'x3A.wnrm', 'xg.log.zc(-93).sgnint(25/33).wnrm.neg', 'x3D.log.z(1).window(<20>*!-).wnrm.pos'))\n",
      "(0.6547241938630218, 0.6975649862866253, ('xg.log.zc(-93).sgnint(03/44).wnrm', 'x3A.wnrm', 'x3E.log.z(1).window(<20>*!-).wnrm.pos', 'xg.log.zc(-93).sgnint(12/34).wnrm.neg'))\n",
      "(0.6547313128291284, 0.6906455403832393, ('xg.log.zc(-93).sgnint(03/44).wnrm', 'xg.log.zc(-93).sgnint(12/33).wnrm', 'x3.log.zc(-93).sgnint(01/34).wnrm', 'x3E.wnrm.neg'))\n",
      "(0.6547721894732247, 0.6960433176577152, ('xg.log.zc(-93).sgnint(03/44).wnrm', 'xg.log.zc(-93).sgnint(35/44).wnrm.neg', 'x3E.log.z(1).window(<20>*!-).wnrm', 'x4.wnrm.pos'))\n",
      "(0.6547790787952634, 0.690074695912601, ('xg.log.zc(-93).sgnint(03/44).wnrm', 'x3A.wnrm', 'x3.log.zc(-93).sgnint(0/4).window(<20>*!-).wnrm.neg'))\n",
      "(0.6547917857670237, 0.6895265998608672, ('xg.log.zc(-93).sgnint(03/44).wnrm', 'xg.log.zc(-93).sgnint(35/44).wnrm.neg', 'x3.log.zc(-93).sgnint(0/4).window(<20>*!-).wnrm', 'Day'))\n",
      "(0.6547930105353862, 0.6946843877178925, ('xg.log.zc(-93).sgnint(03/44).wnrm', 'xg.log.zc(-93).sgnint(35/44).wnrm.neg', 'x3.log.zc(-93).sgnint(0/4).window(<20>*!-).wnrm', 'xg.log.zc(-93).sgnint(03/12).wnrm.pos'))\n",
      "(0.6548930588009926, 0.6948302678226135, ('xg.log.zc(-93).sgnint(03/44).wnrm', 'xg.log.zc(-93).sgnint(35/44).wnrm.neg', 'x3.log.zc(-93).sgnint(0/4).window(<20>*!-).wnrm', 'xg.log.zc(-93).sgnint(12/33).wnrm'))\n",
      "(0.6549003308631446, 0.6890186229719297, ('xg.log.zc(-93).sgnint(03/44).wnrm', 'x3A.wnrm', 'xg.log.zc(-93).sgnint(25/33).wnrm.neg', 'Day'))\n",
      "(0.6549305673320922, 0.6896202823739925, ('xg.log.zc(-93).sgnint(03/44).wnrm', 'x3A.wnrm', 'xg.log.zc(-93).sgnint(25/33).wnrm.neg', 'x3.log.zc(-93).sgnint(0/4).window(<20>*!-).wnrm'))\n",
      "(0.654955675083522, 0.6956358947555309, ('xg.log.zc(-93).sgnint(03/44).wnrm', 'x3A.wnrm', 'x3E.log.z(1).window(<20>*!-).wnrm.pos', 'xg.log.zc(-93).sgnint(25/34).wnrm'))\n",
      "(0.6549636360778779, 0.6903098198145633, ('xg.log.zc(-93).sgnint(03/44).wnrm', 'x3A.wnrm', 'xg.log.zc(-93).sgnint(25/33).wnrm.neg', 'x3.log.zc(-93).sgnint(1/4).window(<5>*!-).wnrm.neg'))\n",
      "(0.6549766492417288, 0.6937431238707553, ('xg.log.zc(-93).sgnint(03/44).wnrm', 'xg.log.zc(-93).sgnint(35/44).wnrm.neg', 'x3.log.zc(-93).sgnint(0/4).window(<20>*!-).wnrm', 'xg.log.zc(-93).sgnint(25/34).wnrm'))\n",
      "(0.6549766492417288, 0.6937431238707553, ('xg.log.zc(-93).sgnint(03/44).wnrm', 'xg.log.zc(-93).sgnint(35/44).wnrm.neg', 'xg.log.zc(-93).sgnint(25/34).wnrm', 'x3.log.zc(-93).sgnint(0/4).window(<20>*!-).wnrm'))\n",
      "(0.6549901216937156, 0.6959292768034688, ('xg.log.zc(-93).sgnint(03/44).wnrm', 'x3A.wnrm', 'x3E.log.z(1).window(<20>*!-).wnrm.pos', 'xg.log.zc(-93).sgnint(25/33).wnrm'))\n",
      "(0.6549921884903271, 0.6964737450585667, ('xg.log.zc(-93).sgnint(03/44).wnrm', 'x3A.wnrm', 'x3E.log.z(1).window(<20>*!-).wnrm.pos', 'x5.log.z(1).window(<20>*!-).wnrm.neg'))\n",
      "(0.6550004556767737, 0.6883534131087992, ('xg.log.zc(-93).sgnint(03/44).wnrm', 'x3A.wnrm', 'x3.log.zc(-93).sgnint(0/4).window(<20>*!-).wnrm.neg', 'Day'))\n",
      "(0.6550313045299024, 0.6906268892405352, ('xg.log.zc(-93).sgnint(03/44).wnrm', 'x3A.wnrm', 'xg.log.zc(-93).sgnint(25/33).wnrm.neg', 'x3.log.zc(-93).sgnint(2/4).window(<20>*!-).wnrm.neg'))\n",
      "(0.6550355146711484, 0.6998652227535456, ('xg.log.zc(-93).sgnint(03/44).wnrm', 'x3A.wnrm', 'x3E.log.z(1).window(<20>*!-).wnrm.pos', 'xg.log.zc(-93).sgnint(04/12).wnrm.pos'))\n",
      "(0.6550790704960374, 0.6967958933998287, ('xg.log.zc(-93).sgnint(03/44).wnrm', 'x3A.wnrm', 'x3E.log.z(1).window(<20>*!-).wnrm.pos', 'xg.log.zc(-93).sgnint(33/45).wnrm'))\n",
      "(0.6550835102813513, 0.694597662038316, ('xg.log.zc(-93).sgnint(03/44).wnrm', 'x3A.wnrm', 'x3E.log.z(1).window(<20>*!-).wnrm.pos', 'xg.log.zc(-93).sgnint(3/5).wnrm'))\n",
      "(0.6551329603039846, 0.6948353467379036, ('xg.log.zc(-93).sgnint(03/44).wnrm', 'xg.log.zc(-93).sgnint(35/44).wnrm.neg', 'x3.log.zc(-93).sgnint(0/4).window(<20>*!-).wnrm', 'xg.log.zc(-93).sgnint(03/12).wnrm'))\n",
      "(0.6551391606938194, 0.6999596735059584, ('xg.log.zc(-93).sgnint(03/44).wnrm', 'xg.log.zc(-93).sgnint(35/44).wnrm.neg', 'x3E.log.z(1).window(<20>*!-).wnrm', 'xg.log.zc(-93).sgnint(03/12).wnrm.pos'))\n",
      "(0.6551431411909974, 0.6977719840946699, ('xg.log.zc(-93).sgnint(03/44).wnrm', 'x3A.wnrm', 'x3E.log.z(1).window(<20>*!-).wnrm.pos', 'x5.log.z(1).window(<5>*!-).wnrm.neg'))\n",
      "(0.6551598286599355, 0.6993497768715343, ('xg.log.zc(-93).sgnint(03/44).wnrm', 'xg.log.zc(-93).sgnint(35/44).wnrm.neg', 'xg.log.zc(-93).sgnint(25/34).wnrm', 'x3E.log.z(1).window(<20>*!-).wnrm.pos'))\n",
      "(0.6551723825356505, 0.6913181765594832, ('xg.log.zc(-93).sgnint(03/44).wnrm', 'x3A.wnrm', 'x3.log.zc(-93).sgnint(0/4).window(<20>*!-).wnrm.neg', 'xg.log.zc(-93).sgnint(25/34).wnrm'))\n",
      "(0.655176439580851, 0.6967841137307523, ('xg.log.zc(-93).sgnint(03/44).wnrm', 'x3A.wnrm', 'xg.log.zc(-93).sgnint(25/33).wnrm.neg', 'xg.log.zc(-93).sgnint(3/4).window(<20>*!-).wnrm'))\n",
      "(0.655176669224919, 0.6926625526328022, ('xg.log.zc(-93).sgnint(03/44).wnrm', 'xg.log.zc(-93).sgnint(12/33).wnrm', 'x3.log.zc(-93).sgnint(01/34).wnrm', 'x3D.wnrm.neg'))\n",
      "(0.6551797311458251, 0.6896241662503909, ('xg.log.zc(-93).sgnint(03/44).wnrm', 'x3A.wnrm', 'xg.log.zc(-93).sgnint(25/33).wnrm.neg', 'x3.log.zc(-93).sgnint(02/34).wnrm.neg'))\n",
      "(0.655180420078029, 0.6925599073279883, ('xg.log.zc(-93).sgnint(03/44).wnrm', 'xg.log.zc(-93).sgnint(12/33).wnrm', 'x3.log.zc(-93).sgnint(01/34).wnrm', 'x3a.wnrm.neg'))\n",
      "(0.6551884576204074, 0.6980391606469089, ('xg.log.zc(-93).sgnint(03/44).wnrm', 'xg.log.zc(-93).sgnint(35/44).wnrm.neg', 'x3E.log.z(1).window(<20>*!-).wnrm', 'xg.log.zc(-93).sgnint(02/55).wnrm.neg'))\n",
      "(0.655212110959407, 0.6972578612914317, ('xg.log.zc(-93).sgnint(03/44).wnrm', 'xg.log.zc(-93).sgnint(35/44).wnrm.neg', 'x3.log.zc(-93).sgnint(0/4).window(<20>*!-).wnrm', 'xg.log.zc(-93).sgnint(25/34).wnrm.neg'))\n",
      "(0.655215861812517, 0.6975541455766782, ('xg.log.zc(-93).sgnint(03/44).wnrm', 'x3A.wnrm', 'x3E.log.z(1).window(<20>*!-).wnrm.pos', 'xg.log.zc(-93).sgnint(25/34).wnrm.neg'))\n",
      "(0.6552315541571606, 0.6969748077939159, ('xg.log.zc(-93).sgnint(03/44).wnrm', 'x3A.wnrm', 'x3E.log.z(1).window(<20>*!-).wnrm.pos', 'xg.log.zc(-93).sgnint(4/5).window(<20>*!-).wnrm.pos'))\n",
      "(0.6552448735131021, 0.6983349754525907, ('xg.log.zc(-93).sgnint(03/44).wnrm', 'x3A.wnrm', 'x3E.log.z(1).window(<20>*!-).wnrm.pos', 'xg.log.zc(-93).sgnint(4/5).window(<5>*!-).wnrm.pos'))\n",
      "(0.6552503084227105, 0.6979649828756962, ('xg.log.zc(-93).sgnint(03/44).wnrm', 'xg.log.zc(-93).sgnint(35/44).wnrm.neg', 'x3E.log.z(1).window(<20>*!-).wnrm', 'xg.log.zc(-93).sgnint(0/5).window(!*<20>-).wnrm'))\n",
      "(0.6553048106148388, 0.6926270855856919, ('xg.log.zc(-93).sgnint(03/44).wnrm', 'xg.log.zc(-93).sgnint(12/33).wnrm', 'x3.log.zc(-93).sgnint(01/34).wnrm', 'x3g.wnrm.neg'))\n",
      "(0.6553352767278544, 0.6976914896893148, ('xg.log.zc(-93).sgnint(03/44).wnrm', 'xg.log.zc(-93).sgnint(12/33).wnrm', 'x3.log.zc(-93).sgnint(01/34).wnrm', 'xg.log.zc(-93).sgnint(2/3).window(<20>*!-).wnrm.neg'))\n",
      "(0.6553592362589445, 0.6930845294014901, ('xg.log.zc(-93).sgnint(03/44).wnrm', 'x3A.wnrm', 'xg.log.zc(-93).sgnint(25/33).wnrm.neg', 'x3.log.zc(-93).sgnint(1/4).window(!*<5>-).wnrm.neg'))\n",
      "(0.6553642118804169, 0.6929051882077988, ('xg.log.zc(-93).sgnint(03/44).wnrm', 'xg.log.zc(-93).sgnint(35/44).wnrm.neg', 'x3.log.zc(-93).sgnint(0/4).window(<20>*!-).wnrm', 'xg.log.zc(-93).sgnint(25/33).wnrm'))\n",
      "(0.6553716370386142, 0.6892308704151062, ('xg.log.zc(-93).sgnint(03/44).wnrm', 'x3A.wnrm', 'xg.log.zc(-93).sgnint(25/33).wnrm.neg', 'x3.log.zc(-93).sgnint(2/3).window(<20>*!-).wnrm.neg'))\n",
      "(0.655372555614886, 0.6952892907969475, ('xg.log.zc(-93).sgnint(03/44).wnrm', 'xg.log.zc(-93).sgnint(35/44).wnrm.neg', 'x3E.log.z(1).window(<20>*!-).wnrm', 'Day'))\n",
      "(0.6553799807730833, 0.6979590503611977, ('xg.log.zc(-93).sgnint(03/44).wnrm', 'x3A.wnrm', 'x3E.log.z(1).window(<20>*!-).wnrm.pos', 'xg.log.zc(-93).sgnint(3/5).window(!*<20>-).wnrm'))\n",
      "(0.6553834254341027, 0.6995505860853178, ('xg.log.zc(-93).sgnint(03/44).wnrm', 'xg.log.zc(-93).sgnint(35/44).wnrm.neg', 'x3E.log.z(1).window(<20>*!-).wnrm', 'xg.log.zc(-93).sgnint(12/33).wnrm'))\n",
      "(0.6554008783832673, 0.7006808367972017, ('xg.log.zc(-93).sgnint(03/44).wnrm', 'xg.log.zc(-93).sgnint(35/44).wnrm.neg', 'x3E.log.z(1).window(<20>*!-).wnrm', 'xg.log.zc(-93).sgnint(25/34).wnrm.neg'))\n",
      "(0.6554179485923188, 0.6957329489855296, ('xg.log.zc(-93).sgnint(03/44).wnrm', 'x3A.wnrm', 'x3E.log.z(1).window(<20>*!-).wnrm.pos', 'xg.log.zc(-93).sgnint(04/12).wnrm'))\n",
      "(0.6554737521008323, 0.6936155961490157, ('xg.log.zc(-93).sgnint(03/44).wnrm', 'xg.log.zc(-93).sgnint(12/33).wnrm', 'x3.log.zc(-93).sgnint(02/34).wnrm', 'xg.log.zc(-93).sgnint(35/44).wnrm.neg'))\n",
      "(0.6555106482477506, 0.6977146222278633, ('xg.log.zc(-93).sgnint(03/44).wnrm', 'xg.log.zc(-93).sgnint(35/44).wnrm.neg', 'x3E.log.z(1).window(<20>*!-).wnrm', 'xg.log.zc(-93).sgnint(14/35).wnrm'))\n",
      "(0.6555287135810965, 0.6905421695190983, ('xg.log.zc(-93).sgnint(03/44).wnrm', 'x3A.wnrm', 'xg.log.zc(-93).sgnint(25/33).wnrm.neg', 'x3.log.zc(-93).sgnint(1/4).window(!*<20>-).wnrm.neg'))\n",
      "(0.655554816456821, 0.6981205940113933, ('xg.log.zc(-93).sgnint(03/44).wnrm', 'x3A.wnrm', 'x3E.log.z(1).window(<20>*!-).wnrm.pos', 'x5.log.z(1).window(<5>*!-).wnrm'))\n",
      "(0.6555613995867691, 0.6982209345983443, ('xg.log.zc(-93).sgnint(03/44).wnrm', 'xg.log.zc(-93).sgnint(35/44).wnrm.neg', 'x3E.log.z(1).window(<20>*!-).wnrm', 'x3A.wnrm'))\n",
      "(0.6555643849596525, 0.690424500868216, ('xg.log.zc(-93).sgnint(03/44).wnrm', 'x3A.wnrm', 'x3.log.zc(-93).sgnint(0/4).window(<20>*!-).wnrm.neg', 'xg.log.zc(-93).sgnint(25/33).wnrm'))\n",
      "(0.655566451756264, 0.6921895733114104, ('xg.log.zc(-93).sgnint(03/44).wnrm', 'x3A.wnrm', 'x3.log.zc(-93).sgnint(0/4).window(<20>*!-).wnrm.neg', 'xg.log.zc(-93).sgnint(3/4).window(<20>*!-).wnrm'))\n",
      "(0.6555896458071278, 0.6965324300041463, ('xg.log.zc(-93).sgnint(03/44).wnrm', 'xg.log.zc(-93).sgnint(35/44).wnrm.neg', 'x3E.log.z(1).window(<20>*!-).wnrm', 'xg.log.zc(-93).sgnint(13/45).wnrm.neg'))\n",
      "(0.6555949276206907, 0.6912112632586273, ('xg.log.zc(-93).sgnint(03/44).wnrm', 'x3A.wnrm', 'xg.log.zc(-93).sgnint(25/33).wnrm.neg', 'x3.log.zc(-93).sgnint(0/4).window(<5>*!-).wnrm.neg'))\n",
      "(0.655609165552904, 0.6969032761802494, ('xg.log.zc(-93).sgnint(03/44).wnrm', 'x3A.wnrm', 'x3E.log.z(1).window(<20>*!-).wnrm.pos', 'xg.log.zc(-93).sgnint(12/33).wnrm'))\n",
      "(0.6556332016320168, 0.7026462062946544, ('xg.log.zc(-93).sgnint(03/44).wnrm', 'x3A.wnrm', 'x3E.log.z(1).window(<20>*!-).wnrm.pos', 'x3A.log.z(1).window(<20>*!-).wnrm.neg'))\n",
      "(0.6556429997789163, 0.700627913646279, ('xg.log.zc(-93).sgnint(03/44).wnrm', 'xg.log.zc(-93).sgnint(35/44).wnrm.neg', 'x3E.log.z(1).window(<20>*!-).wnrm', 'xg.log.zc(-93).sgnint(14/33).wnrm'))\n",
      "(0.6556452962195959, 0.6951922365669487, ('xg.log.zc(-93).sgnint(03/44).wnrm', 'xg.log.zc(-93).sgnint(35/44).wnrm.neg', 'x3E.log.z(1).window(<20>*!-).wnrm', 'xg.log.zc(-93).sgnint(01/45).wnrm.neg'))\n",
      "(0.6556462147958677, 0.6908220220195825, ('xg.log.zc(-93).sgnint(03/44).wnrm', 'x3A.wnrm', 'x3.log.zc(-93).sgnint(0/4).window(<20>*!-).wnrm.neg', 'xg.log.zc(-93).sgnint(03/12).wnrm'))\n",
      "(0.6556840295190579, 0.6914553926322385, ('xg.log.zc(-93).sgnint(03/44).wnrm', 'xg.log.zc(-93).sgnint(12/33).wnrm', 'x3.log.zc(-93).sgnint(01/34).wnrm', 'xg.log.zc(-93).sgnint(25/33).wnrm.neg'))\n",
      "(0.6556849480953297, 0.6954501088878159, ('xg.log.zc(-93).sgnint(03/44).wnrm', 'x3A.wnrm', 'xg.log.zc(-93).sgnint(25/33).wnrm.neg', 'xg.log.zc(-93).sgnint(03/12).wnrm'))\n",
      "(0.6556850246433523, 0.6936804270088961, ('xg.log.zc(-93).sgnint(03/44).wnrm', 'xg.log.zc(-93).sgnint(12/33).wnrm', 'x3.log.zc(-93).sgnint(01/34).wnrm'))\n",
      "(0.6556866321518281, 0.6926709179050448, ('xg.log.zc(-93).sgnint(03/44).wnrm', 'xg.log.zc(-93).sgnint(35/44).wnrm.neg', 'xg.log.zc(-93).sgnint(25/34).wnrm', 'x3.log.zc(-93).sgnint(1/4).window(<20>*!-).wnrm.neg'))\n",
      "(0.655706687733763, 0.6963730203519718, ('xg.log.zc(-93).sgnint(03/44).wnrm', 'xg.log.zc(-93).sgnint(35/44).wnrm.neg', 'x3E.log.z(1).window(<20>*!-).wnrm', 'xg.log.zc(-93).sgnint(14/35).wnrm.neg'))\n",
      "(0.6557170982648436, 0.6931290446002099, ('xg.log.zc(-93).sgnint(03/44).wnrm', 'x3A.wnrm', 'xg.log.zc(-93).sgnint(25/33).wnrm.neg', 'x3a.log.z(1).window(<20>*!-)'))\n",
      "(0.6557180168411155, 0.6935141458830937, ('xg.log.zc(-93).sgnint(03/44).wnrm', 'xg.log.zc(-93).sgnint(35/44).wnrm.neg', 'x3E.log.z(1).window(<20>*!-).wnrm', 'xg.log.zc(-93).sgnint(04/55).wnrm.neg'))\n",
      "(0.6557184761292514, 0.6909576162538419, ('xg.log.zc(-93).sgnint(03/44).wnrm', 'xg.log.zc(-93).sgnint(35/44).wnrm.neg', 'x3E.log.z(1).window(<20>*!-).wnrm', 'x5.wnrm.pos'))\n",
      "(0.655736158722484, 0.691214378895738, ('xg.log.zc(-93).sgnint(03/44).wnrm', 'x3A.wnrm', 'xg.log.zc(-93).sgnint(25/33).wnrm.neg', 'x3.log.zc(-93).sgnint(01/34).wnrm.neg'))\n",
      "(0.6557431245925454, 0.6921590571397089, ('xg.log.zc(-93).sgnint(03/44).wnrm', 'x3A.wnrm', 'x3.log.zc(-93).sgnint(0/4).window(<20>*!-).wnrm.neg', 'xg.log.zc(-93).sgnint(35/44).wnrm.neg'))\n",
      "(0.6557453444852023, 0.6916645244383043, ('xg.log.zc(-93).sgnint(03/44).wnrm', 'xg.log.zc(-93).sgnint(12/33).wnrm', 'x3.log.zc(-93).sgnint(02/34).wnrm', 'x3E.wnrm.neg'))\n",
      "(0.6557670841236355, 0.7007267177546549, ('xg.log.zc(-93).sgnint(03/44).wnrm', 'x3A.wnrm', 'x3E.log.z(1).window(<20>*!-).wnrm.pos', 'x5.wnrm.neg'))\n",
      "(0.6557737438016062, 0.6929717689460564, ('xg.log.zc(-93).sgnint(03/44).wnrm', 'x3A.wnrm', 'x3.log.zc(-93).sgnint(0/4).window(<20>*!-).wnrm.neg', 'xg.log.zc(-93).sgnint(24/33).wnrm.neg'))\n",
      "(0.6557820875360754, 0.6974493662738432, ('xg.log.zc(-93).sgnint(03/44).wnrm', 'xg.log.zc(-93).sgnint(35/44).wnrm.neg', 'x3E.log.z(1).window(<20>*!-).wnrm', 'xg.log.zc(-93).sgnint(25/33).wnrm.neg'))\n",
      "(0.6557902781744992, 0.6960876621365932, ('xg.log.zc(-93).sgnint(03/44).wnrm', 'xg.log.zc(-93).sgnint(35/44).wnrm.neg', 'x3.log.zc(-93).sgnint(0/4).window(<20>*!-).wnrm', 'xg.log.zc(-93).sgnint(24/33).wnrm'))\n"
     ]
    }
   ],
   "source": [
    "see = {tuple(featnames[j] for j in k): s for k, s in ta.scores.items() if k is not None}\n",
    "tc0, ho0 = ta.scores[None]\n",
    "sub = [(tc / tc0, ho / ho0, k) for k, (tc, ho) in see.items()\n",
    "       if k is not None]\n",
    "_ = [print(line) for line in sorted(sub)[:100]]"
   ]
  },
  {
   "cell_type": "code",
   "execution_count": null,
   "metadata": {
    "collapsed": true
   },
   "outputs": [],
   "source": []
  }
 ],
 "metadata": {
  "kernelspec": {
   "display_name": "Python 3",
   "language": "python",
   "name": "python3"
  },
  "language_info": {
   "codemirror_mode": {
    "name": "ipython",
    "version": 3
   },
   "file_extension": ".py",
   "mimetype": "text/x-python",
   "name": "python",
   "nbconvert_exporter": "python",
   "pygments_lexer": "ipython3",
   "version": "3.6.2"
  }
 },
 "nbformat": 4,
 "nbformat_minor": 2
}
