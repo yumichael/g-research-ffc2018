{
 "cells": [
  {
   "cell_type": "code",
   "execution_count": 2,
   "metadata": {},
   "outputs": [
    {
     "name": "stderr",
     "output_type": "stream",
     "text": [
      "/home/ec2-user/anaconda3/lib/python3.6/site-packages/pandas/core/common.py:701: RuntimeWarning: divide by zero encountered in log\n",
      "  return func(obj, *args, **kwargs)\n"
     ]
    }
   ],
   "source": [
    "from common import *\n",
    "%matplotlib inline\n",
    "canvas(16, 9)"
   ]
  },
  {
   "cell_type": "code",
   "execution_count": 3,
   "metadata": {},
   "outputs": [
    {
     "name": "stderr",
     "output_type": "stream",
     "text": [
      "/home/ec2-user/Notebooks/g-research-ffc2018/helper/weighted.ipynb:11: RuntimeWarning: invalid value encountered in true_divide\n",
      "  \"import notebook_import_hook\\n\",\n",
      "/home/ec2-user/anaconda3/lib/python3.6/site-packages/scipy/stats/_distn_infrastructure.py:1901: RuntimeWarning: invalid value encountered in greater\n",
      "  cond1 = (0 < q) & (q < 1)\n",
      "/home/ec2-user/anaconda3/lib/python3.6/site-packages/scipy/stats/_distn_infrastructure.py:1901: RuntimeWarning: invalid value encountered in less\n",
      "  cond1 = (0 < q) & (q < 1)\n"
     ]
    }
   ],
   "source": [
    "o = O()\n",
    "def_W(o)\n",
    "def_Y(o, include='scl std')\n",
    "def_X(o, include='wqtl wnrm')"
   ]
  },
  {
   "cell_type": "code",
   "execution_count": 4,
   "metadata": {
    "collapsed": true
   },
   "outputs": [],
   "source": [
    "dd = dh\n",
    "###"
   ]
  },
  {
   "cell_type": "code",
   "execution_count": 5,
   "metadata": {
    "collapsed": true
   },
   "outputs": [],
   "source": [
    "Y = o.Yscl\n",
    "W = o.Wscl\n",
    "###\n",
    "y = Y.makeil_like(dd)\n",
    "w = W.makeil_like(dd)"
   ]
  },
  {
   "cell_type": "code",
   "execution_count": 6,
   "metadata": {
    "collapsed": true
   },
   "outputs": [],
   "source": [
    "Xxsgnintwqtla = pd.read_hdf('/big/data/features/sw32/xx.log.zc(-93).mintco0[4,2].wqtla')\n",
    "Xxsgnintwnrma = pd.read_hdf('/big/data/features/sw32/xx.log.zc(-93).mintco0[4,2].wnrma')\n",
    "X3sgnintwqtla = pd.read_hdf('/big/data/features/sw32/x3.log.zc(-93).mintco0[4,2].wqtla')\n",
    "X3sgnintwnrma = pd.read_hdf('/big/data/features/sw32/x3.log.zc(-93).mintco0[4,2].wnrma')"
   ]
  },
  {
   "cell_type": "code",
   "execution_count": 20,
   "metadata": {},
   "outputs": [],
   "source": [
    "#X = pd.concat([o.Xwqtla, Xxsgnintwqtla, X3sgnintwqtla], axis=1)\n",
    "X = pd.concat([o.Xwnrma, Xxsgnintwnrma, X3sgnintwnrma], axis=1)\n",
    "Xpos = X.clip(lower=0).colname_append('.pos', level=0)\n",
    "Xneg = X.clip(upper=0).colname_append('.neg', level=0)\n",
    "X = pd.concat([Xpos, Xneg], axis=1)\n",
    "#feats = xfeats\n",
    "###\n",
    "x = X.makeil_like(dd) #feature_filter(, feats)\n",
    "y0 = o.Y_wmean.makeil_like(dd).fillna(0)\n",
    "from sklearn.preprocessing import PolynomialFeatures as PF\n",
    "#pf = PF(degree=2, include_bias=False)\n",
    "#xp = pf.fit_transform(x)\n",
    "#xf = pd.DataFrame(xp, columns=pf.get_feature_names(x.columns), index=x.index, copy=False)\n",
    "xf = x\n",
    "xf.loc[:, 'y0'] = y0\n",
    "assert ~xf.y0.isna().any()"
   ]
  },
  {
   "cell_type": "code",
   "execution_count": 10,
   "metadata": {
    "collapsed": true
   },
   "outputs": [],
   "source": [
    "G = pd.read_hdf(top_dir + 'data/analysis/G.m3.hdf5')\n",
    "group = pd.read_hdf(top_dir + 'data/analysis/group.m3.hdf5')"
   ]
  },
  {
   "cell_type": "code",
   "execution_count": 11,
   "metadata": {},
   "outputs": [
    {
     "data": {
      "text/plain": [
       "[(0, 'm3_BigBrother'),\n",
       " (1, 'm3_BoneGrowth'),\n",
       " (2, 'm3_Collarbone'),\n",
       " (3, 'm3_LargeSiamese'),\n",
       " (4, 'm3_LittleBrother'),\n",
       " (5, 'm3_MiddleSiamese'),\n",
       " (6, 'm3_Sidebar'),\n",
       " (7, 'm3_SmallSeparate'),\n",
       " (8, 'm3_SmallSiamese')]"
      ]
     },
     "execution_count": 11,
     "metadata": {},
     "output_type": "execute_result"
    }
   ],
   "source": [
    "list(enumerate(G.columns))"
   ]
  },
  {
   "cell_type": "code",
   "execution_count": 8,
   "metadata": {
    "collapsed": true
   },
   "outputs": [],
   "source": [
    "with open(top_dir + 'data/chance/days_order.txt', 'r') as file:\n",
    "    days = pd.Series([int(x) for x in file.read().splitlines()], name='Day')\n",
    "n_days = len(days)\n",
    "#days_a, days_b, days_c = days[:n_days // 3], days[n_days // 3:(2 * n_days) // 3], days[(2 * n_days) // 3:]\n",
    "days_a, days_b = set(days[:n_days // 2]), set(days[n_days // 2:])\n",
    "#tr, cv, ep = df.Day.isin(days_a), df.Day.isin(days_b), df.Day.isin(days_c)\n",
    "tr, cv = dh.Day.isin(days_a), dh.Day.isin(days_b)"
   ]
  },
  {
   "cell_type": "code",
   "execution_count": 23,
   "metadata": {},
   "outputs": [
    {
     "name": "stdout",
     "output_type": "stream",
     "text": [
      "0.376257762882 0.589107411074\n"
     ]
    }
   ],
   "source": [
    "# wnrm\n",
    "import gc\n",
    "gc.collect()\n",
    "tr, cv = dh.Day.isin(days_a), dh.Day.isin(days_b)\n",
    "M = 1\n",
    "GRP = None\n",
    "tr = tr & (dh.Market == M) #(group == GRP).makeil_like(dh) #\n",
    "cv = cv & (dh.Market == M) #(group == GRP).makeil_like(dh) #\n",
    "from sklearn.linear_model import LinearRegression as LR\n",
    "lr = LR(fit_intercept=True)\n",
    "lr = lr.fit(xf[tr], y[tr], sample_weight=w[tr])\n",
    "yf = lr.predict(xf)\n",
    "print(\n",
    "    ((yf[tr] - y[tr]) ** 2 * w[tr]).sum() / (y[tr] ** 2 * w[tr]).sum(),\n",
    "    ((yf[cv] - y[cv]) ** 2 * w[cv]).sum() / (y[cv] ** 2 * w[cv]).sum(),\n",
    ")"
   ]
  },
  {
   "cell_type": "code",
   "execution_count": null,
   "metadata": {
    "collapsed": true
   },
   "outputs": [],
   "source": [
    "sym 0.421374194893 0.54639807197"
   ]
  },
  {
   "cell_type": "code",
   "execution_count": 12,
   "metadata": {},
   "outputs": [
    {
     "name": "stdout",
     "output_type": "stream",
     "text": [
      "0 m3_BigBrother 0.570844225087 0.890452335603\n",
      "1 m3_BoneGrowth 0.124187988975 4.5853034462\n",
      "2 m3_Collarbone 0.542329946492 0.773125233913\n",
      "3 m3_LargeSiamese 0.742537652131 0.916645089696\n",
      "4 m3_LittleBrother 0.650601728772 1.10815566747\n",
      "5 m3_MiddleSiamese 0.725172847577 0.884153377544\n",
      "6 m3_Sidebar 0.632588224462 0.963618763065\n",
      "7 m3_SmallSeparate 0.25385011465 2.15071819262\n",
      "8 m3_SmallSiamese 0.659858911959 0.785714061138\n"
     ]
    }
   ],
   "source": [
    "# wnrm\n",
    "for i in range(G.columns.shape[0]):\n",
    "    tr, cv = dh.Day.isin(days_a), dh.Day.isin(days_b)\n",
    "    M = 3\n",
    "    GRP = i\n",
    "    tr = tr & (group == GRP).makeil_like(dh) #(dh.Market == M)\n",
    "    cv = cv & (group == GRP).makeil_like(dh) #(dh.Market == M)\n",
    "    #\n",
    "    import gc\n",
    "    gc.collect()\n",
    "    #\n",
    "    from sklearn.linear_model import LinearRegression as LR\n",
    "    lr = LR(fit_intercept=True)\n",
    "    lr = lr.fit(xf[tr], y[tr], sample_weight=w[tr])\n",
    "    yf = lr.predict(xf)\n",
    "    print(i, G.columns[i],\n",
    "        ((yf[tr] - y[tr]) ** 2 * w[tr]).sum() / (y[tr] ** 2 * w[tr]).sum(),\n",
    "        ((yf[cv] - y[cv]) ** 2 * w[cv]).sum() / (y[cv] ** 2 * w[cv]).sum(),\n",
    "    )"
   ]
  },
  {
   "cell_type": "code",
   "execution_count": 143,
   "metadata": {},
   "outputs": [
    {
     "data": {
      "text/plain": [
       "array([[ 1, -1,  0,  0],\n",
       "       [ 1,  0, -1,  0],\n",
       "       [ 1,  0,  0, -1],\n",
       "       [ 0,  1, -1,  0],\n",
       "       [ 0,  1,  0, -1],\n",
       "       [ 0,  0,  1, -1],\n",
       "       [ 1, -2,  1,  0],\n",
       "       [ 1,  1, -2,  0],\n",
       "       [ 2, -1, -1,  0],\n",
       "       [ 1, -2,  0,  1],\n",
       "       [ 1,  1,  0, -2],\n",
       "       [ 2, -1,  0, -1],\n",
       "       [ 1,  0, -2,  1],\n",
       "       [ 1,  0,  1, -2],\n",
       "       [ 2,  0, -1, -1],\n",
       "       [ 0,  1, -2,  1],\n",
       "       [ 0,  1,  1, -2],\n",
       "       [ 0,  2, -1, -1],\n",
       "       [ 1, -2, -1,  2],\n",
       "       [ 1, -2,  2, -1],\n",
       "       [ 1, -1, -2,  2],\n",
       "       [ 1, -1, -1,  1],\n",
       "       [ 1, -1,  1, -1],\n",
       "       [ 1, -1,  2, -2],\n",
       "       [ 1,  1, -1, -1],\n",
       "       [ 1,  2, -2, -1],\n",
       "       [ 1,  2, -1, -2],\n",
       "       [ 2, -2, -1,  1],\n",
       "       [ 2, -2,  1, -1],\n",
       "       [ 2, -1, -2,  1],\n",
       "       [ 2, -1,  1, -2],\n",
       "       [ 2,  1, -2, -1],\n",
       "       [ 2,  1, -1, -2]], dtype=int8)"
      ]
     },
     "execution_count": 143,
     "metadata": {},
     "output_type": "execute_result"
    }
   ],
   "source": [
    "combos.mintco0(4, 4, 2)"
   ]
  }
 ],
 "metadata": {
  "kernelspec": {
   "display_name": "Python 3",
   "language": "python",
   "name": "python3"
  },
  "language_info": {
   "codemirror_mode": {
    "name": "ipython",
    "version": 3
   },
   "file_extension": ".py",
   "mimetype": "text/x-python",
   "name": "python",
   "nbconvert_exporter": "python",
   "pygments_lexer": "ipython3",
   "version": "3.6.2"
  }
 },
 "nbformat": 4,
 "nbformat_minor": 2
}
