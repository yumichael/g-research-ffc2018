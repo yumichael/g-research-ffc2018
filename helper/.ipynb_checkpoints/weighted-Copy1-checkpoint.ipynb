{
 "cells": [
  {
   "cell_type": "code",
   "execution_count": 12,
   "metadata": {
    "collapsed": true
   },
   "outputs": [],
   "source": [
    "from common import *"
   ]
  },
  {
   "cell_type": "code",
   "execution_count": null,
   "metadata": {
    "collapsed": true
   },
   "outputs": [],
   "source": [
    "def wmean(a, weights):\n",
    "    '''Params - a: either a {observations}x{features} `DataFrame`/`ndarray` or a 1D `ndarray`\n",
    "                    if `ndarray`, must not contain NaN\n",
    "                weights: weights of same shape as a\n",
    "    Weighted mean.'''\n",
    "    return (a * weights).sum(axis=0) / weights.sum(axis=0)"
   ]
  },
  {
   "cell_type": "code",
   "execution_count": 2,
   "metadata": {
    "collapsed": true
   },
   "outputs": [],
   "source": [
    "def wvar(a, weights, ddof=0):\n",
    "    '''Params - a: either a {observations}x{features} `DataFrame`/`ndarray` or a 1D `ndarray`\n",
    "                    if `ndarray`, must not contain NaN\n",
    "                weights: weights of same shape as a\n",
    "                ddof: mimics ddof of unweighted stats calculation in scipy\n",
    "    Weighted variance. Every +1 on ddof corresponds to weights.mean() deducted from the denominator.'''\n",
    "    w = weights\n",
    "    a_mean = (a * w).sum(axis=0) / w.sum(axis=0)\n",
    "    return (w * (a - a_mean) ** 2).sum(axis=0) / (w.sum(axis=0) - w.mean(axis=0) * ddof)"
   ]
  },
  {
   "cell_type": "code",
   "execution_count": 245,
   "metadata": {
    "collapsed": true
   },
   "outputs": [],
   "source": [
    "def wmedian(a, weights, ddof=0):\n",
    "    '''Params - a: either a {observations}x{features} `DataFrame`/`ndarray` or a 1D `ndarray`\n",
    "                    if `ndarray`, must not contain NaN\n",
    "                weights: weights of same shape as a\n",
    "                ddof: mimics ddof of unweighted stats calculation in scipy\n",
    "    Weighted variance. Every +1 on ddof corresponds to weights.mean() deducted from the denominator.'''\n",
    "    orig_type = None\n",
    "    if not isinstance(a, np.ndarray):\n",
    "        orig_type = a.min(axis=0) * 0\n",
    "        a = np.ma.array(a.values, mask=np.isnan(a.values))\n",
    "    w = weights\n",
    "    if not isinstance(w, np.ndarray):\n",
    "        w = np.ma.array(w.values, mask=np.isnan(w.values))\n",
    "    order = a.argsort(axis=0)\n",
    "    ordereda = a[(order,) + (np.arange(a.shape[1]) if len(a.shape) > 1 else ())]\n",
    "    orderedw = w[(order,) + (np.arange(a.shape[1]) if len(a.shape) > 1 else ())]\n",
    "    cumdist = orderedw.cumsum(axis=0)\n",
    "    half = cumdist.max(axis=0) / 2\n",
    "    atleast = np.ma.array(ordereda, mask=(cumdist < half))\n",
    "    median = atleast.min(axis=0)\n",
    "    median = np.ma.filled(median, np.nan)\n",
    "    if orig_type is not None:\n",
    "        return median + orig_type\n",
    "    return median"
   ]
  },
  {
   "cell_type": "code",
   "execution_count": null,
   "metadata": {
    "collapsed": true
   },
   "outputs": [],
   "source": [
    "def wskew(a, weights, ddof=0):\n",
    "    '''Params - a: either a {observations}x{features} `DataFrame`/`ndarray` or a 1D `ndarray`\n",
    "                    if `ndarray`, must not contain NaN\n",
    "                weights: weights of same shape as a\n",
    "                ddof: mimics ddof of unweighted stats calculation in scipy\n",
    "    Weighted skew. Every +1 on ddof corresponds to weights.mean() deducted from the denominator.'''\n",
    "    pass"
   ]
  },
  {
   "cell_type": "code",
   "execution_count": 252,
   "metadata": {
    "collapsed": true
   },
   "outputs": [],
   "source": [
    "thing = np.random.rand(5).reshape([5])\n",
    "w = np.ones([5])\n",
    "w[2] += 2\n",
    "#w[2, 1] = np.nan\n",
    "#thing[2, 1] = np.nan\n",
    "#w[0, 2] = np.nan\n",
    "#thing[0, 2] = np.nan\n",
    "#thing = pd.DataFrame(thing)\n",
    "#w = pd.DataFrame(w)"
   ]
  },
  {
   "cell_type": "code",
   "execution_count": 253,
   "metadata": {},
   "outputs": [
    {
     "name": "stdout",
     "output_type": "stream",
     "text": [
      "[ 0.46277404  0.70207846  0.17315142  0.19718042  0.48507792]\n",
      "0.19718041823516008\n"
     ]
    }
   ],
   "source": [
    "print(thing)\n",
    "print(wmedian(thing, w))"
   ]
  },
  {
   "cell_type": "code",
   "execution_count": 211,
   "metadata": {
    "collapsed": true
   },
   "outputs": [],
   "source": [
    "w_ = w"
   ]
  },
  {
   "cell_type": "code",
   "execution_count": 212,
   "metadata": {
    "collapsed": true
   },
   "outputs": [],
   "source": [
    "a = thing\n",
    "weights = w_\n",
    "orig_type = None\n",
    "if not isinstance(a, np.ndarray):\n",
    "    orig_type = a.iloc[0, :] * 0\n",
    "    a = np.ma.array(a.values, mask=np.isnan(a.values))\n",
    "w = weights\n",
    "if not isinstance(w, np.ndarray):\n",
    "    w = np.ma.array(w.values, mask=np.isnan(w.values))\n",
    "order = a.argsort(axis=0)\n",
    "ordereda = a[order, np.arange(a.shape[1])]\n",
    "orderedw = w[order, np.arange(a.shape[1])]\n",
    "cumdist = orderedw.cumsum(axis=0)\n",
    "half = cumdist.max(axis=0) / 2\n",
    "atleast = np.ma.array(ordereda, mask=(cumdist < half))\n",
    "median = atleast.min(axis=0)\n",
    "median = np.ma.filled(median, np.nan)"
   ]
  },
  {
   "cell_type": "code",
   "execution_count": 226,
   "metadata": {},
   "outputs": [
    {
     "data": {
      "text/plain": [
       "array([ 0.39737446,  0.15240269,  0.33299242,  0.88814394])"
      ]
     },
     "execution_count": 226,
     "metadata": {},
     "output_type": "execute_result"
    }
   ],
   "source": [
    "median"
   ]
  },
  {
   "cell_type": "code",
   "execution_count": 258,
   "metadata": {
    "collapsed": true
   },
   "outputs": [],
   "source": [
    "def testing():\n",
    "    \"''.join(str(x) for x in range(10, 15))\" + \"yo\"\n",
    "    return 33"
   ]
  },
  {
   "cell_type": "code",
   "execution_count": 259,
   "metadata": {
    "collapsed": true
   },
   "outputs": [],
   "source": [
    "testing?"
   ]
  },
  {
   "cell_type": "code",
   "execution_count": null,
   "metadata": {
    "collapsed": true
   },
   "outputs": [],
   "source": []
  },
  {
   "cell_type": "code",
   "execution_count": 21,
   "metadata": {
    "collapsed": true
   },
   "outputs": [],
   "source": [
    "np.where?"
   ]
  },
  {
   "cell_type": "code",
   "execution_count": 18,
   "metadata": {},
   "outputs": [
    {
     "data": {
      "text/plain": [
       "array([  2.14535947e+08,   1.62931900e+06,   9.38415336e+08,\n",
       "         9.18467888e+06,   2.19173207e+07,              nan,\n",
       "                    nan,   2.22652545e+00,   4.77278491e+00,\n",
       "         7.97334074e+00,   1.25982313e+01,   2.06466372e+01,\n",
       "         1.10510193e+03,   3.27969527e+00,   1.71821677e+08,\n",
       "         4.70165572e+01,  -1.94574137e+11,   6.23817000e+05,\n",
       "         1.29246884e+02])"
      ]
     },
     "execution_count": 18,
     "metadata": {},
     "output_type": "execute_result"
    }
   ],
   "source": [
    "df.values.cumsum(axis=0)[-1]"
   ]
  },
  {
   "cell_type": "code",
   "execution_count": 6,
   "metadata": {},
   "outputs": [
    {
     "data": {
      "text/plain": [
       "array([[ 245],\n",
       "       [ 359],\n",
       "       [ 390],\n",
       "       [ 566],\n",
       "       [1030],\n",
       "       [1579],\n",
       "       [1604],\n",
       "       [1863],\n",
       "       [2039],\n",
       "       [2571],\n",
       "       [2887],\n",
       "       [2950]])"
      ]
     },
     "execution_count": 6,
     "metadata": {},
     "output_type": "execute_result"
    }
   ],
   "source": [
    "np.sort(df.iloc[57:69, [2]].values, axis=0)"
   ]
  },
  {
   "cell_type": "code",
   "execution_count": 1,
   "metadata": {
    "collapsed": true
   },
   "outputs": [],
   "source": [
    "from common import *"
   ]
  },
  {
   "cell_type": "code",
   "execution_count": 3,
   "metadata": {
    "collapsed": true
   },
   "outputs": [],
   "source": [
    "#from matrix import *\n",
    "#def_matrices(globals(), df)"
   ]
  },
  {
   "cell_type": "code",
   "execution_count": 10,
   "metadata": {},
   "outputs": [
    {
     "data": {
      "text/plain": [
       "9.6204856570316443e-08"
      ]
     },
     "execution_count": 10,
     "metadata": {},
     "output_type": "execute_result"
    }
   ],
   "source": [
    "#wvar(Y.iloc[0], W.iloc[0])"
   ]
  }
 ],
 "metadata": {
  "kernelspec": {
   "display_name": "Python 3",
   "language": "python",
   "name": "python3"
  },
  "language_info": {
   "codemirror_mode": {
    "name": "ipython",
    "version": 3
   },
   "file_extension": ".py",
   "mimetype": "text/x-python",
   "name": "python",
   "nbconvert_exporter": "python",
   "pygments_lexer": "ipython3",
   "version": "3.6.2"
  }
 },
 "nbformat": 4,
 "nbformat_minor": 2
}
