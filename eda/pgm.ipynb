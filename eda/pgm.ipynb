{
 "cells": [
  {
   "cell_type": "code",
   "execution_count": null,
   "metadata": {
    "collapsed": true
   },
   "outputs": [],
   "source": [
    "# > np.log(Y.std(ddof=1)).mean(), np.log(Y.std(ddof=1)).std(ddof=1), Y.std().count()\n",
    "# (-8.453219677930324, 1.0308830783772918, 1981)\n",
    "info = np.random.lognormal(*(-8.453219677930324, 1.0308830783772918, 1981))\n",
    "arrs = []\n",
    "for std in info:\n",
    "    arrs.append(np.random.normal(0, std, 258))\n",
    "sim = np.concatenate(arrs)\n",
    "# simulate y data"
   ]
  }
 ],
 "metadata": {
  "kernelspec": {
   "display_name": "Python 3",
   "language": "python",
   "name": "python3"
  },
  "language_info": {
   "codemirror_mode": {
    "name": "ipython",
    "version": 3
   },
   "file_extension": ".py",
   "mimetype": "text/x-python",
   "name": "python",
   "nbconvert_exporter": "python",
   "pygments_lexer": "ipython3",
   "version": "3.6.2"
  }
 },
 "nbformat": 4,
 "nbformat_minor": 2
}
