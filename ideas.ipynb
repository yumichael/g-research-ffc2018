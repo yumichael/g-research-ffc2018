{
 "cells": [
  {
   "cell_type": "markdown",
   "metadata": {},
   "source": [
    "### feature ideas\n",
    "- do something with Benford's law\n",
    "- fractional part (after some exponent shifting)\n",
    "- moving average of x std, comparison with\n",
    "    - moving period, variance of x pct, comparison with global variance or something to standardize across S for XGBoost\n",
    "\n",
    "### stock encoding ideas\n",
    "- number of days available for a stock\n",
    "- average of Day for stock\n",
    "    - whether stock data was available (at least 1/2 the time) for some time periods\n",
    "- deviation from average daily Index\n",
    "\n",
    "### stock grouping ideas\n",
    "- t-SNE on Weight / y\n",
    "    - log(Weight) with nonexistent entries replaced by log(min Weight) * ~2\n",
    "    - use correlation between stocks as distance matrix\n",
    "    - use quantiled y over days as dimensions for stock vectors\n",
    "- greedy edges (Kruskal's algorithm)\n",
    "    - 1/correlation between stocks as distance\n",
    "    - quantiled y difference\n",
    "\n",
    "### x interactions ideas\n",
    "- x on y / y on x linear regression residuals (log-log)\n",
    "- PCA on log-log plot\n",
    "\n",
    "### model ideas\n",
    "- train XGBoost with different weight patterns (e.g. normalize weights across different stocks)\n",
    "    to let avoid differing error patterns\n",
    "- cluster days and determine closest day cluster for days\n",
    "    - by k-NN on quantiled x variables (and combinations)\n",
    "- linear regression on x and combinations\n",
    "    - greedily increase features set (\"like\" Kruskal's algorithm)\n",
    "- k-NN per Stock on quantiled x data"
   ]
  },
  {
   "cell_type": "code",
   "execution_count": null,
   "metadata": {
    "collapsed": true
   },
   "outputs": [],
   "source": []
  }
 ],
 "metadata": {
  "kernelspec": {
   "display_name": "Python 3",
   "language": "python",
   "name": "python3"
  },
  "language_info": {
   "codemirror_mode": {
    "name": "ipython",
    "version": 3
   },
   "file_extension": ".py",
   "mimetype": "text/x-python",
   "name": "python",
   "nbconvert_exporter": "python",
   "pygments_lexer": "ipython3",
   "version": "3.6.2"
  }
 },
 "nbformat": 4,
 "nbformat_minor": 2
}
